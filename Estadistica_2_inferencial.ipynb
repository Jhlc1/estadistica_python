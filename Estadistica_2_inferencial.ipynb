{
 "cells": [
  {
   "cell_type": "code",
   "execution_count": null,
   "metadata": {},
   "outputs": [],
   "source": [
    "#binomial\n",
    "# distribucion normal\n",
    "# distribucion  de poisson"
   ]
  },
  {
   "cell_type": "code",
   "execution_count": null,
   "metadata": {},
   "outputs": [],
   "source": [
    "\"\"\"\n",
    "biomial solo 2 sucesos exito o fracaso: lanzamiento de un dado\n",
    "\n",
    "\n",
    "\n",
    "\"\"\""
   ]
  },
  {
   "cell_type": "code",
   "execution_count": 1,
   "metadata": {},
   "outputs": [],
   "source": [
    "#importar\n",
    "from scipy.special import comb"
   ]
  },
  {
   "cell_type": "code",
   "execution_count": 2,
   "metadata": {},
   "outputs": [
    {
     "data": {
      "text/plain": [
       "50063860.0"
      ]
     },
     "execution_count": 2,
     "metadata": {},
     "output_type": "execute_result"
    }
   ],
   "source": [
    "#combinaciones de 6 numeros en 60 numeros posibles a escoger\n",
    "combinaciones=comb(60,6)\n",
    "combinaciones"
   ]
  },
  {
   "cell_type": "code",
   "execution_count": 3,
   "metadata": {},
   "outputs": [
    {
     "data": {
      "text/plain": [
       "1.997448858318156e-08"
      ]
     },
     "execution_count": 3,
     "metadata": {},
     "output_type": "execute_result"
    }
   ],
   "source": [
    "#probabilidad de ganar en una jugada adivinar los 6 numeros de las 60  y sus posibles combinacioens\n",
    "probabilidad=1/combinaciones\n",
    "probabilidad"
   ]
  },
  {
   "cell_type": "markdown",
   "metadata": {},
   "source": [
    "Clase 11"
   ]
  },
  {
   "cell_type": "code",
   "execution_count": null,
   "metadata": {},
   "outputs": [],
   "source": [
    "#10 preguntas, con 3 alternativas cada pregunta\n",
    "# solo hay una respeusta correcta\n",
    "\n",
    "#si sacas menosd e 5 jalas, si scas 5 o mas pasas\n",
    "\"\"\"\n",
    "p=1/3\n",
    "q=1-p=2/3\n",
    "\n",
    "\"\"\""
   ]
  },
  {
   "cell_type": "code",
   "execution_count": 47,
   "metadata": {},
   "outputs": [],
   "source": [
    "n=10\n",
    "p=1/3 #alternativa correcta por cada pregunta\n",
    "q=1-p # alternativas falladas en cada pregunta\n",
    "\n"
   ]
  },
  {
   "cell_type": "code",
   "execution_count": 22,
   "metadata": {},
   "outputs": [
    {
     "data": {
      "text/plain": [
       "0.13656454808718185"
      ]
     },
     "execution_count": 22,
     "metadata": {},
     "output_type": "execute_result"
    }
   ],
   "source": [
    "#probabilidad de tener 5 preguntas contestadas correctamente\n",
    "k=5\n",
    "p=comb(n,k)*(p**k)*(q**(n-k))\n",
    "p"
   ]
  },
  {
   "cell_type": "code",
   "execution_count": 54,
   "metadata": {},
   "outputs": [
    {
     "data": {
      "text/plain": [
       "0.007841642727419839"
      ]
     },
     "execution_count": 54,
     "metadata": {},
     "output_type": "execute_result"
    }
   ],
   "source": [
    "#para k=10\n",
    "k=2\n",
    "prob=comb(n,k)*(p**k)*(q**(n-k))\n",
    "prob"
   ]
  },
  {
   "cell_type": "code",
   "execution_count": 62,
   "metadata": {},
   "outputs": [
    {
     "data": {
      "text/plain": [
       "[0.017341529915832633,\n",
       " 0.08670764957916315,\n",
       " 0.19509221155311707,\n",
       " 0.26012294873748937,\n",
       " 0.22760758014530316,\n",
       " 0.13656454808718185,\n",
       " 0.05690189503632578,\n",
       " 0.016257684296093075,\n",
       " 0.0030483158055174507,\n",
       " 0.0003387017561686056,\n",
       " 1.693508780843028e-05]"
      ]
     },
     "execution_count": 62,
     "metadata": {},
     "output_type": "execute_result"
    }
   ],
   "source": [
    "probabilidad=[]\n",
    "for i in range(11):\n",
    "    n=10\n",
    "    p=1/3 \n",
    "    q=1-p \n",
    "    \n",
    "    prob=comb(n,i)*(p**i)*(q**(n-i))\n",
    "\n",
    "    probabilidad.append(prob)\n",
    "\n",
    "probabilidad"
   ]
  },
  {
   "cell_type": "code",
   "execution_count": 61,
   "metadata": {},
   "outputs": [
    {
     "data": {
      "text/plain": [
       "<BarContainer object of 11 artists>"
      ]
     },
     "execution_count": 61,
     "metadata": {},
     "output_type": "execute_result"
    },
    {
     "data": {
      "image/png": "[encoded data removed]",
      "text/plain": [
       "<Figure size 640x480 with 1 Axes>"
      ]
     },
     "metadata": {},
     "output_type": "display_data"
    }
   ],
   "source": [
    "\n",
    "import matplotlib.pyplot as plt\n",
    "\n",
    "fig,ax=plt.subplots()\n",
    "\n",
    "ax.bar(range(11),probabilidad)\n",
    "\n"
   ]
  },
  {
   "cell_type": "markdown",
   "metadata": {},
   "source": [
    "# Usnado la biblioteca"
   ]
  },
  {
   "cell_type": "code",
   "execution_count": 64,
   "metadata": {},
   "outputs": [
    {
     "data": {
      "text/plain": [
       "0.13656454808718146"
      ]
     },
     "execution_count": 64,
     "metadata": {},
     "output_type": "execute_result"
    }
   ],
   "source": [
    "from scipy.stats import binom\n",
    "k=5\n",
    "probabilidad=binom.pmf(k,n,p)\n",
    "probabilidad"
   ]
  },
  {
   "cell_type": "code",
   "execution_count": null,
   "metadata": {},
   "outputs": [],
   "source": [
    "\"\"\"\n",
    "probabilidad de que pase el proceso de seleccion\n",
    "\"\"\""
   ]
  },
  {
   "cell_type": "code",
   "execution_count": 66,
   "metadata": {},
   "outputs": [
    {
     "data": {
      "text/plain": [
       "0.21312808006909476"
      ]
     },
     "execution_count": 66,
     "metadata": {},
     "output_type": "execute_result"
    }
   ],
   "source": [
    "prob_t=binom.pmf(5,n,p)+binom.pmf(6,n,p)+binom.pmf(7,n,p)+binom.pmf(8,n,p)+binom.pmf(9,n,p)+binom.pmf(10,n,p)\n",
    "prob_t"
   ]
  },
  {
   "cell_type": "code",
   "execution_count": 69,
   "metadata": {},
   "outputs": [
    {
     "data": {
      "text/plain": [
       "0.0"
      ]
     },
     "execution_count": 69,
     "metadata": {},
     "output_type": "execute_result"
    }
   ],
   "source": [
    "#Con fórmula\n",
    "#usamos el binom.cdf para calcular la probabilidad acumulada hasta 4 que no ha aprobado, para calcular lo aprobado\n",
    "#usamos el complemento\n",
    "prob_t_1=1-binom.cdf(4,n,p)\n",
    "prob_t_1"
   ]
  },
  {
   "cell_type": "markdown",
   "metadata": {},
   "source": [
    "# Gimcana\n",
    "En un pueblo se organiza una yincana todos los años para recaudar fondos para el hospital de la ciudad. Se sabe que la proporción de mujeres participantes en la yincana es del 60%. El número total de equipos, con 12 integrantes, inscritos para la yincana de este año es de 30. Con la información anterior responde: ¿Cuántos equipos deben estar formados por 8 mujeres?"
   ]
  },
  {
   "cell_type": "code",
   "execution_count": 73,
   "metadata": {},
   "outputs": [
    {
     "data": {
      "text/plain": [
       "0.6"
      ]
     },
     "execution_count": 73,
     "metadata": {},
     "output_type": "execute_result"
    }
   ],
   "source": [
    "#proababilidad de eleccion de mujeres\n",
    "p = 0.6\n",
    "p"
   ]
  },
  {
   "cell_type": "code",
   "execution_count": 74,
   "metadata": {},
   "outputs": [
    {
     "data": {
      "text/plain": [
       "12"
      ]
     },
     "execution_count": 74,
     "metadata": {},
     "output_type": "execute_result"
    }
   ],
   "source": [
    "#Equipos de 12 integrantes\n",
    "n = 12\n",
    "n\n"
   ]
  },
  {
   "cell_type": "code",
   "execution_count": 75,
   "metadata": {},
   "outputs": [],
   "source": [
    "#eventos que quiero que suceda\n",
    "#de 12 personas quier que 8 sean mujere\n",
    "k=8"
   ]
  },
  {
   "cell_type": "code",
   "execution_count": 82,
   "metadata": {},
   "outputs": [
    {
     "data": {
      "text/plain": [
       "0.21284093951999997"
      ]
     },
     "execution_count": 82,
     "metadata": {},
     "output_type": "execute_result"
    }
   ],
   "source": [
    "probabilidad=binom.pmf(k,n,p)\n",
    "probabilidad"
   ]
  },
  {
   "cell_type": "code",
   "execution_count": 84,
   "metadata": {},
   "outputs": [
    {
     "data": {
      "text/plain": [
       "6.385228185599999"
      ]
     },
     "execution_count": 84,
     "metadata": {},
     "output_type": "execute_result"
    }
   ],
   "source": [
    "# Media de distribucion binomial\n",
    "N=30\n",
    "u=N*probabilidad\n",
    "u"
   ]
  },
  {
   "cell_type": "markdown",
   "metadata": {},
   "source": [
    "# Distribucioni de Poisson"
   ]
  },
  {
   "cell_type": "code",
   "execution_count": null,
   "metadata": {},
   "outputs": [],
   "source": [
    "\"\"\"\n",
    "Solo se considera el éxito\n",
    "Espacios o tiempos específicos\n",
    "-- cantidad de personas que ingreas, no sabemos la cantidad de personas que no ingresan\n",
    "\n",
    "\"\"\""
   ]
  },
  {
   "cell_type": "code",
   "execution_count": 88,
   "metadata": {},
   "outputs": [
    {
     "data": {
      "text/plain": [
       "2.718281828459045"
      ]
     },
     "execution_count": 88,
     "metadata": {},
     "output_type": "execute_result"
    }
   ],
   "source": [
    "import numpy as np\n",
    "np.e\n",
    "\n",
    "\n"
   ]
  },
  {
   "cell_type": "code",
   "execution_count": 93,
   "metadata": {},
   "outputs": [],
   "source": [
    "# Un restaurante recibe una media de 20 pedidas por hora. \n",
    "#¿Cual es la probabidad de que en un momento determinado elegido al azar el res\n",
    "#taurante tenga 15 pedids\n",
    "\n",
    "media=20 #media de pedidos por hora\n",
    "k=15 # lo que quiero que suceda en una hora: 15 pedidos en unahora"
   ]
  },
  {
   "cell_type": "code",
   "execution_count": 94,
   "metadata": {},
   "outputs": [
    {
     "data": {
      "text/plain": [
       "0.0516488535317584"
      ]
     },
     "execution_count": 94,
     "metadata": {},
     "output_type": "execute_result"
    }
   ],
   "source": [
    "prob=((np.e**-media)*(media**k))/(np.math.factorial(k))\n",
    "prob"
   ]
  },
  {
   "cell_type": "markdown",
   "metadata": {},
   "source": [
    "scipy.org"
   ]
  },
  {
   "cell_type": "code",
   "execution_count": 97,
   "metadata": {},
   "outputs": [
    {
     "data": {
      "text/plain": [
       "0.05164885353175814"
      ]
     },
     "execution_count": 97,
     "metadata": {},
     "output_type": "execute_result"
    }
   ],
   "source": [
    "#solucion2:\n",
    "from scipy.stats import poisson\n",
    "\n",
    "prob=poisson.pmf(k,media)\n",
    "prob"
   ]
  },
  {
   "cell_type": "markdown",
   "metadata": {},
   "source": [
    "# Distribucion normal o gaussiana"
   ]
  },
  {
   "cell_type": "markdown",
   "metadata": {},
   "source": [
    "La distribución normal es una de las más utilizadas en estadística. Es una distribución continua, donde la distribución de frecuencias de una variable cuantitativa tiene forma de campana y es simétrica con respecto a su media."
   ]
  },
  {
   "cell_type": "markdown",
   "metadata": {},
   "source": [
    "Donde:\n",
    "\n",
    " x= variable normal\n",
    "\n",
    " desviacion= desviación estándar\n",
    "\n",
    " media = media o promedio\n",
    "\n",
    "La probabilidad se obtiene a partir del área bajo la curva, delimitada por los límites inferior y superior especificados. Un ejemplo se puede ver en la siguiente figura."
   ]
  },
  {
   "cell_type": "markdown",
   "metadata": {},
   "source": [
    "Tablas estandarizadas (Tabla Z)\n",
    "Las tablas estandarizadas se crearon para facilitar la obtención de los valores de las áreas bajo la curva normal y eliminar la necesidad de resolver integrales definidas.\n",
    "\n",
    "Para consultar los valores en una tabla estandarizada, solo necesitamos transformar nuestra variable en una variable estandarizada Z.\n",
    "\n",
    "Esta variable Z representa el alejamiento en desviaciones estándares de un valor de la variable original en relación a la media.\n",
    "\n"
   ]
  },
  {
   "cell_type": "code",
   "execution_count": 22,
   "metadata": {},
   "outputs": [
    {
     "data": {
      "text/html": [
       "<div>\n",
       "<style scoped>\n",
       "    .dataframe tbody tr th:only-of-type {\n",
       "        vertical-align: middle;\n",
       "    }\n",
       "\n",
       "    .dataframe tbody tr th {\n",
       "        vertical-align: top;\n",
       "    }\n",
       "\n",
       "    .dataframe thead th {\n",
       "        text-align: right;\n",
       "    }\n",
       "</style>\n",
       "<table border=\"1\" class=\"dataframe\">\n",
       "  <thead>\n",
       "    <tr style=\"text-align: right;\">\n",
       "      <th>Z</th>\n",
       "      <th>0.00</th>\n",
       "      <th>0.01</th>\n",
       "      <th>0.02</th>\n",
       "      <th>0.03</th>\n",
       "      <th>0.04</th>\n",
       "      <th>0.05</th>\n",
       "      <th>0.06</th>\n",
       "      <th>0.07</th>\n",
       "      <th>0.08</th>\n",
       "      <th>0.09</th>\n",
       "    </tr>\n",
       "  </thead>\n",
       "  <tbody>\n",
       "    <tr>\n",
       "      <th>0.00</th>\n",
       "      <td>0.5000</td>\n",
       "      <td>0.5040</td>\n",
       "      <td>0.5080</td>\n",
       "      <td>0.5120</td>\n",
       "      <td>0.5160</td>\n",
       "      <td>0.5199</td>\n",
       "      <td>0.5239</td>\n",
       "      <td>0.5279</td>\n",
       "      <td>0.5319</td>\n",
       "      <td>0.5359</td>\n",
       "    </tr>\n",
       "    <tr>\n",
       "      <th>0.10</th>\n",
       "      <td>0.5398</td>\n",
       "      <td>0.5438</td>\n",
       "      <td>0.5478</td>\n",
       "      <td>0.5517</td>\n",
       "      <td>0.5557</td>\n",
       "      <td>0.5596</td>\n",
       "      <td>0.5636</td>\n",
       "      <td>0.5675</td>\n",
       "      <td>0.5714</td>\n",
       "      <td>0.5753</td>\n",
       "    </tr>\n",
       "    <tr>\n",
       "      <th>0.20</th>\n",
       "      <td>0.5793</td>\n",
       "      <td>0.5832</td>\n",
       "      <td>0.5871</td>\n",
       "      <td>0.5910</td>\n",
       "      <td>0.5948</td>\n",
       "      <td>0.5987</td>\n",
       "      <td>0.6026</td>\n",
       "      <td>0.6064</td>\n",
       "      <td>0.6103</td>\n",
       "      <td>0.6141</td>\n",
       "    </tr>\n",
       "    <tr>\n",
       "      <th>0.30</th>\n",
       "      <td>0.6179</td>\n",
       "      <td>0.6217</td>\n",
       "      <td>0.6255</td>\n",
       "      <td>0.6293</td>\n",
       "      <td>0.6331</td>\n",
       "      <td>0.6368</td>\n",
       "      <td>0.6406</td>\n",
       "      <td>0.6443</td>\n",
       "      <td>0.6480</td>\n",
       "      <td>0.6517</td>\n",
       "    </tr>\n",
       "    <tr>\n",
       "      <th>0.40</th>\n",
       "      <td>0.6554</td>\n",
       "      <td>0.6591</td>\n",
       "      <td>0.6628</td>\n",
       "      <td>0.6664</td>\n",
       "      <td>0.6700</td>\n",
       "      <td>0.6736</td>\n",
       "      <td>0.6772</td>\n",
       "      <td>0.6808</td>\n",
       "      <td>0.6844</td>\n",
       "      <td>0.6879</td>\n",
       "    </tr>\n",
       "    <tr>\n",
       "      <th>0.50</th>\n",
       "      <td>0.6915</td>\n",
       "      <td>0.6950</td>\n",
       "      <td>0.6985</td>\n",
       "      <td>0.7019</td>\n",
       "      <td>0.7054</td>\n",
       "      <td>0.7088</td>\n",
       "      <td>0.7123</td>\n",
       "      <td>0.7157</td>\n",
       "      <td>0.7190</td>\n",
       "      <td>0.7224</td>\n",
       "    </tr>\n",
       "    <tr>\n",
       "      <th>0.60</th>\n",
       "      <td>0.7257</td>\n",
       "      <td>0.7291</td>\n",
       "      <td>0.7324</td>\n",
       "      <td>0.7357</td>\n",
       "      <td>0.7389</td>\n",
       "      <td>0.7422</td>\n",
       "      <td>0.7454</td>\n",
       "      <td>0.7486</td>\n",
       "      <td>0.7517</td>\n",
       "      <td>0.7549</td>\n",
       "    </tr>\n",
       "    <tr>\n",
       "      <th>0.70</th>\n",
       "      <td>0.7580</td>\n",
       "      <td>0.7611</td>\n",
       "      <td>0.7642</td>\n",
       "      <td>0.7673</td>\n",
       "      <td>0.7704</td>\n",
       "      <td>0.7734</td>\n",
       "      <td>0.7764</td>\n",
       "      <td>0.7794</td>\n",
       "      <td>0.7823</td>\n",
       "      <td>0.7852</td>\n",
       "    </tr>\n",
       "    <tr>\n",
       "      <th>0.80</th>\n",
       "      <td>0.7881</td>\n",
       "      <td>0.7910</td>\n",
       "      <td>0.7939</td>\n",
       "      <td>0.7967</td>\n",
       "      <td>0.7995</td>\n",
       "      <td>0.8023</td>\n",
       "      <td>0.8051</td>\n",
       "      <td>0.8078</td>\n",
       "      <td>0.8106</td>\n",
       "      <td>0.8133</td>\n",
       "    </tr>\n",
       "    <tr>\n",
       "      <th>0.90</th>\n",
       "      <td>0.8159</td>\n",
       "      <td>0.8186</td>\n",
       "      <td>0.8212</td>\n",
       "      <td>0.8238</td>\n",
       "      <td>0.8264</td>\n",
       "      <td>0.8289</td>\n",
       "      <td>0.8315</td>\n",
       "      <td>0.8340</td>\n",
       "      <td>0.8365</td>\n",
       "      <td>0.8389</td>\n",
       "    </tr>\n",
       "    <tr>\n",
       "      <th>1.00</th>\n",
       "      <td>0.8413</td>\n",
       "      <td>0.8438</td>\n",
       "      <td>0.8461</td>\n",
       "      <td>0.8485</td>\n",
       "      <td>0.8508</td>\n",
       "      <td>0.8531</td>\n",
       "      <td>0.8554</td>\n",
       "      <td>0.8577</td>\n",
       "      <td>0.8599</td>\n",
       "      <td>0.8621</td>\n",
       "    </tr>\n",
       "    <tr>\n",
       "      <th>1.10</th>\n",
       "      <td>0.8643</td>\n",
       "      <td>0.8665</td>\n",
       "      <td>0.8686</td>\n",
       "      <td>0.8708</td>\n",
       "      <td>0.8729</td>\n",
       "      <td>0.8749</td>\n",
       "      <td>0.8770</td>\n",
       "      <td>0.8790</td>\n",
       "      <td>0.8810</td>\n",
       "      <td>0.8830</td>\n",
       "    </tr>\n",
       "    <tr>\n",
       "      <th>1.20</th>\n",
       "      <td>0.8849</td>\n",
       "      <td>0.8869</td>\n",
       "      <td>0.8888</td>\n",
       "      <td>0.8907</td>\n",
       "      <td>0.8925</td>\n",
       "      <td>0.8944</td>\n",
       "      <td>0.8962</td>\n",
       "      <td>0.8980</td>\n",
       "      <td>0.8997</td>\n",
       "      <td>0.9015</td>\n",
       "    </tr>\n",
       "    <tr>\n",
       "      <th>1.30</th>\n",
       "      <td>0.9032</td>\n",
       "      <td>0.9049</td>\n",
       "      <td>0.9066</td>\n",
       "      <td>0.9082</td>\n",
       "      <td>0.9099</td>\n",
       "      <td>0.9115</td>\n",
       "      <td>0.9131</td>\n",
       "      <td>0.9147</td>\n",
       "      <td>0.9162</td>\n",
       "      <td>0.9177</td>\n",
       "    </tr>\n",
       "    <tr>\n",
       "      <th>1.40</th>\n",
       "      <td>0.9192</td>\n",
       "      <td>0.9207</td>\n",
       "      <td>0.9222</td>\n",
       "      <td>0.9236</td>\n",
       "      <td>0.9251</td>\n",
       "      <td>0.9265</td>\n",
       "      <td>0.9279</td>\n",
       "      <td>0.9292</td>\n",
       "      <td>0.9306</td>\n",
       "      <td>0.9319</td>\n",
       "    </tr>\n",
       "    <tr>\n",
       "      <th>1.50</th>\n",
       "      <td>0.9332</td>\n",
       "      <td>0.9345</td>\n",
       "      <td>0.9357</td>\n",
       "      <td>0.9370</td>\n",
       "      <td>0.9382</td>\n",
       "      <td>0.9394</td>\n",
       "      <td>0.9406</td>\n",
       "      <td>0.9418</td>\n",
       "      <td>0.9429</td>\n",
       "      <td>0.9441</td>\n",
       "    </tr>\n",
       "    <tr>\n",
       "      <th>1.60</th>\n",
       "      <td>0.9452</td>\n",
       "      <td>0.9463</td>\n",
       "      <td>0.9474</td>\n",
       "      <td>0.9484</td>\n",
       "      <td>0.9495</td>\n",
       "      <td>0.9505</td>\n",
       "      <td>0.9515</td>\n",
       "      <td>0.9525</td>\n",
       "      <td>0.9535</td>\n",
       "      <td>0.9545</td>\n",
       "    </tr>\n",
       "    <tr>\n",
       "      <th>1.70</th>\n",
       "      <td>0.9554</td>\n",
       "      <td>0.9564</td>\n",
       "      <td>0.9573</td>\n",
       "      <td>0.9582</td>\n",
       "      <td>0.9591</td>\n",
       "      <td>0.9599</td>\n",
       "      <td>0.9608</td>\n",
       "      <td>0.9616</td>\n",
       "      <td>0.9625</td>\n",
       "      <td>0.9633</td>\n",
       "    </tr>\n",
       "    <tr>\n",
       "      <th>1.80</th>\n",
       "      <td>0.9641</td>\n",
       "      <td>0.9649</td>\n",
       "      <td>0.9656</td>\n",
       "      <td>0.9664</td>\n",
       "      <td>0.9671</td>\n",
       "      <td>0.9678</td>\n",
       "      <td>0.9686</td>\n",
       "      <td>0.9693</td>\n",
       "      <td>0.9699</td>\n",
       "      <td>0.9706</td>\n",
       "    </tr>\n",
       "    <tr>\n",
       "      <th>1.90</th>\n",
       "      <td>0.9713</td>\n",
       "      <td>0.9719</td>\n",
       "      <td>0.9726</td>\n",
       "      <td>0.9732</td>\n",
       "      <td>0.9738</td>\n",
       "      <td>0.9744</td>\n",
       "      <td>0.9750</td>\n",
       "      <td>0.9756</td>\n",
       "      <td>0.9761</td>\n",
       "      <td>0.9767</td>\n",
       "    </tr>\n",
       "    <tr>\n",
       "      <th>2.00</th>\n",
       "      <td>0.9772</td>\n",
       "      <td>0.9778</td>\n",
       "      <td>0.9783</td>\n",
       "      <td>0.9788</td>\n",
       "      <td>0.9793</td>\n",
       "      <td>0.9798</td>\n",
       "      <td>0.9803</td>\n",
       "      <td>0.9808</td>\n",
       "      <td>0.9812</td>\n",
       "      <td>0.9817</td>\n",
       "    </tr>\n",
       "    <tr>\n",
       "      <th>2.10</th>\n",
       "      <td>0.9821</td>\n",
       "      <td>0.9826</td>\n",
       "      <td>0.9830</td>\n",
       "      <td>0.9834</td>\n",
       "      <td>0.9838</td>\n",
       "      <td>0.9842</td>\n",
       "      <td>0.9846</td>\n",
       "      <td>0.9850</td>\n",
       "      <td>0.9854</td>\n",
       "      <td>0.9857</td>\n",
       "    </tr>\n",
       "    <tr>\n",
       "      <th>2.20</th>\n",
       "      <td>0.9861</td>\n",
       "      <td>0.9864</td>\n",
       "      <td>0.9868</td>\n",
       "      <td>0.9871</td>\n",
       "      <td>0.9875</td>\n",
       "      <td>0.9878</td>\n",
       "      <td>0.9881</td>\n",
       "      <td>0.9884</td>\n",
       "      <td>0.9887</td>\n",
       "      <td>0.9890</td>\n",
       "    </tr>\n",
       "    <tr>\n",
       "      <th>2.30</th>\n",
       "      <td>0.9893</td>\n",
       "      <td>0.9896</td>\n",
       "      <td>0.9898</td>\n",
       "      <td>0.9901</td>\n",
       "      <td>0.9904</td>\n",
       "      <td>0.9906</td>\n",
       "      <td>0.9909</td>\n",
       "      <td>0.9911</td>\n",
       "      <td>0.9913</td>\n",
       "      <td>0.9916</td>\n",
       "    </tr>\n",
       "    <tr>\n",
       "      <th>2.40</th>\n",
       "      <td>0.9918</td>\n",
       "      <td>0.9920</td>\n",
       "      <td>0.9922</td>\n",
       "      <td>0.9925</td>\n",
       "      <td>0.9927</td>\n",
       "      <td>0.9929</td>\n",
       "      <td>0.9931</td>\n",
       "      <td>0.9932</td>\n",
       "      <td>0.9934</td>\n",
       "      <td>0.9936</td>\n",
       "    </tr>\n",
       "    <tr>\n",
       "      <th>2.50</th>\n",
       "      <td>0.9938</td>\n",
       "      <td>0.9940</td>\n",
       "      <td>0.9941</td>\n",
       "      <td>0.9943</td>\n",
       "      <td>0.9945</td>\n",
       "      <td>0.9946</td>\n",
       "      <td>0.9948</td>\n",
       "      <td>0.9949</td>\n",
       "      <td>0.9951</td>\n",
       "      <td>0.9952</td>\n",
       "    </tr>\n",
       "    <tr>\n",
       "      <th>2.60</th>\n",
       "      <td>0.9953</td>\n",
       "      <td>0.9955</td>\n",
       "      <td>0.9956</td>\n",
       "      <td>0.9957</td>\n",
       "      <td>0.9959</td>\n",
       "      <td>0.9960</td>\n",
       "      <td>0.9961</td>\n",
       "      <td>0.9962</td>\n",
       "      <td>0.9963</td>\n",
       "      <td>0.9964</td>\n",
       "    </tr>\n",
       "    <tr>\n",
       "      <th>2.70</th>\n",
       "      <td>0.9965</td>\n",
       "      <td>0.9966</td>\n",
       "      <td>0.9967</td>\n",
       "      <td>0.9968</td>\n",
       "      <td>0.9969</td>\n",
       "      <td>0.9970</td>\n",
       "      <td>0.9971</td>\n",
       "      <td>0.9972</td>\n",
       "      <td>0.9973</td>\n",
       "      <td>0.9974</td>\n",
       "    </tr>\n",
       "    <tr>\n",
       "      <th>2.80</th>\n",
       "      <td>0.9974</td>\n",
       "      <td>0.9975</td>\n",
       "      <td>0.9976</td>\n",
       "      <td>0.9977</td>\n",
       "      <td>0.9977</td>\n",
       "      <td>0.9978</td>\n",
       "      <td>0.9979</td>\n",
       "      <td>0.9979</td>\n",
       "      <td>0.9980</td>\n",
       "      <td>0.9981</td>\n",
       "    </tr>\n",
       "    <tr>\n",
       "      <th>2.90</th>\n",
       "      <td>0.9981</td>\n",
       "      <td>0.9982</td>\n",
       "      <td>0.9982</td>\n",
       "      <td>0.9983</td>\n",
       "      <td>0.9984</td>\n",
       "      <td>0.9984</td>\n",
       "      <td>0.9985</td>\n",
       "      <td>0.9985</td>\n",
       "      <td>0.9986</td>\n",
       "      <td>0.9986</td>\n",
       "    </tr>\n",
       "    <tr>\n",
       "      <th>3.00</th>\n",
       "      <td>0.9987</td>\n",
       "      <td>0.9987</td>\n",
       "      <td>0.9987</td>\n",
       "      <td>0.9988</td>\n",
       "      <td>0.9988</td>\n",
       "      <td>0.9989</td>\n",
       "      <td>0.9989</td>\n",
       "      <td>0.9989</td>\n",
       "      <td>0.9990</td>\n",
       "      <td>0.9990</td>\n",
       "    </tr>\n",
       "    <tr>\n",
       "      <th>3.10</th>\n",
       "      <td>0.9990</td>\n",
       "      <td>0.9991</td>\n",
       "      <td>0.9991</td>\n",
       "      <td>0.9991</td>\n",
       "      <td>0.9992</td>\n",
       "      <td>0.9992</td>\n",
       "      <td>0.9992</td>\n",
       "      <td>0.9992</td>\n",
       "      <td>0.9993</td>\n",
       "      <td>0.9993</td>\n",
       "    </tr>\n",
       "    <tr>\n",
       "      <th>3.20</th>\n",
       "      <td>0.9993</td>\n",
       "      <td>0.9993</td>\n",
       "      <td>0.9994</td>\n",
       "      <td>0.9994</td>\n",
       "      <td>0.9994</td>\n",
       "      <td>0.9994</td>\n",
       "      <td>0.9994</td>\n",
       "      <td>0.9995</td>\n",
       "      <td>0.9995</td>\n",
       "      <td>0.9995</td>\n",
       "    </tr>\n",
       "    <tr>\n",
       "      <th>3.30</th>\n",
       "      <td>0.9995</td>\n",
       "      <td>0.9995</td>\n",
       "      <td>0.9995</td>\n",
       "      <td>0.9996</td>\n",
       "      <td>0.9996</td>\n",
       "      <td>0.9996</td>\n",
       "      <td>0.9996</td>\n",
       "      <td>0.9996</td>\n",
       "      <td>0.9996</td>\n",
       "      <td>0.9997</td>\n",
       "    </tr>\n",
       "    <tr>\n",
       "      <th>3.40</th>\n",
       "      <td>0.9997</td>\n",
       "      <td>0.9997</td>\n",
       "      <td>0.9997</td>\n",
       "      <td>0.9997</td>\n",
       "      <td>0.9997</td>\n",
       "      <td>0.9997</td>\n",
       "      <td>0.9997</td>\n",
       "      <td>0.9997</td>\n",
       "      <td>0.9997</td>\n",
       "      <td>0.9998</td>\n",
       "    </tr>\n",
       "    <tr>\n",
       "      <th>3.50</th>\n",
       "      <td>0.9998</td>\n",
       "      <td>0.9998</td>\n",
       "      <td>0.9998</td>\n",
       "      <td>0.9998</td>\n",
       "      <td>0.9998</td>\n",
       "      <td>0.9998</td>\n",
       "      <td>0.9998</td>\n",
       "      <td>0.9998</td>\n",
       "      <td>0.9998</td>\n",
       "      <td>0.9998</td>\n",
       "    </tr>\n",
       "    <tr>\n",
       "      <th>3.60</th>\n",
       "      <td>0.9998</td>\n",
       "      <td>0.9998</td>\n",
       "      <td>0.9999</td>\n",
       "      <td>0.9999</td>\n",
       "      <td>0.9999</td>\n",
       "      <td>0.9999</td>\n",
       "      <td>0.9999</td>\n",
       "      <td>0.9999</td>\n",
       "      <td>0.9999</td>\n",
       "      <td>0.9999</td>\n",
       "    </tr>\n",
       "    <tr>\n",
       "      <th>3.70</th>\n",
       "      <td>0.9999</td>\n",
       "      <td>0.9999</td>\n",
       "      <td>0.9999</td>\n",
       "      <td>0.9999</td>\n",
       "      <td>0.9999</td>\n",
       "      <td>0.9999</td>\n",
       "      <td>0.9999</td>\n",
       "      <td>0.9999</td>\n",
       "      <td>0.9999</td>\n",
       "      <td>0.9999</td>\n",
       "    </tr>\n",
       "    <tr>\n",
       "      <th>3.80</th>\n",
       "      <td>0.9999</td>\n",
       "      <td>0.9999</td>\n",
       "      <td>0.9999</td>\n",
       "      <td>0.9999</td>\n",
       "      <td>0.9999</td>\n",
       "      <td>0.9999</td>\n",
       "      <td>0.9999</td>\n",
       "      <td>0.9999</td>\n",
       "      <td>0.9999</td>\n",
       "      <td>0.9999</td>\n",
       "    </tr>\n",
       "    <tr>\n",
       "      <th>3.90</th>\n",
       "      <td>1.0000</td>\n",
       "      <td>1.0000</td>\n",
       "      <td>1.0000</td>\n",
       "      <td>1.0000</td>\n",
       "      <td>1.0000</td>\n",
       "      <td>1.0000</td>\n",
       "      <td>1.0000</td>\n",
       "      <td>1.0000</td>\n",
       "      <td>1.0000</td>\n",
       "      <td>1.0000</td>\n",
       "    </tr>\n",
       "  </tbody>\n",
       "</table>\n",
       "</div>"
      ],
      "text/plain": [
       "Z       0.00    0.01    0.02    0.03    0.04    0.05    0.06    0.07    0.08  \\\n",
       "0.00  0.5000  0.5040  0.5080  0.5120  0.5160  0.5199  0.5239  0.5279  0.5319   \n",
       "0.10  0.5398  0.5438  0.5478  0.5517  0.5557  0.5596  0.5636  0.5675  0.5714   \n",
       "0.20  0.5793  0.5832  0.5871  0.5910  0.5948  0.5987  0.6026  0.6064  0.6103   \n",
       "0.30  0.6179  0.6217  0.6255  0.6293  0.6331  0.6368  0.6406  0.6443  0.6480   \n",
       "0.40  0.6554  0.6591  0.6628  0.6664  0.6700  0.6736  0.6772  0.6808  0.6844   \n",
       "0.50  0.6915  0.6950  0.6985  0.7019  0.7054  0.7088  0.7123  0.7157  0.7190   \n",
       "0.60  0.7257  0.7291  0.7324  0.7357  0.7389  0.7422  0.7454  0.7486  0.7517   \n",
       "0.70  0.7580  0.7611  0.7642  0.7673  0.7704  0.7734  0.7764  0.7794  0.7823   \n",
       "0.80  0.7881  0.7910  0.7939  0.7967  0.7995  0.8023  0.8051  0.8078  0.8106   \n",
       "0.90  0.8159  0.8186  0.8212  0.8238  0.8264  0.8289  0.8315  0.8340  0.8365   \n",
       "1.00  0.8413  0.8438  0.8461  0.8485  0.8508  0.8531  0.8554  0.8577  0.8599   \n",
       "1.10  0.8643  0.8665  0.8686  0.8708  0.8729  0.8749  0.8770  0.8790  0.8810   \n",
       "1.20  0.8849  0.8869  0.8888  0.8907  0.8925  0.8944  0.8962  0.8980  0.8997   \n",
       "1.30  0.9032  0.9049  0.9066  0.9082  0.9099  0.9115  0.9131  0.9147  0.9162   \n",
       "1.40  0.9192  0.9207  0.9222  0.9236  0.9251  0.9265  0.9279  0.9292  0.9306   \n",
       "1.50  0.9332  0.9345  0.9357  0.9370  0.9382  0.9394  0.9406  0.9418  0.9429   \n",
       "1.60  0.9452  0.9463  0.9474  0.9484  0.9495  0.9505  0.9515  0.9525  0.9535   \n",
       "1.70  0.9554  0.9564  0.9573  0.9582  0.9591  0.9599  0.9608  0.9616  0.9625   \n",
       "1.80  0.9641  0.9649  0.9656  0.9664  0.9671  0.9678  0.9686  0.9693  0.9699   \n",
       "1.90  0.9713  0.9719  0.9726  0.9732  0.9738  0.9744  0.9750  0.9756  0.9761   \n",
       "2.00  0.9772  0.9778  0.9783  0.9788  0.9793  0.9798  0.9803  0.9808  0.9812   \n",
       "2.10  0.9821  0.9826  0.9830  0.9834  0.9838  0.9842  0.9846  0.9850  0.9854   \n",
       "2.20  0.9861  0.9864  0.9868  0.9871  0.9875  0.9878  0.9881  0.9884  0.9887   \n",
       "2.30  0.9893  0.9896  0.9898  0.9901  0.9904  0.9906  0.9909  0.9911  0.9913   \n",
       "2.40  0.9918  0.9920  0.9922  0.9925  0.9927  0.9929  0.9931  0.9932  0.9934   \n",
       "2.50  0.9938  0.9940  0.9941  0.9943  0.9945  0.9946  0.9948  0.9949  0.9951   \n",
       "2.60  0.9953  0.9955  0.9956  0.9957  0.9959  0.9960  0.9961  0.9962  0.9963   \n",
       "2.70  0.9965  0.9966  0.9967  0.9968  0.9969  0.9970  0.9971  0.9972  0.9973   \n",
       "2.80  0.9974  0.9975  0.9976  0.9977  0.9977  0.9978  0.9979  0.9979  0.9980   \n",
       "2.90  0.9981  0.9982  0.9982  0.9983  0.9984  0.9984  0.9985  0.9985  0.9986   \n",
       "3.00  0.9987  0.9987  0.9987  0.9988  0.9988  0.9989  0.9989  0.9989  0.9990   \n",
       "3.10  0.9990  0.9991  0.9991  0.9991  0.9992  0.9992  0.9992  0.9992  0.9993   \n",
       "3.20  0.9993  0.9993  0.9994  0.9994  0.9994  0.9994  0.9994  0.9995  0.9995   \n",
       "3.30  0.9995  0.9995  0.9995  0.9996  0.9996  0.9996  0.9996  0.9996  0.9996   \n",
       "3.40  0.9997  0.9997  0.9997  0.9997  0.9997  0.9997  0.9997  0.9997  0.9997   \n",
       "3.50  0.9998  0.9998  0.9998  0.9998  0.9998  0.9998  0.9998  0.9998  0.9998   \n",
       "3.60  0.9998  0.9998  0.9999  0.9999  0.9999  0.9999  0.9999  0.9999  0.9999   \n",
       "3.70  0.9999  0.9999  0.9999  0.9999  0.9999  0.9999  0.9999  0.9999  0.9999   \n",
       "3.80  0.9999  0.9999  0.9999  0.9999  0.9999  0.9999  0.9999  0.9999  0.9999   \n",
       "3.90  1.0000  1.0000  1.0000  1.0000  1.0000  1.0000  1.0000  1.0000  1.0000   \n",
       "\n",
       "Z       0.09  \n",
       "0.00  0.5359  \n",
       "0.10  0.5753  \n",
       "0.20  0.6141  \n",
       "0.30  0.6517  \n",
       "0.40  0.6879  \n",
       "0.50  0.7224  \n",
       "0.60  0.7549  \n",
       "0.70  0.7852  \n",
       "0.80  0.8133  \n",
       "0.90  0.8389  \n",
       "1.00  0.8621  \n",
       "1.10  0.8830  \n",
       "1.20  0.9015  \n",
       "1.30  0.9177  \n",
       "1.40  0.9319  \n",
       "1.50  0.9441  \n",
       "1.60  0.9545  \n",
       "1.70  0.9633  \n",
       "1.80  0.9706  \n",
       "1.90  0.9767  \n",
       "2.00  0.9817  \n",
       "2.10  0.9857  \n",
       "2.20  0.9890  \n",
       "2.30  0.9916  \n",
       "2.40  0.9936  \n",
       "2.50  0.9952  \n",
       "2.60  0.9964  \n",
       "2.70  0.9974  \n",
       "2.80  0.9981  \n",
       "2.90  0.9986  \n",
       "3.00  0.9990  \n",
       "3.10  0.9993  \n",
       "3.20  0.9995  \n",
       "3.30  0.9997  \n",
       "3.40  0.9998  \n",
       "3.50  0.9998  \n",
       "3.60  0.9999  \n",
       "3.70  0.9999  \n",
       "3.80  0.9999  \n",
       "3.90  1.0000  "
      ]
     },
     "execution_count": 22,
     "metadata": {},
     "output_type": "execute_result"
    }
   ],
   "source": [
    "import pandas as pd\n",
    "import numpy as np\n",
    "from scipy.stats import norm\n",
    "\n",
    "tabla_estandarizada = pd.DataFrame(\n",
    "    [],\n",
    "    index=[\"{0:0.2f}\".format(i / 100) for i in range(0, 400, 10)],\n",
    "    columns = [\"{0:0.2f}\".format(i / 100) for i in range(0, 10)])\n",
    "\n",
    "for index in tabla_estandarizada.index:\n",
    "    for column in tabla_estandarizada.columns:\n",
    "        Z = np.round(float(index) + float(column), 2)\n",
    "        tabla_estandarizada.loc[index, column] = \"{0:0.4f}\".format(norm.cdf(Z))\n",
    "\n",
    "tabla_estandarizada.rename_axis('Z', axis = 'columns', inplace = True)\n"
   ]
  },
  {
   "cell_type": "code",
   "execution_count": null,
   "metadata": {},
   "outputs": [],
   "source": [
    "\"\"\"En un estudio sobre las alturas de los habitantes de una ciudad, se encontró que el conjunto de datos sigue una distribución aproximadamente normal, con media 1.70 y desviación estándar de 0.1. Con esta información obtenga el siguiente conjunto de probabilidades:\n",
    "\n",
    "A. probabilidad de que una persona seleccionada al azar mida menos de 1.80 metros.\n",
    "\n",
    "B. probabilidad de que una persona seleccionada al azar mida entre 1.60 y 1.80 metros.\n",
    "\n",
    "C. probabilidad de que una persona seleccionada al azar mida más de 1.90 metros.\"\"\""
   ]
  },
  {
   "cell_type": "code",
   "execution_count": 100,
   "metadata": {},
   "outputs": [
    {
     "data": {
      "text/plain": [
       "0.8413"
      ]
     },
     "execution_count": 100,
     "metadata": {},
     "output_type": "execute_result"
    }
   ],
   "source": [
    "#A\n",
    "media = 1.7\n",
    "desviacion_estandar = 0.1\n",
    "Z = (1.8 - media) / desviacion_estandar\n",
    "Z\n",
    "\n",
    "#COnsiderando la tabla z\n",
    "probabilidad = 0.8413\n",
    "probabilidad"
   ]
  },
  {
   "cell_type": "code",
   "execution_count": 13,
   "metadata": {},
   "outputs": [
    {
     "data": {
      "text/plain": [
       "0.758036347776927"
      ]
     },
     "execution_count": 13,
     "metadata": {},
     "output_type": "execute_result"
    }
   ],
   "source": [
    "#aasdasdas\n",
    "from scipy.stats import norm\n",
    "norm.cdf(Z)\n",
    "#A\n",
    "media = 4000\n",
    "desviacion_estandar = 1000\n",
    "valorx= 3300\n",
    "Z = (valorx - media) / desviacion_estandar\n",
    "Z\n",
    "\n",
    "norm.cdf(valorx, media, desviacion_estandar)\n"
   ]
  },
  {
   "cell_type": "code",
   "execution_count": 102,
   "metadata": {},
   "outputs": [
    {
     "data": {
      "text/plain": [
       "0.8413447460685431"
      ]
     },
     "execution_count": 102,
     "metadata": {},
     "output_type": "execute_result"
    }
   ],
   "source": [
    "# Usando scipy\n",
    "from scipy.stats import norm\n",
    "norm.cdf(Z)"
   ]
  },
  {
   "cell_type": "code",
   "execution_count": 109,
   "metadata": {},
   "outputs": [
    {
     "data": {
      "text/plain": [
       "0.6826894921370857"
      ]
     },
     "execution_count": 109,
     "metadata": {},
     "output_type": "execute_result"
    }
   ],
   "source": [
    "# B entre 1.6 y 1.8\n",
    "Z_inferior = (1.6 - media) / desviacion_estandar\n",
    "Z_superior = (1.8 - media) / desviacion_estandar\n",
    "\n",
    "probabilidad = norm.cdf(Z_superior) - (norm.cdf(Z_inferior))\n",
    "probabilidad"
   ]
  },
  {
   "cell_type": "code",
   "execution_count": 107,
   "metadata": {},
   "outputs": [
    {
     "name": "stdout",
     "output_type": "stream",
     "text": [
      "1.9999999999999996\n",
      "0.02275013194817921\n"
     ]
    }
   ],
   "source": [
    "#C cuando es mayor a 1.9\n",
    "Z = (1.9 - media) / desviacion_estandar\n",
    "print(Z)\n",
    "probabilidad = norm.cdf(Z)\n",
    "# lo anterior es la probabiliad de Z o menos.\n",
    "#como nos pide mayores, entonces es el complemento\n",
    "print(1-probabilidad)"
   ]
  },
  {
   "cell_type": "code",
   "execution_count": 110,
   "metadata": {},
   "outputs": [
    {
     "data": {
      "text/plain": [
       "0.022750131948179216"
      ]
     },
     "execution_count": 110,
     "metadata": {},
     "output_type": "execute_result"
    }
   ],
   "source": [
    "probabilidad = norm.cdf(-Z)\n",
    "#calculando el área complemento\n",
    "probabilidad\n"
   ]
  },
  {
   "cell_type": "markdown",
   "metadata": {},
   "source": [
    "# Clase 21: Muestreo"
   ]
  },
  {
   "cell_type": "code",
   "execution_count": null,
   "metadata": {},
   "outputs": [],
   "source": [
    "#casos de aplicacion de una muestra\n",
    "# "
   ]
  },
  {
   "cell_type": "markdown",
   "metadata": {},
   "source": [
    "# Muestreo aleaotrio simple"
   ]
  },
  {
   "cell_type": "code",
   "execution_count": null,
   "metadata": {},
   "outputs": [],
   "source": [
    "\"\"\"\n",
    "Chocolateo\n",
    "\"\"\""
   ]
  },
  {
   "cell_type": "code",
   "execution_count": 2,
   "metadata": {},
   "outputs": [
    {
     "ename": "NameError",
     "evalue": "name 'pd' is not defined",
     "output_type": "error",
     "traceback": [
      "\u001b[1;31m---------------------------------------------------------------------------\u001b[0m",
      "\u001b[1;31mNameError\u001b[0m                                 Traceback (most recent call last)",
      "Cell \u001b[1;32mIn[2], line 1\u001b[0m\n\u001b[1;32m----> 1\u001b[0m datos\u001b[38;5;241m=\u001b[39m\u001b[43mpd\u001b[49m\u001b[38;5;241m.\u001b[39mread_csv(\u001b[38;5;124m\"\u001b[39m\u001b[38;5;124mbase.csv\u001b[39m\u001b[38;5;124m\"\u001b[39m)\n\u001b[0;32m      2\u001b[0m datos\u001b[38;5;241m.\u001b[39mshape\n",
      "\u001b[1;31mNameError\u001b[0m: name 'pd' is not defined"
     ]
    }
   ],
   "source": [
    "datos=pd.read_csv(\"base.csv\")\n",
    "datos.shape"
   ]
  },
  {
   "cell_type": "code",
   "execution_count": 113,
   "metadata": {},
   "outputs": [
    {
     "data": {
      "text/plain": [
       "2000.3831988547631"
      ]
     },
     "execution_count": 113,
     "metadata": {},
     "output_type": "execute_result"
    }
   ],
   "source": [
    "datos.Renta.mean()"
   ]
  },
  {
   "cell_type": "code",
   "execution_count": 114,
   "metadata": {},
   "outputs": [],
   "source": [
    "muestra=datos.sample(n=1000,random_state=101)"
   ]
  },
  {
   "cell_type": "code",
   "execution_count": 115,
   "metadata": {},
   "outputs": [
    {
     "data": {
      "text/plain": [
       "(1000, 7)"
      ]
     },
     "execution_count": 115,
     "metadata": {},
     "output_type": "execute_result"
    }
   ],
   "source": [
    "muestra.shape"
   ]
  },
  {
   "cell_type": "code",
   "execution_count": 117,
   "metadata": {},
   "outputs": [
    {
     "data": {
      "text/plain": [
       "1998.783"
      ]
     },
     "execution_count": 117,
     "metadata": {},
     "output_type": "execute_result"
    }
   ],
   "source": [
    "muestra.Renta.mean()"
   ]
  },
  {
   "cell_type": "code",
   "execution_count": 118,
   "metadata": {},
   "outputs": [
    {
     "data": {
      "text/plain": [
       "Sexo\n",
       "0    0.692998\n",
       "1    0.307002\n",
       "Name: proportion, dtype: float64"
      ]
     },
     "execution_count": 118,
     "metadata": {},
     "output_type": "execute_result"
    }
   ],
   "source": [
    "datos.Sexo.value_counts(normalize = True)"
   ]
  },
  {
   "cell_type": "code",
   "execution_count": 119,
   "metadata": {},
   "outputs": [
    {
     "data": {
      "text/plain": [
       "Sexo\n",
       "0    0.706\n",
       "1    0.294\n",
       "Name: proportion, dtype: float64"
      ]
     },
     "execution_count": 119,
     "metadata": {},
     "output_type": "execute_result"
    }
   ],
   "source": [
    "muestra.Sexo.value_counts(normalize = True)\n"
   ]
  },
  {
   "cell_type": "code",
   "execution_count": null,
   "metadata": {},
   "outputs": [],
   "source": [
    "\"\"\" Solo hemos generado muestras aleatorias mas no muestras en su definición estricta. \"\"\""
   ]
  },
  {
   "cell_type": "markdown",
   "metadata": {},
   "source": [
    "# Clase 23: \n",
    "- Muesreo estratificado\n",
    "- muestreo por conglomerado\n",
    "- Muestreo aleatorio simple"
   ]
  },
  {
   "cell_type": "code",
   "execution_count": null,
   "metadata": {},
   "outputs": [],
   "source": [
    "\"\"\"\n",
    "\n",
    "\"\"\""
   ]
  },
  {
   "cell_type": "code",
   "execution_count": null,
   "metadata": {},
   "outputs": [],
   "source": [
    "# CLase 24: Teorema de límite central"
   ]
  },
  {
   "cell_type": "markdown",
   "metadata": {},
   "source": [
    "Confianza de la muestra\n",
    "\n",
    "A partir de los parámetros (media, varianza, desviacion, mediana) se trata de inferir\n",
    "las propiedades de la población total\n"
   ]
  },
  {
   "cell_type": "markdown",
   "metadata": {},
   "source": [
    "Cuanto mayor sea la muestra, la muestra se tiende a comportar como una distribución normal. \n",
    "La media se distribuye con una distribución normal.\n",
    "Media= media de la población\n",
    "\n"
   ]
  },
  {
   "cell_type": "code",
   "execution_count": 3,
   "metadata": {},
   "outputs": [],
   "source": [
    "import pandas as pd"
   ]
  },
  {
   "cell_type": "code",
   "execution_count": 1,
   "metadata": {},
   "outputs": [],
   "source": [
    "n=2000\n",
    "total_de_muestras=1500\n"
   ]
  },
  {
   "cell_type": "code",
   "execution_count": 4,
   "metadata": {},
   "outputs": [
    {
     "data": {
      "text/html": [
       "<div>\n",
       "<style scoped>\n",
       "    .dataframe tbody tr th:only-of-type {\n",
       "        vertical-align: middle;\n",
       "    }\n",
       "\n",
       "    .dataframe tbody tr th {\n",
       "        vertical-align: top;\n",
       "    }\n",
       "\n",
       "    .dataframe thead th {\n",
       "        text-align: right;\n",
       "    }\n",
       "</style>\n",
       "<table border=\"1\" class=\"dataframe\">\n",
       "  <thead>\n",
       "    <tr style=\"text-align: right;\">\n",
       "      <th></th>\n",
       "    </tr>\n",
       "  </thead>\n",
       "  <tbody>\n",
       "  </tbody>\n",
       "</table>\n",
       "</div>"
      ],
      "text/plain": [
       "Empty DataFrame\n",
       "Columns: []\n",
       "Index: []"
      ]
     },
     "execution_count": 4,
     "metadata": {},
     "output_type": "execute_result"
    }
   ],
   "source": [
    "muestras=pd.DataFrame()\n",
    "muestras\n",
    "\n"
   ]
  },
  {
   "cell_type": "code",
   "execution_count": 3,
   "metadata": {},
   "outputs": [
    {
     "ename": "NameError",
     "evalue": "name 'pd' is not defined",
     "output_type": "error",
     "traceback": [
      "\u001b[1;31m---------------------------------------------------------------------------\u001b[0m",
      "\u001b[1;31mNameError\u001b[0m                                 Traceback (most recent call last)",
      "Cell \u001b[1;32mIn[3], line 1\u001b[0m\n\u001b[1;32m----> 1\u001b[0m datos\u001b[38;5;241m=\u001b[39m\u001b[43mpd\u001b[49m\u001b[38;5;241m.\u001b[39mread_csv(\u001b[38;5;124m'\u001b[39m\u001b[38;5;124mbase.csv\u001b[39m\u001b[38;5;124m'\u001b[39m)\n\u001b[0;32m      2\u001b[0m datos\u001b[38;5;241m.\u001b[39mshape\n",
      "\u001b[1;31mNameError\u001b[0m: name 'pd' is not defined"
     ]
    }
   ],
   "source": [
    "\n",
    "datos=pd.read_csv('base.csv')\n",
    "datos.shape"
   ]
  },
  {
   "cell_type": "code",
   "execution_count": 7,
   "metadata": {},
   "outputs": [
    {
     "data": {
      "text/html": [
       "<div>\n",
       "<style scoped>\n",
       "    .dataframe tbody tr th:only-of-type {\n",
       "        vertical-align: middle;\n",
       "    }\n",
       "\n",
       "    .dataframe tbody tr th {\n",
       "        vertical-align: top;\n",
       "    }\n",
       "\n",
       "    .dataframe thead th {\n",
       "        text-align: right;\n",
       "    }\n",
       "</style>\n",
       "<table border=\"1\" class=\"dataframe\">\n",
       "  <thead>\n",
       "    <tr style=\"text-align: right;\">\n",
       "      <th></th>\n",
       "      <th>Muestra_0</th>\n",
       "      <th>Muestra_1</th>\n",
       "      <th>Muestra_2</th>\n",
       "      <th>Muestra_3</th>\n",
       "      <th>Muestra_4</th>\n",
       "      <th>Muestra_5</th>\n",
       "      <th>Muestra_6</th>\n",
       "      <th>Muestra_7</th>\n",
       "      <th>Muestra_8</th>\n",
       "      <th>Muestra_9</th>\n",
       "      <th>...</th>\n",
       "      <th>Muestra_1490</th>\n",
       "      <th>Muestra_1491</th>\n",
       "      <th>Muestra_1492</th>\n",
       "      <th>Muestra_1493</th>\n",
       "      <th>Muestra_1494</th>\n",
       "      <th>Muestra_1495</th>\n",
       "      <th>Muestra_1496</th>\n",
       "      <th>Muestra_1497</th>\n",
       "      <th>Muestra_1498</th>\n",
       "      <th>Muestra_1499</th>\n",
       "    </tr>\n",
       "  </thead>\n",
       "  <tbody>\n",
       "    <tr>\n",
       "      <th>0</th>\n",
       "      <td>57</td>\n",
       "      <td>37</td>\n",
       "      <td>27</td>\n",
       "      <td>46</td>\n",
       "      <td>48</td>\n",
       "      <td>55</td>\n",
       "      <td>39</td>\n",
       "      <td>52</td>\n",
       "      <td>40</td>\n",
       "      <td>32</td>\n",
       "      <td>...</td>\n",
       "      <td>49</td>\n",
       "      <td>38</td>\n",
       "      <td>23</td>\n",
       "      <td>20</td>\n",
       "      <td>34</td>\n",
       "      <td>39</td>\n",
       "      <td>36</td>\n",
       "      <td>23</td>\n",
       "      <td>50</td>\n",
       "      <td>69</td>\n",
       "    </tr>\n",
       "    <tr>\n",
       "      <th>1</th>\n",
       "      <td>56</td>\n",
       "      <td>46</td>\n",
       "      <td>47</td>\n",
       "      <td>54</td>\n",
       "      <td>58</td>\n",
       "      <td>47</td>\n",
       "      <td>34</td>\n",
       "      <td>30</td>\n",
       "      <td>47</td>\n",
       "      <td>36</td>\n",
       "      <td>...</td>\n",
       "      <td>52</td>\n",
       "      <td>36</td>\n",
       "      <td>51</td>\n",
       "      <td>58</td>\n",
       "      <td>48</td>\n",
       "      <td>33</td>\n",
       "      <td>36</td>\n",
       "      <td>26</td>\n",
       "      <td>23</td>\n",
       "      <td>31</td>\n",
       "    </tr>\n",
       "    <tr>\n",
       "      <th>2</th>\n",
       "      <td>78</td>\n",
       "      <td>29</td>\n",
       "      <td>28</td>\n",
       "      <td>50</td>\n",
       "      <td>41</td>\n",
       "      <td>45</td>\n",
       "      <td>73</td>\n",
       "      <td>51</td>\n",
       "      <td>49</td>\n",
       "      <td>27</td>\n",
       "      <td>...</td>\n",
       "      <td>40</td>\n",
       "      <td>26</td>\n",
       "      <td>23</td>\n",
       "      <td>64</td>\n",
       "      <td>44</td>\n",
       "      <td>37</td>\n",
       "      <td>36</td>\n",
       "      <td>29</td>\n",
       "      <td>39</td>\n",
       "      <td>35</td>\n",
       "    </tr>\n",
       "    <tr>\n",
       "      <th>3</th>\n",
       "      <td>41</td>\n",
       "      <td>34</td>\n",
       "      <td>56</td>\n",
       "      <td>49</td>\n",
       "      <td>56</td>\n",
       "      <td>43</td>\n",
       "      <td>50</td>\n",
       "      <td>53</td>\n",
       "      <td>53</td>\n",
       "      <td>33</td>\n",
       "      <td>...</td>\n",
       "      <td>49</td>\n",
       "      <td>31</td>\n",
       "      <td>32</td>\n",
       "      <td>63</td>\n",
       "      <td>39</td>\n",
       "      <td>60</td>\n",
       "      <td>32</td>\n",
       "      <td>48</td>\n",
       "      <td>42</td>\n",
       "      <td>59</td>\n",
       "    </tr>\n",
       "    <tr>\n",
       "      <th>4</th>\n",
       "      <td>39</td>\n",
       "      <td>49</td>\n",
       "      <td>43</td>\n",
       "      <td>40</td>\n",
       "      <td>53</td>\n",
       "      <td>62</td>\n",
       "      <td>32</td>\n",
       "      <td>40</td>\n",
       "      <td>30</td>\n",
       "      <td>57</td>\n",
       "      <td>...</td>\n",
       "      <td>30</td>\n",
       "      <td>45</td>\n",
       "      <td>38</td>\n",
       "      <td>39</td>\n",
       "      <td>33</td>\n",
       "      <td>41</td>\n",
       "      <td>59</td>\n",
       "      <td>48</td>\n",
       "      <td>41</td>\n",
       "      <td>35</td>\n",
       "    </tr>\n",
       "  </tbody>\n",
       "</table>\n",
       "<p>5 rows × 1500 columns</p>\n",
       "</div>"
      ],
      "text/plain": [
       "   Muestra_0  Muestra_1  Muestra_2  Muestra_3  Muestra_4  Muestra_5  \\\n",
       "0         57         37         27         46         48         55   \n",
       "1         56         46         47         54         58         47   \n",
       "2         78         29         28         50         41         45   \n",
       "3         41         34         56         49         56         43   \n",
       "4         39         49         43         40         53         62   \n",
       "\n",
       "   Muestra_6  Muestra_7  Muestra_8  Muestra_9  ...  Muestra_1490  \\\n",
       "0         39         52         40         32  ...            49   \n",
       "1         34         30         47         36  ...            52   \n",
       "2         73         51         49         27  ...            40   \n",
       "3         50         53         53         33  ...            49   \n",
       "4         32         40         30         57  ...            30   \n",
       "\n",
       "   Muestra_1491  Muestra_1492  Muestra_1493  Muestra_1494  Muestra_1495  \\\n",
       "0            38            23            20            34            39   \n",
       "1            36            51            58            48            33   \n",
       "2            26            23            64            44            37   \n",
       "3            31            32            63            39            60   \n",
       "4            45            38            39            33            41   \n",
       "\n",
       "   Muestra_1496  Muestra_1497  Muestra_1498  Muestra_1499  \n",
       "0            36            23            50            69  \n",
       "1            36            26            23            31  \n",
       "2            36            29            39            35  \n",
       "3            32            48            42            59  \n",
       "4            59            48            41            35  \n",
       "\n",
       "[5 rows x 1500 columns]"
      ]
     },
     "execution_count": 7,
     "metadata": {},
     "output_type": "execute_result"
    }
   ],
   "source": [
    "for i in range(total_de_muestras):\n",
    "  _ = datos.Edad.sample(n)\n",
    "  _.index = range(0, len(_))\n",
    "  muestras['Muestra_' + str(i)] = _\n",
    "\n",
    "muestras.head(5)"
   ]
  },
  {
   "cell_type": "code",
   "execution_count": 8,
   "metadata": {},
   "outputs": [
    {
     "data": {
      "text/plain": [
       "Muestra_0       43.7855\n",
       "Muestra_1       44.5285\n",
       "Muestra_2       43.6625\n",
       "Muestra_3       43.7730\n",
       "Muestra_4       44.4585\n",
       "                 ...   \n",
       "Muestra_1495    44.2215\n",
       "Muestra_1496    43.4990\n",
       "Muestra_1497    44.3745\n",
       "Muestra_1498    44.2980\n",
       "Muestra_1499    44.3025\n",
       "Length: 1500, dtype: float64"
      ]
     },
     "execution_count": 8,
     "metadata": {},
     "output_type": "execute_result"
    }
   ],
   "source": [
    "muestras.mean()"
   ]
  },
  {
   "cell_type": "code",
   "execution_count": 9,
   "metadata": {},
   "outputs": [
    {
     "data": {
      "text/plain": [
       "<AxesSubplot: >"
      ]
     },
     "execution_count": 9,
     "metadata": {},
     "output_type": "execute_result"
    },
    {
     "data": {
      "image/png": "[encoded data removed]",
      "text/plain": [
       "<Figure size 640x480 with 1 Axes>"
      ]
     },
     "metadata": {},
     "output_type": "display_data"
    }
   ],
   "source": [
    "muestras.mean().hist()"
   ]
  },
  {
   "cell_type": "code",
   "execution_count": 10,
   "metadata": {},
   "outputs": [
    {
     "data": {
      "text/plain": [
       "44.07142113482561"
      ]
     },
     "execution_count": 10,
     "metadata": {},
     "output_type": "execute_result"
    }
   ],
   "source": [
    "datos.Edad.mean()"
   ]
  },
  {
   "cell_type": "code",
   "execution_count": 11,
   "metadata": {},
   "outputs": [
    {
     "data": {
      "text/plain": [
       "44.08173866666667"
      ]
     },
     "execution_count": 11,
     "metadata": {},
     "output_type": "execute_result"
    }
   ],
   "source": [
    "muestras.mean().mean()"
   ]
  },
  {
   "cell_type": "code",
   "execution_count": 13,
   "metadata": {},
   "outputs": [
    {
     "data": {
      "text/plain": [
       "0.26889036065949373"
      ]
     },
     "execution_count": 13,
     "metadata": {},
     "output_type": "execute_result"
    }
   ],
   "source": [
    "#desviación estandar de las medias de la muestras\n",
    "muestras.mean().std()"
   ]
  },
  {
   "cell_type": "code",
   "execution_count": 15,
   "metadata": {},
   "outputs": [
    {
     "data": {
      "text/plain": [
       "0.27907433027404266"
      ]
     },
     "execution_count": 15,
     "metadata": {},
     "output_type": "execute_result"
    }
   ],
   "source": [
    "import numpy as np\n",
    "datos.Edad.std()/np.sqrt(n)"
   ]
  },
  {
   "cell_type": "markdown",
   "metadata": {},
   "source": [
    "# Clase 25: Nivel de confianza"
   ]
  },
  {
   "cell_type": "code",
   "execution_count": null,
   "metadata": {},
   "outputs": [],
   "source": [
    "\"\"\"\n",
    "95% de confianza, 95 porciento de precisión sobre la opinión de la población. \n",
    "\"\"\""
   ]
  },
  {
   "cell_type": "code",
   "execution_count": null,
   "metadata": {},
   "outputs": [],
   "source": [
    "# error inferencial \n",
    "# e= z *delta/sqrt(n)\n",
    "\n",
    "# 1-alfa, es el área de confianza. "
   ]
  },
  {
   "cell_type": "markdown",
   "metadata": {},
   "source": [
    "Suponga que los pesos de los sacos de arroz en una industria alimentaria se distribuyen aproximadamente como una normal de desviación estándar poblacional igual a 150 g. Se seleccionó una muestra aleatoria de 20 bolsas de un lote específico, se obtuvo un peso promedio de 5.050 g. Construya un intervalo de confianza para la media poblacional suponiendo un nivel de significancia del 5 %."
   ]
  },
  {
   "cell_type": "code",
   "execution_count": 20,
   "metadata": {},
   "outputs": [
    {
     "name": "stdout",
     "output_type": "stream",
     "text": [
      "media muestral:  5050\n",
      "nivel de significancia  0.05\n",
      "confianza: 0.95\n"
     ]
    }
   ],
   "source": [
    "media_muestral = 5050\n",
    "print(\"media muestral: \",media_muestral)\n",
    "significacion = 0.05\n",
    "print(\"nivel de significancia \",significacion)\n",
    "confianza = 1 - significacion\n",
    "print(\"confianza:\", confianza)"
   ]
  },
  {
   "cell_type": "code",
   "execution_count": 23,
   "metadata": {},
   "outputs": [],
   "source": [
    "import pandas as pd\n",
    "import numpy as np\n",
    "from scipy.stats import norm\n",
    "\n",
    "tabla_estandarizada = pd.DataFrame(\n",
    "    [],\n",
    "    index=[\"{0:0.2f}\".format(i / 100) for i in range(0, 400, 10)],\n",
    "    columns = [\"{0:0.2f}\".format(i / 100) for i in range(0, 10)])\n",
    "\n",
    "for index in tabla_estandarizada.index:\n",
    "    for column in tabla_estandarizada.columns:\n",
    "        Z = np.round(float(index) + float(column), 2)\n",
    "        tabla_estandarizada.loc[index, column] = \"{0:0.4f}\".format(norm.cdf(Z))\n",
    "\n",
    "tabla_estandarizada.rename_axis('Z', axis = 'columns', inplace = True)\n"
   ]
  },
  {
   "cell_type": "code",
   "execution_count": 24,
   "metadata": {},
   "outputs": [
    {
     "data": {
      "text/html": [
       "<div>\n",
       "<style scoped>\n",
       "    .dataframe tbody tr th:only-of-type {\n",
       "        vertical-align: middle;\n",
       "    }\n",
       "\n",
       "    .dataframe tbody tr th {\n",
       "        vertical-align: top;\n",
       "    }\n",
       "\n",
       "    .dataframe thead th {\n",
       "        text-align: right;\n",
       "    }\n",
       "</style>\n",
       "<table border=\"1\" class=\"dataframe\">\n",
       "  <thead>\n",
       "    <tr style=\"text-align: right;\">\n",
       "      <th>Z</th>\n",
       "      <th>0.00</th>\n",
       "      <th>0.01</th>\n",
       "      <th>0.02</th>\n",
       "      <th>0.03</th>\n",
       "      <th>0.04</th>\n",
       "      <th>0.05</th>\n",
       "      <th>0.06</th>\n",
       "      <th>0.07</th>\n",
       "      <th>0.08</th>\n",
       "      <th>0.09</th>\n",
       "    </tr>\n",
       "  </thead>\n",
       "  <tbody>\n",
       "    <tr>\n",
       "      <th>1.60</th>\n",
       "      <td>0.9452</td>\n",
       "      <td>0.9463</td>\n",
       "      <td>0.9474</td>\n",
       "      <td>0.9484</td>\n",
       "      <td>0.9495</td>\n",
       "      <td>0.9505</td>\n",
       "      <td>0.9515</td>\n",
       "      <td>0.9525</td>\n",
       "      <td>0.9535</td>\n",
       "      <td>0.9545</td>\n",
       "    </tr>\n",
       "    <tr>\n",
       "      <th>1.70</th>\n",
       "      <td>0.9554</td>\n",
       "      <td>0.9564</td>\n",
       "      <td>0.9573</td>\n",
       "      <td>0.9582</td>\n",
       "      <td>0.9591</td>\n",
       "      <td>0.9599</td>\n",
       "      <td>0.9608</td>\n",
       "      <td>0.9616</td>\n",
       "      <td>0.9625</td>\n",
       "      <td>0.9633</td>\n",
       "    </tr>\n",
       "    <tr>\n",
       "      <th>1.80</th>\n",
       "      <td>0.9641</td>\n",
       "      <td>0.9649</td>\n",
       "      <td>0.9656</td>\n",
       "      <td>0.9664</td>\n",
       "      <td>0.9671</td>\n",
       "      <td>0.9678</td>\n",
       "      <td>0.9686</td>\n",
       "      <td>0.9693</td>\n",
       "      <td>0.9699</td>\n",
       "      <td>0.9706</td>\n",
       "    </tr>\n",
       "    <tr>\n",
       "      <th>1.90</th>\n",
       "      <td>0.9713</td>\n",
       "      <td>0.9719</td>\n",
       "      <td>0.9726</td>\n",
       "      <td>0.9732</td>\n",
       "      <td>0.9738</td>\n",
       "      <td>0.9744</td>\n",
       "      <td>0.9750</td>\n",
       "      <td>0.9756</td>\n",
       "      <td>0.9761</td>\n",
       "      <td>0.9767</td>\n",
       "    </tr>\n",
       "    <tr>\n",
       "      <th>2.00</th>\n",
       "      <td>0.9772</td>\n",
       "      <td>0.9778</td>\n",
       "      <td>0.9783</td>\n",
       "      <td>0.9788</td>\n",
       "      <td>0.9793</td>\n",
       "      <td>0.9798</td>\n",
       "      <td>0.9803</td>\n",
       "      <td>0.9808</td>\n",
       "      <td>0.9812</td>\n",
       "      <td>0.9817</td>\n",
       "    </tr>\n",
       "    <tr>\n",
       "      <th>2.10</th>\n",
       "      <td>0.9821</td>\n",
       "      <td>0.9826</td>\n",
       "      <td>0.9830</td>\n",
       "      <td>0.9834</td>\n",
       "      <td>0.9838</td>\n",
       "      <td>0.9842</td>\n",
       "      <td>0.9846</td>\n",
       "      <td>0.9850</td>\n",
       "      <td>0.9854</td>\n",
       "      <td>0.9857</td>\n",
       "    </tr>\n",
       "    <tr>\n",
       "      <th>2.20</th>\n",
       "      <td>0.9861</td>\n",
       "      <td>0.9864</td>\n",
       "      <td>0.9868</td>\n",
       "      <td>0.9871</td>\n",
       "      <td>0.9875</td>\n",
       "      <td>0.9878</td>\n",
       "      <td>0.9881</td>\n",
       "      <td>0.9884</td>\n",
       "      <td>0.9887</td>\n",
       "      <td>0.9890</td>\n",
       "    </tr>\n",
       "    <tr>\n",
       "      <th>2.30</th>\n",
       "      <td>0.9893</td>\n",
       "      <td>0.9896</td>\n",
       "      <td>0.9898</td>\n",
       "      <td>0.9901</td>\n",
       "      <td>0.9904</td>\n",
       "      <td>0.9906</td>\n",
       "      <td>0.9909</td>\n",
       "      <td>0.9911</td>\n",
       "      <td>0.9913</td>\n",
       "      <td>0.9916</td>\n",
       "    </tr>\n",
       "    <tr>\n",
       "      <th>2.40</th>\n",
       "      <td>0.9918</td>\n",
       "      <td>0.9920</td>\n",
       "      <td>0.9922</td>\n",
       "      <td>0.9925</td>\n",
       "      <td>0.9927</td>\n",
       "      <td>0.9929</td>\n",
       "      <td>0.9931</td>\n",
       "      <td>0.9932</td>\n",
       "      <td>0.9934</td>\n",
       "      <td>0.9936</td>\n",
       "    </tr>\n",
       "    <tr>\n",
       "      <th>2.50</th>\n",
       "      <td>0.9938</td>\n",
       "      <td>0.9940</td>\n",
       "      <td>0.9941</td>\n",
       "      <td>0.9943</td>\n",
       "      <td>0.9945</td>\n",
       "      <td>0.9946</td>\n",
       "      <td>0.9948</td>\n",
       "      <td>0.9949</td>\n",
       "      <td>0.9951</td>\n",
       "      <td>0.9952</td>\n",
       "    </tr>\n",
       "  </tbody>\n",
       "</table>\n",
       "</div>"
      ],
      "text/plain": [
       "Z       0.00    0.01    0.02    0.03    0.04    0.05    0.06    0.07    0.08  \\\n",
       "1.60  0.9452  0.9463  0.9474  0.9484  0.9495  0.9505  0.9515  0.9525  0.9535   \n",
       "1.70  0.9554  0.9564  0.9573  0.9582  0.9591  0.9599  0.9608  0.9616  0.9625   \n",
       "1.80  0.9641  0.9649  0.9656  0.9664  0.9671  0.9678  0.9686  0.9693  0.9699   \n",
       "1.90  0.9713  0.9719  0.9726  0.9732  0.9738  0.9744  0.9750  0.9756  0.9761   \n",
       "2.00  0.9772  0.9778  0.9783  0.9788  0.9793  0.9798  0.9803  0.9808  0.9812   \n",
       "2.10  0.9821  0.9826  0.9830  0.9834  0.9838  0.9842  0.9846  0.9850  0.9854   \n",
       "2.20  0.9861  0.9864  0.9868  0.9871  0.9875  0.9878  0.9881  0.9884  0.9887   \n",
       "2.30  0.9893  0.9896  0.9898  0.9901  0.9904  0.9906  0.9909  0.9911  0.9913   \n",
       "2.40  0.9918  0.9920  0.9922  0.9925  0.9927  0.9929  0.9931  0.9932  0.9934   \n",
       "2.50  0.9938  0.9940  0.9941  0.9943  0.9945  0.9946  0.9948  0.9949  0.9951   \n",
       "\n",
       "Z       0.09  \n",
       "1.60  0.9545  \n",
       "1.70  0.9633  \n",
       "1.80  0.9706  \n",
       "1.90  0.9767  \n",
       "2.00  0.9817  \n",
       "2.10  0.9857  \n",
       "2.20  0.9890  \n",
       "2.30  0.9916  \n",
       "2.40  0.9936  \n",
       "2.50  0.9952  "
      ]
     },
     "execution_count": 24,
     "metadata": {},
     "output_type": "execute_result"
    }
   ],
   "source": [
    "tabla_estandarizada[16:26]"
   ]
  },
  {
   "cell_type": "code",
   "execution_count": 25,
   "metadata": {},
   "outputs": [
    {
     "data": {
      "text/plain": [
       "0.975"
      ]
     },
     "execution_count": 25,
     "metadata": {},
     "output_type": "execute_result"
    }
   ],
   "source": [
    "#la probabilidad  o el area es 0.95, lo que corresponde a una z=1.64\n",
    "0.95 / 2\n",
    "0.5 + (0.95 / 2)"
   ]
  },
  {
   "cell_type": "code",
   "execution_count": 27,
   "metadata": {},
   "outputs": [
    {
     "data": {
      "text/plain": [
       "1.959963984540054"
      ]
     },
     "execution_count": 27,
     "metadata": {},
     "output_type": "execute_result"
    }
   ],
   "source": [
    "# revisamos la tabla y corresponde a 1.96\n",
    "# la siguiente manera es con la funcion ppf que dado una probabilidad \n",
    "# devuelve una z\n",
    "z=norm.ppf(0.975)\n",
    "z"
   ]
  },
  {
   "cell_type": "code",
   "execution_count": 28,
   "metadata": {},
   "outputs": [],
   "source": [
    "desviacion_estandar=150\n",
    "n=20\n",
    "raiz_n=np.sqrt(20)\n",
    "sigma= desviacion_estandar/raiz_n"
   ]
  },
  {
   "cell_type": "code",
   "execution_count": 30,
   "metadata": {},
   "outputs": [
    {
     "data": {
      "text/plain": [
       "65.73919054324361"
      ]
     },
     "execution_count": 30,
     "metadata": {},
     "output_type": "execute_result"
    }
   ],
   "source": [
    "e=z*sigma\n",
    "e"
   ]
  },
  {
   "cell_type": "code",
   "execution_count": 31,
   "metadata": {},
   "outputs": [
    {
     "data": {
      "text/plain": [
       "(4984.260809456757, 5115.739190543243)"
      ]
     },
     "execution_count": 31,
     "metadata": {},
     "output_type": "execute_result"
    }
   ],
   "source": [
    "# creando el intervalo de confianza\n",
    "intervalo =(media_muestral-e,media_muestral+e)\n",
    "\n",
    "intervalo"
   ]
  },
  {
   "cell_type": "markdown",
   "metadata": {},
   "source": []
  },
  {
   "cell_type": "code",
   "execution_count": 32,
   "metadata": {},
   "outputs": [
    {
     "data": {
      "text/plain": [
       "(4984.260809456757, 5115.739190543243)"
      ]
     },
     "execution_count": 32,
     "metadata": {},
     "output_type": "execute_result"
    }
   ],
   "source": [
    "# con \n",
    "norm.interval(confidence = 0.95, loc= media_muestral, scale = sigma )"
   ]
  },
  {
   "cell_type": "markdown",
   "metadata": {},
   "source": [
    "# Clase 27: Muestreo en poblacion infinita"
   ]
  },
  {
   "cell_type": "markdown",
   "metadata": {},
   "source": [
    "Estamos estudiando el ingreso mensual de los jefes de hogar. Nuestro supervisor ha determinado que el error máximo con relación a la media es $$$100,00. Sabemos que la desviación estándar poblacional de este grupo de trabajadores es $$$3323.39. Para un nivel de confianza del 95 %, ¿cuál debería ser el tamaño de la muestra de nuestro estudio?"
   ]
  },
  {
   "cell_type": "code",
   "execution_count": null,
   "metadata": {},
   "outputs": [],
   "source": [
    "0.95 / 2"
   ]
  },
  {
   "cell_type": "code",
   "execution_count": 38,
   "metadata": {},
   "outputs": [
    {
     "data": {
      "text/plain": [
       "0.975"
      ]
     },
     "execution_count": 38,
     "metadata": {},
     "output_type": "execute_result"
    }
   ],
   "source": [
    "0.5 + (0.95 / 2)"
   ]
  },
  {
   "cell_type": "code",
   "execution_count": 45,
   "metadata": {},
   "outputs": [
    {
     "data": {
      "text/plain": [
       "1.959963984540054"
      ]
     },
     "execution_count": 45,
     "metadata": {},
     "output_type": "execute_result"
    }
   ],
   "source": [
    "z = norm.ppf(0.975)\n",
    "z"
   ]
  },
  {
   "cell_type": "code",
   "execution_count": 46,
   "metadata": {},
   "outputs": [
    {
     "data": {
      "text/plain": [
       "3323.39"
      ]
     },
     "execution_count": 46,
     "metadata": {},
     "output_type": "execute_result"
    }
   ],
   "source": [
    "sigma = 3323.39\n",
    "sigma"
   ]
  },
  {
   "cell_type": "code",
   "execution_count": 47,
   "metadata": {},
   "outputs": [
    {
     "data": {
      "text/plain": [
       "100"
      ]
     },
     "execution_count": 47,
     "metadata": {},
     "output_type": "execute_result"
    }
   ],
   "source": [
    "\n",
    "e = 100\n",
    "e"
   ]
  },
  {
   "cell_type": "code",
   "execution_count": 50,
   "metadata": {},
   "outputs": [
    {
     "data": {
      "text/plain": [
       "4243"
      ]
     },
     "execution_count": 50,
     "metadata": {},
     "output_type": "execute_result"
    }
   ],
   "source": [
    "# Obteniendo  el valor de la muestra n\n",
    "n = (z * (sigma / e)) **2\n",
    "int(n.round())\n",
    "\n",
    "#n es un valor de muestra que respeta los parámetros establecidos"
   ]
  },
  {
   "cell_type": "markdown",
   "metadata": {},
   "source": [
    "Para población finita y variacion conocida"
   ]
  },
  {
   "cell_type": "code",
   "execution_count": 51,
   "metadata": {},
   "outputs": [],
   "source": [
    "# con desviación estandar conocida, desviación estandar no conocida."
   ]
  },
  {
   "cell_type": "code",
   "execution_count": 55,
   "metadata": {},
   "outputs": [],
   "source": [
    "# Con desviación estándar conocida\n",
    "\n",
    "N=10000\n",
    "z= norm.ppf((0.5+(0.95/2)))\n",
    "s=12\n",
    "e=5\n"
   ]
  },
  {
   "cell_type": "code",
   "execution_count": 56,
   "metadata": {},
   "outputs": [
    {
     "data": {
      "text/plain": [
       "22"
      ]
     },
     "execution_count": 56,
     "metadata": {},
     "output_type": "execute_result"
    }
   ],
   "source": [
    "n=(((z**2)*(s**2))*N)/(((z**2)*(s**2))+(e**2)*(N-1))\n",
    "\n",
    "int(n.round())"
   ]
  },
  {
   "cell_type": "code",
   "execution_count": null,
   "metadata": {},
   "outputs": [],
   "source": [
    "# Con desviación no conocida"
   ]
  },
  {
   "cell_type": "code",
   "execution_count": null,
   "metadata": {},
   "outputs": [],
   "source": [
    "e=10\n",
    "s=1092.79\n",
    "media=1426.54\n",
    "confianza=0.95"
   ]
  },
  {
   "cell_type": "code",
   "execution_count": 61,
   "metadata": {},
   "outputs": [],
   "source": [
    "renta_5000=datos.query('Renta<=5000').Renta"
   ]
  },
  {
   "cell_type": "code",
   "execution_count": 62,
   "metadata": {},
   "outputs": [
    {
     "data": {
      "text/plain": [
       "count    72109.000000\n",
       "mean      1426.537214\n",
       "std       1082.794549\n",
       "min          0.000000\n",
       "25%        788.000000\n",
       "50%       1150.000000\n",
       "75%       1900.000000\n",
       "max       5000.000000\n",
       "Name: Renta, dtype: float64"
      ]
     },
     "execution_count": 62,
     "metadata": {},
     "output_type": "execute_result"
    }
   ],
   "source": [
    "sigma=renta_5000.describe()\n",
    "sigma"
   ]
  },
  {
   "cell_type": "code",
   "execution_count": 63,
   "metadata": {},
   "outputs": [
    {
     "data": {
      "text/plain": [
       "1082.7945490306845"
      ]
     },
     "execution_count": 63,
     "metadata": {},
     "output_type": "execute_result"
    }
   ],
   "source": [
    "sigma=renta_5000.std()\n",
    "sigma"
   ]
  },
  {
   "cell_type": "code",
   "execution_count": 65,
   "metadata": {},
   "outputs": [
    {
     "data": {
      "text/plain": [
       "1426.5372144947232"
      ]
     },
     "execution_count": 65,
     "metadata": {},
     "output_type": "execute_result"
    }
   ],
   "source": [
    "media=renta_5000.mean()\n",
    "media"
   ]
  },
  {
   "cell_type": "code",
   "execution_count": 67,
   "metadata": {},
   "outputs": [
    {
     "data": {
      "text/plain": [
       "1.959963984540054"
      ]
     },
     "execution_count": 67,
     "metadata": {},
     "output_type": "execute_result"
    }
   ],
   "source": [
    "z=norm.ppf(0.975)\n",
    "z"
   ]
  },
  {
   "cell_type": "code",
   "execution_count": 69,
   "metadata": {},
   "outputs": [],
   "source": [
    "e=10\n",
    "sigma=1082.79\n",
    "media=1426.54\n",
    "confianza=0.95"
   ]
  },
  {
   "cell_type": "code",
   "execution_count": 71,
   "metadata": {},
   "outputs": [
    {
     "data": {
      "text/plain": [
       "45039"
      ]
     },
     "execution_count": 71,
     "metadata": {},
     "output_type": "execute_result"
    }
   ],
   "source": [
    "n=(z*(sigma/e))**2\n",
    "n=int(n.round())\n",
    "n"
   ]
  },
  {
   "cell_type": "code",
   "execution_count": 72,
   "metadata": {},
   "outputs": [
    {
     "data": {
      "text/plain": [
       "(1416.540047028026, 1436.539952971974)"
      ]
     },
     "execution_count": 72,
     "metadata": {},
     "output_type": "execute_result"
    }
   ],
   "source": [
    "intervalo=norm.interval(confidence=0.95,loc=media, scale=sigma/np.sqrt(n))\n",
    "intervalo"
   ]
  },
  {
   "cell_type": "code",
   "execution_count": 4,
   "metadata": {},
   "outputs": [
    {
     "data": {
      "text/plain": [
       "76840"
      ]
     },
     "execution_count": 4,
     "metadata": {},
     "output_type": "execute_result"
    }
   ],
   "source": [
    "import pandas as pd\n",
    "datos=pd.read_csv('base.csv')\n",
    "datos.shape[0]"
   ]
  },
  {
   "cell_type": "code",
   "execution_count": 5,
   "metadata": {},
   "outputs": [
    {
     "data": {
      "text/plain": [
       "2000.3831988547631"
      ]
     },
     "execution_count": 5,
     "metadata": {},
     "output_type": "execute_result"
    }
   ],
   "source": [
    "\n",
    "datos.Renta.mean()"
   ]
  },
  {
   "cell_type": "code",
   "execution_count": 8,
   "metadata": {},
   "outputs": [
    {
     "data": {
      "text/plain": [
       "1000"
      ]
     },
     "execution_count": 8,
     "metadata": {},
     "output_type": "execute_result"
    }
   ],
   "source": [
    "#seleccion de datos aleatorios\n",
    "muestra= datos.sample(n=1000, random_state=101)\n",
    "muestra.shape[0]\n"
   ]
  },
  {
   "cell_type": "code",
   "execution_count": 9,
   "metadata": {},
   "outputs": [
    {
     "data": {
      "text/plain": [
       "1998.783"
      ]
     },
     "execution_count": 9,
     "metadata": {},
     "output_type": "execute_result"
    }
   ],
   "source": [
    "muestra.Renta.mean()\n",
    "\n",
    "\"\"\"\n",
    "entre la muestra por sample y los datos totales vemos que el valor de la media\n",
    "en ambos es parecido\n",
    "\"\"\"\n"
   ]
  },
  {
   "cell_type": "code",
   "execution_count": 10,
   "metadata": {},
   "outputs": [
    {
     "data": {
      "text/plain": [
       "Sexo\n",
       "0    0.692998\n",
       "1    0.307002\n",
       "Name: proportion, dtype: float64"
      ]
     },
     "execution_count": 10,
     "metadata": {},
     "output_type": "execute_result"
    }
   ],
   "source": [
    "datos.Sexo.value_counts(normalize=True)"
   ]
  },
  {
   "cell_type": "code",
   "execution_count": 11,
   "metadata": {},
   "outputs": [
    {
     "data": {
      "text/plain": [
       "Sexo\n",
       "0    0.706\n",
       "1    0.294\n",
       "Name: proportion, dtype: float64"
      ]
     },
     "execution_count": 11,
     "metadata": {},
     "output_type": "execute_result"
    }
   ],
   "source": [
    "muestra.Sexo.value_counts(normalize=True)"
   ]
  },
  {
   "cell_type": "code",
   "execution_count": null,
   "metadata": {},
   "outputs": [],
   "source": [
    "# Muestreo estratificado\n",
    "\"Separa la población por una característica, parte de muestreo estratificado\" \n",
    "\"Dentro de cada separación se hace un muestreo simple\"\n"
   ]
  },
  {
   "cell_type": "code",
   "execution_count": 12,
   "metadata": {},
   "outputs": [
    {
     "data": {
      "text/plain": [
       "'Para división de grupos territoriales'"
      ]
     },
     "execution_count": 12,
     "metadata": {},
     "output_type": "execute_result"
    }
   ],
   "source": [
    "# Muestreo por conglomerado\n",
    "\"Para división de grupos territoriales\"\n",
    "\n"
   ]
  },
  {
   "cell_type": "code",
   "execution_count": 16,
   "metadata": {},
   "outputs": [],
   "source": [
    "n= 2000\n",
    "total_de_muestras=1500"
   ]
  },
  {
   "cell_type": "code",
   "execution_count": 14,
   "metadata": {},
   "outputs": [],
   "source": [
    "muestras = pd.DataFrame()"
   ]
  },
  {
   "cell_type": "code",
   "execution_count": 17,
   "metadata": {},
   "outputs": [
    {
     "name": "stderr",
     "output_type": "stream",
     "text": [
      "C:\\Users\\zazaz\\AppData\\Local\\Temp\\ipykernel_22132\\527239248.py:4: PerformanceWarning: DataFrame is highly fragmented.  This is usually the result of calling `frame.insert` many times, which has poor performance.  Consider joining all columns at once using pd.concat(axis=1) instead. To get a de-fragmented frame, use `newframe = frame.copy()`\n",
      "  muestras['Muestra _'+str(i)]=_\n",
      "C:\\Users\\zazaz\\AppData\\Local\\Temp\\ipykernel_22132\\527239248.py:4: PerformanceWarning: DataFrame is highly fragmented.  This is usually the result of calling `frame.insert` many times, which has poor performance.  Consider joining all columns at once using pd.concat(axis=1) instead. To get a de-fragmented frame, use `newframe = frame.copy()`\n",
      "  muestras['Muestra _'+str(i)]=_\n",
      "C:\\Users\\zazaz\\AppData\\Local\\Temp\\ipykernel_22132\\527239248.py:4: PerformanceWarning: DataFrame is highly fragmented.  This is usually the result of calling `frame.insert` many times, which has poor performance.  Consider joining all columns at once using pd.concat(axis=1) instead. To get a de-fragmented frame, use `newframe = frame.copy()`\n",
      "  muestras['Muestra _'+str(i)]=_\n",
      "C:\\Users\\zazaz\\AppData\\Local\\Temp\\ipykernel_22132\\527239248.py:4: PerformanceWarning: DataFrame is highly fragmented.  This is usually the result of calling `frame.insert` many times, which has poor performance.  Consider joining all columns at once using pd.concat(axis=1) instead. To get a de-fragmented frame, use `newframe = frame.copy()`\n",
      "  muestras['Muestra _'+str(i)]=_\n",
      "C:\\Users\\zazaz\\AppData\\Local\\Temp\\ipykernel_22132\\527239248.py:4: PerformanceWarning: DataFrame is highly fragmented.  This is usually the result of calling `frame.insert` many times, which has poor performance.  Consider joining all columns at once using pd.concat(axis=1) instead. To get a de-fragmented frame, use `newframe = frame.copy()`\n",
      "  muestras['Muestra _'+str(i)]=_\n",
      "C:\\Users\\zazaz\\AppData\\Local\\Temp\\ipykernel_22132\\527239248.py:4: PerformanceWarning: DataFrame is highly fragmented.  This is usually the result of calling `frame.insert` many times, which has poor performance.  Consider joining all columns at once using pd.concat(axis=1) instead. To get a de-fragmented frame, use `newframe = frame.copy()`\n",
      "  muestras['Muestra _'+str(i)]=_\n",
      "C:\\Users\\zazaz\\AppData\\Local\\Temp\\ipykernel_22132\\527239248.py:4: PerformanceWarning: DataFrame is highly fragmented.  This is usually the result of calling `frame.insert` many times, which has poor performance.  Consider joining all columns at once using pd.concat(axis=1) instead. To get a de-fragmented frame, use `newframe = frame.copy()`\n",
      "  muestras['Muestra _'+str(i)]=_\n",
      "C:\\Users\\zazaz\\AppData\\Local\\Temp\\ipykernel_22132\\527239248.py:4: PerformanceWarning: DataFrame is highly fragmented.  This is usually the result of calling `frame.insert` many times, which has poor performance.  Consider joining all columns at once using pd.concat(axis=1) instead. To get a de-fragmented frame, use `newframe = frame.copy()`\n",
      "  muestras['Muestra _'+str(i)]=_\n",
      "C:\\Users\\zazaz\\AppData\\Local\\Temp\\ipykernel_22132\\527239248.py:4: PerformanceWarning: DataFrame is highly fragmented.  This is usually the result of calling `frame.insert` many times, which has poor performance.  Consider joining all columns at once using pd.concat(axis=1) instead. To get a de-fragmented frame, use `newframe = frame.copy()`\n",
      "  muestras['Muestra _'+str(i)]=_\n",
      "C:\\Users\\zazaz\\AppData\\Local\\Temp\\ipykernel_22132\\527239248.py:4: PerformanceWarning: DataFrame is highly fragmented.  This is usually the result of calling `frame.insert` many times, which has poor performance.  Consider joining all columns at once using pd.concat(axis=1) instead. To get a de-fragmented frame, use `newframe = frame.copy()`\n",
      "  muestras['Muestra _'+str(i)]=_\n",
      "C:\\Users\\zazaz\\AppData\\Local\\Temp\\ipykernel_22132\\527239248.py:4: PerformanceWarning: DataFrame is highly fragmented.  This is usually the result of calling `frame.insert` many times, which has poor performance.  Consider joining all columns at once using pd.concat(axis=1) instead. To get a de-fragmented frame, use `newframe = frame.copy()`\n",
      "  muestras['Muestra _'+str(i)]=_\n",
      "C:\\Users\\zazaz\\AppData\\Local\\Temp\\ipykernel_22132\\527239248.py:4: PerformanceWarning: DataFrame is highly fragmented.  This is usually the result of calling `frame.insert` many times, which has poor performance.  Consider joining all columns at once using pd.concat(axis=1) instead. To get a de-fragmented frame, use `newframe = frame.copy()`\n",
      "  muestras['Muestra _'+str(i)]=_\n",
      "C:\\Users\\zazaz\\AppData\\Local\\Temp\\ipykernel_22132\\527239248.py:4: PerformanceWarning: DataFrame is highly fragmented.  This is usually the result of calling `frame.insert` many times, which has poor performance.  Consider joining all columns at once using pd.concat(axis=1) instead. To get a de-fragmented frame, use `newframe = frame.copy()`\n",
      "  muestras['Muestra _'+str(i)]=_\n",
      "C:\\Users\\zazaz\\AppData\\Local\\Temp\\ipykernel_22132\\527239248.py:4: PerformanceWarning: DataFrame is highly fragmented.  This is usually the result of calling `frame.insert` many times, which has poor performance.  Consider joining all columns at once using pd.concat(axis=1) instead. To get a de-fragmented frame, use `newframe = frame.copy()`\n",
      "  muestras['Muestra _'+str(i)]=_\n",
      "C:\\Users\\zazaz\\AppData\\Local\\Temp\\ipykernel_22132\\527239248.py:4: PerformanceWarning: DataFrame is highly fragmented.  This is usually the result of calling `frame.insert` many times, which has poor performance.  Consider joining all columns at once using pd.concat(axis=1) instead. To get a de-fragmented frame, use `newframe = frame.copy()`\n",
      "  muestras['Muestra _'+str(i)]=_\n",
      "C:\\Users\\zazaz\\AppData\\Local\\Temp\\ipykernel_22132\\527239248.py:4: PerformanceWarning: DataFrame is highly fragmented.  This is usually the result of calling `frame.insert` many times, which has poor performance.  Consider joining all columns at once using pd.concat(axis=1) instead. To get a de-fragmented frame, use `newframe = frame.copy()`\n",
      "  muestras['Muestra _'+str(i)]=_\n",
      "C:\\Users\\zazaz\\AppData\\Local\\Temp\\ipykernel_22132\\527239248.py:4: PerformanceWarning: DataFrame is highly fragmented.  This is usually the result of calling `frame.insert` many times, which has poor performance.  Consider joining all columns at once using pd.concat(axis=1) instead. To get a de-fragmented frame, use `newframe = frame.copy()`\n",
      "  muestras['Muestra _'+str(i)]=_\n",
      "C:\\Users\\zazaz\\AppData\\Local\\Temp\\ipykernel_22132\\527239248.py:4: PerformanceWarning: DataFrame is highly fragmented.  This is usually the result of calling `frame.insert` many times, which has poor performance.  Consider joining all columns at once using pd.concat(axis=1) instead. To get a de-fragmented frame, use `newframe = frame.copy()`\n",
      "  muestras['Muestra _'+str(i)]=_\n",
      "C:\\Users\\zazaz\\AppData\\Local\\Temp\\ipykernel_22132\\527239248.py:4: PerformanceWarning: DataFrame is highly fragmented.  This is usually the result of calling `frame.insert` many times, which has poor performance.  Consider joining all columns at once using pd.concat(axis=1) instead. To get a de-fragmented frame, use `newframe = frame.copy()`\n",
      "  muestras['Muestra _'+str(i)]=_\n",
      "C:\\Users\\zazaz\\AppData\\Local\\Temp\\ipykernel_22132\\527239248.py:4: PerformanceWarning: DataFrame is highly fragmented.  This is usually the result of calling `frame.insert` many times, which has poor performance.  Consider joining all columns at once using pd.concat(axis=1) instead. To get a de-fragmented frame, use `newframe = frame.copy()`\n",
      "  muestras['Muestra _'+str(i)]=_\n",
      "C:\\Users\\zazaz\\AppData\\Local\\Temp\\ipykernel_22132\\527239248.py:4: PerformanceWarning: DataFrame is highly fragmented.  This is usually the result of calling `frame.insert` many times, which has poor performance.  Consider joining all columns at once using pd.concat(axis=1) instead. To get a de-fragmented frame, use `newframe = frame.copy()`\n",
      "  muestras['Muestra _'+str(i)]=_\n",
      "C:\\Users\\zazaz\\AppData\\Local\\Temp\\ipykernel_22132\\527239248.py:4: PerformanceWarning: DataFrame is highly fragmented.  This is usually the result of calling `frame.insert` many times, which has poor performance.  Consider joining all columns at once using pd.concat(axis=1) instead. To get a de-fragmented frame, use `newframe = frame.copy()`\n",
      "  muestras['Muestra _'+str(i)]=_\n",
      "C:\\Users\\zazaz\\AppData\\Local\\Temp\\ipykernel_22132\\527239248.py:4: PerformanceWarning: DataFrame is highly fragmented.  This is usually the result of calling `frame.insert` many times, which has poor performance.  Consider joining all columns at once using pd.concat(axis=1) instead. To get a de-fragmented frame, use `newframe = frame.copy()`\n",
      "  muestras['Muestra _'+str(i)]=_\n",
      "C:\\Users\\zazaz\\AppData\\Local\\Temp\\ipykernel_22132\\527239248.py:4: PerformanceWarning: DataFrame is highly fragmented.  This is usually the result of calling `frame.insert` many times, which has poor performance.  Consider joining all columns at once using pd.concat(axis=1) instead. To get a de-fragmented frame, use `newframe = frame.copy()`\n",
      "  muestras['Muestra _'+str(i)]=_\n",
      "C:\\Users\\zazaz\\AppData\\Local\\Temp\\ipykernel_22132\\527239248.py:4: PerformanceWarning: DataFrame is highly fragmented.  This is usually the result of calling `frame.insert` many times, which has poor performance.  Consider joining all columns at once using pd.concat(axis=1) instead. To get a de-fragmented frame, use `newframe = frame.copy()`\n",
      "  muestras['Muestra _'+str(i)]=_\n",
      "C:\\Users\\zazaz\\AppData\\Local\\Temp\\ipykernel_22132\\527239248.py:4: PerformanceWarning: DataFrame is highly fragmented.  This is usually the result of calling `frame.insert` many times, which has poor performance.  Consider joining all columns at once using pd.concat(axis=1) instead. To get a de-fragmented frame, use `newframe = frame.copy()`\n",
      "  muestras['Muestra _'+str(i)]=_\n",
      "C:\\Users\\zazaz\\AppData\\Local\\Temp\\ipykernel_22132\\527239248.py:4: PerformanceWarning: DataFrame is highly fragmented.  This is usually the result of calling `frame.insert` many times, which has poor performance.  Consider joining all columns at once using pd.concat(axis=1) instead. To get a de-fragmented frame, use `newframe = frame.copy()`\n",
      "  muestras['Muestra _'+str(i)]=_\n",
      "C:\\Users\\zazaz\\AppData\\Local\\Temp\\ipykernel_22132\\527239248.py:4: PerformanceWarning: DataFrame is highly fragmented.  This is usually the result of calling `frame.insert` many times, which has poor performance.  Consider joining all columns at once using pd.concat(axis=1) instead. To get a de-fragmented frame, use `newframe = frame.copy()`\n",
      "  muestras['Muestra _'+str(i)]=_\n",
      "C:\\Users\\zazaz\\AppData\\Local\\Temp\\ipykernel_22132\\527239248.py:4: PerformanceWarning: DataFrame is highly fragmented.  This is usually the result of calling `frame.insert` many times, which has poor performance.  Consider joining all columns at once using pd.concat(axis=1) instead. To get a de-fragmented frame, use `newframe = frame.copy()`\n",
      "  muestras['Muestra _'+str(i)]=_\n",
      "C:\\Users\\zazaz\\AppData\\Local\\Temp\\ipykernel_22132\\527239248.py:4: PerformanceWarning: DataFrame is highly fragmented.  This is usually the result of calling `frame.insert` many times, which has poor performance.  Consider joining all columns at once using pd.concat(axis=1) instead. To get a de-fragmented frame, use `newframe = frame.copy()`\n",
      "  muestras['Muestra _'+str(i)]=_\n",
      "C:\\Users\\zazaz\\AppData\\Local\\Temp\\ipykernel_22132\\527239248.py:4: PerformanceWarning: DataFrame is highly fragmented.  This is usually the result of calling `frame.insert` many times, which has poor performance.  Consider joining all columns at once using pd.concat(axis=1) instead. To get a de-fragmented frame, use `newframe = frame.copy()`\n",
      "  muestras['Muestra _'+str(i)]=_\n",
      "C:\\Users\\zazaz\\AppData\\Local\\Temp\\ipykernel_22132\\527239248.py:4: PerformanceWarning: DataFrame is highly fragmented.  This is usually the result of calling `frame.insert` many times, which has poor performance.  Consider joining all columns at once using pd.concat(axis=1) instead. To get a de-fragmented frame, use `newframe = frame.copy()`\n",
      "  muestras['Muestra _'+str(i)]=_\n",
      "C:\\Users\\zazaz\\AppData\\Local\\Temp\\ipykernel_22132\\527239248.py:4: PerformanceWarning: DataFrame is highly fragmented.  This is usually the result of calling `frame.insert` many times, which has poor performance.  Consider joining all columns at once using pd.concat(axis=1) instead. To get a de-fragmented frame, use `newframe = frame.copy()`\n",
      "  muestras['Muestra _'+str(i)]=_\n",
      "C:\\Users\\zazaz\\AppData\\Local\\Temp\\ipykernel_22132\\527239248.py:4: PerformanceWarning: DataFrame is highly fragmented.  This is usually the result of calling `frame.insert` many times, which has poor performance.  Consider joining all columns at once using pd.concat(axis=1) instead. To get a de-fragmented frame, use `newframe = frame.copy()`\n",
      "  muestras['Muestra _'+str(i)]=_\n",
      "C:\\Users\\zazaz\\AppData\\Local\\Temp\\ipykernel_22132\\527239248.py:4: PerformanceWarning: DataFrame is highly fragmented.  This is usually the result of calling `frame.insert` many times, which has poor performance.  Consider joining all columns at once using pd.concat(axis=1) instead. To get a de-fragmented frame, use `newframe = frame.copy()`\n",
      "  muestras['Muestra _'+str(i)]=_\n",
      "C:\\Users\\zazaz\\AppData\\Local\\Temp\\ipykernel_22132\\527239248.py:4: PerformanceWarning: DataFrame is highly fragmented.  This is usually the result of calling `frame.insert` many times, which has poor performance.  Consider joining all columns at once using pd.concat(axis=1) instead. To get a de-fragmented frame, use `newframe = frame.copy()`\n",
      "  muestras['Muestra _'+str(i)]=_\n",
      "C:\\Users\\zazaz\\AppData\\Local\\Temp\\ipykernel_22132\\527239248.py:4: PerformanceWarning: DataFrame is highly fragmented.  This is usually the result of calling `frame.insert` many times, which has poor performance.  Consider joining all columns at once using pd.concat(axis=1) instead. To get a de-fragmented frame, use `newframe = frame.copy()`\n",
      "  muestras['Muestra _'+str(i)]=_\n",
      "C:\\Users\\zazaz\\AppData\\Local\\Temp\\ipykernel_22132\\527239248.py:4: PerformanceWarning: DataFrame is highly fragmented.  This is usually the result of calling `frame.insert` many times, which has poor performance.  Consider joining all columns at once using pd.concat(axis=1) instead. To get a de-fragmented frame, use `newframe = frame.copy()`\n",
      "  muestras['Muestra _'+str(i)]=_\n",
      "C:\\Users\\zazaz\\AppData\\Local\\Temp\\ipykernel_22132\\527239248.py:4: PerformanceWarning: DataFrame is highly fragmented.  This is usually the result of calling `frame.insert` many times, which has poor performance.  Consider joining all columns at once using pd.concat(axis=1) instead. To get a de-fragmented frame, use `newframe = frame.copy()`\n",
      "  muestras['Muestra _'+str(i)]=_\n",
      "C:\\Users\\zazaz\\AppData\\Local\\Temp\\ipykernel_22132\\527239248.py:4: PerformanceWarning: DataFrame is highly fragmented.  This is usually the result of calling `frame.insert` many times, which has poor performance.  Consider joining all columns at once using pd.concat(axis=1) instead. To get a de-fragmented frame, use `newframe = frame.copy()`\n",
      "  muestras['Muestra _'+str(i)]=_\n",
      "C:\\Users\\zazaz\\AppData\\Local\\Temp\\ipykernel_22132\\527239248.py:4: PerformanceWarning: DataFrame is highly fragmented.  This is usually the result of calling `frame.insert` many times, which has poor performance.  Consider joining all columns at once using pd.concat(axis=1) instead. To get a de-fragmented frame, use `newframe = frame.copy()`\n",
      "  muestras['Muestra _'+str(i)]=_\n",
      "C:\\Users\\zazaz\\AppData\\Local\\Temp\\ipykernel_22132\\527239248.py:4: PerformanceWarning: DataFrame is highly fragmented.  This is usually the result of calling `frame.insert` many times, which has poor performance.  Consider joining all columns at once using pd.concat(axis=1) instead. To get a de-fragmented frame, use `newframe = frame.copy()`\n",
      "  muestras['Muestra _'+str(i)]=_\n",
      "C:\\Users\\zazaz\\AppData\\Local\\Temp\\ipykernel_22132\\527239248.py:4: PerformanceWarning: DataFrame is highly fragmented.  This is usually the result of calling `frame.insert` many times, which has poor performance.  Consider joining all columns at once using pd.concat(axis=1) instead. To get a de-fragmented frame, use `newframe = frame.copy()`\n",
      "  muestras['Muestra _'+str(i)]=_\n",
      "C:\\Users\\zazaz\\AppData\\Local\\Temp\\ipykernel_22132\\527239248.py:4: PerformanceWarning: DataFrame is highly fragmented.  This is usually the result of calling `frame.insert` many times, which has poor performance.  Consider joining all columns at once using pd.concat(axis=1) instead. To get a de-fragmented frame, use `newframe = frame.copy()`\n",
      "  muestras['Muestra _'+str(i)]=_\n",
      "C:\\Users\\zazaz\\AppData\\Local\\Temp\\ipykernel_22132\\527239248.py:4: PerformanceWarning: DataFrame is highly fragmented.  This is usually the result of calling `frame.insert` many times, which has poor performance.  Consider joining all columns at once using pd.concat(axis=1) instead. To get a de-fragmented frame, use `newframe = frame.copy()`\n",
      "  muestras['Muestra _'+str(i)]=_\n",
      "C:\\Users\\zazaz\\AppData\\Local\\Temp\\ipykernel_22132\\527239248.py:4: PerformanceWarning: DataFrame is highly fragmented.  This is usually the result of calling `frame.insert` many times, which has poor performance.  Consider joining all columns at once using pd.concat(axis=1) instead. To get a de-fragmented frame, use `newframe = frame.copy()`\n",
      "  muestras['Muestra _'+str(i)]=_\n",
      "C:\\Users\\zazaz\\AppData\\Local\\Temp\\ipykernel_22132\\527239248.py:4: PerformanceWarning: DataFrame is highly fragmented.  This is usually the result of calling `frame.insert` many times, which has poor performance.  Consider joining all columns at once using pd.concat(axis=1) instead. To get a de-fragmented frame, use `newframe = frame.copy()`\n",
      "  muestras['Muestra _'+str(i)]=_\n",
      "C:\\Users\\zazaz\\AppData\\Local\\Temp\\ipykernel_22132\\527239248.py:4: PerformanceWarning: DataFrame is highly fragmented.  This is usually the result of calling `frame.insert` many times, which has poor performance.  Consider joining all columns at once using pd.concat(axis=1) instead. To get a de-fragmented frame, use `newframe = frame.copy()`\n",
      "  muestras['Muestra _'+str(i)]=_\n",
      "C:\\Users\\zazaz\\AppData\\Local\\Temp\\ipykernel_22132\\527239248.py:4: PerformanceWarning: DataFrame is highly fragmented.  This is usually the result of calling `frame.insert` many times, which has poor performance.  Consider joining all columns at once using pd.concat(axis=1) instead. To get a de-fragmented frame, use `newframe = frame.copy()`\n",
      "  muestras['Muestra _'+str(i)]=_\n",
      "C:\\Users\\zazaz\\AppData\\Local\\Temp\\ipykernel_22132\\527239248.py:4: PerformanceWarning: DataFrame is highly fragmented.  This is usually the result of calling `frame.insert` many times, which has poor performance.  Consider joining all columns at once using pd.concat(axis=1) instead. To get a de-fragmented frame, use `newframe = frame.copy()`\n",
      "  muestras['Muestra _'+str(i)]=_\n",
      "C:\\Users\\zazaz\\AppData\\Local\\Temp\\ipykernel_22132\\527239248.py:4: PerformanceWarning: DataFrame is highly fragmented.  This is usually the result of calling `frame.insert` many times, which has poor performance.  Consider joining all columns at once using pd.concat(axis=1) instead. To get a de-fragmented frame, use `newframe = frame.copy()`\n",
      "  muestras['Muestra _'+str(i)]=_\n",
      "C:\\Users\\zazaz\\AppData\\Local\\Temp\\ipykernel_22132\\527239248.py:4: PerformanceWarning: DataFrame is highly fragmented.  This is usually the result of calling `frame.insert` many times, which has poor performance.  Consider joining all columns at once using pd.concat(axis=1) instead. To get a de-fragmented frame, use `newframe = frame.copy()`\n",
      "  muestras['Muestra _'+str(i)]=_\n",
      "C:\\Users\\zazaz\\AppData\\Local\\Temp\\ipykernel_22132\\527239248.py:4: PerformanceWarning: DataFrame is highly fragmented.  This is usually the result of calling `frame.insert` many times, which has poor performance.  Consider joining all columns at once using pd.concat(axis=1) instead. To get a de-fragmented frame, use `newframe = frame.copy()`\n",
      "  muestras['Muestra _'+str(i)]=_\n",
      "C:\\Users\\zazaz\\AppData\\Local\\Temp\\ipykernel_22132\\527239248.py:4: PerformanceWarning: DataFrame is highly fragmented.  This is usually the result of calling `frame.insert` many times, which has poor performance.  Consider joining all columns at once using pd.concat(axis=1) instead. To get a de-fragmented frame, use `newframe = frame.copy()`\n",
      "  muestras['Muestra _'+str(i)]=_\n",
      "C:\\Users\\zazaz\\AppData\\Local\\Temp\\ipykernel_22132\\527239248.py:4: PerformanceWarning: DataFrame is highly fragmented.  This is usually the result of calling `frame.insert` many times, which has poor performance.  Consider joining all columns at once using pd.concat(axis=1) instead. To get a de-fragmented frame, use `newframe = frame.copy()`\n",
      "  muestras['Muestra _'+str(i)]=_\n",
      "C:\\Users\\zazaz\\AppData\\Local\\Temp\\ipykernel_22132\\527239248.py:4: PerformanceWarning: DataFrame is highly fragmented.  This is usually the result of calling `frame.insert` many times, which has poor performance.  Consider joining all columns at once using pd.concat(axis=1) instead. To get a de-fragmented frame, use `newframe = frame.copy()`\n",
      "  muestras['Muestra _'+str(i)]=_\n",
      "C:\\Users\\zazaz\\AppData\\Local\\Temp\\ipykernel_22132\\527239248.py:4: PerformanceWarning: DataFrame is highly fragmented.  This is usually the result of calling `frame.insert` many times, which has poor performance.  Consider joining all columns at once using pd.concat(axis=1) instead. To get a de-fragmented frame, use `newframe = frame.copy()`\n",
      "  muestras['Muestra _'+str(i)]=_\n",
      "C:\\Users\\zazaz\\AppData\\Local\\Temp\\ipykernel_22132\\527239248.py:4: PerformanceWarning: DataFrame is highly fragmented.  This is usually the result of calling `frame.insert` many times, which has poor performance.  Consider joining all columns at once using pd.concat(axis=1) instead. To get a de-fragmented frame, use `newframe = frame.copy()`\n",
      "  muestras['Muestra _'+str(i)]=_\n",
      "C:\\Users\\zazaz\\AppData\\Local\\Temp\\ipykernel_22132\\527239248.py:4: PerformanceWarning: DataFrame is highly fragmented.  This is usually the result of calling `frame.insert` many times, which has poor performance.  Consider joining all columns at once using pd.concat(axis=1) instead. To get a de-fragmented frame, use `newframe = frame.copy()`\n",
      "  muestras['Muestra _'+str(i)]=_\n",
      "C:\\Users\\zazaz\\AppData\\Local\\Temp\\ipykernel_22132\\527239248.py:4: PerformanceWarning: DataFrame is highly fragmented.  This is usually the result of calling `frame.insert` many times, which has poor performance.  Consider joining all columns at once using pd.concat(axis=1) instead. To get a de-fragmented frame, use `newframe = frame.copy()`\n",
      "  muestras['Muestra _'+str(i)]=_\n",
      "C:\\Users\\zazaz\\AppData\\Local\\Temp\\ipykernel_22132\\527239248.py:4: PerformanceWarning: DataFrame is highly fragmented.  This is usually the result of calling `frame.insert` many times, which has poor performance.  Consider joining all columns at once using pd.concat(axis=1) instead. To get a de-fragmented frame, use `newframe = frame.copy()`\n",
      "  muestras['Muestra _'+str(i)]=_\n",
      "C:\\Users\\zazaz\\AppData\\Local\\Temp\\ipykernel_22132\\527239248.py:4: PerformanceWarning: DataFrame is highly fragmented.  This is usually the result of calling `frame.insert` many times, which has poor performance.  Consider joining all columns at once using pd.concat(axis=1) instead. To get a de-fragmented frame, use `newframe = frame.copy()`\n",
      "  muestras['Muestra _'+str(i)]=_\n",
      "C:\\Users\\zazaz\\AppData\\Local\\Temp\\ipykernel_22132\\527239248.py:4: PerformanceWarning: DataFrame is highly fragmented.  This is usually the result of calling `frame.insert` many times, which has poor performance.  Consider joining all columns at once using pd.concat(axis=1) instead. To get a de-fragmented frame, use `newframe = frame.copy()`\n",
      "  muestras['Muestra _'+str(i)]=_\n",
      "C:\\Users\\zazaz\\AppData\\Local\\Temp\\ipykernel_22132\\527239248.py:4: PerformanceWarning: DataFrame is highly fragmented.  This is usually the result of calling `frame.insert` many times, which has poor performance.  Consider joining all columns at once using pd.concat(axis=1) instead. To get a de-fragmented frame, use `newframe = frame.copy()`\n",
      "  muestras['Muestra _'+str(i)]=_\n",
      "C:\\Users\\zazaz\\AppData\\Local\\Temp\\ipykernel_22132\\527239248.py:4: PerformanceWarning: DataFrame is highly fragmented.  This is usually the result of calling `frame.insert` many times, which has poor performance.  Consider joining all columns at once using pd.concat(axis=1) instead. To get a de-fragmented frame, use `newframe = frame.copy()`\n",
      "  muestras['Muestra _'+str(i)]=_\n",
      "C:\\Users\\zazaz\\AppData\\Local\\Temp\\ipykernel_22132\\527239248.py:4: PerformanceWarning: DataFrame is highly fragmented.  This is usually the result of calling `frame.insert` many times, which has poor performance.  Consider joining all columns at once using pd.concat(axis=1) instead. To get a de-fragmented frame, use `newframe = frame.copy()`\n",
      "  muestras['Muestra _'+str(i)]=_\n",
      "C:\\Users\\zazaz\\AppData\\Local\\Temp\\ipykernel_22132\\527239248.py:4: PerformanceWarning: DataFrame is highly fragmented.  This is usually the result of calling `frame.insert` many times, which has poor performance.  Consider joining all columns at once using pd.concat(axis=1) instead. To get a de-fragmented frame, use `newframe = frame.copy()`\n",
      "  muestras['Muestra _'+str(i)]=_\n",
      "C:\\Users\\zazaz\\AppData\\Local\\Temp\\ipykernel_22132\\527239248.py:4: PerformanceWarning: DataFrame is highly fragmented.  This is usually the result of calling `frame.insert` many times, which has poor performance.  Consider joining all columns at once using pd.concat(axis=1) instead. To get a de-fragmented frame, use `newframe = frame.copy()`\n",
      "  muestras['Muestra _'+str(i)]=_\n",
      "C:\\Users\\zazaz\\AppData\\Local\\Temp\\ipykernel_22132\\527239248.py:4: PerformanceWarning: DataFrame is highly fragmented.  This is usually the result of calling `frame.insert` many times, which has poor performance.  Consider joining all columns at once using pd.concat(axis=1) instead. To get a de-fragmented frame, use `newframe = frame.copy()`\n",
      "  muestras['Muestra _'+str(i)]=_\n",
      "C:\\Users\\zazaz\\AppData\\Local\\Temp\\ipykernel_22132\\527239248.py:4: PerformanceWarning: DataFrame is highly fragmented.  This is usually the result of calling `frame.insert` many times, which has poor performance.  Consider joining all columns at once using pd.concat(axis=1) instead. To get a de-fragmented frame, use `newframe = frame.copy()`\n",
      "  muestras['Muestra _'+str(i)]=_\n",
      "C:\\Users\\zazaz\\AppData\\Local\\Temp\\ipykernel_22132\\527239248.py:4: PerformanceWarning: DataFrame is highly fragmented.  This is usually the result of calling `frame.insert` many times, which has poor performance.  Consider joining all columns at once using pd.concat(axis=1) instead. To get a de-fragmented frame, use `newframe = frame.copy()`\n",
      "  muestras['Muestra _'+str(i)]=_\n",
      "C:\\Users\\zazaz\\AppData\\Local\\Temp\\ipykernel_22132\\527239248.py:4: PerformanceWarning: DataFrame is highly fragmented.  This is usually the result of calling `frame.insert` many times, which has poor performance.  Consider joining all columns at once using pd.concat(axis=1) instead. To get a de-fragmented frame, use `newframe = frame.copy()`\n",
      "  muestras['Muestra _'+str(i)]=_\n",
      "C:\\Users\\zazaz\\AppData\\Local\\Temp\\ipykernel_22132\\527239248.py:4: PerformanceWarning: DataFrame is highly fragmented.  This is usually the result of calling `frame.insert` many times, which has poor performance.  Consider joining all columns at once using pd.concat(axis=1) instead. To get a de-fragmented frame, use `newframe = frame.copy()`\n",
      "  muestras['Muestra _'+str(i)]=_\n",
      "C:\\Users\\zazaz\\AppData\\Local\\Temp\\ipykernel_22132\\527239248.py:4: PerformanceWarning: DataFrame is highly fragmented.  This is usually the result of calling `frame.insert` many times, which has poor performance.  Consider joining all columns at once using pd.concat(axis=1) instead. To get a de-fragmented frame, use `newframe = frame.copy()`\n",
      "  muestras['Muestra _'+str(i)]=_\n",
      "C:\\Users\\zazaz\\AppData\\Local\\Temp\\ipykernel_22132\\527239248.py:4: PerformanceWarning: DataFrame is highly fragmented.  This is usually the result of calling `frame.insert` many times, which has poor performance.  Consider joining all columns at once using pd.concat(axis=1) instead. To get a de-fragmented frame, use `newframe = frame.copy()`\n",
      "  muestras['Muestra _'+str(i)]=_\n",
      "C:\\Users\\zazaz\\AppData\\Local\\Temp\\ipykernel_22132\\527239248.py:4: PerformanceWarning: DataFrame is highly fragmented.  This is usually the result of calling `frame.insert` many times, which has poor performance.  Consider joining all columns at once using pd.concat(axis=1) instead. To get a de-fragmented frame, use `newframe = frame.copy()`\n",
      "  muestras['Muestra _'+str(i)]=_\n",
      "C:\\Users\\zazaz\\AppData\\Local\\Temp\\ipykernel_22132\\527239248.py:4: PerformanceWarning: DataFrame is highly fragmented.  This is usually the result of calling `frame.insert` many times, which has poor performance.  Consider joining all columns at once using pd.concat(axis=1) instead. To get a de-fragmented frame, use `newframe = frame.copy()`\n",
      "  muestras['Muestra _'+str(i)]=_\n",
      "C:\\Users\\zazaz\\AppData\\Local\\Temp\\ipykernel_22132\\527239248.py:4: PerformanceWarning: DataFrame is highly fragmented.  This is usually the result of calling `frame.insert` many times, which has poor performance.  Consider joining all columns at once using pd.concat(axis=1) instead. To get a de-fragmented frame, use `newframe = frame.copy()`\n",
      "  muestras['Muestra _'+str(i)]=_\n",
      "C:\\Users\\zazaz\\AppData\\Local\\Temp\\ipykernel_22132\\527239248.py:4: PerformanceWarning: DataFrame is highly fragmented.  This is usually the result of calling `frame.insert` many times, which has poor performance.  Consider joining all columns at once using pd.concat(axis=1) instead. To get a de-fragmented frame, use `newframe = frame.copy()`\n",
      "  muestras['Muestra _'+str(i)]=_\n",
      "C:\\Users\\zazaz\\AppData\\Local\\Temp\\ipykernel_22132\\527239248.py:4: PerformanceWarning: DataFrame is highly fragmented.  This is usually the result of calling `frame.insert` many times, which has poor performance.  Consider joining all columns at once using pd.concat(axis=1) instead. To get a de-fragmented frame, use `newframe = frame.copy()`\n",
      "  muestras['Muestra _'+str(i)]=_\n",
      "C:\\Users\\zazaz\\AppData\\Local\\Temp\\ipykernel_22132\\527239248.py:4: PerformanceWarning: DataFrame is highly fragmented.  This is usually the result of calling `frame.insert` many times, which has poor performance.  Consider joining all columns at once using pd.concat(axis=1) instead. To get a de-fragmented frame, use `newframe = frame.copy()`\n",
      "  muestras['Muestra _'+str(i)]=_\n",
      "C:\\Users\\zazaz\\AppData\\Local\\Temp\\ipykernel_22132\\527239248.py:4: PerformanceWarning: DataFrame is highly fragmented.  This is usually the result of calling `frame.insert` many times, which has poor performance.  Consider joining all columns at once using pd.concat(axis=1) instead. To get a de-fragmented frame, use `newframe = frame.copy()`\n",
      "  muestras['Muestra _'+str(i)]=_\n",
      "C:\\Users\\zazaz\\AppData\\Local\\Temp\\ipykernel_22132\\527239248.py:4: PerformanceWarning: DataFrame is highly fragmented.  This is usually the result of calling `frame.insert` many times, which has poor performance.  Consider joining all columns at once using pd.concat(axis=1) instead. To get a de-fragmented frame, use `newframe = frame.copy()`\n",
      "  muestras['Muestra _'+str(i)]=_\n",
      "C:\\Users\\zazaz\\AppData\\Local\\Temp\\ipykernel_22132\\527239248.py:4: PerformanceWarning: DataFrame is highly fragmented.  This is usually the result of calling `frame.insert` many times, which has poor performance.  Consider joining all columns at once using pd.concat(axis=1) instead. To get a de-fragmented frame, use `newframe = frame.copy()`\n",
      "  muestras['Muestra _'+str(i)]=_\n",
      "C:\\Users\\zazaz\\AppData\\Local\\Temp\\ipykernel_22132\\527239248.py:4: PerformanceWarning: DataFrame is highly fragmented.  This is usually the result of calling `frame.insert` many times, which has poor performance.  Consider joining all columns at once using pd.concat(axis=1) instead. To get a de-fragmented frame, use `newframe = frame.copy()`\n",
      "  muestras['Muestra _'+str(i)]=_\n",
      "C:\\Users\\zazaz\\AppData\\Local\\Temp\\ipykernel_22132\\527239248.py:4: PerformanceWarning: DataFrame is highly fragmented.  This is usually the result of calling `frame.insert` many times, which has poor performance.  Consider joining all columns at once using pd.concat(axis=1) instead. To get a de-fragmented frame, use `newframe = frame.copy()`\n",
      "  muestras['Muestra _'+str(i)]=_\n",
      "C:\\Users\\zazaz\\AppData\\Local\\Temp\\ipykernel_22132\\527239248.py:4: PerformanceWarning: DataFrame is highly fragmented.  This is usually the result of calling `frame.insert` many times, which has poor performance.  Consider joining all columns at once using pd.concat(axis=1) instead. To get a de-fragmented frame, use `newframe = frame.copy()`\n",
      "  muestras['Muestra _'+str(i)]=_\n",
      "C:\\Users\\zazaz\\AppData\\Local\\Temp\\ipykernel_22132\\527239248.py:4: PerformanceWarning: DataFrame is highly fragmented.  This is usually the result of calling `frame.insert` many times, which has poor performance.  Consider joining all columns at once using pd.concat(axis=1) instead. To get a de-fragmented frame, use `newframe = frame.copy()`\n",
      "  muestras['Muestra _'+str(i)]=_\n",
      "C:\\Users\\zazaz\\AppData\\Local\\Temp\\ipykernel_22132\\527239248.py:4: PerformanceWarning: DataFrame is highly fragmented.  This is usually the result of calling `frame.insert` many times, which has poor performance.  Consider joining all columns at once using pd.concat(axis=1) instead. To get a de-fragmented frame, use `newframe = frame.copy()`\n",
      "  muestras['Muestra _'+str(i)]=_\n",
      "C:\\Users\\zazaz\\AppData\\Local\\Temp\\ipykernel_22132\\527239248.py:4: PerformanceWarning: DataFrame is highly fragmented.  This is usually the result of calling `frame.insert` many times, which has poor performance.  Consider joining all columns at once using pd.concat(axis=1) instead. To get a de-fragmented frame, use `newframe = frame.copy()`\n",
      "  muestras['Muestra _'+str(i)]=_\n",
      "C:\\Users\\zazaz\\AppData\\Local\\Temp\\ipykernel_22132\\527239248.py:4: PerformanceWarning: DataFrame is highly fragmented.  This is usually the result of calling `frame.insert` many times, which has poor performance.  Consider joining all columns at once using pd.concat(axis=1) instead. To get a de-fragmented frame, use `newframe = frame.copy()`\n",
      "  muestras['Muestra _'+str(i)]=_\n",
      "C:\\Users\\zazaz\\AppData\\Local\\Temp\\ipykernel_22132\\527239248.py:4: PerformanceWarning: DataFrame is highly fragmented.  This is usually the result of calling `frame.insert` many times, which has poor performance.  Consider joining all columns at once using pd.concat(axis=1) instead. To get a de-fragmented frame, use `newframe = frame.copy()`\n",
      "  muestras['Muestra _'+str(i)]=_\n",
      "C:\\Users\\zazaz\\AppData\\Local\\Temp\\ipykernel_22132\\527239248.py:4: PerformanceWarning: DataFrame is highly fragmented.  This is usually the result of calling `frame.insert` many times, which has poor performance.  Consider joining all columns at once using pd.concat(axis=1) instead. To get a de-fragmented frame, use `newframe = frame.copy()`\n",
      "  muestras['Muestra _'+str(i)]=_\n",
      "C:\\Users\\zazaz\\AppData\\Local\\Temp\\ipykernel_22132\\527239248.py:4: PerformanceWarning: DataFrame is highly fragmented.  This is usually the result of calling `frame.insert` many times, which has poor performance.  Consider joining all columns at once using pd.concat(axis=1) instead. To get a de-fragmented frame, use `newframe = frame.copy()`\n",
      "  muestras['Muestra _'+str(i)]=_\n",
      "C:\\Users\\zazaz\\AppData\\Local\\Temp\\ipykernel_22132\\527239248.py:4: PerformanceWarning: DataFrame is highly fragmented.  This is usually the result of calling `frame.insert` many times, which has poor performance.  Consider joining all columns at once using pd.concat(axis=1) instead. To get a de-fragmented frame, use `newframe = frame.copy()`\n",
      "  muestras['Muestra _'+str(i)]=_\n",
      "C:\\Users\\zazaz\\AppData\\Local\\Temp\\ipykernel_22132\\527239248.py:4: PerformanceWarning: DataFrame is highly fragmented.  This is usually the result of calling `frame.insert` many times, which has poor performance.  Consider joining all columns at once using pd.concat(axis=1) instead. To get a de-fragmented frame, use `newframe = frame.copy()`\n",
      "  muestras['Muestra _'+str(i)]=_\n",
      "C:\\Users\\zazaz\\AppData\\Local\\Temp\\ipykernel_22132\\527239248.py:4: PerformanceWarning: DataFrame is highly fragmented.  This is usually the result of calling `frame.insert` many times, which has poor performance.  Consider joining all columns at once using pd.concat(axis=1) instead. To get a de-fragmented frame, use `newframe = frame.copy()`\n",
      "  muestras['Muestra _'+str(i)]=_\n",
      "C:\\Users\\zazaz\\AppData\\Local\\Temp\\ipykernel_22132\\527239248.py:4: PerformanceWarning: DataFrame is highly fragmented.  This is usually the result of calling `frame.insert` many times, which has poor performance.  Consider joining all columns at once using pd.concat(axis=1) instead. To get a de-fragmented frame, use `newframe = frame.copy()`\n",
      "  muestras['Muestra _'+str(i)]=_\n",
      "C:\\Users\\zazaz\\AppData\\Local\\Temp\\ipykernel_22132\\527239248.py:4: PerformanceWarning: DataFrame is highly fragmented.  This is usually the result of calling `frame.insert` many times, which has poor performance.  Consider joining all columns at once using pd.concat(axis=1) instead. To get a de-fragmented frame, use `newframe = frame.copy()`\n",
      "  muestras['Muestra _'+str(i)]=_\n",
      "C:\\Users\\zazaz\\AppData\\Local\\Temp\\ipykernel_22132\\527239248.py:4: PerformanceWarning: DataFrame is highly fragmented.  This is usually the result of calling `frame.insert` many times, which has poor performance.  Consider joining all columns at once using pd.concat(axis=1) instead. To get a de-fragmented frame, use `newframe = frame.copy()`\n",
      "  muestras['Muestra _'+str(i)]=_\n",
      "C:\\Users\\zazaz\\AppData\\Local\\Temp\\ipykernel_22132\\527239248.py:4: PerformanceWarning: DataFrame is highly fragmented.  This is usually the result of calling `frame.insert` many times, which has poor performance.  Consider joining all columns at once using pd.concat(axis=1) instead. To get a de-fragmented frame, use `newframe = frame.copy()`\n",
      "  muestras['Muestra _'+str(i)]=_\n",
      "C:\\Users\\zazaz\\AppData\\Local\\Temp\\ipykernel_22132\\527239248.py:4: PerformanceWarning: DataFrame is highly fragmented.  This is usually the result of calling `frame.insert` many times, which has poor performance.  Consider joining all columns at once using pd.concat(axis=1) instead. To get a de-fragmented frame, use `newframe = frame.copy()`\n",
      "  muestras['Muestra _'+str(i)]=_\n",
      "C:\\Users\\zazaz\\AppData\\Local\\Temp\\ipykernel_22132\\527239248.py:4: PerformanceWarning: DataFrame is highly fragmented.  This is usually the result of calling `frame.insert` many times, which has poor performance.  Consider joining all columns at once using pd.concat(axis=1) instead. To get a de-fragmented frame, use `newframe = frame.copy()`\n",
      "  muestras['Muestra _'+str(i)]=_\n",
      "C:\\Users\\zazaz\\AppData\\Local\\Temp\\ipykernel_22132\\527239248.py:4: PerformanceWarning: DataFrame is highly fragmented.  This is usually the result of calling `frame.insert` many times, which has poor performance.  Consider joining all columns at once using pd.concat(axis=1) instead. To get a de-fragmented frame, use `newframe = frame.copy()`\n",
      "  muestras['Muestra _'+str(i)]=_\n",
      "C:\\Users\\zazaz\\AppData\\Local\\Temp\\ipykernel_22132\\527239248.py:4: PerformanceWarning: DataFrame is highly fragmented.  This is usually the result of calling `frame.insert` many times, which has poor performance.  Consider joining all columns at once using pd.concat(axis=1) instead. To get a de-fragmented frame, use `newframe = frame.copy()`\n",
      "  muestras['Muestra _'+str(i)]=_\n",
      "C:\\Users\\zazaz\\AppData\\Local\\Temp\\ipykernel_22132\\527239248.py:4: PerformanceWarning: DataFrame is highly fragmented.  This is usually the result of calling `frame.insert` many times, which has poor performance.  Consider joining all columns at once using pd.concat(axis=1) instead. To get a de-fragmented frame, use `newframe = frame.copy()`\n",
      "  muestras['Muestra _'+str(i)]=_\n",
      "C:\\Users\\zazaz\\AppData\\Local\\Temp\\ipykernel_22132\\527239248.py:4: PerformanceWarning: DataFrame is highly fragmented.  This is usually the result of calling `frame.insert` many times, which has poor performance.  Consider joining all columns at once using pd.concat(axis=1) instead. To get a de-fragmented frame, use `newframe = frame.copy()`\n",
      "  muestras['Muestra _'+str(i)]=_\n",
      "C:\\Users\\zazaz\\AppData\\Local\\Temp\\ipykernel_22132\\527239248.py:4: PerformanceWarning: DataFrame is highly fragmented.  This is usually the result of calling `frame.insert` many times, which has poor performance.  Consider joining all columns at once using pd.concat(axis=1) instead. To get a de-fragmented frame, use `newframe = frame.copy()`\n",
      "  muestras['Muestra _'+str(i)]=_\n",
      "C:\\Users\\zazaz\\AppData\\Local\\Temp\\ipykernel_22132\\527239248.py:4: PerformanceWarning: DataFrame is highly fragmented.  This is usually the result of calling `frame.insert` many times, which has poor performance.  Consider joining all columns at once using pd.concat(axis=1) instead. To get a de-fragmented frame, use `newframe = frame.copy()`\n",
      "  muestras['Muestra _'+str(i)]=_\n",
      "C:\\Users\\zazaz\\AppData\\Local\\Temp\\ipykernel_22132\\527239248.py:4: PerformanceWarning: DataFrame is highly fragmented.  This is usually the result of calling `frame.insert` many times, which has poor performance.  Consider joining all columns at once using pd.concat(axis=1) instead. To get a de-fragmented frame, use `newframe = frame.copy()`\n",
      "  muestras['Muestra _'+str(i)]=_\n",
      "C:\\Users\\zazaz\\AppData\\Local\\Temp\\ipykernel_22132\\527239248.py:4: PerformanceWarning: DataFrame is highly fragmented.  This is usually the result of calling `frame.insert` many times, which has poor performance.  Consider joining all columns at once using pd.concat(axis=1) instead. To get a de-fragmented frame, use `newframe = frame.copy()`\n",
      "  muestras['Muestra _'+str(i)]=_\n",
      "C:\\Users\\zazaz\\AppData\\Local\\Temp\\ipykernel_22132\\527239248.py:4: PerformanceWarning: DataFrame is highly fragmented.  This is usually the result of calling `frame.insert` many times, which has poor performance.  Consider joining all columns at once using pd.concat(axis=1) instead. To get a de-fragmented frame, use `newframe = frame.copy()`\n",
      "  muestras['Muestra _'+str(i)]=_\n",
      "C:\\Users\\zazaz\\AppData\\Local\\Temp\\ipykernel_22132\\527239248.py:4: PerformanceWarning: DataFrame is highly fragmented.  This is usually the result of calling `frame.insert` many times, which has poor performance.  Consider joining all columns at once using pd.concat(axis=1) instead. To get a de-fragmented frame, use `newframe = frame.copy()`\n",
      "  muestras['Muestra _'+str(i)]=_\n",
      "C:\\Users\\zazaz\\AppData\\Local\\Temp\\ipykernel_22132\\527239248.py:4: PerformanceWarning: DataFrame is highly fragmented.  This is usually the result of calling `frame.insert` many times, which has poor performance.  Consider joining all columns at once using pd.concat(axis=1) instead. To get a de-fragmented frame, use `newframe = frame.copy()`\n",
      "  muestras['Muestra _'+str(i)]=_\n",
      "C:\\Users\\zazaz\\AppData\\Local\\Temp\\ipykernel_22132\\527239248.py:4: PerformanceWarning: DataFrame is highly fragmented.  This is usually the result of calling `frame.insert` many times, which has poor performance.  Consider joining all columns at once using pd.concat(axis=1) instead. To get a de-fragmented frame, use `newframe = frame.copy()`\n",
      "  muestras['Muestra _'+str(i)]=_\n",
      "C:\\Users\\zazaz\\AppData\\Local\\Temp\\ipykernel_22132\\527239248.py:4: PerformanceWarning: DataFrame is highly fragmented.  This is usually the result of calling `frame.insert` many times, which has poor performance.  Consider joining all columns at once using pd.concat(axis=1) instead. To get a de-fragmented frame, use `newframe = frame.copy()`\n",
      "  muestras['Muestra _'+str(i)]=_\n",
      "C:\\Users\\zazaz\\AppData\\Local\\Temp\\ipykernel_22132\\527239248.py:4: PerformanceWarning: DataFrame is highly fragmented.  This is usually the result of calling `frame.insert` many times, which has poor performance.  Consider joining all columns at once using pd.concat(axis=1) instead. To get a de-fragmented frame, use `newframe = frame.copy()`\n",
      "  muestras['Muestra _'+str(i)]=_\n",
      "C:\\Users\\zazaz\\AppData\\Local\\Temp\\ipykernel_22132\\527239248.py:4: PerformanceWarning: DataFrame is highly fragmented.  This is usually the result of calling `frame.insert` many times, which has poor performance.  Consider joining all columns at once using pd.concat(axis=1) instead. To get a de-fragmented frame, use `newframe = frame.copy()`\n",
      "  muestras['Muestra _'+str(i)]=_\n",
      "C:\\Users\\zazaz\\AppData\\Local\\Temp\\ipykernel_22132\\527239248.py:4: PerformanceWarning: DataFrame is highly fragmented.  This is usually the result of calling `frame.insert` many times, which has poor performance.  Consider joining all columns at once using pd.concat(axis=1) instead. To get a de-fragmented frame, use `newframe = frame.copy()`\n",
      "  muestras['Muestra _'+str(i)]=_\n",
      "C:\\Users\\zazaz\\AppData\\Local\\Temp\\ipykernel_22132\\527239248.py:4: PerformanceWarning: DataFrame is highly fragmented.  This is usually the result of calling `frame.insert` many times, which has poor performance.  Consider joining all columns at once using pd.concat(axis=1) instead. To get a de-fragmented frame, use `newframe = frame.copy()`\n",
      "  muestras['Muestra _'+str(i)]=_\n",
      "C:\\Users\\zazaz\\AppData\\Local\\Temp\\ipykernel_22132\\527239248.py:4: PerformanceWarning: DataFrame is highly fragmented.  This is usually the result of calling `frame.insert` many times, which has poor performance.  Consider joining all columns at once using pd.concat(axis=1) instead. To get a de-fragmented frame, use `newframe = frame.copy()`\n",
      "  muestras['Muestra _'+str(i)]=_\n",
      "C:\\Users\\zazaz\\AppData\\Local\\Temp\\ipykernel_22132\\527239248.py:4: PerformanceWarning: DataFrame is highly fragmented.  This is usually the result of calling `frame.insert` many times, which has poor performance.  Consider joining all columns at once using pd.concat(axis=1) instead. To get a de-fragmented frame, use `newframe = frame.copy()`\n",
      "  muestras['Muestra _'+str(i)]=_\n",
      "C:\\Users\\zazaz\\AppData\\Local\\Temp\\ipykernel_22132\\527239248.py:4: PerformanceWarning: DataFrame is highly fragmented.  This is usually the result of calling `frame.insert` many times, which has poor performance.  Consider joining all columns at once using pd.concat(axis=1) instead. To get a de-fragmented frame, use `newframe = frame.copy()`\n",
      "  muestras['Muestra _'+str(i)]=_\n",
      "C:\\Users\\zazaz\\AppData\\Local\\Temp\\ipykernel_22132\\527239248.py:4: PerformanceWarning: DataFrame is highly fragmented.  This is usually the result of calling `frame.insert` many times, which has poor performance.  Consider joining all columns at once using pd.concat(axis=1) instead. To get a de-fragmented frame, use `newframe = frame.copy()`\n",
      "  muestras['Muestra _'+str(i)]=_\n",
      "C:\\Users\\zazaz\\AppData\\Local\\Temp\\ipykernel_22132\\527239248.py:4: PerformanceWarning: DataFrame is highly fragmented.  This is usually the result of calling `frame.insert` many times, which has poor performance.  Consider joining all columns at once using pd.concat(axis=1) instead. To get a de-fragmented frame, use `newframe = frame.copy()`\n",
      "  muestras['Muestra _'+str(i)]=_\n",
      "C:\\Users\\zazaz\\AppData\\Local\\Temp\\ipykernel_22132\\527239248.py:4: PerformanceWarning: DataFrame is highly fragmented.  This is usually the result of calling `frame.insert` many times, which has poor performance.  Consider joining all columns at once using pd.concat(axis=1) instead. To get a de-fragmented frame, use `newframe = frame.copy()`\n",
      "  muestras['Muestra _'+str(i)]=_\n",
      "C:\\Users\\zazaz\\AppData\\Local\\Temp\\ipykernel_22132\\527239248.py:4: PerformanceWarning: DataFrame is highly fragmented.  This is usually the result of calling `frame.insert` many times, which has poor performance.  Consider joining all columns at once using pd.concat(axis=1) instead. To get a de-fragmented frame, use `newframe = frame.copy()`\n",
      "  muestras['Muestra _'+str(i)]=_\n",
      "C:\\Users\\zazaz\\AppData\\Local\\Temp\\ipykernel_22132\\527239248.py:4: PerformanceWarning: DataFrame is highly fragmented.  This is usually the result of calling `frame.insert` many times, which has poor performance.  Consider joining all columns at once using pd.concat(axis=1) instead. To get a de-fragmented frame, use `newframe = frame.copy()`\n",
      "  muestras['Muestra _'+str(i)]=_\n",
      "C:\\Users\\zazaz\\AppData\\Local\\Temp\\ipykernel_22132\\527239248.py:4: PerformanceWarning: DataFrame is highly fragmented.  This is usually the result of calling `frame.insert` many times, which has poor performance.  Consider joining all columns at once using pd.concat(axis=1) instead. To get a de-fragmented frame, use `newframe = frame.copy()`\n",
      "  muestras['Muestra _'+str(i)]=_\n",
      "C:\\Users\\zazaz\\AppData\\Local\\Temp\\ipykernel_22132\\527239248.py:4: PerformanceWarning: DataFrame is highly fragmented.  This is usually the result of calling `frame.insert` many times, which has poor performance.  Consider joining all columns at once using pd.concat(axis=1) instead. To get a de-fragmented frame, use `newframe = frame.copy()`\n",
      "  muestras['Muestra _'+str(i)]=_\n",
      "C:\\Users\\zazaz\\AppData\\Local\\Temp\\ipykernel_22132\\527239248.py:4: PerformanceWarning: DataFrame is highly fragmented.  This is usually the result of calling `frame.insert` many times, which has poor performance.  Consider joining all columns at once using pd.concat(axis=1) instead. To get a de-fragmented frame, use `newframe = frame.copy()`\n",
      "  muestras['Muestra _'+str(i)]=_\n",
      "C:\\Users\\zazaz\\AppData\\Local\\Temp\\ipykernel_22132\\527239248.py:4: PerformanceWarning: DataFrame is highly fragmented.  This is usually the result of calling `frame.insert` many times, which has poor performance.  Consider joining all columns at once using pd.concat(axis=1) instead. To get a de-fragmented frame, use `newframe = frame.copy()`\n",
      "  muestras['Muestra _'+str(i)]=_\n",
      "C:\\Users\\zazaz\\AppData\\Local\\Temp\\ipykernel_22132\\527239248.py:4: PerformanceWarning: DataFrame is highly fragmented.  This is usually the result of calling `frame.insert` many times, which has poor performance.  Consider joining all columns at once using pd.concat(axis=1) instead. To get a de-fragmented frame, use `newframe = frame.copy()`\n",
      "  muestras['Muestra _'+str(i)]=_\n",
      "C:\\Users\\zazaz\\AppData\\Local\\Temp\\ipykernel_22132\\527239248.py:4: PerformanceWarning: DataFrame is highly fragmented.  This is usually the result of calling `frame.insert` many times, which has poor performance.  Consider joining all columns at once using pd.concat(axis=1) instead. To get a de-fragmented frame, use `newframe = frame.copy()`\n",
      "  muestras['Muestra _'+str(i)]=_\n",
      "C:\\Users\\zazaz\\AppData\\Local\\Temp\\ipykernel_22132\\527239248.py:4: PerformanceWarning: DataFrame is highly fragmented.  This is usually the result of calling `frame.insert` many times, which has poor performance.  Consider joining all columns at once using pd.concat(axis=1) instead. To get a de-fragmented frame, use `newframe = frame.copy()`\n",
      "  muestras['Muestra _'+str(i)]=_\n",
      "C:\\Users\\zazaz\\AppData\\Local\\Temp\\ipykernel_22132\\527239248.py:4: PerformanceWarning: DataFrame is highly fragmented.  This is usually the result of calling `frame.insert` many times, which has poor performance.  Consider joining all columns at once using pd.concat(axis=1) instead. To get a de-fragmented frame, use `newframe = frame.copy()`\n",
      "  muestras['Muestra _'+str(i)]=_\n",
      "C:\\Users\\zazaz\\AppData\\Local\\Temp\\ipykernel_22132\\527239248.py:4: PerformanceWarning: DataFrame is highly fragmented.  This is usually the result of calling `frame.insert` many times, which has poor performance.  Consider joining all columns at once using pd.concat(axis=1) instead. To get a de-fragmented frame, use `newframe = frame.copy()`\n",
      "  muestras['Muestra _'+str(i)]=_\n",
      "C:\\Users\\zazaz\\AppData\\Local\\Temp\\ipykernel_22132\\527239248.py:4: PerformanceWarning: DataFrame is highly fragmented.  This is usually the result of calling `frame.insert` many times, which has poor performance.  Consider joining all columns at once using pd.concat(axis=1) instead. To get a de-fragmented frame, use `newframe = frame.copy()`\n",
      "  muestras['Muestra _'+str(i)]=_\n",
      "C:\\Users\\zazaz\\AppData\\Local\\Temp\\ipykernel_22132\\527239248.py:4: PerformanceWarning: DataFrame is highly fragmented.  This is usually the result of calling `frame.insert` many times, which has poor performance.  Consider joining all columns at once using pd.concat(axis=1) instead. To get a de-fragmented frame, use `newframe = frame.copy()`\n",
      "  muestras['Muestra _'+str(i)]=_\n",
      "C:\\Users\\zazaz\\AppData\\Local\\Temp\\ipykernel_22132\\527239248.py:4: PerformanceWarning: DataFrame is highly fragmented.  This is usually the result of calling `frame.insert` many times, which has poor performance.  Consider joining all columns at once using pd.concat(axis=1) instead. To get a de-fragmented frame, use `newframe = frame.copy()`\n",
      "  muestras['Muestra _'+str(i)]=_\n",
      "C:\\Users\\zazaz\\AppData\\Local\\Temp\\ipykernel_22132\\527239248.py:4: PerformanceWarning: DataFrame is highly fragmented.  This is usually the result of calling `frame.insert` many times, which has poor performance.  Consider joining all columns at once using pd.concat(axis=1) instead. To get a de-fragmented frame, use `newframe = frame.copy()`\n",
      "  muestras['Muestra _'+str(i)]=_\n",
      "C:\\Users\\zazaz\\AppData\\Local\\Temp\\ipykernel_22132\\527239248.py:4: PerformanceWarning: DataFrame is highly fragmented.  This is usually the result of calling `frame.insert` many times, which has poor performance.  Consider joining all columns at once using pd.concat(axis=1) instead. To get a de-fragmented frame, use `newframe = frame.copy()`\n",
      "  muestras['Muestra _'+str(i)]=_\n",
      "C:\\Users\\zazaz\\AppData\\Local\\Temp\\ipykernel_22132\\527239248.py:4: PerformanceWarning: DataFrame is highly fragmented.  This is usually the result of calling `frame.insert` many times, which has poor performance.  Consider joining all columns at once using pd.concat(axis=1) instead. To get a de-fragmented frame, use `newframe = frame.copy()`\n",
      "  muestras['Muestra _'+str(i)]=_\n",
      "C:\\Users\\zazaz\\AppData\\Local\\Temp\\ipykernel_22132\\527239248.py:4: PerformanceWarning: DataFrame is highly fragmented.  This is usually the result of calling `frame.insert` many times, which has poor performance.  Consider joining all columns at once using pd.concat(axis=1) instead. To get a de-fragmented frame, use `newframe = frame.copy()`\n",
      "  muestras['Muestra _'+str(i)]=_\n",
      "C:\\Users\\zazaz\\AppData\\Local\\Temp\\ipykernel_22132\\527239248.py:4: PerformanceWarning: DataFrame is highly fragmented.  This is usually the result of calling `frame.insert` many times, which has poor performance.  Consider joining all columns at once using pd.concat(axis=1) instead. To get a de-fragmented frame, use `newframe = frame.copy()`\n",
      "  muestras['Muestra _'+str(i)]=_\n",
      "C:\\Users\\zazaz\\AppData\\Local\\Temp\\ipykernel_22132\\527239248.py:4: PerformanceWarning: DataFrame is highly fragmented.  This is usually the result of calling `frame.insert` many times, which has poor performance.  Consider joining all columns at once using pd.concat(axis=1) instead. To get a de-fragmented frame, use `newframe = frame.copy()`\n",
      "  muestras['Muestra _'+str(i)]=_\n",
      "C:\\Users\\zazaz\\AppData\\Local\\Temp\\ipykernel_22132\\527239248.py:4: PerformanceWarning: DataFrame is highly fragmented.  This is usually the result of calling `frame.insert` many times, which has poor performance.  Consider joining all columns at once using pd.concat(axis=1) instead. To get a de-fragmented frame, use `newframe = frame.copy()`\n",
      "  muestras['Muestra _'+str(i)]=_\n",
      "C:\\Users\\zazaz\\AppData\\Local\\Temp\\ipykernel_22132\\527239248.py:4: PerformanceWarning: DataFrame is highly fragmented.  This is usually the result of calling `frame.insert` many times, which has poor performance.  Consider joining all columns at once using pd.concat(axis=1) instead. To get a de-fragmented frame, use `newframe = frame.copy()`\n",
      "  muestras['Muestra _'+str(i)]=_\n",
      "C:\\Users\\zazaz\\AppData\\Local\\Temp\\ipykernel_22132\\527239248.py:4: PerformanceWarning: DataFrame is highly fragmented.  This is usually the result of calling `frame.insert` many times, which has poor performance.  Consider joining all columns at once using pd.concat(axis=1) instead. To get a de-fragmented frame, use `newframe = frame.copy()`\n",
      "  muestras['Muestra _'+str(i)]=_\n",
      "C:\\Users\\zazaz\\AppData\\Local\\Temp\\ipykernel_22132\\527239248.py:4: PerformanceWarning: DataFrame is highly fragmented.  This is usually the result of calling `frame.insert` many times, which has poor performance.  Consider joining all columns at once using pd.concat(axis=1) instead. To get a de-fragmented frame, use `newframe = frame.copy()`\n",
      "  muestras['Muestra _'+str(i)]=_\n",
      "C:\\Users\\zazaz\\AppData\\Local\\Temp\\ipykernel_22132\\527239248.py:4: PerformanceWarning: DataFrame is highly fragmented.  This is usually the result of calling `frame.insert` many times, which has poor performance.  Consider joining all columns at once using pd.concat(axis=1) instead. To get a de-fragmented frame, use `newframe = frame.copy()`\n",
      "  muestras['Muestra _'+str(i)]=_\n",
      "C:\\Users\\zazaz\\AppData\\Local\\Temp\\ipykernel_22132\\527239248.py:4: PerformanceWarning: DataFrame is highly fragmented.  This is usually the result of calling `frame.insert` many times, which has poor performance.  Consider joining all columns at once using pd.concat(axis=1) instead. To get a de-fragmented frame, use `newframe = frame.copy()`\n",
      "  muestras['Muestra _'+str(i)]=_\n",
      "C:\\Users\\zazaz\\AppData\\Local\\Temp\\ipykernel_22132\\527239248.py:4: PerformanceWarning: DataFrame is highly fragmented.  This is usually the result of calling `frame.insert` many times, which has poor performance.  Consider joining all columns at once using pd.concat(axis=1) instead. To get a de-fragmented frame, use `newframe = frame.copy()`\n",
      "  muestras['Muestra _'+str(i)]=_\n",
      "C:\\Users\\zazaz\\AppData\\Local\\Temp\\ipykernel_22132\\527239248.py:4: PerformanceWarning: DataFrame is highly fragmented.  This is usually the result of calling `frame.insert` many times, which has poor performance.  Consider joining all columns at once using pd.concat(axis=1) instead. To get a de-fragmented frame, use `newframe = frame.copy()`\n",
      "  muestras['Muestra _'+str(i)]=_\n",
      "C:\\Users\\zazaz\\AppData\\Local\\Temp\\ipykernel_22132\\527239248.py:4: PerformanceWarning: DataFrame is highly fragmented.  This is usually the result of calling `frame.insert` many times, which has poor performance.  Consider joining all columns at once using pd.concat(axis=1) instead. To get a de-fragmented frame, use `newframe = frame.copy()`\n",
      "  muestras['Muestra _'+str(i)]=_\n",
      "C:\\Users\\zazaz\\AppData\\Local\\Temp\\ipykernel_22132\\527239248.py:4: PerformanceWarning: DataFrame is highly fragmented.  This is usually the result of calling `frame.insert` many times, which has poor performance.  Consider joining all columns at once using pd.concat(axis=1) instead. To get a de-fragmented frame, use `newframe = frame.copy()`\n",
      "  muestras['Muestra _'+str(i)]=_\n",
      "C:\\Users\\zazaz\\AppData\\Local\\Temp\\ipykernel_22132\\527239248.py:4: PerformanceWarning: DataFrame is highly fragmented.  This is usually the result of calling `frame.insert` many times, which has poor performance.  Consider joining all columns at once using pd.concat(axis=1) instead. To get a de-fragmented frame, use `newframe = frame.copy()`\n",
      "  muestras['Muestra _'+str(i)]=_\n",
      "C:\\Users\\zazaz\\AppData\\Local\\Temp\\ipykernel_22132\\527239248.py:4: PerformanceWarning: DataFrame is highly fragmented.  This is usually the result of calling `frame.insert` many times, which has poor performance.  Consider joining all columns at once using pd.concat(axis=1) instead. To get a de-fragmented frame, use `newframe = frame.copy()`\n",
      "  muestras['Muestra _'+str(i)]=_\n",
      "C:\\Users\\zazaz\\AppData\\Local\\Temp\\ipykernel_22132\\527239248.py:4: PerformanceWarning: DataFrame is highly fragmented.  This is usually the result of calling `frame.insert` many times, which has poor performance.  Consider joining all columns at once using pd.concat(axis=1) instead. To get a de-fragmented frame, use `newframe = frame.copy()`\n",
      "  muestras['Muestra _'+str(i)]=_\n",
      "C:\\Users\\zazaz\\AppData\\Local\\Temp\\ipykernel_22132\\527239248.py:4: PerformanceWarning: DataFrame is highly fragmented.  This is usually the result of calling `frame.insert` many times, which has poor performance.  Consider joining all columns at once using pd.concat(axis=1) instead. To get a de-fragmented frame, use `newframe = frame.copy()`\n",
      "  muestras['Muestra _'+str(i)]=_\n",
      "C:\\Users\\zazaz\\AppData\\Local\\Temp\\ipykernel_22132\\527239248.py:4: PerformanceWarning: DataFrame is highly fragmented.  This is usually the result of calling `frame.insert` many times, which has poor performance.  Consider joining all columns at once using pd.concat(axis=1) instead. To get a de-fragmented frame, use `newframe = frame.copy()`\n",
      "  muestras['Muestra _'+str(i)]=_\n",
      "C:\\Users\\zazaz\\AppData\\Local\\Temp\\ipykernel_22132\\527239248.py:4: PerformanceWarning: DataFrame is highly fragmented.  This is usually the result of calling `frame.insert` many times, which has poor performance.  Consider joining all columns at once using pd.concat(axis=1) instead. To get a de-fragmented frame, use `newframe = frame.copy()`\n",
      "  muestras['Muestra _'+str(i)]=_\n",
      "C:\\Users\\zazaz\\AppData\\Local\\Temp\\ipykernel_22132\\527239248.py:4: PerformanceWarning: DataFrame is highly fragmented.  This is usually the result of calling `frame.insert` many times, which has poor performance.  Consider joining all columns at once using pd.concat(axis=1) instead. To get a de-fragmented frame, use `newframe = frame.copy()`\n",
      "  muestras['Muestra _'+str(i)]=_\n",
      "C:\\Users\\zazaz\\AppData\\Local\\Temp\\ipykernel_22132\\527239248.py:4: PerformanceWarning: DataFrame is highly fragmented.  This is usually the result of calling `frame.insert` many times, which has poor performance.  Consider joining all columns at once using pd.concat(axis=1) instead. To get a de-fragmented frame, use `newframe = frame.copy()`\n",
      "  muestras['Muestra _'+str(i)]=_\n",
      "C:\\Users\\zazaz\\AppData\\Local\\Temp\\ipykernel_22132\\527239248.py:4: PerformanceWarning: DataFrame is highly fragmented.  This is usually the result of calling `frame.insert` many times, which has poor performance.  Consider joining all columns at once using pd.concat(axis=1) instead. To get a de-fragmented frame, use `newframe = frame.copy()`\n",
      "  muestras['Muestra _'+str(i)]=_\n",
      "C:\\Users\\zazaz\\AppData\\Local\\Temp\\ipykernel_22132\\527239248.py:4: PerformanceWarning: DataFrame is highly fragmented.  This is usually the result of calling `frame.insert` many times, which has poor performance.  Consider joining all columns at once using pd.concat(axis=1) instead. To get a de-fragmented frame, use `newframe = frame.copy()`\n",
      "  muestras['Muestra _'+str(i)]=_\n",
      "C:\\Users\\zazaz\\AppData\\Local\\Temp\\ipykernel_22132\\527239248.py:4: PerformanceWarning: DataFrame is highly fragmented.  This is usually the result of calling `frame.insert` many times, which has poor performance.  Consider joining all columns at once using pd.concat(axis=1) instead. To get a de-fragmented frame, use `newframe = frame.copy()`\n",
      "  muestras['Muestra _'+str(i)]=_\n",
      "C:\\Users\\zazaz\\AppData\\Local\\Temp\\ipykernel_22132\\527239248.py:4: PerformanceWarning: DataFrame is highly fragmented.  This is usually the result of calling `frame.insert` many times, which has poor performance.  Consider joining all columns at once using pd.concat(axis=1) instead. To get a de-fragmented frame, use `newframe = frame.copy()`\n",
      "  muestras['Muestra _'+str(i)]=_\n",
      "C:\\Users\\zazaz\\AppData\\Local\\Temp\\ipykernel_22132\\527239248.py:4: PerformanceWarning: DataFrame is highly fragmented.  This is usually the result of calling `frame.insert` many times, which has poor performance.  Consider joining all columns at once using pd.concat(axis=1) instead. To get a de-fragmented frame, use `newframe = frame.copy()`\n",
      "  muestras['Muestra _'+str(i)]=_\n",
      "C:\\Users\\zazaz\\AppData\\Local\\Temp\\ipykernel_22132\\527239248.py:4: PerformanceWarning: DataFrame is highly fragmented.  This is usually the result of calling `frame.insert` many times, which has poor performance.  Consider joining all columns at once using pd.concat(axis=1) instead. To get a de-fragmented frame, use `newframe = frame.copy()`\n",
      "  muestras['Muestra _'+str(i)]=_\n",
      "C:\\Users\\zazaz\\AppData\\Local\\Temp\\ipykernel_22132\\527239248.py:4: PerformanceWarning: DataFrame is highly fragmented.  This is usually the result of calling `frame.insert` many times, which has poor performance.  Consider joining all columns at once using pd.concat(axis=1) instead. To get a de-fragmented frame, use `newframe = frame.copy()`\n",
      "  muestras['Muestra _'+str(i)]=_\n",
      "C:\\Users\\zazaz\\AppData\\Local\\Temp\\ipykernel_22132\\527239248.py:4: PerformanceWarning: DataFrame is highly fragmented.  This is usually the result of calling `frame.insert` many times, which has poor performance.  Consider joining all columns at once using pd.concat(axis=1) instead. To get a de-fragmented frame, use `newframe = frame.copy()`\n",
      "  muestras['Muestra _'+str(i)]=_\n",
      "C:\\Users\\zazaz\\AppData\\Local\\Temp\\ipykernel_22132\\527239248.py:4: PerformanceWarning: DataFrame is highly fragmented.  This is usually the result of calling `frame.insert` many times, which has poor performance.  Consider joining all columns at once using pd.concat(axis=1) instead. To get a de-fragmented frame, use `newframe = frame.copy()`\n",
      "  muestras['Muestra _'+str(i)]=_\n",
      "C:\\Users\\zazaz\\AppData\\Local\\Temp\\ipykernel_22132\\527239248.py:4: PerformanceWarning: DataFrame is highly fragmented.  This is usually the result of calling `frame.insert` many times, which has poor performance.  Consider joining all columns at once using pd.concat(axis=1) instead. To get a de-fragmented frame, use `newframe = frame.copy()`\n",
      "  muestras['Muestra _'+str(i)]=_\n",
      "C:\\Users\\zazaz\\AppData\\Local\\Temp\\ipykernel_22132\\527239248.py:4: PerformanceWarning: DataFrame is highly fragmented.  This is usually the result of calling `frame.insert` many times, which has poor performance.  Consider joining all columns at once using pd.concat(axis=1) instead. To get a de-fragmented frame, use `newframe = frame.copy()`\n",
      "  muestras['Muestra _'+str(i)]=_\n",
      "C:\\Users\\zazaz\\AppData\\Local\\Temp\\ipykernel_22132\\527239248.py:4: PerformanceWarning: DataFrame is highly fragmented.  This is usually the result of calling `frame.insert` many times, which has poor performance.  Consider joining all columns at once using pd.concat(axis=1) instead. To get a de-fragmented frame, use `newframe = frame.copy()`\n",
      "  muestras['Muestra _'+str(i)]=_\n",
      "C:\\Users\\zazaz\\AppData\\Local\\Temp\\ipykernel_22132\\527239248.py:4: PerformanceWarning: DataFrame is highly fragmented.  This is usually the result of calling `frame.insert` many times, which has poor performance.  Consider joining all columns at once using pd.concat(axis=1) instead. To get a de-fragmented frame, use `newframe = frame.copy()`\n",
      "  muestras['Muestra _'+str(i)]=_\n",
      "C:\\Users\\zazaz\\AppData\\Local\\Temp\\ipykernel_22132\\527239248.py:4: PerformanceWarning: DataFrame is highly fragmented.  This is usually the result of calling `frame.insert` many times, which has poor performance.  Consider joining all columns at once using pd.concat(axis=1) instead. To get a de-fragmented frame, use `newframe = frame.copy()`\n",
      "  muestras['Muestra _'+str(i)]=_\n",
      "C:\\Users\\zazaz\\AppData\\Local\\Temp\\ipykernel_22132\\527239248.py:4: PerformanceWarning: DataFrame is highly fragmented.  This is usually the result of calling `frame.insert` many times, which has poor performance.  Consider joining all columns at once using pd.concat(axis=1) instead. To get a de-fragmented frame, use `newframe = frame.copy()`\n",
      "  muestras['Muestra _'+str(i)]=_\n",
      "C:\\Users\\zazaz\\AppData\\Local\\Temp\\ipykernel_22132\\527239248.py:4: PerformanceWarning: DataFrame is highly fragmented.  This is usually the result of calling `frame.insert` many times, which has poor performance.  Consider joining all columns at once using pd.concat(axis=1) instead. To get a de-fragmented frame, use `newframe = frame.copy()`\n",
      "  muestras['Muestra _'+str(i)]=_\n",
      "C:\\Users\\zazaz\\AppData\\Local\\Temp\\ipykernel_22132\\527239248.py:4: PerformanceWarning: DataFrame is highly fragmented.  This is usually the result of calling `frame.insert` many times, which has poor performance.  Consider joining all columns at once using pd.concat(axis=1) instead. To get a de-fragmented frame, use `newframe = frame.copy()`\n",
      "  muestras['Muestra _'+str(i)]=_\n",
      "C:\\Users\\zazaz\\AppData\\Local\\Temp\\ipykernel_22132\\527239248.py:4: PerformanceWarning: DataFrame is highly fragmented.  This is usually the result of calling `frame.insert` many times, which has poor performance.  Consider joining all columns at once using pd.concat(axis=1) instead. To get a de-fragmented frame, use `newframe = frame.copy()`\n",
      "  muestras['Muestra _'+str(i)]=_\n",
      "C:\\Users\\zazaz\\AppData\\Local\\Temp\\ipykernel_22132\\527239248.py:4: PerformanceWarning: DataFrame is highly fragmented.  This is usually the result of calling `frame.insert` many times, which has poor performance.  Consider joining all columns at once using pd.concat(axis=1) instead. To get a de-fragmented frame, use `newframe = frame.copy()`\n",
      "  muestras['Muestra _'+str(i)]=_\n",
      "C:\\Users\\zazaz\\AppData\\Local\\Temp\\ipykernel_22132\\527239248.py:4: PerformanceWarning: DataFrame is highly fragmented.  This is usually the result of calling `frame.insert` many times, which has poor performance.  Consider joining all columns at once using pd.concat(axis=1) instead. To get a de-fragmented frame, use `newframe = frame.copy()`\n",
      "  muestras['Muestra _'+str(i)]=_\n",
      "C:\\Users\\zazaz\\AppData\\Local\\Temp\\ipykernel_22132\\527239248.py:4: PerformanceWarning: DataFrame is highly fragmented.  This is usually the result of calling `frame.insert` many times, which has poor performance.  Consider joining all columns at once using pd.concat(axis=1) instead. To get a de-fragmented frame, use `newframe = frame.copy()`\n",
      "  muestras['Muestra _'+str(i)]=_\n",
      "C:\\Users\\zazaz\\AppData\\Local\\Temp\\ipykernel_22132\\527239248.py:4: PerformanceWarning: DataFrame is highly fragmented.  This is usually the result of calling `frame.insert` many times, which has poor performance.  Consider joining all columns at once using pd.concat(axis=1) instead. To get a de-fragmented frame, use `newframe = frame.copy()`\n",
      "  muestras['Muestra _'+str(i)]=_\n",
      "C:\\Users\\zazaz\\AppData\\Local\\Temp\\ipykernel_22132\\527239248.py:4: PerformanceWarning: DataFrame is highly fragmented.  This is usually the result of calling `frame.insert` many times, which has poor performance.  Consider joining all columns at once using pd.concat(axis=1) instead. To get a de-fragmented frame, use `newframe = frame.copy()`\n",
      "  muestras['Muestra _'+str(i)]=_\n",
      "C:\\Users\\zazaz\\AppData\\Local\\Temp\\ipykernel_22132\\527239248.py:4: PerformanceWarning: DataFrame is highly fragmented.  This is usually the result of calling `frame.insert` many times, which has poor performance.  Consider joining all columns at once using pd.concat(axis=1) instead. To get a de-fragmented frame, use `newframe = frame.copy()`\n",
      "  muestras['Muestra _'+str(i)]=_\n",
      "C:\\Users\\zazaz\\AppData\\Local\\Temp\\ipykernel_22132\\527239248.py:4: PerformanceWarning: DataFrame is highly fragmented.  This is usually the result of calling `frame.insert` many times, which has poor performance.  Consider joining all columns at once using pd.concat(axis=1) instead. To get a de-fragmented frame, use `newframe = frame.copy()`\n",
      "  muestras['Muestra _'+str(i)]=_\n",
      "C:\\Users\\zazaz\\AppData\\Local\\Temp\\ipykernel_22132\\527239248.py:4: PerformanceWarning: DataFrame is highly fragmented.  This is usually the result of calling `frame.insert` many times, which has poor performance.  Consider joining all columns at once using pd.concat(axis=1) instead. To get a de-fragmented frame, use `newframe = frame.copy()`\n",
      "  muestras['Muestra _'+str(i)]=_\n",
      "C:\\Users\\zazaz\\AppData\\Local\\Temp\\ipykernel_22132\\527239248.py:4: PerformanceWarning: DataFrame is highly fragmented.  This is usually the result of calling `frame.insert` many times, which has poor performance.  Consider joining all columns at once using pd.concat(axis=1) instead. To get a de-fragmented frame, use `newframe = frame.copy()`\n",
      "  muestras['Muestra _'+str(i)]=_\n",
      "C:\\Users\\zazaz\\AppData\\Local\\Temp\\ipykernel_22132\\527239248.py:4: PerformanceWarning: DataFrame is highly fragmented.  This is usually the result of calling `frame.insert` many times, which has poor performance.  Consider joining all columns at once using pd.concat(axis=1) instead. To get a de-fragmented frame, use `newframe = frame.copy()`\n",
      "  muestras['Muestra _'+str(i)]=_\n",
      "C:\\Users\\zazaz\\AppData\\Local\\Temp\\ipykernel_22132\\527239248.py:4: PerformanceWarning: DataFrame is highly fragmented.  This is usually the result of calling `frame.insert` many times, which has poor performance.  Consider joining all columns at once using pd.concat(axis=1) instead. To get a de-fragmented frame, use `newframe = frame.copy()`\n",
      "  muestras['Muestra _'+str(i)]=_\n",
      "C:\\Users\\zazaz\\AppData\\Local\\Temp\\ipykernel_22132\\527239248.py:4: PerformanceWarning: DataFrame is highly fragmented.  This is usually the result of calling `frame.insert` many times, which has poor performance.  Consider joining all columns at once using pd.concat(axis=1) instead. To get a de-fragmented frame, use `newframe = frame.copy()`\n",
      "  muestras['Muestra _'+str(i)]=_\n",
      "C:\\Users\\zazaz\\AppData\\Local\\Temp\\ipykernel_22132\\527239248.py:4: PerformanceWarning: DataFrame is highly fragmented.  This is usually the result of calling `frame.insert` many times, which has poor performance.  Consider joining all columns at once using pd.concat(axis=1) instead. To get a de-fragmented frame, use `newframe = frame.copy()`\n",
      "  muestras['Muestra _'+str(i)]=_\n",
      "C:\\Users\\zazaz\\AppData\\Local\\Temp\\ipykernel_22132\\527239248.py:4: PerformanceWarning: DataFrame is highly fragmented.  This is usually the result of calling `frame.insert` many times, which has poor performance.  Consider joining all columns at once using pd.concat(axis=1) instead. To get a de-fragmented frame, use `newframe = frame.copy()`\n",
      "  muestras['Muestra _'+str(i)]=_\n",
      "C:\\Users\\zazaz\\AppData\\Local\\Temp\\ipykernel_22132\\527239248.py:4: PerformanceWarning: DataFrame is highly fragmented.  This is usually the result of calling `frame.insert` many times, which has poor performance.  Consider joining all columns at once using pd.concat(axis=1) instead. To get a de-fragmented frame, use `newframe = frame.copy()`\n",
      "  muestras['Muestra _'+str(i)]=_\n",
      "C:\\Users\\zazaz\\AppData\\Local\\Temp\\ipykernel_22132\\527239248.py:4: PerformanceWarning: DataFrame is highly fragmented.  This is usually the result of calling `frame.insert` many times, which has poor performance.  Consider joining all columns at once using pd.concat(axis=1) instead. To get a de-fragmented frame, use `newframe = frame.copy()`\n",
      "  muestras['Muestra _'+str(i)]=_\n",
      "C:\\Users\\zazaz\\AppData\\Local\\Temp\\ipykernel_22132\\527239248.py:4: PerformanceWarning: DataFrame is highly fragmented.  This is usually the result of calling `frame.insert` many times, which has poor performance.  Consider joining all columns at once using pd.concat(axis=1) instead. To get a de-fragmented frame, use `newframe = frame.copy()`\n",
      "  muestras['Muestra _'+str(i)]=_\n",
      "C:\\Users\\zazaz\\AppData\\Local\\Temp\\ipykernel_22132\\527239248.py:4: PerformanceWarning: DataFrame is highly fragmented.  This is usually the result of calling `frame.insert` many times, which has poor performance.  Consider joining all columns at once using pd.concat(axis=1) instead. To get a de-fragmented frame, use `newframe = frame.copy()`\n",
      "  muestras['Muestra _'+str(i)]=_\n",
      "C:\\Users\\zazaz\\AppData\\Local\\Temp\\ipykernel_22132\\527239248.py:4: PerformanceWarning: DataFrame is highly fragmented.  This is usually the result of calling `frame.insert` many times, which has poor performance.  Consider joining all columns at once using pd.concat(axis=1) instead. To get a de-fragmented frame, use `newframe = frame.copy()`\n",
      "  muestras['Muestra _'+str(i)]=_\n",
      "C:\\Users\\zazaz\\AppData\\Local\\Temp\\ipykernel_22132\\527239248.py:4: PerformanceWarning: DataFrame is highly fragmented.  This is usually the result of calling `frame.insert` many times, which has poor performance.  Consider joining all columns at once using pd.concat(axis=1) instead. To get a de-fragmented frame, use `newframe = frame.copy()`\n",
      "  muestras['Muestra _'+str(i)]=_\n",
      "C:\\Users\\zazaz\\AppData\\Local\\Temp\\ipykernel_22132\\527239248.py:4: PerformanceWarning: DataFrame is highly fragmented.  This is usually the result of calling `frame.insert` many times, which has poor performance.  Consider joining all columns at once using pd.concat(axis=1) instead. To get a de-fragmented frame, use `newframe = frame.copy()`\n",
      "  muestras['Muestra _'+str(i)]=_\n",
      "C:\\Users\\zazaz\\AppData\\Local\\Temp\\ipykernel_22132\\527239248.py:4: PerformanceWarning: DataFrame is highly fragmented.  This is usually the result of calling `frame.insert` many times, which has poor performance.  Consider joining all columns at once using pd.concat(axis=1) instead. To get a de-fragmented frame, use `newframe = frame.copy()`\n",
      "  muestras['Muestra _'+str(i)]=_\n",
      "C:\\Users\\zazaz\\AppData\\Local\\Temp\\ipykernel_22132\\527239248.py:4: PerformanceWarning: DataFrame is highly fragmented.  This is usually the result of calling `frame.insert` many times, which has poor performance.  Consider joining all columns at once using pd.concat(axis=1) instead. To get a de-fragmented frame, use `newframe = frame.copy()`\n",
      "  muestras['Muestra _'+str(i)]=_\n",
      "C:\\Users\\zazaz\\AppData\\Local\\Temp\\ipykernel_22132\\527239248.py:4: PerformanceWarning: DataFrame is highly fragmented.  This is usually the result of calling `frame.insert` many times, which has poor performance.  Consider joining all columns at once using pd.concat(axis=1) instead. To get a de-fragmented frame, use `newframe = frame.copy()`\n",
      "  muestras['Muestra _'+str(i)]=_\n",
      "C:\\Users\\zazaz\\AppData\\Local\\Temp\\ipykernel_22132\\527239248.py:4: PerformanceWarning: DataFrame is highly fragmented.  This is usually the result of calling `frame.insert` many times, which has poor performance.  Consider joining all columns at once using pd.concat(axis=1) instead. To get a de-fragmented frame, use `newframe = frame.copy()`\n",
      "  muestras['Muestra _'+str(i)]=_\n",
      "C:\\Users\\zazaz\\AppData\\Local\\Temp\\ipykernel_22132\\527239248.py:4: PerformanceWarning: DataFrame is highly fragmented.  This is usually the result of calling `frame.insert` many times, which has poor performance.  Consider joining all columns at once using pd.concat(axis=1) instead. To get a de-fragmented frame, use `newframe = frame.copy()`\n",
      "  muestras['Muestra _'+str(i)]=_\n",
      "C:\\Users\\zazaz\\AppData\\Local\\Temp\\ipykernel_22132\\527239248.py:4: PerformanceWarning: DataFrame is highly fragmented.  This is usually the result of calling `frame.insert` many times, which has poor performance.  Consider joining all columns at once using pd.concat(axis=1) instead. To get a de-fragmented frame, use `newframe = frame.copy()`\n",
      "  muestras['Muestra _'+str(i)]=_\n",
      "C:\\Users\\zazaz\\AppData\\Local\\Temp\\ipykernel_22132\\527239248.py:4: PerformanceWarning: DataFrame is highly fragmented.  This is usually the result of calling `frame.insert` many times, which has poor performance.  Consider joining all columns at once using pd.concat(axis=1) instead. To get a de-fragmented frame, use `newframe = frame.copy()`\n",
      "  muestras['Muestra _'+str(i)]=_\n",
      "C:\\Users\\zazaz\\AppData\\Local\\Temp\\ipykernel_22132\\527239248.py:4: PerformanceWarning: DataFrame is highly fragmented.  This is usually the result of calling `frame.insert` many times, which has poor performance.  Consider joining all columns at once using pd.concat(axis=1) instead. To get a de-fragmented frame, use `newframe = frame.copy()`\n",
      "  muestras['Muestra _'+str(i)]=_\n",
      "C:\\Users\\zazaz\\AppData\\Local\\Temp\\ipykernel_22132\\527239248.py:4: PerformanceWarning: DataFrame is highly fragmented.  This is usually the result of calling `frame.insert` many times, which has poor performance.  Consider joining all columns at once using pd.concat(axis=1) instead. To get a de-fragmented frame, use `newframe = frame.copy()`\n",
      "  muestras['Muestra _'+str(i)]=_\n",
      "C:\\Users\\zazaz\\AppData\\Local\\Temp\\ipykernel_22132\\527239248.py:4: PerformanceWarning: DataFrame is highly fragmented.  This is usually the result of calling `frame.insert` many times, which has poor performance.  Consider joining all columns at once using pd.concat(axis=1) instead. To get a de-fragmented frame, use `newframe = frame.copy()`\n",
      "  muestras['Muestra _'+str(i)]=_\n",
      "C:\\Users\\zazaz\\AppData\\Local\\Temp\\ipykernel_22132\\527239248.py:4: PerformanceWarning: DataFrame is highly fragmented.  This is usually the result of calling `frame.insert` many times, which has poor performance.  Consider joining all columns at once using pd.concat(axis=1) instead. To get a de-fragmented frame, use `newframe = frame.copy()`\n",
      "  muestras['Muestra _'+str(i)]=_\n",
      "C:\\Users\\zazaz\\AppData\\Local\\Temp\\ipykernel_22132\\527239248.py:4: PerformanceWarning: DataFrame is highly fragmented.  This is usually the result of calling `frame.insert` many times, which has poor performance.  Consider joining all columns at once using pd.concat(axis=1) instead. To get a de-fragmented frame, use `newframe = frame.copy()`\n",
      "  muestras['Muestra _'+str(i)]=_\n",
      "C:\\Users\\zazaz\\AppData\\Local\\Temp\\ipykernel_22132\\527239248.py:4: PerformanceWarning: DataFrame is highly fragmented.  This is usually the result of calling `frame.insert` many times, which has poor performance.  Consider joining all columns at once using pd.concat(axis=1) instead. To get a de-fragmented frame, use `newframe = frame.copy()`\n",
      "  muestras['Muestra _'+str(i)]=_\n",
      "C:\\Users\\zazaz\\AppData\\Local\\Temp\\ipykernel_22132\\527239248.py:4: PerformanceWarning: DataFrame is highly fragmented.  This is usually the result of calling `frame.insert` many times, which has poor performance.  Consider joining all columns at once using pd.concat(axis=1) instead. To get a de-fragmented frame, use `newframe = frame.copy()`\n",
      "  muestras['Muestra _'+str(i)]=_\n",
      "C:\\Users\\zazaz\\AppData\\Local\\Temp\\ipykernel_22132\\527239248.py:4: PerformanceWarning: DataFrame is highly fragmented.  This is usually the result of calling `frame.insert` many times, which has poor performance.  Consider joining all columns at once using pd.concat(axis=1) instead. To get a de-fragmented frame, use `newframe = frame.copy()`\n",
      "  muestras['Muestra _'+str(i)]=_\n",
      "C:\\Users\\zazaz\\AppData\\Local\\Temp\\ipykernel_22132\\527239248.py:4: PerformanceWarning: DataFrame is highly fragmented.  This is usually the result of calling `frame.insert` many times, which has poor performance.  Consider joining all columns at once using pd.concat(axis=1) instead. To get a de-fragmented frame, use `newframe = frame.copy()`\n",
      "  muestras['Muestra _'+str(i)]=_\n",
      "C:\\Users\\zazaz\\AppData\\Local\\Temp\\ipykernel_22132\\527239248.py:4: PerformanceWarning: DataFrame is highly fragmented.  This is usually the result of calling `frame.insert` many times, which has poor performance.  Consider joining all columns at once using pd.concat(axis=1) instead. To get a de-fragmented frame, use `newframe = frame.copy()`\n",
      "  muestras['Muestra _'+str(i)]=_\n",
      "C:\\Users\\zazaz\\AppData\\Local\\Temp\\ipykernel_22132\\527239248.py:4: PerformanceWarning: DataFrame is highly fragmented.  This is usually the result of calling `frame.insert` many times, which has poor performance.  Consider joining all columns at once using pd.concat(axis=1) instead. To get a de-fragmented frame, use `newframe = frame.copy()`\n",
      "  muestras['Muestra _'+str(i)]=_\n",
      "C:\\Users\\zazaz\\AppData\\Local\\Temp\\ipykernel_22132\\527239248.py:4: PerformanceWarning: DataFrame is highly fragmented.  This is usually the result of calling `frame.insert` many times, which has poor performance.  Consider joining all columns at once using pd.concat(axis=1) instead. To get a de-fragmented frame, use `newframe = frame.copy()`\n",
      "  muestras['Muestra _'+str(i)]=_\n",
      "C:\\Users\\zazaz\\AppData\\Local\\Temp\\ipykernel_22132\\527239248.py:4: PerformanceWarning: DataFrame is highly fragmented.  This is usually the result of calling `frame.insert` many times, which has poor performance.  Consider joining all columns at once using pd.concat(axis=1) instead. To get a de-fragmented frame, use `newframe = frame.copy()`\n",
      "  muestras['Muestra _'+str(i)]=_\n",
      "C:\\Users\\zazaz\\AppData\\Local\\Temp\\ipykernel_22132\\527239248.py:4: PerformanceWarning: DataFrame is highly fragmented.  This is usually the result of calling `frame.insert` many times, which has poor performance.  Consider joining all columns at once using pd.concat(axis=1) instead. To get a de-fragmented frame, use `newframe = frame.copy()`\n",
      "  muestras['Muestra _'+str(i)]=_\n",
      "C:\\Users\\zazaz\\AppData\\Local\\Temp\\ipykernel_22132\\527239248.py:4: PerformanceWarning: DataFrame is highly fragmented.  This is usually the result of calling `frame.insert` many times, which has poor performance.  Consider joining all columns at once using pd.concat(axis=1) instead. To get a de-fragmented frame, use `newframe = frame.copy()`\n",
      "  muestras['Muestra _'+str(i)]=_\n",
      "C:\\Users\\zazaz\\AppData\\Local\\Temp\\ipykernel_22132\\527239248.py:4: PerformanceWarning: DataFrame is highly fragmented.  This is usually the result of calling `frame.insert` many times, which has poor performance.  Consider joining all columns at once using pd.concat(axis=1) instead. To get a de-fragmented frame, use `newframe = frame.copy()`\n",
      "  muestras['Muestra _'+str(i)]=_\n",
      "C:\\Users\\zazaz\\AppData\\Local\\Temp\\ipykernel_22132\\527239248.py:4: PerformanceWarning: DataFrame is highly fragmented.  This is usually the result of calling `frame.insert` many times, which has poor performance.  Consider joining all columns at once using pd.concat(axis=1) instead. To get a de-fragmented frame, use `newframe = frame.copy()`\n",
      "  muestras['Muestra _'+str(i)]=_\n",
      "C:\\Users\\zazaz\\AppData\\Local\\Temp\\ipykernel_22132\\527239248.py:4: PerformanceWarning: DataFrame is highly fragmented.  This is usually the result of calling `frame.insert` many times, which has poor performance.  Consider joining all columns at once using pd.concat(axis=1) instead. To get a de-fragmented frame, use `newframe = frame.copy()`\n",
      "  muestras['Muestra _'+str(i)]=_\n",
      "C:\\Users\\zazaz\\AppData\\Local\\Temp\\ipykernel_22132\\527239248.py:4: PerformanceWarning: DataFrame is highly fragmented.  This is usually the result of calling `frame.insert` many times, which has poor performance.  Consider joining all columns at once using pd.concat(axis=1) instead. To get a de-fragmented frame, use `newframe = frame.copy()`\n",
      "  muestras['Muestra _'+str(i)]=_\n",
      "C:\\Users\\zazaz\\AppData\\Local\\Temp\\ipykernel_22132\\527239248.py:4: PerformanceWarning: DataFrame is highly fragmented.  This is usually the result of calling `frame.insert` many times, which has poor performance.  Consider joining all columns at once using pd.concat(axis=1) instead. To get a de-fragmented frame, use `newframe = frame.copy()`\n",
      "  muestras['Muestra _'+str(i)]=_\n",
      "C:\\Users\\zazaz\\AppData\\Local\\Temp\\ipykernel_22132\\527239248.py:4: PerformanceWarning: DataFrame is highly fragmented.  This is usually the result of calling `frame.insert` many times, which has poor performance.  Consider joining all columns at once using pd.concat(axis=1) instead. To get a de-fragmented frame, use `newframe = frame.copy()`\n",
      "  muestras['Muestra _'+str(i)]=_\n",
      "C:\\Users\\zazaz\\AppData\\Local\\Temp\\ipykernel_22132\\527239248.py:4: PerformanceWarning: DataFrame is highly fragmented.  This is usually the result of calling `frame.insert` many times, which has poor performance.  Consider joining all columns at once using pd.concat(axis=1) instead. To get a de-fragmented frame, use `newframe = frame.copy()`\n",
      "  muestras['Muestra _'+str(i)]=_\n",
      "C:\\Users\\zazaz\\AppData\\Local\\Temp\\ipykernel_22132\\527239248.py:4: PerformanceWarning: DataFrame is highly fragmented.  This is usually the result of calling `frame.insert` many times, which has poor performance.  Consider joining all columns at once using pd.concat(axis=1) instead. To get a de-fragmented frame, use `newframe = frame.copy()`\n",
      "  muestras['Muestra _'+str(i)]=_\n",
      "C:\\Users\\zazaz\\AppData\\Local\\Temp\\ipykernel_22132\\527239248.py:4: PerformanceWarning: DataFrame is highly fragmented.  This is usually the result of calling `frame.insert` many times, which has poor performance.  Consider joining all columns at once using pd.concat(axis=1) instead. To get a de-fragmented frame, use `newframe = frame.copy()`\n",
      "  muestras['Muestra _'+str(i)]=_\n",
      "C:\\Users\\zazaz\\AppData\\Local\\Temp\\ipykernel_22132\\527239248.py:4: PerformanceWarning: DataFrame is highly fragmented.  This is usually the result of calling `frame.insert` many times, which has poor performance.  Consider joining all columns at once using pd.concat(axis=1) instead. To get a de-fragmented frame, use `newframe = frame.copy()`\n",
      "  muestras['Muestra _'+str(i)]=_\n",
      "C:\\Users\\zazaz\\AppData\\Local\\Temp\\ipykernel_22132\\527239248.py:4: PerformanceWarning: DataFrame is highly fragmented.  This is usually the result of calling `frame.insert` many times, which has poor performance.  Consider joining all columns at once using pd.concat(axis=1) instead. To get a de-fragmented frame, use `newframe = frame.copy()`\n",
      "  muestras['Muestra _'+str(i)]=_\n",
      "C:\\Users\\zazaz\\AppData\\Local\\Temp\\ipykernel_22132\\527239248.py:4: PerformanceWarning: DataFrame is highly fragmented.  This is usually the result of calling `frame.insert` many times, which has poor performance.  Consider joining all columns at once using pd.concat(axis=1) instead. To get a de-fragmented frame, use `newframe = frame.copy()`\n",
      "  muestras['Muestra _'+str(i)]=_\n",
      "C:\\Users\\zazaz\\AppData\\Local\\Temp\\ipykernel_22132\\527239248.py:4: PerformanceWarning: DataFrame is highly fragmented.  This is usually the result of calling `frame.insert` many times, which has poor performance.  Consider joining all columns at once using pd.concat(axis=1) instead. To get a de-fragmented frame, use `newframe = frame.copy()`\n",
      "  muestras['Muestra _'+str(i)]=_\n",
      "C:\\Users\\zazaz\\AppData\\Local\\Temp\\ipykernel_22132\\527239248.py:4: PerformanceWarning: DataFrame is highly fragmented.  This is usually the result of calling `frame.insert` many times, which has poor performance.  Consider joining all columns at once using pd.concat(axis=1) instead. To get a de-fragmented frame, use `newframe = frame.copy()`\n",
      "  muestras['Muestra _'+str(i)]=_\n",
      "C:\\Users\\zazaz\\AppData\\Local\\Temp\\ipykernel_22132\\527239248.py:4: PerformanceWarning: DataFrame is highly fragmented.  This is usually the result of calling `frame.insert` many times, which has poor performance.  Consider joining all columns at once using pd.concat(axis=1) instead. To get a de-fragmented frame, use `newframe = frame.copy()`\n",
      "  muestras['Muestra _'+str(i)]=_\n",
      "C:\\Users\\zazaz\\AppData\\Local\\Temp\\ipykernel_22132\\527239248.py:4: PerformanceWarning: DataFrame is highly fragmented.  This is usually the result of calling `frame.insert` many times, which has poor performance.  Consider joining all columns at once using pd.concat(axis=1) instead. To get a de-fragmented frame, use `newframe = frame.copy()`\n",
      "  muestras['Muestra _'+str(i)]=_\n",
      "C:\\Users\\zazaz\\AppData\\Local\\Temp\\ipykernel_22132\\527239248.py:4: PerformanceWarning: DataFrame is highly fragmented.  This is usually the result of calling `frame.insert` many times, which has poor performance.  Consider joining all columns at once using pd.concat(axis=1) instead. To get a de-fragmented frame, use `newframe = frame.copy()`\n",
      "  muestras['Muestra _'+str(i)]=_\n",
      "C:\\Users\\zazaz\\AppData\\Local\\Temp\\ipykernel_22132\\527239248.py:4: PerformanceWarning: DataFrame is highly fragmented.  This is usually the result of calling `frame.insert` many times, which has poor performance.  Consider joining all columns at once using pd.concat(axis=1) instead. To get a de-fragmented frame, use `newframe = frame.copy()`\n",
      "  muestras['Muestra _'+str(i)]=_\n",
      "C:\\Users\\zazaz\\AppData\\Local\\Temp\\ipykernel_22132\\527239248.py:4: PerformanceWarning: DataFrame is highly fragmented.  This is usually the result of calling `frame.insert` many times, which has poor performance.  Consider joining all columns at once using pd.concat(axis=1) instead. To get a de-fragmented frame, use `newframe = frame.copy()`\n",
      "  muestras['Muestra _'+str(i)]=_\n",
      "C:\\Users\\zazaz\\AppData\\Local\\Temp\\ipykernel_22132\\527239248.py:4: PerformanceWarning: DataFrame is highly fragmented.  This is usually the result of calling `frame.insert` many times, which has poor performance.  Consider joining all columns at once using pd.concat(axis=1) instead. To get a de-fragmented frame, use `newframe = frame.copy()`\n",
      "  muestras['Muestra _'+str(i)]=_\n",
      "C:\\Users\\zazaz\\AppData\\Local\\Temp\\ipykernel_22132\\527239248.py:4: PerformanceWarning: DataFrame is highly fragmented.  This is usually the result of calling `frame.insert` many times, which has poor performance.  Consider joining all columns at once using pd.concat(axis=1) instead. To get a de-fragmented frame, use `newframe = frame.copy()`\n",
      "  muestras['Muestra _'+str(i)]=_\n",
      "C:\\Users\\zazaz\\AppData\\Local\\Temp\\ipykernel_22132\\527239248.py:4: PerformanceWarning: DataFrame is highly fragmented.  This is usually the result of calling `frame.insert` many times, which has poor performance.  Consider joining all columns at once using pd.concat(axis=1) instead. To get a de-fragmented frame, use `newframe = frame.copy()`\n",
      "  muestras['Muestra _'+str(i)]=_\n",
      "C:\\Users\\zazaz\\AppData\\Local\\Temp\\ipykernel_22132\\527239248.py:4: PerformanceWarning: DataFrame is highly fragmented.  This is usually the result of calling `frame.insert` many times, which has poor performance.  Consider joining all columns at once using pd.concat(axis=1) instead. To get a de-fragmented frame, use `newframe = frame.copy()`\n",
      "  muestras['Muestra _'+str(i)]=_\n",
      "C:\\Users\\zazaz\\AppData\\Local\\Temp\\ipykernel_22132\\527239248.py:4: PerformanceWarning: DataFrame is highly fragmented.  This is usually the result of calling `frame.insert` many times, which has poor performance.  Consider joining all columns at once using pd.concat(axis=1) instead. To get a de-fragmented frame, use `newframe = frame.copy()`\n",
      "  muestras['Muestra _'+str(i)]=_\n",
      "C:\\Users\\zazaz\\AppData\\Local\\Temp\\ipykernel_22132\\527239248.py:4: PerformanceWarning: DataFrame is highly fragmented.  This is usually the result of calling `frame.insert` many times, which has poor performance.  Consider joining all columns at once using pd.concat(axis=1) instead. To get a de-fragmented frame, use `newframe = frame.copy()`\n",
      "  muestras['Muestra _'+str(i)]=_\n",
      "C:\\Users\\zazaz\\AppData\\Local\\Temp\\ipykernel_22132\\527239248.py:4: PerformanceWarning: DataFrame is highly fragmented.  This is usually the result of calling `frame.insert` many times, which has poor performance.  Consider joining all columns at once using pd.concat(axis=1) instead. To get a de-fragmented frame, use `newframe = frame.copy()`\n",
      "  muestras['Muestra _'+str(i)]=_\n",
      "C:\\Users\\zazaz\\AppData\\Local\\Temp\\ipykernel_22132\\527239248.py:4: PerformanceWarning: DataFrame is highly fragmented.  This is usually the result of calling `frame.insert` many times, which has poor performance.  Consider joining all columns at once using pd.concat(axis=1) instead. To get a de-fragmented frame, use `newframe = frame.copy()`\n",
      "  muestras['Muestra _'+str(i)]=_\n",
      "C:\\Users\\zazaz\\AppData\\Local\\Temp\\ipykernel_22132\\527239248.py:4: PerformanceWarning: DataFrame is highly fragmented.  This is usually the result of calling `frame.insert` many times, which has poor performance.  Consider joining all columns at once using pd.concat(axis=1) instead. To get a de-fragmented frame, use `newframe = frame.copy()`\n",
      "  muestras['Muestra _'+str(i)]=_\n",
      "C:\\Users\\zazaz\\AppData\\Local\\Temp\\ipykernel_22132\\527239248.py:4: PerformanceWarning: DataFrame is highly fragmented.  This is usually the result of calling `frame.insert` many times, which has poor performance.  Consider joining all columns at once using pd.concat(axis=1) instead. To get a de-fragmented frame, use `newframe = frame.copy()`\n",
      "  muestras['Muestra _'+str(i)]=_\n",
      "C:\\Users\\zazaz\\AppData\\Local\\Temp\\ipykernel_22132\\527239248.py:4: PerformanceWarning: DataFrame is highly fragmented.  This is usually the result of calling `frame.insert` many times, which has poor performance.  Consider joining all columns at once using pd.concat(axis=1) instead. To get a de-fragmented frame, use `newframe = frame.copy()`\n",
      "  muestras['Muestra _'+str(i)]=_\n",
      "C:\\Users\\zazaz\\AppData\\Local\\Temp\\ipykernel_22132\\527239248.py:4: PerformanceWarning: DataFrame is highly fragmented.  This is usually the result of calling `frame.insert` many times, which has poor performance.  Consider joining all columns at once using pd.concat(axis=1) instead. To get a de-fragmented frame, use `newframe = frame.copy()`\n",
      "  muestras['Muestra _'+str(i)]=_\n",
      "C:\\Users\\zazaz\\AppData\\Local\\Temp\\ipykernel_22132\\527239248.py:4: PerformanceWarning: DataFrame is highly fragmented.  This is usually the result of calling `frame.insert` many times, which has poor performance.  Consider joining all columns at once using pd.concat(axis=1) instead. To get a de-fragmented frame, use `newframe = frame.copy()`\n",
      "  muestras['Muestra _'+str(i)]=_\n",
      "C:\\Users\\zazaz\\AppData\\Local\\Temp\\ipykernel_22132\\527239248.py:4: PerformanceWarning: DataFrame is highly fragmented.  This is usually the result of calling `frame.insert` many times, which has poor performance.  Consider joining all columns at once using pd.concat(axis=1) instead. To get a de-fragmented frame, use `newframe = frame.copy()`\n",
      "  muestras['Muestra _'+str(i)]=_\n",
      "C:\\Users\\zazaz\\AppData\\Local\\Temp\\ipykernel_22132\\527239248.py:4: PerformanceWarning: DataFrame is highly fragmented.  This is usually the result of calling `frame.insert` many times, which has poor performance.  Consider joining all columns at once using pd.concat(axis=1) instead. To get a de-fragmented frame, use `newframe = frame.copy()`\n",
      "  muestras['Muestra _'+str(i)]=_\n",
      "C:\\Users\\zazaz\\AppData\\Local\\Temp\\ipykernel_22132\\527239248.py:4: PerformanceWarning: DataFrame is highly fragmented.  This is usually the result of calling `frame.insert` many times, which has poor performance.  Consider joining all columns at once using pd.concat(axis=1) instead. To get a de-fragmented frame, use `newframe = frame.copy()`\n",
      "  muestras['Muestra _'+str(i)]=_\n",
      "C:\\Users\\zazaz\\AppData\\Local\\Temp\\ipykernel_22132\\527239248.py:4: PerformanceWarning: DataFrame is highly fragmented.  This is usually the result of calling `frame.insert` many times, which has poor performance.  Consider joining all columns at once using pd.concat(axis=1) instead. To get a de-fragmented frame, use `newframe = frame.copy()`\n",
      "  muestras['Muestra _'+str(i)]=_\n",
      "C:\\Users\\zazaz\\AppData\\Local\\Temp\\ipykernel_22132\\527239248.py:4: PerformanceWarning: DataFrame is highly fragmented.  This is usually the result of calling `frame.insert` many times, which has poor performance.  Consider joining all columns at once using pd.concat(axis=1) instead. To get a de-fragmented frame, use `newframe = frame.copy()`\n",
      "  muestras['Muestra _'+str(i)]=_\n",
      "C:\\Users\\zazaz\\AppData\\Local\\Temp\\ipykernel_22132\\527239248.py:4: PerformanceWarning: DataFrame is highly fragmented.  This is usually the result of calling `frame.insert` many times, which has poor performance.  Consider joining all columns at once using pd.concat(axis=1) instead. To get a de-fragmented frame, use `newframe = frame.copy()`\n",
      "  muestras['Muestra _'+str(i)]=_\n",
      "C:\\Users\\zazaz\\AppData\\Local\\Temp\\ipykernel_22132\\527239248.py:4: PerformanceWarning: DataFrame is highly fragmented.  This is usually the result of calling `frame.insert` many times, which has poor performance.  Consider joining all columns at once using pd.concat(axis=1) instead. To get a de-fragmented frame, use `newframe = frame.copy()`\n",
      "  muestras['Muestra _'+str(i)]=_\n",
      "C:\\Users\\zazaz\\AppData\\Local\\Temp\\ipykernel_22132\\527239248.py:4: PerformanceWarning: DataFrame is highly fragmented.  This is usually the result of calling `frame.insert` many times, which has poor performance.  Consider joining all columns at once using pd.concat(axis=1) instead. To get a de-fragmented frame, use `newframe = frame.copy()`\n",
      "  muestras['Muestra _'+str(i)]=_\n",
      "C:\\Users\\zazaz\\AppData\\Local\\Temp\\ipykernel_22132\\527239248.py:4: PerformanceWarning: DataFrame is highly fragmented.  This is usually the result of calling `frame.insert` many times, which has poor performance.  Consider joining all columns at once using pd.concat(axis=1) instead. To get a de-fragmented frame, use `newframe = frame.copy()`\n",
      "  muestras['Muestra _'+str(i)]=_\n",
      "C:\\Users\\zazaz\\AppData\\Local\\Temp\\ipykernel_22132\\527239248.py:4: PerformanceWarning: DataFrame is highly fragmented.  This is usually the result of calling `frame.insert` many times, which has poor performance.  Consider joining all columns at once using pd.concat(axis=1) instead. To get a de-fragmented frame, use `newframe = frame.copy()`\n",
      "  muestras['Muestra _'+str(i)]=_\n",
      "C:\\Users\\zazaz\\AppData\\Local\\Temp\\ipykernel_22132\\527239248.py:4: PerformanceWarning: DataFrame is highly fragmented.  This is usually the result of calling `frame.insert` many times, which has poor performance.  Consider joining all columns at once using pd.concat(axis=1) instead. To get a de-fragmented frame, use `newframe = frame.copy()`\n",
      "  muestras['Muestra _'+str(i)]=_\n",
      "C:\\Users\\zazaz\\AppData\\Local\\Temp\\ipykernel_22132\\527239248.py:4: PerformanceWarning: DataFrame is highly fragmented.  This is usually the result of calling `frame.insert` many times, which has poor performance.  Consider joining all columns at once using pd.concat(axis=1) instead. To get a de-fragmented frame, use `newframe = frame.copy()`\n",
      "  muestras['Muestra _'+str(i)]=_\n",
      "C:\\Users\\zazaz\\AppData\\Local\\Temp\\ipykernel_22132\\527239248.py:4: PerformanceWarning: DataFrame is highly fragmented.  This is usually the result of calling `frame.insert` many times, which has poor performance.  Consider joining all columns at once using pd.concat(axis=1) instead. To get a de-fragmented frame, use `newframe = frame.copy()`\n",
      "  muestras['Muestra _'+str(i)]=_\n",
      "C:\\Users\\zazaz\\AppData\\Local\\Temp\\ipykernel_22132\\527239248.py:4: PerformanceWarning: DataFrame is highly fragmented.  This is usually the result of calling `frame.insert` many times, which has poor performance.  Consider joining all columns at once using pd.concat(axis=1) instead. To get a de-fragmented frame, use `newframe = frame.copy()`\n",
      "  muestras['Muestra _'+str(i)]=_\n",
      "C:\\Users\\zazaz\\AppData\\Local\\Temp\\ipykernel_22132\\527239248.py:4: PerformanceWarning: DataFrame is highly fragmented.  This is usually the result of calling `frame.insert` many times, which has poor performance.  Consider joining all columns at once using pd.concat(axis=1) instead. To get a de-fragmented frame, use `newframe = frame.copy()`\n",
      "  muestras['Muestra _'+str(i)]=_\n",
      "C:\\Users\\zazaz\\AppData\\Local\\Temp\\ipykernel_22132\\527239248.py:4: PerformanceWarning: DataFrame is highly fragmented.  This is usually the result of calling `frame.insert` many times, which has poor performance.  Consider joining all columns at once using pd.concat(axis=1) instead. To get a de-fragmented frame, use `newframe = frame.copy()`\n",
      "  muestras['Muestra _'+str(i)]=_\n",
      "C:\\Users\\zazaz\\AppData\\Local\\Temp\\ipykernel_22132\\527239248.py:4: PerformanceWarning: DataFrame is highly fragmented.  This is usually the result of calling `frame.insert` many times, which has poor performance.  Consider joining all columns at once using pd.concat(axis=1) instead. To get a de-fragmented frame, use `newframe = frame.copy()`\n",
      "  muestras['Muestra _'+str(i)]=_\n",
      "C:\\Users\\zazaz\\AppData\\Local\\Temp\\ipykernel_22132\\527239248.py:4: PerformanceWarning: DataFrame is highly fragmented.  This is usually the result of calling `frame.insert` many times, which has poor performance.  Consider joining all columns at once using pd.concat(axis=1) instead. To get a de-fragmented frame, use `newframe = frame.copy()`\n",
      "  muestras['Muestra _'+str(i)]=_\n",
      "C:\\Users\\zazaz\\AppData\\Local\\Temp\\ipykernel_22132\\527239248.py:4: PerformanceWarning: DataFrame is highly fragmented.  This is usually the result of calling `frame.insert` many times, which has poor performance.  Consider joining all columns at once using pd.concat(axis=1) instead. To get a de-fragmented frame, use `newframe = frame.copy()`\n",
      "  muestras['Muestra _'+str(i)]=_\n",
      "C:\\Users\\zazaz\\AppData\\Local\\Temp\\ipykernel_22132\\527239248.py:4: PerformanceWarning: DataFrame is highly fragmented.  This is usually the result of calling `frame.insert` many times, which has poor performance.  Consider joining all columns at once using pd.concat(axis=1) instead. To get a de-fragmented frame, use `newframe = frame.copy()`\n",
      "  muestras['Muestra _'+str(i)]=_\n",
      "C:\\Users\\zazaz\\AppData\\Local\\Temp\\ipykernel_22132\\527239248.py:4: PerformanceWarning: DataFrame is highly fragmented.  This is usually the result of calling `frame.insert` many times, which has poor performance.  Consider joining all columns at once using pd.concat(axis=1) instead. To get a de-fragmented frame, use `newframe = frame.copy()`\n",
      "  muestras['Muestra _'+str(i)]=_\n",
      "C:\\Users\\zazaz\\AppData\\Local\\Temp\\ipykernel_22132\\527239248.py:4: PerformanceWarning: DataFrame is highly fragmented.  This is usually the result of calling `frame.insert` many times, which has poor performance.  Consider joining all columns at once using pd.concat(axis=1) instead. To get a de-fragmented frame, use `newframe = frame.copy()`\n",
      "  muestras['Muestra _'+str(i)]=_\n",
      "C:\\Users\\zazaz\\AppData\\Local\\Temp\\ipykernel_22132\\527239248.py:4: PerformanceWarning: DataFrame is highly fragmented.  This is usually the result of calling `frame.insert` many times, which has poor performance.  Consider joining all columns at once using pd.concat(axis=1) instead. To get a de-fragmented frame, use `newframe = frame.copy()`\n",
      "  muestras['Muestra _'+str(i)]=_\n",
      "C:\\Users\\zazaz\\AppData\\Local\\Temp\\ipykernel_22132\\527239248.py:4: PerformanceWarning: DataFrame is highly fragmented.  This is usually the result of calling `frame.insert` many times, which has poor performance.  Consider joining all columns at once using pd.concat(axis=1) instead. To get a de-fragmented frame, use `newframe = frame.copy()`\n",
      "  muestras['Muestra _'+str(i)]=_\n",
      "C:\\Users\\zazaz\\AppData\\Local\\Temp\\ipykernel_22132\\527239248.py:4: PerformanceWarning: DataFrame is highly fragmented.  This is usually the result of calling `frame.insert` many times, which has poor performance.  Consider joining all columns at once using pd.concat(axis=1) instead. To get a de-fragmented frame, use `newframe = frame.copy()`\n",
      "  muestras['Muestra _'+str(i)]=_\n",
      "C:\\Users\\zazaz\\AppData\\Local\\Temp\\ipykernel_22132\\527239248.py:4: PerformanceWarning: DataFrame is highly fragmented.  This is usually the result of calling `frame.insert` many times, which has poor performance.  Consider joining all columns at once using pd.concat(axis=1) instead. To get a de-fragmented frame, use `newframe = frame.copy()`\n",
      "  muestras['Muestra _'+str(i)]=_\n",
      "C:\\Users\\zazaz\\AppData\\Local\\Temp\\ipykernel_22132\\527239248.py:4: PerformanceWarning: DataFrame is highly fragmented.  This is usually the result of calling `frame.insert` many times, which has poor performance.  Consider joining all columns at once using pd.concat(axis=1) instead. To get a de-fragmented frame, use `newframe = frame.copy()`\n",
      "  muestras['Muestra _'+str(i)]=_\n",
      "C:\\Users\\zazaz\\AppData\\Local\\Temp\\ipykernel_22132\\527239248.py:4: PerformanceWarning: DataFrame is highly fragmented.  This is usually the result of calling `frame.insert` many times, which has poor performance.  Consider joining all columns at once using pd.concat(axis=1) instead. To get a de-fragmented frame, use `newframe = frame.copy()`\n",
      "  muestras['Muestra _'+str(i)]=_\n",
      "C:\\Users\\zazaz\\AppData\\Local\\Temp\\ipykernel_22132\\527239248.py:4: PerformanceWarning: DataFrame is highly fragmented.  This is usually the result of calling `frame.insert` many times, which has poor performance.  Consider joining all columns at once using pd.concat(axis=1) instead. To get a de-fragmented frame, use `newframe = frame.copy()`\n",
      "  muestras['Muestra _'+str(i)]=_\n",
      "C:\\Users\\zazaz\\AppData\\Local\\Temp\\ipykernel_22132\\527239248.py:4: PerformanceWarning: DataFrame is highly fragmented.  This is usually the result of calling `frame.insert` many times, which has poor performance.  Consider joining all columns at once using pd.concat(axis=1) instead. To get a de-fragmented frame, use `newframe = frame.copy()`\n",
      "  muestras['Muestra _'+str(i)]=_\n",
      "C:\\Users\\zazaz\\AppData\\Local\\Temp\\ipykernel_22132\\527239248.py:4: PerformanceWarning: DataFrame is highly fragmented.  This is usually the result of calling `frame.insert` many times, which has poor performance.  Consider joining all columns at once using pd.concat(axis=1) instead. To get a de-fragmented frame, use `newframe = frame.copy()`\n",
      "  muestras['Muestra _'+str(i)]=_\n",
      "C:\\Users\\zazaz\\AppData\\Local\\Temp\\ipykernel_22132\\527239248.py:4: PerformanceWarning: DataFrame is highly fragmented.  This is usually the result of calling `frame.insert` many times, which has poor performance.  Consider joining all columns at once using pd.concat(axis=1) instead. To get a de-fragmented frame, use `newframe = frame.copy()`\n",
      "  muestras['Muestra _'+str(i)]=_\n",
      "C:\\Users\\zazaz\\AppData\\Local\\Temp\\ipykernel_22132\\527239248.py:4: PerformanceWarning: DataFrame is highly fragmented.  This is usually the result of calling `frame.insert` many times, which has poor performance.  Consider joining all columns at once using pd.concat(axis=1) instead. To get a de-fragmented frame, use `newframe = frame.copy()`\n",
      "  muestras['Muestra _'+str(i)]=_\n",
      "C:\\Users\\zazaz\\AppData\\Local\\Temp\\ipykernel_22132\\527239248.py:4: PerformanceWarning: DataFrame is highly fragmented.  This is usually the result of calling `frame.insert` many times, which has poor performance.  Consider joining all columns at once using pd.concat(axis=1) instead. To get a de-fragmented frame, use `newframe = frame.copy()`\n",
      "  muestras['Muestra _'+str(i)]=_\n",
      "C:\\Users\\zazaz\\AppData\\Local\\Temp\\ipykernel_22132\\527239248.py:4: PerformanceWarning: DataFrame is highly fragmented.  This is usually the result of calling `frame.insert` many times, which has poor performance.  Consider joining all columns at once using pd.concat(axis=1) instead. To get a de-fragmented frame, use `newframe = frame.copy()`\n",
      "  muestras['Muestra _'+str(i)]=_\n",
      "C:\\Users\\zazaz\\AppData\\Local\\Temp\\ipykernel_22132\\527239248.py:4: PerformanceWarning: DataFrame is highly fragmented.  This is usually the result of calling `frame.insert` many times, which has poor performance.  Consider joining all columns at once using pd.concat(axis=1) instead. To get a de-fragmented frame, use `newframe = frame.copy()`\n",
      "  muestras['Muestra _'+str(i)]=_\n",
      "C:\\Users\\zazaz\\AppData\\Local\\Temp\\ipykernel_22132\\527239248.py:4: PerformanceWarning: DataFrame is highly fragmented.  This is usually the result of calling `frame.insert` many times, which has poor performance.  Consider joining all columns at once using pd.concat(axis=1) instead. To get a de-fragmented frame, use `newframe = frame.copy()`\n",
      "  muestras['Muestra _'+str(i)]=_\n",
      "C:\\Users\\zazaz\\AppData\\Local\\Temp\\ipykernel_22132\\527239248.py:4: PerformanceWarning: DataFrame is highly fragmented.  This is usually the result of calling `frame.insert` many times, which has poor performance.  Consider joining all columns at once using pd.concat(axis=1) instead. To get a de-fragmented frame, use `newframe = frame.copy()`\n",
      "  muestras['Muestra _'+str(i)]=_\n",
      "C:\\Users\\zazaz\\AppData\\Local\\Temp\\ipykernel_22132\\527239248.py:4: PerformanceWarning: DataFrame is highly fragmented.  This is usually the result of calling `frame.insert` many times, which has poor performance.  Consider joining all columns at once using pd.concat(axis=1) instead. To get a de-fragmented frame, use `newframe = frame.copy()`\n",
      "  muestras['Muestra _'+str(i)]=_\n",
      "C:\\Users\\zazaz\\AppData\\Local\\Temp\\ipykernel_22132\\527239248.py:4: PerformanceWarning: DataFrame is highly fragmented.  This is usually the result of calling `frame.insert` many times, which has poor performance.  Consider joining all columns at once using pd.concat(axis=1) instead. To get a de-fragmented frame, use `newframe = frame.copy()`\n",
      "  muestras['Muestra _'+str(i)]=_\n",
      "C:\\Users\\zazaz\\AppData\\Local\\Temp\\ipykernel_22132\\527239248.py:4: PerformanceWarning: DataFrame is highly fragmented.  This is usually the result of calling `frame.insert` many times, which has poor performance.  Consider joining all columns at once using pd.concat(axis=1) instead. To get a de-fragmented frame, use `newframe = frame.copy()`\n",
      "  muestras['Muestra _'+str(i)]=_\n",
      "C:\\Users\\zazaz\\AppData\\Local\\Temp\\ipykernel_22132\\527239248.py:4: PerformanceWarning: DataFrame is highly fragmented.  This is usually the result of calling `frame.insert` many times, which has poor performance.  Consider joining all columns at once using pd.concat(axis=1) instead. To get a de-fragmented frame, use `newframe = frame.copy()`\n",
      "  muestras['Muestra _'+str(i)]=_\n",
      "C:\\Users\\zazaz\\AppData\\Local\\Temp\\ipykernel_22132\\527239248.py:4: PerformanceWarning: DataFrame is highly fragmented.  This is usually the result of calling `frame.insert` many times, which has poor performance.  Consider joining all columns at once using pd.concat(axis=1) instead. To get a de-fragmented frame, use `newframe = frame.copy()`\n",
      "  muestras['Muestra _'+str(i)]=_\n",
      "C:\\Users\\zazaz\\AppData\\Local\\Temp\\ipykernel_22132\\527239248.py:4: PerformanceWarning: DataFrame is highly fragmented.  This is usually the result of calling `frame.insert` many times, which has poor performance.  Consider joining all columns at once using pd.concat(axis=1) instead. To get a de-fragmented frame, use `newframe = frame.copy()`\n",
      "  muestras['Muestra _'+str(i)]=_\n",
      "C:\\Users\\zazaz\\AppData\\Local\\Temp\\ipykernel_22132\\527239248.py:4: PerformanceWarning: DataFrame is highly fragmented.  This is usually the result of calling `frame.insert` many times, which has poor performance.  Consider joining all columns at once using pd.concat(axis=1) instead. To get a de-fragmented frame, use `newframe = frame.copy()`\n",
      "  muestras['Muestra _'+str(i)]=_\n",
      "C:\\Users\\zazaz\\AppData\\Local\\Temp\\ipykernel_22132\\527239248.py:4: PerformanceWarning: DataFrame is highly fragmented.  This is usually the result of calling `frame.insert` many times, which has poor performance.  Consider joining all columns at once using pd.concat(axis=1) instead. To get a de-fragmented frame, use `newframe = frame.copy()`\n",
      "  muestras['Muestra _'+str(i)]=_\n",
      "C:\\Users\\zazaz\\AppData\\Local\\Temp\\ipykernel_22132\\527239248.py:4: PerformanceWarning: DataFrame is highly fragmented.  This is usually the result of calling `frame.insert` many times, which has poor performance.  Consider joining all columns at once using pd.concat(axis=1) instead. To get a de-fragmented frame, use `newframe = frame.copy()`\n",
      "  muestras['Muestra _'+str(i)]=_\n",
      "C:\\Users\\zazaz\\AppData\\Local\\Temp\\ipykernel_22132\\527239248.py:4: PerformanceWarning: DataFrame is highly fragmented.  This is usually the result of calling `frame.insert` many times, which has poor performance.  Consider joining all columns at once using pd.concat(axis=1) instead. To get a de-fragmented frame, use `newframe = frame.copy()`\n",
      "  muestras['Muestra _'+str(i)]=_\n",
      "C:\\Users\\zazaz\\AppData\\Local\\Temp\\ipykernel_22132\\527239248.py:4: PerformanceWarning: DataFrame is highly fragmented.  This is usually the result of calling `frame.insert` many times, which has poor performance.  Consider joining all columns at once using pd.concat(axis=1) instead. To get a de-fragmented frame, use `newframe = frame.copy()`\n",
      "  muestras['Muestra _'+str(i)]=_\n",
      "C:\\Users\\zazaz\\AppData\\Local\\Temp\\ipykernel_22132\\527239248.py:4: PerformanceWarning: DataFrame is highly fragmented.  This is usually the result of calling `frame.insert` many times, which has poor performance.  Consider joining all columns at once using pd.concat(axis=1) instead. To get a de-fragmented frame, use `newframe = frame.copy()`\n",
      "  muestras['Muestra _'+str(i)]=_\n",
      "C:\\Users\\zazaz\\AppData\\Local\\Temp\\ipykernel_22132\\527239248.py:4: PerformanceWarning: DataFrame is highly fragmented.  This is usually the result of calling `frame.insert` many times, which has poor performance.  Consider joining all columns at once using pd.concat(axis=1) instead. To get a de-fragmented frame, use `newframe = frame.copy()`\n",
      "  muestras['Muestra _'+str(i)]=_\n",
      "C:\\Users\\zazaz\\AppData\\Local\\Temp\\ipykernel_22132\\527239248.py:4: PerformanceWarning: DataFrame is highly fragmented.  This is usually the result of calling `frame.insert` many times, which has poor performance.  Consider joining all columns at once using pd.concat(axis=1) instead. To get a de-fragmented frame, use `newframe = frame.copy()`\n",
      "  muestras['Muestra _'+str(i)]=_\n",
      "C:\\Users\\zazaz\\AppData\\Local\\Temp\\ipykernel_22132\\527239248.py:4: PerformanceWarning: DataFrame is highly fragmented.  This is usually the result of calling `frame.insert` many times, which has poor performance.  Consider joining all columns at once using pd.concat(axis=1) instead. To get a de-fragmented frame, use `newframe = frame.copy()`\n",
      "  muestras['Muestra _'+str(i)]=_\n",
      "C:\\Users\\zazaz\\AppData\\Local\\Temp\\ipykernel_22132\\527239248.py:4: PerformanceWarning: DataFrame is highly fragmented.  This is usually the result of calling `frame.insert` many times, which has poor performance.  Consider joining all columns at once using pd.concat(axis=1) instead. To get a de-fragmented frame, use `newframe = frame.copy()`\n",
      "  muestras['Muestra _'+str(i)]=_\n",
      "C:\\Users\\zazaz\\AppData\\Local\\Temp\\ipykernel_22132\\527239248.py:4: PerformanceWarning: DataFrame is highly fragmented.  This is usually the result of calling `frame.insert` many times, which has poor performance.  Consider joining all columns at once using pd.concat(axis=1) instead. To get a de-fragmented frame, use `newframe = frame.copy()`\n",
      "  muestras['Muestra _'+str(i)]=_\n",
      "C:\\Users\\zazaz\\AppData\\Local\\Temp\\ipykernel_22132\\527239248.py:4: PerformanceWarning: DataFrame is highly fragmented.  This is usually the result of calling `frame.insert` many times, which has poor performance.  Consider joining all columns at once using pd.concat(axis=1) instead. To get a de-fragmented frame, use `newframe = frame.copy()`\n",
      "  muestras['Muestra _'+str(i)]=_\n",
      "C:\\Users\\zazaz\\AppData\\Local\\Temp\\ipykernel_22132\\527239248.py:4: PerformanceWarning: DataFrame is highly fragmented.  This is usually the result of calling `frame.insert` many times, which has poor performance.  Consider joining all columns at once using pd.concat(axis=1) instead. To get a de-fragmented frame, use `newframe = frame.copy()`\n",
      "  muestras['Muestra _'+str(i)]=_\n",
      "C:\\Users\\zazaz\\AppData\\Local\\Temp\\ipykernel_22132\\527239248.py:4: PerformanceWarning: DataFrame is highly fragmented.  This is usually the result of calling `frame.insert` many times, which has poor performance.  Consider joining all columns at once using pd.concat(axis=1) instead. To get a de-fragmented frame, use `newframe = frame.copy()`\n",
      "  muestras['Muestra _'+str(i)]=_\n",
      "C:\\Users\\zazaz\\AppData\\Local\\Temp\\ipykernel_22132\\527239248.py:4: PerformanceWarning: DataFrame is highly fragmented.  This is usually the result of calling `frame.insert` many times, which has poor performance.  Consider joining all columns at once using pd.concat(axis=1) instead. To get a de-fragmented frame, use `newframe = frame.copy()`\n",
      "  muestras['Muestra _'+str(i)]=_\n",
      "C:\\Users\\zazaz\\AppData\\Local\\Temp\\ipykernel_22132\\527239248.py:4: PerformanceWarning: DataFrame is highly fragmented.  This is usually the result of calling `frame.insert` many times, which has poor performance.  Consider joining all columns at once using pd.concat(axis=1) instead. To get a de-fragmented frame, use `newframe = frame.copy()`\n",
      "  muestras['Muestra _'+str(i)]=_\n",
      "C:\\Users\\zazaz\\AppData\\Local\\Temp\\ipykernel_22132\\527239248.py:4: PerformanceWarning: DataFrame is highly fragmented.  This is usually the result of calling `frame.insert` many times, which has poor performance.  Consider joining all columns at once using pd.concat(axis=1) instead. To get a de-fragmented frame, use `newframe = frame.copy()`\n",
      "  muestras['Muestra _'+str(i)]=_\n",
      "C:\\Users\\zazaz\\AppData\\Local\\Temp\\ipykernel_22132\\527239248.py:4: PerformanceWarning: DataFrame is highly fragmented.  This is usually the result of calling `frame.insert` many times, which has poor performance.  Consider joining all columns at once using pd.concat(axis=1) instead. To get a de-fragmented frame, use `newframe = frame.copy()`\n",
      "  muestras['Muestra _'+str(i)]=_\n",
      "C:\\Users\\zazaz\\AppData\\Local\\Temp\\ipykernel_22132\\527239248.py:4: PerformanceWarning: DataFrame is highly fragmented.  This is usually the result of calling `frame.insert` many times, which has poor performance.  Consider joining all columns at once using pd.concat(axis=1) instead. To get a de-fragmented frame, use `newframe = frame.copy()`\n",
      "  muestras['Muestra _'+str(i)]=_\n",
      "C:\\Users\\zazaz\\AppData\\Local\\Temp\\ipykernel_22132\\527239248.py:4: PerformanceWarning: DataFrame is highly fragmented.  This is usually the result of calling `frame.insert` many times, which has poor performance.  Consider joining all columns at once using pd.concat(axis=1) instead. To get a de-fragmented frame, use `newframe = frame.copy()`\n",
      "  muestras['Muestra _'+str(i)]=_\n",
      "C:\\Users\\zazaz\\AppData\\Local\\Temp\\ipykernel_22132\\527239248.py:4: PerformanceWarning: DataFrame is highly fragmented.  This is usually the result of calling `frame.insert` many times, which has poor performance.  Consider joining all columns at once using pd.concat(axis=1) instead. To get a de-fragmented frame, use `newframe = frame.copy()`\n",
      "  muestras['Muestra _'+str(i)]=_\n",
      "C:\\Users\\zazaz\\AppData\\Local\\Temp\\ipykernel_22132\\527239248.py:4: PerformanceWarning: DataFrame is highly fragmented.  This is usually the result of calling `frame.insert` many times, which has poor performance.  Consider joining all columns at once using pd.concat(axis=1) instead. To get a de-fragmented frame, use `newframe = frame.copy()`\n",
      "  muestras['Muestra _'+str(i)]=_\n",
      "C:\\Users\\zazaz\\AppData\\Local\\Temp\\ipykernel_22132\\527239248.py:4: PerformanceWarning: DataFrame is highly fragmented.  This is usually the result of calling `frame.insert` many times, which has poor performance.  Consider joining all columns at once using pd.concat(axis=1) instead. To get a de-fragmented frame, use `newframe = frame.copy()`\n",
      "  muestras['Muestra _'+str(i)]=_\n",
      "C:\\Users\\zazaz\\AppData\\Local\\Temp\\ipykernel_22132\\527239248.py:4: PerformanceWarning: DataFrame is highly fragmented.  This is usually the result of calling `frame.insert` many times, which has poor performance.  Consider joining all columns at once using pd.concat(axis=1) instead. To get a de-fragmented frame, use `newframe = frame.copy()`\n",
      "  muestras['Muestra _'+str(i)]=_\n",
      "C:\\Users\\zazaz\\AppData\\Local\\Temp\\ipykernel_22132\\527239248.py:4: PerformanceWarning: DataFrame is highly fragmented.  This is usually the result of calling `frame.insert` many times, which has poor performance.  Consider joining all columns at once using pd.concat(axis=1) instead. To get a de-fragmented frame, use `newframe = frame.copy()`\n",
      "  muestras['Muestra _'+str(i)]=_\n",
      "C:\\Users\\zazaz\\AppData\\Local\\Temp\\ipykernel_22132\\527239248.py:4: PerformanceWarning: DataFrame is highly fragmented.  This is usually the result of calling `frame.insert` many times, which has poor performance.  Consider joining all columns at once using pd.concat(axis=1) instead. To get a de-fragmented frame, use `newframe = frame.copy()`\n",
      "  muestras['Muestra _'+str(i)]=_\n",
      "C:\\Users\\zazaz\\AppData\\Local\\Temp\\ipykernel_22132\\527239248.py:4: PerformanceWarning: DataFrame is highly fragmented.  This is usually the result of calling `frame.insert` many times, which has poor performance.  Consider joining all columns at once using pd.concat(axis=1) instead. To get a de-fragmented frame, use `newframe = frame.copy()`\n",
      "  muestras['Muestra _'+str(i)]=_\n",
      "C:\\Users\\zazaz\\AppData\\Local\\Temp\\ipykernel_22132\\527239248.py:4: PerformanceWarning: DataFrame is highly fragmented.  This is usually the result of calling `frame.insert` many times, which has poor performance.  Consider joining all columns at once using pd.concat(axis=1) instead. To get a de-fragmented frame, use `newframe = frame.copy()`\n",
      "  muestras['Muestra _'+str(i)]=_\n",
      "C:\\Users\\zazaz\\AppData\\Local\\Temp\\ipykernel_22132\\527239248.py:4: PerformanceWarning: DataFrame is highly fragmented.  This is usually the result of calling `frame.insert` many times, which has poor performance.  Consider joining all columns at once using pd.concat(axis=1) instead. To get a de-fragmented frame, use `newframe = frame.copy()`\n",
      "  muestras['Muestra _'+str(i)]=_\n",
      "C:\\Users\\zazaz\\AppData\\Local\\Temp\\ipykernel_22132\\527239248.py:4: PerformanceWarning: DataFrame is highly fragmented.  This is usually the result of calling `frame.insert` many times, which has poor performance.  Consider joining all columns at once using pd.concat(axis=1) instead. To get a de-fragmented frame, use `newframe = frame.copy()`\n",
      "  muestras['Muestra _'+str(i)]=_\n",
      "C:\\Users\\zazaz\\AppData\\Local\\Temp\\ipykernel_22132\\527239248.py:4: PerformanceWarning: DataFrame is highly fragmented.  This is usually the result of calling `frame.insert` many times, which has poor performance.  Consider joining all columns at once using pd.concat(axis=1) instead. To get a de-fragmented frame, use `newframe = frame.copy()`\n",
      "  muestras['Muestra _'+str(i)]=_\n",
      "C:\\Users\\zazaz\\AppData\\Local\\Temp\\ipykernel_22132\\527239248.py:4: PerformanceWarning: DataFrame is highly fragmented.  This is usually the result of calling `frame.insert` many times, which has poor performance.  Consider joining all columns at once using pd.concat(axis=1) instead. To get a de-fragmented frame, use `newframe = frame.copy()`\n",
      "  muestras['Muestra _'+str(i)]=_\n",
      "C:\\Users\\zazaz\\AppData\\Local\\Temp\\ipykernel_22132\\527239248.py:4: PerformanceWarning: DataFrame is highly fragmented.  This is usually the result of calling `frame.insert` many times, which has poor performance.  Consider joining all columns at once using pd.concat(axis=1) instead. To get a de-fragmented frame, use `newframe = frame.copy()`\n",
      "  muestras['Muestra _'+str(i)]=_\n",
      "C:\\Users\\zazaz\\AppData\\Local\\Temp\\ipykernel_22132\\527239248.py:4: PerformanceWarning: DataFrame is highly fragmented.  This is usually the result of calling `frame.insert` many times, which has poor performance.  Consider joining all columns at once using pd.concat(axis=1) instead. To get a de-fragmented frame, use `newframe = frame.copy()`\n",
      "  muestras['Muestra _'+str(i)]=_\n",
      "C:\\Users\\zazaz\\AppData\\Local\\Temp\\ipykernel_22132\\527239248.py:4: PerformanceWarning: DataFrame is highly fragmented.  This is usually the result of calling `frame.insert` many times, which has poor performance.  Consider joining all columns at once using pd.concat(axis=1) instead. To get a de-fragmented frame, use `newframe = frame.copy()`\n",
      "  muestras['Muestra _'+str(i)]=_\n",
      "C:\\Users\\zazaz\\AppData\\Local\\Temp\\ipykernel_22132\\527239248.py:4: PerformanceWarning: DataFrame is highly fragmented.  This is usually the result of calling `frame.insert` many times, which has poor performance.  Consider joining all columns at once using pd.concat(axis=1) instead. To get a de-fragmented frame, use `newframe = frame.copy()`\n",
      "  muestras['Muestra _'+str(i)]=_\n",
      "C:\\Users\\zazaz\\AppData\\Local\\Temp\\ipykernel_22132\\527239248.py:4: PerformanceWarning: DataFrame is highly fragmented.  This is usually the result of calling `frame.insert` many times, which has poor performance.  Consider joining all columns at once using pd.concat(axis=1) instead. To get a de-fragmented frame, use `newframe = frame.copy()`\n",
      "  muestras['Muestra _'+str(i)]=_\n",
      "C:\\Users\\zazaz\\AppData\\Local\\Temp\\ipykernel_22132\\527239248.py:4: PerformanceWarning: DataFrame is highly fragmented.  This is usually the result of calling `frame.insert` many times, which has poor performance.  Consider joining all columns at once using pd.concat(axis=1) instead. To get a de-fragmented frame, use `newframe = frame.copy()`\n",
      "  muestras['Muestra _'+str(i)]=_\n",
      "C:\\Users\\zazaz\\AppData\\Local\\Temp\\ipykernel_22132\\527239248.py:4: PerformanceWarning: DataFrame is highly fragmented.  This is usually the result of calling `frame.insert` many times, which has poor performance.  Consider joining all columns at once using pd.concat(axis=1) instead. To get a de-fragmented frame, use `newframe = frame.copy()`\n",
      "  muestras['Muestra _'+str(i)]=_\n",
      "C:\\Users\\zazaz\\AppData\\Local\\Temp\\ipykernel_22132\\527239248.py:4: PerformanceWarning: DataFrame is highly fragmented.  This is usually the result of calling `frame.insert` many times, which has poor performance.  Consider joining all columns at once using pd.concat(axis=1) instead. To get a de-fragmented frame, use `newframe = frame.copy()`\n",
      "  muestras['Muestra _'+str(i)]=_\n",
      "C:\\Users\\zazaz\\AppData\\Local\\Temp\\ipykernel_22132\\527239248.py:4: PerformanceWarning: DataFrame is highly fragmented.  This is usually the result of calling `frame.insert` many times, which has poor performance.  Consider joining all columns at once using pd.concat(axis=1) instead. To get a de-fragmented frame, use `newframe = frame.copy()`\n",
      "  muestras['Muestra _'+str(i)]=_\n",
      "C:\\Users\\zazaz\\AppData\\Local\\Temp\\ipykernel_22132\\527239248.py:4: PerformanceWarning: DataFrame is highly fragmented.  This is usually the result of calling `frame.insert` many times, which has poor performance.  Consider joining all columns at once using pd.concat(axis=1) instead. To get a de-fragmented frame, use `newframe = frame.copy()`\n",
      "  muestras['Muestra _'+str(i)]=_\n",
      "C:\\Users\\zazaz\\AppData\\Local\\Temp\\ipykernel_22132\\527239248.py:4: PerformanceWarning: DataFrame is highly fragmented.  This is usually the result of calling `frame.insert` many times, which has poor performance.  Consider joining all columns at once using pd.concat(axis=1) instead. To get a de-fragmented frame, use `newframe = frame.copy()`\n",
      "  muestras['Muestra _'+str(i)]=_\n",
      "C:\\Users\\zazaz\\AppData\\Local\\Temp\\ipykernel_22132\\527239248.py:4: PerformanceWarning: DataFrame is highly fragmented.  This is usually the result of calling `frame.insert` many times, which has poor performance.  Consider joining all columns at once using pd.concat(axis=1) instead. To get a de-fragmented frame, use `newframe = frame.copy()`\n",
      "  muestras['Muestra _'+str(i)]=_\n",
      "C:\\Users\\zazaz\\AppData\\Local\\Temp\\ipykernel_22132\\527239248.py:4: PerformanceWarning: DataFrame is highly fragmented.  This is usually the result of calling `frame.insert` many times, which has poor performance.  Consider joining all columns at once using pd.concat(axis=1) instead. To get a de-fragmented frame, use `newframe = frame.copy()`\n",
      "  muestras['Muestra _'+str(i)]=_\n",
      "C:\\Users\\zazaz\\AppData\\Local\\Temp\\ipykernel_22132\\527239248.py:4: PerformanceWarning: DataFrame is highly fragmented.  This is usually the result of calling `frame.insert` many times, which has poor performance.  Consider joining all columns at once using pd.concat(axis=1) instead. To get a de-fragmented frame, use `newframe = frame.copy()`\n",
      "  muestras['Muestra _'+str(i)]=_\n",
      "C:\\Users\\zazaz\\AppData\\Local\\Temp\\ipykernel_22132\\527239248.py:4: PerformanceWarning: DataFrame is highly fragmented.  This is usually the result of calling `frame.insert` many times, which has poor performance.  Consider joining all columns at once using pd.concat(axis=1) instead. To get a de-fragmented frame, use `newframe = frame.copy()`\n",
      "  muestras['Muestra _'+str(i)]=_\n",
      "C:\\Users\\zazaz\\AppData\\Local\\Temp\\ipykernel_22132\\527239248.py:4: PerformanceWarning: DataFrame is highly fragmented.  This is usually the result of calling `frame.insert` many times, which has poor performance.  Consider joining all columns at once using pd.concat(axis=1) instead. To get a de-fragmented frame, use `newframe = frame.copy()`\n",
      "  muestras['Muestra _'+str(i)]=_\n",
      "C:\\Users\\zazaz\\AppData\\Local\\Temp\\ipykernel_22132\\527239248.py:4: PerformanceWarning: DataFrame is highly fragmented.  This is usually the result of calling `frame.insert` many times, which has poor performance.  Consider joining all columns at once using pd.concat(axis=1) instead. To get a de-fragmented frame, use `newframe = frame.copy()`\n",
      "  muestras['Muestra _'+str(i)]=_\n",
      "C:\\Users\\zazaz\\AppData\\Local\\Temp\\ipykernel_22132\\527239248.py:4: PerformanceWarning: DataFrame is highly fragmented.  This is usually the result of calling `frame.insert` many times, which has poor performance.  Consider joining all columns at once using pd.concat(axis=1) instead. To get a de-fragmented frame, use `newframe = frame.copy()`\n",
      "  muestras['Muestra _'+str(i)]=_\n",
      "C:\\Users\\zazaz\\AppData\\Local\\Temp\\ipykernel_22132\\527239248.py:4: PerformanceWarning: DataFrame is highly fragmented.  This is usually the result of calling `frame.insert` many times, which has poor performance.  Consider joining all columns at once using pd.concat(axis=1) instead. To get a de-fragmented frame, use `newframe = frame.copy()`\n",
      "  muestras['Muestra _'+str(i)]=_\n",
      "C:\\Users\\zazaz\\AppData\\Local\\Temp\\ipykernel_22132\\527239248.py:4: PerformanceWarning: DataFrame is highly fragmented.  This is usually the result of calling `frame.insert` many times, which has poor performance.  Consider joining all columns at once using pd.concat(axis=1) instead. To get a de-fragmented frame, use `newframe = frame.copy()`\n",
      "  muestras['Muestra _'+str(i)]=_\n",
      "C:\\Users\\zazaz\\AppData\\Local\\Temp\\ipykernel_22132\\527239248.py:4: PerformanceWarning: DataFrame is highly fragmented.  This is usually the result of calling `frame.insert` many times, which has poor performance.  Consider joining all columns at once using pd.concat(axis=1) instead. To get a de-fragmented frame, use `newframe = frame.copy()`\n",
      "  muestras['Muestra _'+str(i)]=_\n",
      "C:\\Users\\zazaz\\AppData\\Local\\Temp\\ipykernel_22132\\527239248.py:4: PerformanceWarning: DataFrame is highly fragmented.  This is usually the result of calling `frame.insert` many times, which has poor performance.  Consider joining all columns at once using pd.concat(axis=1) instead. To get a de-fragmented frame, use `newframe = frame.copy()`\n",
      "  muestras['Muestra _'+str(i)]=_\n",
      "C:\\Users\\zazaz\\AppData\\Local\\Temp\\ipykernel_22132\\527239248.py:4: PerformanceWarning: DataFrame is highly fragmented.  This is usually the result of calling `frame.insert` many times, which has poor performance.  Consider joining all columns at once using pd.concat(axis=1) instead. To get a de-fragmented frame, use `newframe = frame.copy()`\n",
      "  muestras['Muestra _'+str(i)]=_\n",
      "C:\\Users\\zazaz\\AppData\\Local\\Temp\\ipykernel_22132\\527239248.py:4: PerformanceWarning: DataFrame is highly fragmented.  This is usually the result of calling `frame.insert` many times, which has poor performance.  Consider joining all columns at once using pd.concat(axis=1) instead. To get a de-fragmented frame, use `newframe = frame.copy()`\n",
      "  muestras['Muestra _'+str(i)]=_\n",
      "C:\\Users\\zazaz\\AppData\\Local\\Temp\\ipykernel_22132\\527239248.py:4: PerformanceWarning: DataFrame is highly fragmented.  This is usually the result of calling `frame.insert` many times, which has poor performance.  Consider joining all columns at once using pd.concat(axis=1) instead. To get a de-fragmented frame, use `newframe = frame.copy()`\n",
      "  muestras['Muestra _'+str(i)]=_\n",
      "C:\\Users\\zazaz\\AppData\\Local\\Temp\\ipykernel_22132\\527239248.py:4: PerformanceWarning: DataFrame is highly fragmented.  This is usually the result of calling `frame.insert` many times, which has poor performance.  Consider joining all columns at once using pd.concat(axis=1) instead. To get a de-fragmented frame, use `newframe = frame.copy()`\n",
      "  muestras['Muestra _'+str(i)]=_\n",
      "C:\\Users\\zazaz\\AppData\\Local\\Temp\\ipykernel_22132\\527239248.py:4: PerformanceWarning: DataFrame is highly fragmented.  This is usually the result of calling `frame.insert` many times, which has poor performance.  Consider joining all columns at once using pd.concat(axis=1) instead. To get a de-fragmented frame, use `newframe = frame.copy()`\n",
      "  muestras['Muestra _'+str(i)]=_\n",
      "C:\\Users\\zazaz\\AppData\\Local\\Temp\\ipykernel_22132\\527239248.py:4: PerformanceWarning: DataFrame is highly fragmented.  This is usually the result of calling `frame.insert` many times, which has poor performance.  Consider joining all columns at once using pd.concat(axis=1) instead. To get a de-fragmented frame, use `newframe = frame.copy()`\n",
      "  muestras['Muestra _'+str(i)]=_\n",
      "C:\\Users\\zazaz\\AppData\\Local\\Temp\\ipykernel_22132\\527239248.py:4: PerformanceWarning: DataFrame is highly fragmented.  This is usually the result of calling `frame.insert` many times, which has poor performance.  Consider joining all columns at once using pd.concat(axis=1) instead. To get a de-fragmented frame, use `newframe = frame.copy()`\n",
      "  muestras['Muestra _'+str(i)]=_\n",
      "C:\\Users\\zazaz\\AppData\\Local\\Temp\\ipykernel_22132\\527239248.py:4: PerformanceWarning: DataFrame is highly fragmented.  This is usually the result of calling `frame.insert` many times, which has poor performance.  Consider joining all columns at once using pd.concat(axis=1) instead. To get a de-fragmented frame, use `newframe = frame.copy()`\n",
      "  muestras['Muestra _'+str(i)]=_\n",
      "C:\\Users\\zazaz\\AppData\\Local\\Temp\\ipykernel_22132\\527239248.py:4: PerformanceWarning: DataFrame is highly fragmented.  This is usually the result of calling `frame.insert` many times, which has poor performance.  Consider joining all columns at once using pd.concat(axis=1) instead. To get a de-fragmented frame, use `newframe = frame.copy()`\n",
      "  muestras['Muestra _'+str(i)]=_\n",
      "C:\\Users\\zazaz\\AppData\\Local\\Temp\\ipykernel_22132\\527239248.py:4: PerformanceWarning: DataFrame is highly fragmented.  This is usually the result of calling `frame.insert` many times, which has poor performance.  Consider joining all columns at once using pd.concat(axis=1) instead. To get a de-fragmented frame, use `newframe = frame.copy()`\n",
      "  muestras['Muestra _'+str(i)]=_\n",
      "C:\\Users\\zazaz\\AppData\\Local\\Temp\\ipykernel_22132\\527239248.py:4: PerformanceWarning: DataFrame is highly fragmented.  This is usually the result of calling `frame.insert` many times, which has poor performance.  Consider joining all columns at once using pd.concat(axis=1) instead. To get a de-fragmented frame, use `newframe = frame.copy()`\n",
      "  muestras['Muestra _'+str(i)]=_\n",
      "C:\\Users\\zazaz\\AppData\\Local\\Temp\\ipykernel_22132\\527239248.py:4: PerformanceWarning: DataFrame is highly fragmented.  This is usually the result of calling `frame.insert` many times, which has poor performance.  Consider joining all columns at once using pd.concat(axis=1) instead. To get a de-fragmented frame, use `newframe = frame.copy()`\n",
      "  muestras['Muestra _'+str(i)]=_\n",
      "C:\\Users\\zazaz\\AppData\\Local\\Temp\\ipykernel_22132\\527239248.py:4: PerformanceWarning: DataFrame is highly fragmented.  This is usually the result of calling `frame.insert` many times, which has poor performance.  Consider joining all columns at once using pd.concat(axis=1) instead. To get a de-fragmented frame, use `newframe = frame.copy()`\n",
      "  muestras['Muestra _'+str(i)]=_\n",
      "C:\\Users\\zazaz\\AppData\\Local\\Temp\\ipykernel_22132\\527239248.py:4: PerformanceWarning: DataFrame is highly fragmented.  This is usually the result of calling `frame.insert` many times, which has poor performance.  Consider joining all columns at once using pd.concat(axis=1) instead. To get a de-fragmented frame, use `newframe = frame.copy()`\n",
      "  muestras['Muestra _'+str(i)]=_\n",
      "C:\\Users\\zazaz\\AppData\\Local\\Temp\\ipykernel_22132\\527239248.py:4: PerformanceWarning: DataFrame is highly fragmented.  This is usually the result of calling `frame.insert` many times, which has poor performance.  Consider joining all columns at once using pd.concat(axis=1) instead. To get a de-fragmented frame, use `newframe = frame.copy()`\n",
      "  muestras['Muestra _'+str(i)]=_\n",
      "C:\\Users\\zazaz\\AppData\\Local\\Temp\\ipykernel_22132\\527239248.py:4: PerformanceWarning: DataFrame is highly fragmented.  This is usually the result of calling `frame.insert` many times, which has poor performance.  Consider joining all columns at once using pd.concat(axis=1) instead. To get a de-fragmented frame, use `newframe = frame.copy()`\n",
      "  muestras['Muestra _'+str(i)]=_\n",
      "C:\\Users\\zazaz\\AppData\\Local\\Temp\\ipykernel_22132\\527239248.py:4: PerformanceWarning: DataFrame is highly fragmented.  This is usually the result of calling `frame.insert` many times, which has poor performance.  Consider joining all columns at once using pd.concat(axis=1) instead. To get a de-fragmented frame, use `newframe = frame.copy()`\n",
      "  muestras['Muestra _'+str(i)]=_\n",
      "C:\\Users\\zazaz\\AppData\\Local\\Temp\\ipykernel_22132\\527239248.py:4: PerformanceWarning: DataFrame is highly fragmented.  This is usually the result of calling `frame.insert` many times, which has poor performance.  Consider joining all columns at once using pd.concat(axis=1) instead. To get a de-fragmented frame, use `newframe = frame.copy()`\n",
      "  muestras['Muestra _'+str(i)]=_\n",
      "C:\\Users\\zazaz\\AppData\\Local\\Temp\\ipykernel_22132\\527239248.py:4: PerformanceWarning: DataFrame is highly fragmented.  This is usually the result of calling `frame.insert` many times, which has poor performance.  Consider joining all columns at once using pd.concat(axis=1) instead. To get a de-fragmented frame, use `newframe = frame.copy()`\n",
      "  muestras['Muestra _'+str(i)]=_\n",
      "C:\\Users\\zazaz\\AppData\\Local\\Temp\\ipykernel_22132\\527239248.py:4: PerformanceWarning: DataFrame is highly fragmented.  This is usually the result of calling `frame.insert` many times, which has poor performance.  Consider joining all columns at once using pd.concat(axis=1) instead. To get a de-fragmented frame, use `newframe = frame.copy()`\n",
      "  muestras['Muestra _'+str(i)]=_\n",
      "C:\\Users\\zazaz\\AppData\\Local\\Temp\\ipykernel_22132\\527239248.py:4: PerformanceWarning: DataFrame is highly fragmented.  This is usually the result of calling `frame.insert` many times, which has poor performance.  Consider joining all columns at once using pd.concat(axis=1) instead. To get a de-fragmented frame, use `newframe = frame.copy()`\n",
      "  muestras['Muestra _'+str(i)]=_\n",
      "C:\\Users\\zazaz\\AppData\\Local\\Temp\\ipykernel_22132\\527239248.py:4: PerformanceWarning: DataFrame is highly fragmented.  This is usually the result of calling `frame.insert` many times, which has poor performance.  Consider joining all columns at once using pd.concat(axis=1) instead. To get a de-fragmented frame, use `newframe = frame.copy()`\n",
      "  muestras['Muestra _'+str(i)]=_\n",
      "C:\\Users\\zazaz\\AppData\\Local\\Temp\\ipykernel_22132\\527239248.py:4: PerformanceWarning: DataFrame is highly fragmented.  This is usually the result of calling `frame.insert` many times, which has poor performance.  Consider joining all columns at once using pd.concat(axis=1) instead. To get a de-fragmented frame, use `newframe = frame.copy()`\n",
      "  muestras['Muestra _'+str(i)]=_\n",
      "C:\\Users\\zazaz\\AppData\\Local\\Temp\\ipykernel_22132\\527239248.py:4: PerformanceWarning: DataFrame is highly fragmented.  This is usually the result of calling `frame.insert` many times, which has poor performance.  Consider joining all columns at once using pd.concat(axis=1) instead. To get a de-fragmented frame, use `newframe = frame.copy()`\n",
      "  muestras['Muestra _'+str(i)]=_\n",
      "C:\\Users\\zazaz\\AppData\\Local\\Temp\\ipykernel_22132\\527239248.py:4: PerformanceWarning: DataFrame is highly fragmented.  This is usually the result of calling `frame.insert` many times, which has poor performance.  Consider joining all columns at once using pd.concat(axis=1) instead. To get a de-fragmented frame, use `newframe = frame.copy()`\n",
      "  muestras['Muestra _'+str(i)]=_\n",
      "C:\\Users\\zazaz\\AppData\\Local\\Temp\\ipykernel_22132\\527239248.py:4: PerformanceWarning: DataFrame is highly fragmented.  This is usually the result of calling `frame.insert` many times, which has poor performance.  Consider joining all columns at once using pd.concat(axis=1) instead. To get a de-fragmented frame, use `newframe = frame.copy()`\n",
      "  muestras['Muestra _'+str(i)]=_\n",
      "C:\\Users\\zazaz\\AppData\\Local\\Temp\\ipykernel_22132\\527239248.py:4: PerformanceWarning: DataFrame is highly fragmented.  This is usually the result of calling `frame.insert` many times, which has poor performance.  Consider joining all columns at once using pd.concat(axis=1) instead. To get a de-fragmented frame, use `newframe = frame.copy()`\n",
      "  muestras['Muestra _'+str(i)]=_\n",
      "C:\\Users\\zazaz\\AppData\\Local\\Temp\\ipykernel_22132\\527239248.py:4: PerformanceWarning: DataFrame is highly fragmented.  This is usually the result of calling `frame.insert` many times, which has poor performance.  Consider joining all columns at once using pd.concat(axis=1) instead. To get a de-fragmented frame, use `newframe = frame.copy()`\n",
      "  muestras['Muestra _'+str(i)]=_\n",
      "C:\\Users\\zazaz\\AppData\\Local\\Temp\\ipykernel_22132\\527239248.py:4: PerformanceWarning: DataFrame is highly fragmented.  This is usually the result of calling `frame.insert` many times, which has poor performance.  Consider joining all columns at once using pd.concat(axis=1) instead. To get a de-fragmented frame, use `newframe = frame.copy()`\n",
      "  muestras['Muestra _'+str(i)]=_\n",
      "C:\\Users\\zazaz\\AppData\\Local\\Temp\\ipykernel_22132\\527239248.py:4: PerformanceWarning: DataFrame is highly fragmented.  This is usually the result of calling `frame.insert` many times, which has poor performance.  Consider joining all columns at once using pd.concat(axis=1) instead. To get a de-fragmented frame, use `newframe = frame.copy()`\n",
      "  muestras['Muestra _'+str(i)]=_\n",
      "C:\\Users\\zazaz\\AppData\\Local\\Temp\\ipykernel_22132\\527239248.py:4: PerformanceWarning: DataFrame is highly fragmented.  This is usually the result of calling `frame.insert` many times, which has poor performance.  Consider joining all columns at once using pd.concat(axis=1) instead. To get a de-fragmented frame, use `newframe = frame.copy()`\n",
      "  muestras['Muestra _'+str(i)]=_\n",
      "C:\\Users\\zazaz\\AppData\\Local\\Temp\\ipykernel_22132\\527239248.py:4: PerformanceWarning: DataFrame is highly fragmented.  This is usually the result of calling `frame.insert` many times, which has poor performance.  Consider joining all columns at once using pd.concat(axis=1) instead. To get a de-fragmented frame, use `newframe = frame.copy()`\n",
      "  muestras['Muestra _'+str(i)]=_\n",
      "C:\\Users\\zazaz\\AppData\\Local\\Temp\\ipykernel_22132\\527239248.py:4: PerformanceWarning: DataFrame is highly fragmented.  This is usually the result of calling `frame.insert` many times, which has poor performance.  Consider joining all columns at once using pd.concat(axis=1) instead. To get a de-fragmented frame, use `newframe = frame.copy()`\n",
      "  muestras['Muestra _'+str(i)]=_\n",
      "C:\\Users\\zazaz\\AppData\\Local\\Temp\\ipykernel_22132\\527239248.py:4: PerformanceWarning: DataFrame is highly fragmented.  This is usually the result of calling `frame.insert` many times, which has poor performance.  Consider joining all columns at once using pd.concat(axis=1) instead. To get a de-fragmented frame, use `newframe = frame.copy()`\n",
      "  muestras['Muestra _'+str(i)]=_\n",
      "C:\\Users\\zazaz\\AppData\\Local\\Temp\\ipykernel_22132\\527239248.py:4: PerformanceWarning: DataFrame is highly fragmented.  This is usually the result of calling `frame.insert` many times, which has poor performance.  Consider joining all columns at once using pd.concat(axis=1) instead. To get a de-fragmented frame, use `newframe = frame.copy()`\n",
      "  muestras['Muestra _'+str(i)]=_\n",
      "C:\\Users\\zazaz\\AppData\\Local\\Temp\\ipykernel_22132\\527239248.py:4: PerformanceWarning: DataFrame is highly fragmented.  This is usually the result of calling `frame.insert` many times, which has poor performance.  Consider joining all columns at once using pd.concat(axis=1) instead. To get a de-fragmented frame, use `newframe = frame.copy()`\n",
      "  muestras['Muestra _'+str(i)]=_\n",
      "C:\\Users\\zazaz\\AppData\\Local\\Temp\\ipykernel_22132\\527239248.py:4: PerformanceWarning: DataFrame is highly fragmented.  This is usually the result of calling `frame.insert` many times, which has poor performance.  Consider joining all columns at once using pd.concat(axis=1) instead. To get a de-fragmented frame, use `newframe = frame.copy()`\n",
      "  muestras['Muestra _'+str(i)]=_\n",
      "C:\\Users\\zazaz\\AppData\\Local\\Temp\\ipykernel_22132\\527239248.py:4: PerformanceWarning: DataFrame is highly fragmented.  This is usually the result of calling `frame.insert` many times, which has poor performance.  Consider joining all columns at once using pd.concat(axis=1) instead. To get a de-fragmented frame, use `newframe = frame.copy()`\n",
      "  muestras['Muestra _'+str(i)]=_\n",
      "C:\\Users\\zazaz\\AppData\\Local\\Temp\\ipykernel_22132\\527239248.py:4: PerformanceWarning: DataFrame is highly fragmented.  This is usually the result of calling `frame.insert` many times, which has poor performance.  Consider joining all columns at once using pd.concat(axis=1) instead. To get a de-fragmented frame, use `newframe = frame.copy()`\n",
      "  muestras['Muestra _'+str(i)]=_\n",
      "C:\\Users\\zazaz\\AppData\\Local\\Temp\\ipykernel_22132\\527239248.py:4: PerformanceWarning: DataFrame is highly fragmented.  This is usually the result of calling `frame.insert` many times, which has poor performance.  Consider joining all columns at once using pd.concat(axis=1) instead. To get a de-fragmented frame, use `newframe = frame.copy()`\n",
      "  muestras['Muestra _'+str(i)]=_\n",
      "C:\\Users\\zazaz\\AppData\\Local\\Temp\\ipykernel_22132\\527239248.py:4: PerformanceWarning: DataFrame is highly fragmented.  This is usually the result of calling `frame.insert` many times, which has poor performance.  Consider joining all columns at once using pd.concat(axis=1) instead. To get a de-fragmented frame, use `newframe = frame.copy()`\n",
      "  muestras['Muestra _'+str(i)]=_\n",
      "C:\\Users\\zazaz\\AppData\\Local\\Temp\\ipykernel_22132\\527239248.py:4: PerformanceWarning: DataFrame is highly fragmented.  This is usually the result of calling `frame.insert` many times, which has poor performance.  Consider joining all columns at once using pd.concat(axis=1) instead. To get a de-fragmented frame, use `newframe = frame.copy()`\n",
      "  muestras['Muestra _'+str(i)]=_\n",
      "C:\\Users\\zazaz\\AppData\\Local\\Temp\\ipykernel_22132\\527239248.py:4: PerformanceWarning: DataFrame is highly fragmented.  This is usually the result of calling `frame.insert` many times, which has poor performance.  Consider joining all columns at once using pd.concat(axis=1) instead. To get a de-fragmented frame, use `newframe = frame.copy()`\n",
      "  muestras['Muestra _'+str(i)]=_\n",
      "C:\\Users\\zazaz\\AppData\\Local\\Temp\\ipykernel_22132\\527239248.py:4: PerformanceWarning: DataFrame is highly fragmented.  This is usually the result of calling `frame.insert` many times, which has poor performance.  Consider joining all columns at once using pd.concat(axis=1) instead. To get a de-fragmented frame, use `newframe = frame.copy()`\n",
      "  muestras['Muestra _'+str(i)]=_\n",
      "C:\\Users\\zazaz\\AppData\\Local\\Temp\\ipykernel_22132\\527239248.py:4: PerformanceWarning: DataFrame is highly fragmented.  This is usually the result of calling `frame.insert` many times, which has poor performance.  Consider joining all columns at once using pd.concat(axis=1) instead. To get a de-fragmented frame, use `newframe = frame.copy()`\n",
      "  muestras['Muestra _'+str(i)]=_\n",
      "C:\\Users\\zazaz\\AppData\\Local\\Temp\\ipykernel_22132\\527239248.py:4: PerformanceWarning: DataFrame is highly fragmented.  This is usually the result of calling `frame.insert` many times, which has poor performance.  Consider joining all columns at once using pd.concat(axis=1) instead. To get a de-fragmented frame, use `newframe = frame.copy()`\n",
      "  muestras['Muestra _'+str(i)]=_\n",
      "C:\\Users\\zazaz\\AppData\\Local\\Temp\\ipykernel_22132\\527239248.py:4: PerformanceWarning: DataFrame is highly fragmented.  This is usually the result of calling `frame.insert` many times, which has poor performance.  Consider joining all columns at once using pd.concat(axis=1) instead. To get a de-fragmented frame, use `newframe = frame.copy()`\n",
      "  muestras['Muestra _'+str(i)]=_\n",
      "C:\\Users\\zazaz\\AppData\\Local\\Temp\\ipykernel_22132\\527239248.py:4: PerformanceWarning: DataFrame is highly fragmented.  This is usually the result of calling `frame.insert` many times, which has poor performance.  Consider joining all columns at once using pd.concat(axis=1) instead. To get a de-fragmented frame, use `newframe = frame.copy()`\n",
      "  muestras['Muestra _'+str(i)]=_\n",
      "C:\\Users\\zazaz\\AppData\\Local\\Temp\\ipykernel_22132\\527239248.py:4: PerformanceWarning: DataFrame is highly fragmented.  This is usually the result of calling `frame.insert` many times, which has poor performance.  Consider joining all columns at once using pd.concat(axis=1) instead. To get a de-fragmented frame, use `newframe = frame.copy()`\n",
      "  muestras['Muestra _'+str(i)]=_\n",
      "C:\\Users\\zazaz\\AppData\\Local\\Temp\\ipykernel_22132\\527239248.py:4: PerformanceWarning: DataFrame is highly fragmented.  This is usually the result of calling `frame.insert` many times, which has poor performance.  Consider joining all columns at once using pd.concat(axis=1) instead. To get a de-fragmented frame, use `newframe = frame.copy()`\n",
      "  muestras['Muestra _'+str(i)]=_\n",
      "C:\\Users\\zazaz\\AppData\\Local\\Temp\\ipykernel_22132\\527239248.py:4: PerformanceWarning: DataFrame is highly fragmented.  This is usually the result of calling `frame.insert` many times, which has poor performance.  Consider joining all columns at once using pd.concat(axis=1) instead. To get a de-fragmented frame, use `newframe = frame.copy()`\n",
      "  muestras['Muestra _'+str(i)]=_\n",
      "C:\\Users\\zazaz\\AppData\\Local\\Temp\\ipykernel_22132\\527239248.py:4: PerformanceWarning: DataFrame is highly fragmented.  This is usually the result of calling `frame.insert` many times, which has poor performance.  Consider joining all columns at once using pd.concat(axis=1) instead. To get a de-fragmented frame, use `newframe = frame.copy()`\n",
      "  muestras['Muestra _'+str(i)]=_\n",
      "C:\\Users\\zazaz\\AppData\\Local\\Temp\\ipykernel_22132\\527239248.py:4: PerformanceWarning: DataFrame is highly fragmented.  This is usually the result of calling `frame.insert` many times, which has poor performance.  Consider joining all columns at once using pd.concat(axis=1) instead. To get a de-fragmented frame, use `newframe = frame.copy()`\n",
      "  muestras['Muestra _'+str(i)]=_\n",
      "C:\\Users\\zazaz\\AppData\\Local\\Temp\\ipykernel_22132\\527239248.py:4: PerformanceWarning: DataFrame is highly fragmented.  This is usually the result of calling `frame.insert` many times, which has poor performance.  Consider joining all columns at once using pd.concat(axis=1) instead. To get a de-fragmented frame, use `newframe = frame.copy()`\n",
      "  muestras['Muestra _'+str(i)]=_\n",
      "C:\\Users\\zazaz\\AppData\\Local\\Temp\\ipykernel_22132\\527239248.py:4: PerformanceWarning: DataFrame is highly fragmented.  This is usually the result of calling `frame.insert` many times, which has poor performance.  Consider joining all columns at once using pd.concat(axis=1) instead. To get a de-fragmented frame, use `newframe = frame.copy()`\n",
      "  muestras['Muestra _'+str(i)]=_\n",
      "C:\\Users\\zazaz\\AppData\\Local\\Temp\\ipykernel_22132\\527239248.py:4: PerformanceWarning: DataFrame is highly fragmented.  This is usually the result of calling `frame.insert` many times, which has poor performance.  Consider joining all columns at once using pd.concat(axis=1) instead. To get a de-fragmented frame, use `newframe = frame.copy()`\n",
      "  muestras['Muestra _'+str(i)]=_\n",
      "C:\\Users\\zazaz\\AppData\\Local\\Temp\\ipykernel_22132\\527239248.py:4: PerformanceWarning: DataFrame is highly fragmented.  This is usually the result of calling `frame.insert` many times, which has poor performance.  Consider joining all columns at once using pd.concat(axis=1) instead. To get a de-fragmented frame, use `newframe = frame.copy()`\n",
      "  muestras['Muestra _'+str(i)]=_\n",
      "C:\\Users\\zazaz\\AppData\\Local\\Temp\\ipykernel_22132\\527239248.py:4: PerformanceWarning: DataFrame is highly fragmented.  This is usually the result of calling `frame.insert` many times, which has poor performance.  Consider joining all columns at once using pd.concat(axis=1) instead. To get a de-fragmented frame, use `newframe = frame.copy()`\n",
      "  muestras['Muestra _'+str(i)]=_\n",
      "C:\\Users\\zazaz\\AppData\\Local\\Temp\\ipykernel_22132\\527239248.py:4: PerformanceWarning: DataFrame is highly fragmented.  This is usually the result of calling `frame.insert` many times, which has poor performance.  Consider joining all columns at once using pd.concat(axis=1) instead. To get a de-fragmented frame, use `newframe = frame.copy()`\n",
      "  muestras['Muestra _'+str(i)]=_\n",
      "C:\\Users\\zazaz\\AppData\\Local\\Temp\\ipykernel_22132\\527239248.py:4: PerformanceWarning: DataFrame is highly fragmented.  This is usually the result of calling `frame.insert` many times, which has poor performance.  Consider joining all columns at once using pd.concat(axis=1) instead. To get a de-fragmented frame, use `newframe = frame.copy()`\n",
      "  muestras['Muestra _'+str(i)]=_\n",
      "C:\\Users\\zazaz\\AppData\\Local\\Temp\\ipykernel_22132\\527239248.py:4: PerformanceWarning: DataFrame is highly fragmented.  This is usually the result of calling `frame.insert` many times, which has poor performance.  Consider joining all columns at once using pd.concat(axis=1) instead. To get a de-fragmented frame, use `newframe = frame.copy()`\n",
      "  muestras['Muestra _'+str(i)]=_\n",
      "C:\\Users\\zazaz\\AppData\\Local\\Temp\\ipykernel_22132\\527239248.py:4: PerformanceWarning: DataFrame is highly fragmented.  This is usually the result of calling `frame.insert` many times, which has poor performance.  Consider joining all columns at once using pd.concat(axis=1) instead. To get a de-fragmented frame, use `newframe = frame.copy()`\n",
      "  muestras['Muestra _'+str(i)]=_\n",
      "C:\\Users\\zazaz\\AppData\\Local\\Temp\\ipykernel_22132\\527239248.py:4: PerformanceWarning: DataFrame is highly fragmented.  This is usually the result of calling `frame.insert` many times, which has poor performance.  Consider joining all columns at once using pd.concat(axis=1) instead. To get a de-fragmented frame, use `newframe = frame.copy()`\n",
      "  muestras['Muestra _'+str(i)]=_\n",
      "C:\\Users\\zazaz\\AppData\\Local\\Temp\\ipykernel_22132\\527239248.py:4: PerformanceWarning: DataFrame is highly fragmented.  This is usually the result of calling `frame.insert` many times, which has poor performance.  Consider joining all columns at once using pd.concat(axis=1) instead. To get a de-fragmented frame, use `newframe = frame.copy()`\n",
      "  muestras['Muestra _'+str(i)]=_\n",
      "C:\\Users\\zazaz\\AppData\\Local\\Temp\\ipykernel_22132\\527239248.py:4: PerformanceWarning: DataFrame is highly fragmented.  This is usually the result of calling `frame.insert` many times, which has poor performance.  Consider joining all columns at once using pd.concat(axis=1) instead. To get a de-fragmented frame, use `newframe = frame.copy()`\n",
      "  muestras['Muestra _'+str(i)]=_\n",
      "C:\\Users\\zazaz\\AppData\\Local\\Temp\\ipykernel_22132\\527239248.py:4: PerformanceWarning: DataFrame is highly fragmented.  This is usually the result of calling `frame.insert` many times, which has poor performance.  Consider joining all columns at once using pd.concat(axis=1) instead. To get a de-fragmented frame, use `newframe = frame.copy()`\n",
      "  muestras['Muestra _'+str(i)]=_\n",
      "C:\\Users\\zazaz\\AppData\\Local\\Temp\\ipykernel_22132\\527239248.py:4: PerformanceWarning: DataFrame is highly fragmented.  This is usually the result of calling `frame.insert` many times, which has poor performance.  Consider joining all columns at once using pd.concat(axis=1) instead. To get a de-fragmented frame, use `newframe = frame.copy()`\n",
      "  muestras['Muestra _'+str(i)]=_\n",
      "C:\\Users\\zazaz\\AppData\\Local\\Temp\\ipykernel_22132\\527239248.py:4: PerformanceWarning: DataFrame is highly fragmented.  This is usually the result of calling `frame.insert` many times, which has poor performance.  Consider joining all columns at once using pd.concat(axis=1) instead. To get a de-fragmented frame, use `newframe = frame.copy()`\n",
      "  muestras['Muestra _'+str(i)]=_\n",
      "C:\\Users\\zazaz\\AppData\\Local\\Temp\\ipykernel_22132\\527239248.py:4: PerformanceWarning: DataFrame is highly fragmented.  This is usually the result of calling `frame.insert` many times, which has poor performance.  Consider joining all columns at once using pd.concat(axis=1) instead. To get a de-fragmented frame, use `newframe = frame.copy()`\n",
      "  muestras['Muestra _'+str(i)]=_\n",
      "C:\\Users\\zazaz\\AppData\\Local\\Temp\\ipykernel_22132\\527239248.py:4: PerformanceWarning: DataFrame is highly fragmented.  This is usually the result of calling `frame.insert` many times, which has poor performance.  Consider joining all columns at once using pd.concat(axis=1) instead. To get a de-fragmented frame, use `newframe = frame.copy()`\n",
      "  muestras['Muestra _'+str(i)]=_\n",
      "C:\\Users\\zazaz\\AppData\\Local\\Temp\\ipykernel_22132\\527239248.py:4: PerformanceWarning: DataFrame is highly fragmented.  This is usually the result of calling `frame.insert` many times, which has poor performance.  Consider joining all columns at once using pd.concat(axis=1) instead. To get a de-fragmented frame, use `newframe = frame.copy()`\n",
      "  muestras['Muestra _'+str(i)]=_\n",
      "C:\\Users\\zazaz\\AppData\\Local\\Temp\\ipykernel_22132\\527239248.py:4: PerformanceWarning: DataFrame is highly fragmented.  This is usually the result of calling `frame.insert` many times, which has poor performance.  Consider joining all columns at once using pd.concat(axis=1) instead. To get a de-fragmented frame, use `newframe = frame.copy()`\n",
      "  muestras['Muestra _'+str(i)]=_\n",
      "C:\\Users\\zazaz\\AppData\\Local\\Temp\\ipykernel_22132\\527239248.py:4: PerformanceWarning: DataFrame is highly fragmented.  This is usually the result of calling `frame.insert` many times, which has poor performance.  Consider joining all columns at once using pd.concat(axis=1) instead. To get a de-fragmented frame, use `newframe = frame.copy()`\n",
      "  muestras['Muestra _'+str(i)]=_\n",
      "C:\\Users\\zazaz\\AppData\\Local\\Temp\\ipykernel_22132\\527239248.py:4: PerformanceWarning: DataFrame is highly fragmented.  This is usually the result of calling `frame.insert` many times, which has poor performance.  Consider joining all columns at once using pd.concat(axis=1) instead. To get a de-fragmented frame, use `newframe = frame.copy()`\n",
      "  muestras['Muestra _'+str(i)]=_\n",
      "C:\\Users\\zazaz\\AppData\\Local\\Temp\\ipykernel_22132\\527239248.py:4: PerformanceWarning: DataFrame is highly fragmented.  This is usually the result of calling `frame.insert` many times, which has poor performance.  Consider joining all columns at once using pd.concat(axis=1) instead. To get a de-fragmented frame, use `newframe = frame.copy()`\n",
      "  muestras['Muestra _'+str(i)]=_\n",
      "C:\\Users\\zazaz\\AppData\\Local\\Temp\\ipykernel_22132\\527239248.py:4: PerformanceWarning: DataFrame is highly fragmented.  This is usually the result of calling `frame.insert` many times, which has poor performance.  Consider joining all columns at once using pd.concat(axis=1) instead. To get a de-fragmented frame, use `newframe = frame.copy()`\n",
      "  muestras['Muestra _'+str(i)]=_\n",
      "C:\\Users\\zazaz\\AppData\\Local\\Temp\\ipykernel_22132\\527239248.py:4: PerformanceWarning: DataFrame is highly fragmented.  This is usually the result of calling `frame.insert` many times, which has poor performance.  Consider joining all columns at once using pd.concat(axis=1) instead. To get a de-fragmented frame, use `newframe = frame.copy()`\n",
      "  muestras['Muestra _'+str(i)]=_\n",
      "C:\\Users\\zazaz\\AppData\\Local\\Temp\\ipykernel_22132\\527239248.py:4: PerformanceWarning: DataFrame is highly fragmented.  This is usually the result of calling `frame.insert` many times, which has poor performance.  Consider joining all columns at once using pd.concat(axis=1) instead. To get a de-fragmented frame, use `newframe = frame.copy()`\n",
      "  muestras['Muestra _'+str(i)]=_\n",
      "C:\\Users\\zazaz\\AppData\\Local\\Temp\\ipykernel_22132\\527239248.py:4: PerformanceWarning: DataFrame is highly fragmented.  This is usually the result of calling `frame.insert` many times, which has poor performance.  Consider joining all columns at once using pd.concat(axis=1) instead. To get a de-fragmented frame, use `newframe = frame.copy()`\n",
      "  muestras['Muestra _'+str(i)]=_\n",
      "C:\\Users\\zazaz\\AppData\\Local\\Temp\\ipykernel_22132\\527239248.py:4: PerformanceWarning: DataFrame is highly fragmented.  This is usually the result of calling `frame.insert` many times, which has poor performance.  Consider joining all columns at once using pd.concat(axis=1) instead. To get a de-fragmented frame, use `newframe = frame.copy()`\n",
      "  muestras['Muestra _'+str(i)]=_\n",
      "C:\\Users\\zazaz\\AppData\\Local\\Temp\\ipykernel_22132\\527239248.py:4: PerformanceWarning: DataFrame is highly fragmented.  This is usually the result of calling `frame.insert` many times, which has poor performance.  Consider joining all columns at once using pd.concat(axis=1) instead. To get a de-fragmented frame, use `newframe = frame.copy()`\n",
      "  muestras['Muestra _'+str(i)]=_\n",
      "C:\\Users\\zazaz\\AppData\\Local\\Temp\\ipykernel_22132\\527239248.py:4: PerformanceWarning: DataFrame is highly fragmented.  This is usually the result of calling `frame.insert` many times, which has poor performance.  Consider joining all columns at once using pd.concat(axis=1) instead. To get a de-fragmented frame, use `newframe = frame.copy()`\n",
      "  muestras['Muestra _'+str(i)]=_\n",
      "C:\\Users\\zazaz\\AppData\\Local\\Temp\\ipykernel_22132\\527239248.py:4: PerformanceWarning: DataFrame is highly fragmented.  This is usually the result of calling `frame.insert` many times, which has poor performance.  Consider joining all columns at once using pd.concat(axis=1) instead. To get a de-fragmented frame, use `newframe = frame.copy()`\n",
      "  muestras['Muestra _'+str(i)]=_\n",
      "C:\\Users\\zazaz\\AppData\\Local\\Temp\\ipykernel_22132\\527239248.py:4: PerformanceWarning: DataFrame is highly fragmented.  This is usually the result of calling `frame.insert` many times, which has poor performance.  Consider joining all columns at once using pd.concat(axis=1) instead. To get a de-fragmented frame, use `newframe = frame.copy()`\n",
      "  muestras['Muestra _'+str(i)]=_\n",
      "C:\\Users\\zazaz\\AppData\\Local\\Temp\\ipykernel_22132\\527239248.py:4: PerformanceWarning: DataFrame is highly fragmented.  This is usually the result of calling `frame.insert` many times, which has poor performance.  Consider joining all columns at once using pd.concat(axis=1) instead. To get a de-fragmented frame, use `newframe = frame.copy()`\n",
      "  muestras['Muestra _'+str(i)]=_\n",
      "C:\\Users\\zazaz\\AppData\\Local\\Temp\\ipykernel_22132\\527239248.py:4: PerformanceWarning: DataFrame is highly fragmented.  This is usually the result of calling `frame.insert` many times, which has poor performance.  Consider joining all columns at once using pd.concat(axis=1) instead. To get a de-fragmented frame, use `newframe = frame.copy()`\n",
      "  muestras['Muestra _'+str(i)]=_\n",
      "C:\\Users\\zazaz\\AppData\\Local\\Temp\\ipykernel_22132\\527239248.py:4: PerformanceWarning: DataFrame is highly fragmented.  This is usually the result of calling `frame.insert` many times, which has poor performance.  Consider joining all columns at once using pd.concat(axis=1) instead. To get a de-fragmented frame, use `newframe = frame.copy()`\n",
      "  muestras['Muestra _'+str(i)]=_\n",
      "C:\\Users\\zazaz\\AppData\\Local\\Temp\\ipykernel_22132\\527239248.py:4: PerformanceWarning: DataFrame is highly fragmented.  This is usually the result of calling `frame.insert` many times, which has poor performance.  Consider joining all columns at once using pd.concat(axis=1) instead. To get a de-fragmented frame, use `newframe = frame.copy()`\n",
      "  muestras['Muestra _'+str(i)]=_\n",
      "C:\\Users\\zazaz\\AppData\\Local\\Temp\\ipykernel_22132\\527239248.py:4: PerformanceWarning: DataFrame is highly fragmented.  This is usually the result of calling `frame.insert` many times, which has poor performance.  Consider joining all columns at once using pd.concat(axis=1) instead. To get a de-fragmented frame, use `newframe = frame.copy()`\n",
      "  muestras['Muestra _'+str(i)]=_\n",
      "C:\\Users\\zazaz\\AppData\\Local\\Temp\\ipykernel_22132\\527239248.py:4: PerformanceWarning: DataFrame is highly fragmented.  This is usually the result of calling `frame.insert` many times, which has poor performance.  Consider joining all columns at once using pd.concat(axis=1) instead. To get a de-fragmented frame, use `newframe = frame.copy()`\n",
      "  muestras['Muestra _'+str(i)]=_\n",
      "C:\\Users\\zazaz\\AppData\\Local\\Temp\\ipykernel_22132\\527239248.py:4: PerformanceWarning: DataFrame is highly fragmented.  This is usually the result of calling `frame.insert` many times, which has poor performance.  Consider joining all columns at once using pd.concat(axis=1) instead. To get a de-fragmented frame, use `newframe = frame.copy()`\n",
      "  muestras['Muestra _'+str(i)]=_\n",
      "C:\\Users\\zazaz\\AppData\\Local\\Temp\\ipykernel_22132\\527239248.py:4: PerformanceWarning: DataFrame is highly fragmented.  This is usually the result of calling `frame.insert` many times, which has poor performance.  Consider joining all columns at once using pd.concat(axis=1) instead. To get a de-fragmented frame, use `newframe = frame.copy()`\n",
      "  muestras['Muestra _'+str(i)]=_\n",
      "C:\\Users\\zazaz\\AppData\\Local\\Temp\\ipykernel_22132\\527239248.py:4: PerformanceWarning: DataFrame is highly fragmented.  This is usually the result of calling `frame.insert` many times, which has poor performance.  Consider joining all columns at once using pd.concat(axis=1) instead. To get a de-fragmented frame, use `newframe = frame.copy()`\n",
      "  muestras['Muestra _'+str(i)]=_\n",
      "C:\\Users\\zazaz\\AppData\\Local\\Temp\\ipykernel_22132\\527239248.py:4: PerformanceWarning: DataFrame is highly fragmented.  This is usually the result of calling `frame.insert` many times, which has poor performance.  Consider joining all columns at once using pd.concat(axis=1) instead. To get a de-fragmented frame, use `newframe = frame.copy()`\n",
      "  muestras['Muestra _'+str(i)]=_\n",
      "C:\\Users\\zazaz\\AppData\\Local\\Temp\\ipykernel_22132\\527239248.py:4: PerformanceWarning: DataFrame is highly fragmented.  This is usually the result of calling `frame.insert` many times, which has poor performance.  Consider joining all columns at once using pd.concat(axis=1) instead. To get a de-fragmented frame, use `newframe = frame.copy()`\n",
      "  muestras['Muestra _'+str(i)]=_\n",
      "C:\\Users\\zazaz\\AppData\\Local\\Temp\\ipykernel_22132\\527239248.py:4: PerformanceWarning: DataFrame is highly fragmented.  This is usually the result of calling `frame.insert` many times, which has poor performance.  Consider joining all columns at once using pd.concat(axis=1) instead. To get a de-fragmented frame, use `newframe = frame.copy()`\n",
      "  muestras['Muestra _'+str(i)]=_\n",
      "C:\\Users\\zazaz\\AppData\\Local\\Temp\\ipykernel_22132\\527239248.py:4: PerformanceWarning: DataFrame is highly fragmented.  This is usually the result of calling `frame.insert` many times, which has poor performance.  Consider joining all columns at once using pd.concat(axis=1) instead. To get a de-fragmented frame, use `newframe = frame.copy()`\n",
      "  muestras['Muestra _'+str(i)]=_\n",
      "C:\\Users\\zazaz\\AppData\\Local\\Temp\\ipykernel_22132\\527239248.py:4: PerformanceWarning: DataFrame is highly fragmented.  This is usually the result of calling `frame.insert` many times, which has poor performance.  Consider joining all columns at once using pd.concat(axis=1) instead. To get a de-fragmented frame, use `newframe = frame.copy()`\n",
      "  muestras['Muestra _'+str(i)]=_\n",
      "C:\\Users\\zazaz\\AppData\\Local\\Temp\\ipykernel_22132\\527239248.py:4: PerformanceWarning: DataFrame is highly fragmented.  This is usually the result of calling `frame.insert` many times, which has poor performance.  Consider joining all columns at once using pd.concat(axis=1) instead. To get a de-fragmented frame, use `newframe = frame.copy()`\n",
      "  muestras['Muestra _'+str(i)]=_\n",
      "C:\\Users\\zazaz\\AppData\\Local\\Temp\\ipykernel_22132\\527239248.py:4: PerformanceWarning: DataFrame is highly fragmented.  This is usually the result of calling `frame.insert` many times, which has poor performance.  Consider joining all columns at once using pd.concat(axis=1) instead. To get a de-fragmented frame, use `newframe = frame.copy()`\n",
      "  muestras['Muestra _'+str(i)]=_\n",
      "C:\\Users\\zazaz\\AppData\\Local\\Temp\\ipykernel_22132\\527239248.py:4: PerformanceWarning: DataFrame is highly fragmented.  This is usually the result of calling `frame.insert` many times, which has poor performance.  Consider joining all columns at once using pd.concat(axis=1) instead. To get a de-fragmented frame, use `newframe = frame.copy()`\n",
      "  muestras['Muestra _'+str(i)]=_\n",
      "C:\\Users\\zazaz\\AppData\\Local\\Temp\\ipykernel_22132\\527239248.py:4: PerformanceWarning: DataFrame is highly fragmented.  This is usually the result of calling `frame.insert` many times, which has poor performance.  Consider joining all columns at once using pd.concat(axis=1) instead. To get a de-fragmented frame, use `newframe = frame.copy()`\n",
      "  muestras['Muestra _'+str(i)]=_\n",
      "C:\\Users\\zazaz\\AppData\\Local\\Temp\\ipykernel_22132\\527239248.py:4: PerformanceWarning: DataFrame is highly fragmented.  This is usually the result of calling `frame.insert` many times, which has poor performance.  Consider joining all columns at once using pd.concat(axis=1) instead. To get a de-fragmented frame, use `newframe = frame.copy()`\n",
      "  muestras['Muestra _'+str(i)]=_\n",
      "C:\\Users\\zazaz\\AppData\\Local\\Temp\\ipykernel_22132\\527239248.py:4: PerformanceWarning: DataFrame is highly fragmented.  This is usually the result of calling `frame.insert` many times, which has poor performance.  Consider joining all columns at once using pd.concat(axis=1) instead. To get a de-fragmented frame, use `newframe = frame.copy()`\n",
      "  muestras['Muestra _'+str(i)]=_\n",
      "C:\\Users\\zazaz\\AppData\\Local\\Temp\\ipykernel_22132\\527239248.py:4: PerformanceWarning: DataFrame is highly fragmented.  This is usually the result of calling `frame.insert` many times, which has poor performance.  Consider joining all columns at once using pd.concat(axis=1) instead. To get a de-fragmented frame, use `newframe = frame.copy()`\n",
      "  muestras['Muestra _'+str(i)]=_\n",
      "C:\\Users\\zazaz\\AppData\\Local\\Temp\\ipykernel_22132\\527239248.py:4: PerformanceWarning: DataFrame is highly fragmented.  This is usually the result of calling `frame.insert` many times, which has poor performance.  Consider joining all columns at once using pd.concat(axis=1) instead. To get a de-fragmented frame, use `newframe = frame.copy()`\n",
      "  muestras['Muestra _'+str(i)]=_\n",
      "C:\\Users\\zazaz\\AppData\\Local\\Temp\\ipykernel_22132\\527239248.py:4: PerformanceWarning: DataFrame is highly fragmented.  This is usually the result of calling `frame.insert` many times, which has poor performance.  Consider joining all columns at once using pd.concat(axis=1) instead. To get a de-fragmented frame, use `newframe = frame.copy()`\n",
      "  muestras['Muestra _'+str(i)]=_\n",
      "C:\\Users\\zazaz\\AppData\\Local\\Temp\\ipykernel_22132\\527239248.py:4: PerformanceWarning: DataFrame is highly fragmented.  This is usually the result of calling `frame.insert` many times, which has poor performance.  Consider joining all columns at once using pd.concat(axis=1) instead. To get a de-fragmented frame, use `newframe = frame.copy()`\n",
      "  muestras['Muestra _'+str(i)]=_\n",
      "C:\\Users\\zazaz\\AppData\\Local\\Temp\\ipykernel_22132\\527239248.py:4: PerformanceWarning: DataFrame is highly fragmented.  This is usually the result of calling `frame.insert` many times, which has poor performance.  Consider joining all columns at once using pd.concat(axis=1) instead. To get a de-fragmented frame, use `newframe = frame.copy()`\n",
      "  muestras['Muestra _'+str(i)]=_\n",
      "C:\\Users\\zazaz\\AppData\\Local\\Temp\\ipykernel_22132\\527239248.py:4: PerformanceWarning: DataFrame is highly fragmented.  This is usually the result of calling `frame.insert` many times, which has poor performance.  Consider joining all columns at once using pd.concat(axis=1) instead. To get a de-fragmented frame, use `newframe = frame.copy()`\n",
      "  muestras['Muestra _'+str(i)]=_\n",
      "C:\\Users\\zazaz\\AppData\\Local\\Temp\\ipykernel_22132\\527239248.py:4: PerformanceWarning: DataFrame is highly fragmented.  This is usually the result of calling `frame.insert` many times, which has poor performance.  Consider joining all columns at once using pd.concat(axis=1) instead. To get a de-fragmented frame, use `newframe = frame.copy()`\n",
      "  muestras['Muestra _'+str(i)]=_\n",
      "C:\\Users\\zazaz\\AppData\\Local\\Temp\\ipykernel_22132\\527239248.py:4: PerformanceWarning: DataFrame is highly fragmented.  This is usually the result of calling `frame.insert` many times, which has poor performance.  Consider joining all columns at once using pd.concat(axis=1) instead. To get a de-fragmented frame, use `newframe = frame.copy()`\n",
      "  muestras['Muestra _'+str(i)]=_\n",
      "C:\\Users\\zazaz\\AppData\\Local\\Temp\\ipykernel_22132\\527239248.py:4: PerformanceWarning: DataFrame is highly fragmented.  This is usually the result of calling `frame.insert` many times, which has poor performance.  Consider joining all columns at once using pd.concat(axis=1) instead. To get a de-fragmented frame, use `newframe = frame.copy()`\n",
      "  muestras['Muestra _'+str(i)]=_\n",
      "C:\\Users\\zazaz\\AppData\\Local\\Temp\\ipykernel_22132\\527239248.py:4: PerformanceWarning: DataFrame is highly fragmented.  This is usually the result of calling `frame.insert` many times, which has poor performance.  Consider joining all columns at once using pd.concat(axis=1) instead. To get a de-fragmented frame, use `newframe = frame.copy()`\n",
      "  muestras['Muestra _'+str(i)]=_\n",
      "C:\\Users\\zazaz\\AppData\\Local\\Temp\\ipykernel_22132\\527239248.py:4: PerformanceWarning: DataFrame is highly fragmented.  This is usually the result of calling `frame.insert` many times, which has poor performance.  Consider joining all columns at once using pd.concat(axis=1) instead. To get a de-fragmented frame, use `newframe = frame.copy()`\n",
      "  muestras['Muestra _'+str(i)]=_\n",
      "C:\\Users\\zazaz\\AppData\\Local\\Temp\\ipykernel_22132\\527239248.py:4: PerformanceWarning: DataFrame is highly fragmented.  This is usually the result of calling `frame.insert` many times, which has poor performance.  Consider joining all columns at once using pd.concat(axis=1) instead. To get a de-fragmented frame, use `newframe = frame.copy()`\n",
      "  muestras['Muestra _'+str(i)]=_\n",
      "C:\\Users\\zazaz\\AppData\\Local\\Temp\\ipykernel_22132\\527239248.py:4: PerformanceWarning: DataFrame is highly fragmented.  This is usually the result of calling `frame.insert` many times, which has poor performance.  Consider joining all columns at once using pd.concat(axis=1) instead. To get a de-fragmented frame, use `newframe = frame.copy()`\n",
      "  muestras['Muestra _'+str(i)]=_\n",
      "C:\\Users\\zazaz\\AppData\\Local\\Temp\\ipykernel_22132\\527239248.py:4: PerformanceWarning: DataFrame is highly fragmented.  This is usually the result of calling `frame.insert` many times, which has poor performance.  Consider joining all columns at once using pd.concat(axis=1) instead. To get a de-fragmented frame, use `newframe = frame.copy()`\n",
      "  muestras['Muestra _'+str(i)]=_\n",
      "C:\\Users\\zazaz\\AppData\\Local\\Temp\\ipykernel_22132\\527239248.py:4: PerformanceWarning: DataFrame is highly fragmented.  This is usually the result of calling `frame.insert` many times, which has poor performance.  Consider joining all columns at once using pd.concat(axis=1) instead. To get a de-fragmented frame, use `newframe = frame.copy()`\n",
      "  muestras['Muestra _'+str(i)]=_\n",
      "C:\\Users\\zazaz\\AppData\\Local\\Temp\\ipykernel_22132\\527239248.py:4: PerformanceWarning: DataFrame is highly fragmented.  This is usually the result of calling `frame.insert` many times, which has poor performance.  Consider joining all columns at once using pd.concat(axis=1) instead. To get a de-fragmented frame, use `newframe = frame.copy()`\n",
      "  muestras['Muestra _'+str(i)]=_\n",
      "C:\\Users\\zazaz\\AppData\\Local\\Temp\\ipykernel_22132\\527239248.py:4: PerformanceWarning: DataFrame is highly fragmented.  This is usually the result of calling `frame.insert` many times, which has poor performance.  Consider joining all columns at once using pd.concat(axis=1) instead. To get a de-fragmented frame, use `newframe = frame.copy()`\n",
      "  muestras['Muestra _'+str(i)]=_\n",
      "C:\\Users\\zazaz\\AppData\\Local\\Temp\\ipykernel_22132\\527239248.py:4: PerformanceWarning: DataFrame is highly fragmented.  This is usually the result of calling `frame.insert` many times, which has poor performance.  Consider joining all columns at once using pd.concat(axis=1) instead. To get a de-fragmented frame, use `newframe = frame.copy()`\n",
      "  muestras['Muestra _'+str(i)]=_\n",
      "C:\\Users\\zazaz\\AppData\\Local\\Temp\\ipykernel_22132\\527239248.py:4: PerformanceWarning: DataFrame is highly fragmented.  This is usually the result of calling `frame.insert` many times, which has poor performance.  Consider joining all columns at once using pd.concat(axis=1) instead. To get a de-fragmented frame, use `newframe = frame.copy()`\n",
      "  muestras['Muestra _'+str(i)]=_\n",
      "C:\\Users\\zazaz\\AppData\\Local\\Temp\\ipykernel_22132\\527239248.py:4: PerformanceWarning: DataFrame is highly fragmented.  This is usually the result of calling `frame.insert` many times, which has poor performance.  Consider joining all columns at once using pd.concat(axis=1) instead. To get a de-fragmented frame, use `newframe = frame.copy()`\n",
      "  muestras['Muestra _'+str(i)]=_\n",
      "C:\\Users\\zazaz\\AppData\\Local\\Temp\\ipykernel_22132\\527239248.py:4: PerformanceWarning: DataFrame is highly fragmented.  This is usually the result of calling `frame.insert` many times, which has poor performance.  Consider joining all columns at once using pd.concat(axis=1) instead. To get a de-fragmented frame, use `newframe = frame.copy()`\n",
      "  muestras['Muestra _'+str(i)]=_\n",
      "C:\\Users\\zazaz\\AppData\\Local\\Temp\\ipykernel_22132\\527239248.py:4: PerformanceWarning: DataFrame is highly fragmented.  This is usually the result of calling `frame.insert` many times, which has poor performance.  Consider joining all columns at once using pd.concat(axis=1) instead. To get a de-fragmented frame, use `newframe = frame.copy()`\n",
      "  muestras['Muestra _'+str(i)]=_\n",
      "C:\\Users\\zazaz\\AppData\\Local\\Temp\\ipykernel_22132\\527239248.py:4: PerformanceWarning: DataFrame is highly fragmented.  This is usually the result of calling `frame.insert` many times, which has poor performance.  Consider joining all columns at once using pd.concat(axis=1) instead. To get a de-fragmented frame, use `newframe = frame.copy()`\n",
      "  muestras['Muestra _'+str(i)]=_\n",
      "C:\\Users\\zazaz\\AppData\\Local\\Temp\\ipykernel_22132\\527239248.py:4: PerformanceWarning: DataFrame is highly fragmented.  This is usually the result of calling `frame.insert` many times, which has poor performance.  Consider joining all columns at once using pd.concat(axis=1) instead. To get a de-fragmented frame, use `newframe = frame.copy()`\n",
      "  muestras['Muestra _'+str(i)]=_\n",
      "C:\\Users\\zazaz\\AppData\\Local\\Temp\\ipykernel_22132\\527239248.py:4: PerformanceWarning: DataFrame is highly fragmented.  This is usually the result of calling `frame.insert` many times, which has poor performance.  Consider joining all columns at once using pd.concat(axis=1) instead. To get a de-fragmented frame, use `newframe = frame.copy()`\n",
      "  muestras['Muestra _'+str(i)]=_\n",
      "C:\\Users\\zazaz\\AppData\\Local\\Temp\\ipykernel_22132\\527239248.py:4: PerformanceWarning: DataFrame is highly fragmented.  This is usually the result of calling `frame.insert` many times, which has poor performance.  Consider joining all columns at once using pd.concat(axis=1) instead. To get a de-fragmented frame, use `newframe = frame.copy()`\n",
      "  muestras['Muestra _'+str(i)]=_\n",
      "C:\\Users\\zazaz\\AppData\\Local\\Temp\\ipykernel_22132\\527239248.py:4: PerformanceWarning: DataFrame is highly fragmented.  This is usually the result of calling `frame.insert` many times, which has poor performance.  Consider joining all columns at once using pd.concat(axis=1) instead. To get a de-fragmented frame, use `newframe = frame.copy()`\n",
      "  muestras['Muestra _'+str(i)]=_\n",
      "C:\\Users\\zazaz\\AppData\\Local\\Temp\\ipykernel_22132\\527239248.py:4: PerformanceWarning: DataFrame is highly fragmented.  This is usually the result of calling `frame.insert` many times, which has poor performance.  Consider joining all columns at once using pd.concat(axis=1) instead. To get a de-fragmented frame, use `newframe = frame.copy()`\n",
      "  muestras['Muestra _'+str(i)]=_\n",
      "C:\\Users\\zazaz\\AppData\\Local\\Temp\\ipykernel_22132\\527239248.py:4: PerformanceWarning: DataFrame is highly fragmented.  This is usually the result of calling `frame.insert` many times, which has poor performance.  Consider joining all columns at once using pd.concat(axis=1) instead. To get a de-fragmented frame, use `newframe = frame.copy()`\n",
      "  muestras['Muestra _'+str(i)]=_\n",
      "C:\\Users\\zazaz\\AppData\\Local\\Temp\\ipykernel_22132\\527239248.py:4: PerformanceWarning: DataFrame is highly fragmented.  This is usually the result of calling `frame.insert` many times, which has poor performance.  Consider joining all columns at once using pd.concat(axis=1) instead. To get a de-fragmented frame, use `newframe = frame.copy()`\n",
      "  muestras['Muestra _'+str(i)]=_\n",
      "C:\\Users\\zazaz\\AppData\\Local\\Temp\\ipykernel_22132\\527239248.py:4: PerformanceWarning: DataFrame is highly fragmented.  This is usually the result of calling `frame.insert` many times, which has poor performance.  Consider joining all columns at once using pd.concat(axis=1) instead. To get a de-fragmented frame, use `newframe = frame.copy()`\n",
      "  muestras['Muestra _'+str(i)]=_\n",
      "C:\\Users\\zazaz\\AppData\\Local\\Temp\\ipykernel_22132\\527239248.py:4: PerformanceWarning: DataFrame is highly fragmented.  This is usually the result of calling `frame.insert` many times, which has poor performance.  Consider joining all columns at once using pd.concat(axis=1) instead. To get a de-fragmented frame, use `newframe = frame.copy()`\n",
      "  muestras['Muestra _'+str(i)]=_\n",
      "C:\\Users\\zazaz\\AppData\\Local\\Temp\\ipykernel_22132\\527239248.py:4: PerformanceWarning: DataFrame is highly fragmented.  This is usually the result of calling `frame.insert` many times, which has poor performance.  Consider joining all columns at once using pd.concat(axis=1) instead. To get a de-fragmented frame, use `newframe = frame.copy()`\n",
      "  muestras['Muestra _'+str(i)]=_\n",
      "C:\\Users\\zazaz\\AppData\\Local\\Temp\\ipykernel_22132\\527239248.py:4: PerformanceWarning: DataFrame is highly fragmented.  This is usually the result of calling `frame.insert` many times, which has poor performance.  Consider joining all columns at once using pd.concat(axis=1) instead. To get a de-fragmented frame, use `newframe = frame.copy()`\n",
      "  muestras['Muestra _'+str(i)]=_\n",
      "C:\\Users\\zazaz\\AppData\\Local\\Temp\\ipykernel_22132\\527239248.py:4: PerformanceWarning: DataFrame is highly fragmented.  This is usually the result of calling `frame.insert` many times, which has poor performance.  Consider joining all columns at once using pd.concat(axis=1) instead. To get a de-fragmented frame, use `newframe = frame.copy()`\n",
      "  muestras['Muestra _'+str(i)]=_\n",
      "C:\\Users\\zazaz\\AppData\\Local\\Temp\\ipykernel_22132\\527239248.py:4: PerformanceWarning: DataFrame is highly fragmented.  This is usually the result of calling `frame.insert` many times, which has poor performance.  Consider joining all columns at once using pd.concat(axis=1) instead. To get a de-fragmented frame, use `newframe = frame.copy()`\n",
      "  muestras['Muestra _'+str(i)]=_\n",
      "C:\\Users\\zazaz\\AppData\\Local\\Temp\\ipykernel_22132\\527239248.py:4: PerformanceWarning: DataFrame is highly fragmented.  This is usually the result of calling `frame.insert` many times, which has poor performance.  Consider joining all columns at once using pd.concat(axis=1) instead. To get a de-fragmented frame, use `newframe = frame.copy()`\n",
      "  muestras['Muestra _'+str(i)]=_\n",
      "C:\\Users\\zazaz\\AppData\\Local\\Temp\\ipykernel_22132\\527239248.py:4: PerformanceWarning: DataFrame is highly fragmented.  This is usually the result of calling `frame.insert` many times, which has poor performance.  Consider joining all columns at once using pd.concat(axis=1) instead. To get a de-fragmented frame, use `newframe = frame.copy()`\n",
      "  muestras['Muestra _'+str(i)]=_\n",
      "C:\\Users\\zazaz\\AppData\\Local\\Temp\\ipykernel_22132\\527239248.py:4: PerformanceWarning: DataFrame is highly fragmented.  This is usually the result of calling `frame.insert` many times, which has poor performance.  Consider joining all columns at once using pd.concat(axis=1) instead. To get a de-fragmented frame, use `newframe = frame.copy()`\n",
      "  muestras['Muestra _'+str(i)]=_\n",
      "C:\\Users\\zazaz\\AppData\\Local\\Temp\\ipykernel_22132\\527239248.py:4: PerformanceWarning: DataFrame is highly fragmented.  This is usually the result of calling `frame.insert` many times, which has poor performance.  Consider joining all columns at once using pd.concat(axis=1) instead. To get a de-fragmented frame, use `newframe = frame.copy()`\n",
      "  muestras['Muestra _'+str(i)]=_\n",
      "C:\\Users\\zazaz\\AppData\\Local\\Temp\\ipykernel_22132\\527239248.py:4: PerformanceWarning: DataFrame is highly fragmented.  This is usually the result of calling `frame.insert` many times, which has poor performance.  Consider joining all columns at once using pd.concat(axis=1) instead. To get a de-fragmented frame, use `newframe = frame.copy()`\n",
      "  muestras['Muestra _'+str(i)]=_\n",
      "C:\\Users\\zazaz\\AppData\\Local\\Temp\\ipykernel_22132\\527239248.py:4: PerformanceWarning: DataFrame is highly fragmented.  This is usually the result of calling `frame.insert` many times, which has poor performance.  Consider joining all columns at once using pd.concat(axis=1) instead. To get a de-fragmented frame, use `newframe = frame.copy()`\n",
      "  muestras['Muestra _'+str(i)]=_\n",
      "C:\\Users\\zazaz\\AppData\\Local\\Temp\\ipykernel_22132\\527239248.py:4: PerformanceWarning: DataFrame is highly fragmented.  This is usually the result of calling `frame.insert` many times, which has poor performance.  Consider joining all columns at once using pd.concat(axis=1) instead. To get a de-fragmented frame, use `newframe = frame.copy()`\n",
      "  muestras['Muestra _'+str(i)]=_\n",
      "C:\\Users\\zazaz\\AppData\\Local\\Temp\\ipykernel_22132\\527239248.py:4: PerformanceWarning: DataFrame is highly fragmented.  This is usually the result of calling `frame.insert` many times, which has poor performance.  Consider joining all columns at once using pd.concat(axis=1) instead. To get a de-fragmented frame, use `newframe = frame.copy()`\n",
      "  muestras['Muestra _'+str(i)]=_\n",
      "C:\\Users\\zazaz\\AppData\\Local\\Temp\\ipykernel_22132\\527239248.py:4: PerformanceWarning: DataFrame is highly fragmented.  This is usually the result of calling `frame.insert` many times, which has poor performance.  Consider joining all columns at once using pd.concat(axis=1) instead. To get a de-fragmented frame, use `newframe = frame.copy()`\n",
      "  muestras['Muestra _'+str(i)]=_\n",
      "C:\\Users\\zazaz\\AppData\\Local\\Temp\\ipykernel_22132\\527239248.py:4: PerformanceWarning: DataFrame is highly fragmented.  This is usually the result of calling `frame.insert` many times, which has poor performance.  Consider joining all columns at once using pd.concat(axis=1) instead. To get a de-fragmented frame, use `newframe = frame.copy()`\n",
      "  muestras['Muestra _'+str(i)]=_\n",
      "C:\\Users\\zazaz\\AppData\\Local\\Temp\\ipykernel_22132\\527239248.py:4: PerformanceWarning: DataFrame is highly fragmented.  This is usually the result of calling `frame.insert` many times, which has poor performance.  Consider joining all columns at once using pd.concat(axis=1) instead. To get a de-fragmented frame, use `newframe = frame.copy()`\n",
      "  muestras['Muestra _'+str(i)]=_\n",
      "C:\\Users\\zazaz\\AppData\\Local\\Temp\\ipykernel_22132\\527239248.py:4: PerformanceWarning: DataFrame is highly fragmented.  This is usually the result of calling `frame.insert` many times, which has poor performance.  Consider joining all columns at once using pd.concat(axis=1) instead. To get a de-fragmented frame, use `newframe = frame.copy()`\n",
      "  muestras['Muestra _'+str(i)]=_\n",
      "C:\\Users\\zazaz\\AppData\\Local\\Temp\\ipykernel_22132\\527239248.py:4: PerformanceWarning: DataFrame is highly fragmented.  This is usually the result of calling `frame.insert` many times, which has poor performance.  Consider joining all columns at once using pd.concat(axis=1) instead. To get a de-fragmented frame, use `newframe = frame.copy()`\n",
      "  muestras['Muestra _'+str(i)]=_\n",
      "C:\\Users\\zazaz\\AppData\\Local\\Temp\\ipykernel_22132\\527239248.py:4: PerformanceWarning: DataFrame is highly fragmented.  This is usually the result of calling `frame.insert` many times, which has poor performance.  Consider joining all columns at once using pd.concat(axis=1) instead. To get a de-fragmented frame, use `newframe = frame.copy()`\n",
      "  muestras['Muestra _'+str(i)]=_\n",
      "C:\\Users\\zazaz\\AppData\\Local\\Temp\\ipykernel_22132\\527239248.py:4: PerformanceWarning: DataFrame is highly fragmented.  This is usually the result of calling `frame.insert` many times, which has poor performance.  Consider joining all columns at once using pd.concat(axis=1) instead. To get a de-fragmented frame, use `newframe = frame.copy()`\n",
      "  muestras['Muestra _'+str(i)]=_\n",
      "C:\\Users\\zazaz\\AppData\\Local\\Temp\\ipykernel_22132\\527239248.py:4: PerformanceWarning: DataFrame is highly fragmented.  This is usually the result of calling `frame.insert` many times, which has poor performance.  Consider joining all columns at once using pd.concat(axis=1) instead. To get a de-fragmented frame, use `newframe = frame.copy()`\n",
      "  muestras['Muestra _'+str(i)]=_\n",
      "C:\\Users\\zazaz\\AppData\\Local\\Temp\\ipykernel_22132\\527239248.py:4: PerformanceWarning: DataFrame is highly fragmented.  This is usually the result of calling `frame.insert` many times, which has poor performance.  Consider joining all columns at once using pd.concat(axis=1) instead. To get a de-fragmented frame, use `newframe = frame.copy()`\n",
      "  muestras['Muestra _'+str(i)]=_\n",
      "C:\\Users\\zazaz\\AppData\\Local\\Temp\\ipykernel_22132\\527239248.py:4: PerformanceWarning: DataFrame is highly fragmented.  This is usually the result of calling `frame.insert` many times, which has poor performance.  Consider joining all columns at once using pd.concat(axis=1) instead. To get a de-fragmented frame, use `newframe = frame.copy()`\n",
      "  muestras['Muestra _'+str(i)]=_\n",
      "C:\\Users\\zazaz\\AppData\\Local\\Temp\\ipykernel_22132\\527239248.py:4: PerformanceWarning: DataFrame is highly fragmented.  This is usually the result of calling `frame.insert` many times, which has poor performance.  Consider joining all columns at once using pd.concat(axis=1) instead. To get a de-fragmented frame, use `newframe = frame.copy()`\n",
      "  muestras['Muestra _'+str(i)]=_\n",
      "C:\\Users\\zazaz\\AppData\\Local\\Temp\\ipykernel_22132\\527239248.py:4: PerformanceWarning: DataFrame is highly fragmented.  This is usually the result of calling `frame.insert` many times, which has poor performance.  Consider joining all columns at once using pd.concat(axis=1) instead. To get a de-fragmented frame, use `newframe = frame.copy()`\n",
      "  muestras['Muestra _'+str(i)]=_\n",
      "C:\\Users\\zazaz\\AppData\\Local\\Temp\\ipykernel_22132\\527239248.py:4: PerformanceWarning: DataFrame is highly fragmented.  This is usually the result of calling `frame.insert` many times, which has poor performance.  Consider joining all columns at once using pd.concat(axis=1) instead. To get a de-fragmented frame, use `newframe = frame.copy()`\n",
      "  muestras['Muestra _'+str(i)]=_\n",
      "C:\\Users\\zazaz\\AppData\\Local\\Temp\\ipykernel_22132\\527239248.py:4: PerformanceWarning: DataFrame is highly fragmented.  This is usually the result of calling `frame.insert` many times, which has poor performance.  Consider joining all columns at once using pd.concat(axis=1) instead. To get a de-fragmented frame, use `newframe = frame.copy()`\n",
      "  muestras['Muestra _'+str(i)]=_\n",
      "C:\\Users\\zazaz\\AppData\\Local\\Temp\\ipykernel_22132\\527239248.py:4: PerformanceWarning: DataFrame is highly fragmented.  This is usually the result of calling `frame.insert` many times, which has poor performance.  Consider joining all columns at once using pd.concat(axis=1) instead. To get a de-fragmented frame, use `newframe = frame.copy()`\n",
      "  muestras['Muestra _'+str(i)]=_\n",
      "C:\\Users\\zazaz\\AppData\\Local\\Temp\\ipykernel_22132\\527239248.py:4: PerformanceWarning: DataFrame is highly fragmented.  This is usually the result of calling `frame.insert` many times, which has poor performance.  Consider joining all columns at once using pd.concat(axis=1) instead. To get a de-fragmented frame, use `newframe = frame.copy()`\n",
      "  muestras['Muestra _'+str(i)]=_\n",
      "C:\\Users\\zazaz\\AppData\\Local\\Temp\\ipykernel_22132\\527239248.py:4: PerformanceWarning: DataFrame is highly fragmented.  This is usually the result of calling `frame.insert` many times, which has poor performance.  Consider joining all columns at once using pd.concat(axis=1) instead. To get a de-fragmented frame, use `newframe = frame.copy()`\n",
      "  muestras['Muestra _'+str(i)]=_\n",
      "C:\\Users\\zazaz\\AppData\\Local\\Temp\\ipykernel_22132\\527239248.py:4: PerformanceWarning: DataFrame is highly fragmented.  This is usually the result of calling `frame.insert` many times, which has poor performance.  Consider joining all columns at once using pd.concat(axis=1) instead. To get a de-fragmented frame, use `newframe = frame.copy()`\n",
      "  muestras['Muestra _'+str(i)]=_\n",
      "C:\\Users\\zazaz\\AppData\\Local\\Temp\\ipykernel_22132\\527239248.py:4: PerformanceWarning: DataFrame is highly fragmented.  This is usually the result of calling `frame.insert` many times, which has poor performance.  Consider joining all columns at once using pd.concat(axis=1) instead. To get a de-fragmented frame, use `newframe = frame.copy()`\n",
      "  muestras['Muestra _'+str(i)]=_\n",
      "C:\\Users\\zazaz\\AppData\\Local\\Temp\\ipykernel_22132\\527239248.py:4: PerformanceWarning: DataFrame is highly fragmented.  This is usually the result of calling `frame.insert` many times, which has poor performance.  Consider joining all columns at once using pd.concat(axis=1) instead. To get a de-fragmented frame, use `newframe = frame.copy()`\n",
      "  muestras['Muestra _'+str(i)]=_\n",
      "C:\\Users\\zazaz\\AppData\\Local\\Temp\\ipykernel_22132\\527239248.py:4: PerformanceWarning: DataFrame is highly fragmented.  This is usually the result of calling `frame.insert` many times, which has poor performance.  Consider joining all columns at once using pd.concat(axis=1) instead. To get a de-fragmented frame, use `newframe = frame.copy()`\n",
      "  muestras['Muestra _'+str(i)]=_\n",
      "C:\\Users\\zazaz\\AppData\\Local\\Temp\\ipykernel_22132\\527239248.py:4: PerformanceWarning: DataFrame is highly fragmented.  This is usually the result of calling `frame.insert` many times, which has poor performance.  Consider joining all columns at once using pd.concat(axis=1) instead. To get a de-fragmented frame, use `newframe = frame.copy()`\n",
      "  muestras['Muestra _'+str(i)]=_\n",
      "C:\\Users\\zazaz\\AppData\\Local\\Temp\\ipykernel_22132\\527239248.py:4: PerformanceWarning: DataFrame is highly fragmented.  This is usually the result of calling `frame.insert` many times, which has poor performance.  Consider joining all columns at once using pd.concat(axis=1) instead. To get a de-fragmented frame, use `newframe = frame.copy()`\n",
      "  muestras['Muestra _'+str(i)]=_\n",
      "C:\\Users\\zazaz\\AppData\\Local\\Temp\\ipykernel_22132\\527239248.py:4: PerformanceWarning: DataFrame is highly fragmented.  This is usually the result of calling `frame.insert` many times, which has poor performance.  Consider joining all columns at once using pd.concat(axis=1) instead. To get a de-fragmented frame, use `newframe = frame.copy()`\n",
      "  muestras['Muestra _'+str(i)]=_\n",
      "C:\\Users\\zazaz\\AppData\\Local\\Temp\\ipykernel_22132\\527239248.py:4: PerformanceWarning: DataFrame is highly fragmented.  This is usually the result of calling `frame.insert` many times, which has poor performance.  Consider joining all columns at once using pd.concat(axis=1) instead. To get a de-fragmented frame, use `newframe = frame.copy()`\n",
      "  muestras['Muestra _'+str(i)]=_\n",
      "C:\\Users\\zazaz\\AppData\\Local\\Temp\\ipykernel_22132\\527239248.py:4: PerformanceWarning: DataFrame is highly fragmented.  This is usually the result of calling `frame.insert` many times, which has poor performance.  Consider joining all columns at once using pd.concat(axis=1) instead. To get a de-fragmented frame, use `newframe = frame.copy()`\n",
      "  muestras['Muestra _'+str(i)]=_\n",
      "C:\\Users\\zazaz\\AppData\\Local\\Temp\\ipykernel_22132\\527239248.py:4: PerformanceWarning: DataFrame is highly fragmented.  This is usually the result of calling `frame.insert` many times, which has poor performance.  Consider joining all columns at once using pd.concat(axis=1) instead. To get a de-fragmented frame, use `newframe = frame.copy()`\n",
      "  muestras['Muestra _'+str(i)]=_\n",
      "C:\\Users\\zazaz\\AppData\\Local\\Temp\\ipykernel_22132\\527239248.py:4: PerformanceWarning: DataFrame is highly fragmented.  This is usually the result of calling `frame.insert` many times, which has poor performance.  Consider joining all columns at once using pd.concat(axis=1) instead. To get a de-fragmented frame, use `newframe = frame.copy()`\n",
      "  muestras['Muestra _'+str(i)]=_\n",
      "C:\\Users\\zazaz\\AppData\\Local\\Temp\\ipykernel_22132\\527239248.py:4: PerformanceWarning: DataFrame is highly fragmented.  This is usually the result of calling `frame.insert` many times, which has poor performance.  Consider joining all columns at once using pd.concat(axis=1) instead. To get a de-fragmented frame, use `newframe = frame.copy()`\n",
      "  muestras['Muestra _'+str(i)]=_\n",
      "C:\\Users\\zazaz\\AppData\\Local\\Temp\\ipykernel_22132\\527239248.py:4: PerformanceWarning: DataFrame is highly fragmented.  This is usually the result of calling `frame.insert` many times, which has poor performance.  Consider joining all columns at once using pd.concat(axis=1) instead. To get a de-fragmented frame, use `newframe = frame.copy()`\n",
      "  muestras['Muestra _'+str(i)]=_\n",
      "C:\\Users\\zazaz\\AppData\\Local\\Temp\\ipykernel_22132\\527239248.py:4: PerformanceWarning: DataFrame is highly fragmented.  This is usually the result of calling `frame.insert` many times, which has poor performance.  Consider joining all columns at once using pd.concat(axis=1) instead. To get a de-fragmented frame, use `newframe = frame.copy()`\n",
      "  muestras['Muestra _'+str(i)]=_\n",
      "C:\\Users\\zazaz\\AppData\\Local\\Temp\\ipykernel_22132\\527239248.py:4: PerformanceWarning: DataFrame is highly fragmented.  This is usually the result of calling `frame.insert` many times, which has poor performance.  Consider joining all columns at once using pd.concat(axis=1) instead. To get a de-fragmented frame, use `newframe = frame.copy()`\n",
      "  muestras['Muestra _'+str(i)]=_\n",
      "C:\\Users\\zazaz\\AppData\\Local\\Temp\\ipykernel_22132\\527239248.py:4: PerformanceWarning: DataFrame is highly fragmented.  This is usually the result of calling `frame.insert` many times, which has poor performance.  Consider joining all columns at once using pd.concat(axis=1) instead. To get a de-fragmented frame, use `newframe = frame.copy()`\n",
      "  muestras['Muestra _'+str(i)]=_\n",
      "C:\\Users\\zazaz\\AppData\\Local\\Temp\\ipykernel_22132\\527239248.py:4: PerformanceWarning: DataFrame is highly fragmented.  This is usually the result of calling `frame.insert` many times, which has poor performance.  Consider joining all columns at once using pd.concat(axis=1) instead. To get a de-fragmented frame, use `newframe = frame.copy()`\n",
      "  muestras['Muestra _'+str(i)]=_\n",
      "C:\\Users\\zazaz\\AppData\\Local\\Temp\\ipykernel_22132\\527239248.py:4: PerformanceWarning: DataFrame is highly fragmented.  This is usually the result of calling `frame.insert` many times, which has poor performance.  Consider joining all columns at once using pd.concat(axis=1) instead. To get a de-fragmented frame, use `newframe = frame.copy()`\n",
      "  muestras['Muestra _'+str(i)]=_\n",
      "C:\\Users\\zazaz\\AppData\\Local\\Temp\\ipykernel_22132\\527239248.py:4: PerformanceWarning: DataFrame is highly fragmented.  This is usually the result of calling `frame.insert` many times, which has poor performance.  Consider joining all columns at once using pd.concat(axis=1) instead. To get a de-fragmented frame, use `newframe = frame.copy()`\n",
      "  muestras['Muestra _'+str(i)]=_\n",
      "C:\\Users\\zazaz\\AppData\\Local\\Temp\\ipykernel_22132\\527239248.py:4: PerformanceWarning: DataFrame is highly fragmented.  This is usually the result of calling `frame.insert` many times, which has poor performance.  Consider joining all columns at once using pd.concat(axis=1) instead. To get a de-fragmented frame, use `newframe = frame.copy()`\n",
      "  muestras['Muestra _'+str(i)]=_\n",
      "C:\\Users\\zazaz\\AppData\\Local\\Temp\\ipykernel_22132\\527239248.py:4: PerformanceWarning: DataFrame is highly fragmented.  This is usually the result of calling `frame.insert` many times, which has poor performance.  Consider joining all columns at once using pd.concat(axis=1) instead. To get a de-fragmented frame, use `newframe = frame.copy()`\n",
      "  muestras['Muestra _'+str(i)]=_\n",
      "C:\\Users\\zazaz\\AppData\\Local\\Temp\\ipykernel_22132\\527239248.py:4: PerformanceWarning: DataFrame is highly fragmented.  This is usually the result of calling `frame.insert` many times, which has poor performance.  Consider joining all columns at once using pd.concat(axis=1) instead. To get a de-fragmented frame, use `newframe = frame.copy()`\n",
      "  muestras['Muestra _'+str(i)]=_\n",
      "C:\\Users\\zazaz\\AppData\\Local\\Temp\\ipykernel_22132\\527239248.py:4: PerformanceWarning: DataFrame is highly fragmented.  This is usually the result of calling `frame.insert` many times, which has poor performance.  Consider joining all columns at once using pd.concat(axis=1) instead. To get a de-fragmented frame, use `newframe = frame.copy()`\n",
      "  muestras['Muestra _'+str(i)]=_\n",
      "C:\\Users\\zazaz\\AppData\\Local\\Temp\\ipykernel_22132\\527239248.py:4: PerformanceWarning: DataFrame is highly fragmented.  This is usually the result of calling `frame.insert` many times, which has poor performance.  Consider joining all columns at once using pd.concat(axis=1) instead. To get a de-fragmented frame, use `newframe = frame.copy()`\n",
      "  muestras['Muestra _'+str(i)]=_\n",
      "C:\\Users\\zazaz\\AppData\\Local\\Temp\\ipykernel_22132\\527239248.py:4: PerformanceWarning: DataFrame is highly fragmented.  This is usually the result of calling `frame.insert` many times, which has poor performance.  Consider joining all columns at once using pd.concat(axis=1) instead. To get a de-fragmented frame, use `newframe = frame.copy()`\n",
      "  muestras['Muestra _'+str(i)]=_\n",
      "C:\\Users\\zazaz\\AppData\\Local\\Temp\\ipykernel_22132\\527239248.py:4: PerformanceWarning: DataFrame is highly fragmented.  This is usually the result of calling `frame.insert` many times, which has poor performance.  Consider joining all columns at once using pd.concat(axis=1) instead. To get a de-fragmented frame, use `newframe = frame.copy()`\n",
      "  muestras['Muestra _'+str(i)]=_\n",
      "C:\\Users\\zazaz\\AppData\\Local\\Temp\\ipykernel_22132\\527239248.py:4: PerformanceWarning: DataFrame is highly fragmented.  This is usually the result of calling `frame.insert` many times, which has poor performance.  Consider joining all columns at once using pd.concat(axis=1) instead. To get a de-fragmented frame, use `newframe = frame.copy()`\n",
      "  muestras['Muestra _'+str(i)]=_\n",
      "C:\\Users\\zazaz\\AppData\\Local\\Temp\\ipykernel_22132\\527239248.py:4: PerformanceWarning: DataFrame is highly fragmented.  This is usually the result of calling `frame.insert` many times, which has poor performance.  Consider joining all columns at once using pd.concat(axis=1) instead. To get a de-fragmented frame, use `newframe = frame.copy()`\n",
      "  muestras['Muestra _'+str(i)]=_\n",
      "C:\\Users\\zazaz\\AppData\\Local\\Temp\\ipykernel_22132\\527239248.py:4: PerformanceWarning: DataFrame is highly fragmented.  This is usually the result of calling `frame.insert` many times, which has poor performance.  Consider joining all columns at once using pd.concat(axis=1) instead. To get a de-fragmented frame, use `newframe = frame.copy()`\n",
      "  muestras['Muestra _'+str(i)]=_\n",
      "C:\\Users\\zazaz\\AppData\\Local\\Temp\\ipykernel_22132\\527239248.py:4: PerformanceWarning: DataFrame is highly fragmented.  This is usually the result of calling `frame.insert` many times, which has poor performance.  Consider joining all columns at once using pd.concat(axis=1) instead. To get a de-fragmented frame, use `newframe = frame.copy()`\n",
      "  muestras['Muestra _'+str(i)]=_\n",
      "C:\\Users\\zazaz\\AppData\\Local\\Temp\\ipykernel_22132\\527239248.py:4: PerformanceWarning: DataFrame is highly fragmented.  This is usually the result of calling `frame.insert` many times, which has poor performance.  Consider joining all columns at once using pd.concat(axis=1) instead. To get a de-fragmented frame, use `newframe = frame.copy()`\n",
      "  muestras['Muestra _'+str(i)]=_\n",
      "C:\\Users\\zazaz\\AppData\\Local\\Temp\\ipykernel_22132\\527239248.py:4: PerformanceWarning: DataFrame is highly fragmented.  This is usually the result of calling `frame.insert` many times, which has poor performance.  Consider joining all columns at once using pd.concat(axis=1) instead. To get a de-fragmented frame, use `newframe = frame.copy()`\n",
      "  muestras['Muestra _'+str(i)]=_\n",
      "C:\\Users\\zazaz\\AppData\\Local\\Temp\\ipykernel_22132\\527239248.py:4: PerformanceWarning: DataFrame is highly fragmented.  This is usually the result of calling `frame.insert` many times, which has poor performance.  Consider joining all columns at once using pd.concat(axis=1) instead. To get a de-fragmented frame, use `newframe = frame.copy()`\n",
      "  muestras['Muestra _'+str(i)]=_\n",
      "C:\\Users\\zazaz\\AppData\\Local\\Temp\\ipykernel_22132\\527239248.py:4: PerformanceWarning: DataFrame is highly fragmented.  This is usually the result of calling `frame.insert` many times, which has poor performance.  Consider joining all columns at once using pd.concat(axis=1) instead. To get a de-fragmented frame, use `newframe = frame.copy()`\n",
      "  muestras['Muestra _'+str(i)]=_\n",
      "C:\\Users\\zazaz\\AppData\\Local\\Temp\\ipykernel_22132\\527239248.py:4: PerformanceWarning: DataFrame is highly fragmented.  This is usually the result of calling `frame.insert` many times, which has poor performance.  Consider joining all columns at once using pd.concat(axis=1) instead. To get a de-fragmented frame, use `newframe = frame.copy()`\n",
      "  muestras['Muestra _'+str(i)]=_\n",
      "C:\\Users\\zazaz\\AppData\\Local\\Temp\\ipykernel_22132\\527239248.py:4: PerformanceWarning: DataFrame is highly fragmented.  This is usually the result of calling `frame.insert` many times, which has poor performance.  Consider joining all columns at once using pd.concat(axis=1) instead. To get a de-fragmented frame, use `newframe = frame.copy()`\n",
      "  muestras['Muestra _'+str(i)]=_\n",
      "C:\\Users\\zazaz\\AppData\\Local\\Temp\\ipykernel_22132\\527239248.py:4: PerformanceWarning: DataFrame is highly fragmented.  This is usually the result of calling `frame.insert` many times, which has poor performance.  Consider joining all columns at once using pd.concat(axis=1) instead. To get a de-fragmented frame, use `newframe = frame.copy()`\n",
      "  muestras['Muestra _'+str(i)]=_\n",
      "C:\\Users\\zazaz\\AppData\\Local\\Temp\\ipykernel_22132\\527239248.py:4: PerformanceWarning: DataFrame is highly fragmented.  This is usually the result of calling `frame.insert` many times, which has poor performance.  Consider joining all columns at once using pd.concat(axis=1) instead. To get a de-fragmented frame, use `newframe = frame.copy()`\n",
      "  muestras['Muestra _'+str(i)]=_\n",
      "C:\\Users\\zazaz\\AppData\\Local\\Temp\\ipykernel_22132\\527239248.py:4: PerformanceWarning: DataFrame is highly fragmented.  This is usually the result of calling `frame.insert` many times, which has poor performance.  Consider joining all columns at once using pd.concat(axis=1) instead. To get a de-fragmented frame, use `newframe = frame.copy()`\n",
      "  muestras['Muestra _'+str(i)]=_\n",
      "C:\\Users\\zazaz\\AppData\\Local\\Temp\\ipykernel_22132\\527239248.py:4: PerformanceWarning: DataFrame is highly fragmented.  This is usually the result of calling `frame.insert` many times, which has poor performance.  Consider joining all columns at once using pd.concat(axis=1) instead. To get a de-fragmented frame, use `newframe = frame.copy()`\n",
      "  muestras['Muestra _'+str(i)]=_\n",
      "C:\\Users\\zazaz\\AppData\\Local\\Temp\\ipykernel_22132\\527239248.py:4: PerformanceWarning: DataFrame is highly fragmented.  This is usually the result of calling `frame.insert` many times, which has poor performance.  Consider joining all columns at once using pd.concat(axis=1) instead. To get a de-fragmented frame, use `newframe = frame.copy()`\n",
      "  muestras['Muestra _'+str(i)]=_\n",
      "C:\\Users\\zazaz\\AppData\\Local\\Temp\\ipykernel_22132\\527239248.py:4: PerformanceWarning: DataFrame is highly fragmented.  This is usually the result of calling `frame.insert` many times, which has poor performance.  Consider joining all columns at once using pd.concat(axis=1) instead. To get a de-fragmented frame, use `newframe = frame.copy()`\n",
      "  muestras['Muestra _'+str(i)]=_\n",
      "C:\\Users\\zazaz\\AppData\\Local\\Temp\\ipykernel_22132\\527239248.py:4: PerformanceWarning: DataFrame is highly fragmented.  This is usually the result of calling `frame.insert` many times, which has poor performance.  Consider joining all columns at once using pd.concat(axis=1) instead. To get a de-fragmented frame, use `newframe = frame.copy()`\n",
      "  muestras['Muestra _'+str(i)]=_\n",
      "C:\\Users\\zazaz\\AppData\\Local\\Temp\\ipykernel_22132\\527239248.py:4: PerformanceWarning: DataFrame is highly fragmented.  This is usually the result of calling `frame.insert` many times, which has poor performance.  Consider joining all columns at once using pd.concat(axis=1) instead. To get a de-fragmented frame, use `newframe = frame.copy()`\n",
      "  muestras['Muestra _'+str(i)]=_\n",
      "C:\\Users\\zazaz\\AppData\\Local\\Temp\\ipykernel_22132\\527239248.py:4: PerformanceWarning: DataFrame is highly fragmented.  This is usually the result of calling `frame.insert` many times, which has poor performance.  Consider joining all columns at once using pd.concat(axis=1) instead. To get a de-fragmented frame, use `newframe = frame.copy()`\n",
      "  muestras['Muestra _'+str(i)]=_\n",
      "C:\\Users\\zazaz\\AppData\\Local\\Temp\\ipykernel_22132\\527239248.py:4: PerformanceWarning: DataFrame is highly fragmented.  This is usually the result of calling `frame.insert` many times, which has poor performance.  Consider joining all columns at once using pd.concat(axis=1) instead. To get a de-fragmented frame, use `newframe = frame.copy()`\n",
      "  muestras['Muestra _'+str(i)]=_\n",
      "C:\\Users\\zazaz\\AppData\\Local\\Temp\\ipykernel_22132\\527239248.py:4: PerformanceWarning: DataFrame is highly fragmented.  This is usually the result of calling `frame.insert` many times, which has poor performance.  Consider joining all columns at once using pd.concat(axis=1) instead. To get a de-fragmented frame, use `newframe = frame.copy()`\n",
      "  muestras['Muestra _'+str(i)]=_\n",
      "C:\\Users\\zazaz\\AppData\\Local\\Temp\\ipykernel_22132\\527239248.py:4: PerformanceWarning: DataFrame is highly fragmented.  This is usually the result of calling `frame.insert` many times, which has poor performance.  Consider joining all columns at once using pd.concat(axis=1) instead. To get a de-fragmented frame, use `newframe = frame.copy()`\n",
      "  muestras['Muestra _'+str(i)]=_\n",
      "C:\\Users\\zazaz\\AppData\\Local\\Temp\\ipykernel_22132\\527239248.py:4: PerformanceWarning: DataFrame is highly fragmented.  This is usually the result of calling `frame.insert` many times, which has poor performance.  Consider joining all columns at once using pd.concat(axis=1) instead. To get a de-fragmented frame, use `newframe = frame.copy()`\n",
      "  muestras['Muestra _'+str(i)]=_\n",
      "C:\\Users\\zazaz\\AppData\\Local\\Temp\\ipykernel_22132\\527239248.py:4: PerformanceWarning: DataFrame is highly fragmented.  This is usually the result of calling `frame.insert` many times, which has poor performance.  Consider joining all columns at once using pd.concat(axis=1) instead. To get a de-fragmented frame, use `newframe = frame.copy()`\n",
      "  muestras['Muestra _'+str(i)]=_\n",
      "C:\\Users\\zazaz\\AppData\\Local\\Temp\\ipykernel_22132\\527239248.py:4: PerformanceWarning: DataFrame is highly fragmented.  This is usually the result of calling `frame.insert` many times, which has poor performance.  Consider joining all columns at once using pd.concat(axis=1) instead. To get a de-fragmented frame, use `newframe = frame.copy()`\n",
      "  muestras['Muestra _'+str(i)]=_\n",
      "C:\\Users\\zazaz\\AppData\\Local\\Temp\\ipykernel_22132\\527239248.py:4: PerformanceWarning: DataFrame is highly fragmented.  This is usually the result of calling `frame.insert` many times, which has poor performance.  Consider joining all columns at once using pd.concat(axis=1) instead. To get a de-fragmented frame, use `newframe = frame.copy()`\n",
      "  muestras['Muestra _'+str(i)]=_\n",
      "C:\\Users\\zazaz\\AppData\\Local\\Temp\\ipykernel_22132\\527239248.py:4: PerformanceWarning: DataFrame is highly fragmented.  This is usually the result of calling `frame.insert` many times, which has poor performance.  Consider joining all columns at once using pd.concat(axis=1) instead. To get a de-fragmented frame, use `newframe = frame.copy()`\n",
      "  muestras['Muestra _'+str(i)]=_\n",
      "C:\\Users\\zazaz\\AppData\\Local\\Temp\\ipykernel_22132\\527239248.py:4: PerformanceWarning: DataFrame is highly fragmented.  This is usually the result of calling `frame.insert` many times, which has poor performance.  Consider joining all columns at once using pd.concat(axis=1) instead. To get a de-fragmented frame, use `newframe = frame.copy()`\n",
      "  muestras['Muestra _'+str(i)]=_\n",
      "C:\\Users\\zazaz\\AppData\\Local\\Temp\\ipykernel_22132\\527239248.py:4: PerformanceWarning: DataFrame is highly fragmented.  This is usually the result of calling `frame.insert` many times, which has poor performance.  Consider joining all columns at once using pd.concat(axis=1) instead. To get a de-fragmented frame, use `newframe = frame.copy()`\n",
      "  muestras['Muestra _'+str(i)]=_\n",
      "C:\\Users\\zazaz\\AppData\\Local\\Temp\\ipykernel_22132\\527239248.py:4: PerformanceWarning: DataFrame is highly fragmented.  This is usually the result of calling `frame.insert` many times, which has poor performance.  Consider joining all columns at once using pd.concat(axis=1) instead. To get a de-fragmented frame, use `newframe = frame.copy()`\n",
      "  muestras['Muestra _'+str(i)]=_\n",
      "C:\\Users\\zazaz\\AppData\\Local\\Temp\\ipykernel_22132\\527239248.py:4: PerformanceWarning: DataFrame is highly fragmented.  This is usually the result of calling `frame.insert` many times, which has poor performance.  Consider joining all columns at once using pd.concat(axis=1) instead. To get a de-fragmented frame, use `newframe = frame.copy()`\n",
      "  muestras['Muestra _'+str(i)]=_\n",
      "C:\\Users\\zazaz\\AppData\\Local\\Temp\\ipykernel_22132\\527239248.py:4: PerformanceWarning: DataFrame is highly fragmented.  This is usually the result of calling `frame.insert` many times, which has poor performance.  Consider joining all columns at once using pd.concat(axis=1) instead. To get a de-fragmented frame, use `newframe = frame.copy()`\n",
      "  muestras['Muestra _'+str(i)]=_\n",
      "C:\\Users\\zazaz\\AppData\\Local\\Temp\\ipykernel_22132\\527239248.py:4: PerformanceWarning: DataFrame is highly fragmented.  This is usually the result of calling `frame.insert` many times, which has poor performance.  Consider joining all columns at once using pd.concat(axis=1) instead. To get a de-fragmented frame, use `newframe = frame.copy()`\n",
      "  muestras['Muestra _'+str(i)]=_\n",
      "C:\\Users\\zazaz\\AppData\\Local\\Temp\\ipykernel_22132\\527239248.py:4: PerformanceWarning: DataFrame is highly fragmented.  This is usually the result of calling `frame.insert` many times, which has poor performance.  Consider joining all columns at once using pd.concat(axis=1) instead. To get a de-fragmented frame, use `newframe = frame.copy()`\n",
      "  muestras['Muestra _'+str(i)]=_\n",
      "C:\\Users\\zazaz\\AppData\\Local\\Temp\\ipykernel_22132\\527239248.py:4: PerformanceWarning: DataFrame is highly fragmented.  This is usually the result of calling `frame.insert` many times, which has poor performance.  Consider joining all columns at once using pd.concat(axis=1) instead. To get a de-fragmented frame, use `newframe = frame.copy()`\n",
      "  muestras['Muestra _'+str(i)]=_\n",
      "C:\\Users\\zazaz\\AppData\\Local\\Temp\\ipykernel_22132\\527239248.py:4: PerformanceWarning: DataFrame is highly fragmented.  This is usually the result of calling `frame.insert` many times, which has poor performance.  Consider joining all columns at once using pd.concat(axis=1) instead. To get a de-fragmented frame, use `newframe = frame.copy()`\n",
      "  muestras['Muestra _'+str(i)]=_\n",
      "C:\\Users\\zazaz\\AppData\\Local\\Temp\\ipykernel_22132\\527239248.py:4: PerformanceWarning: DataFrame is highly fragmented.  This is usually the result of calling `frame.insert` many times, which has poor performance.  Consider joining all columns at once using pd.concat(axis=1) instead. To get a de-fragmented frame, use `newframe = frame.copy()`\n",
      "  muestras['Muestra _'+str(i)]=_\n",
      "C:\\Users\\zazaz\\AppData\\Local\\Temp\\ipykernel_22132\\527239248.py:4: PerformanceWarning: DataFrame is highly fragmented.  This is usually the result of calling `frame.insert` many times, which has poor performance.  Consider joining all columns at once using pd.concat(axis=1) instead. To get a de-fragmented frame, use `newframe = frame.copy()`\n",
      "  muestras['Muestra _'+str(i)]=_\n",
      "C:\\Users\\zazaz\\AppData\\Local\\Temp\\ipykernel_22132\\527239248.py:4: PerformanceWarning: DataFrame is highly fragmented.  This is usually the result of calling `frame.insert` many times, which has poor performance.  Consider joining all columns at once using pd.concat(axis=1) instead. To get a de-fragmented frame, use `newframe = frame.copy()`\n",
      "  muestras['Muestra _'+str(i)]=_\n",
      "C:\\Users\\zazaz\\AppData\\Local\\Temp\\ipykernel_22132\\527239248.py:4: PerformanceWarning: DataFrame is highly fragmented.  This is usually the result of calling `frame.insert` many times, which has poor performance.  Consider joining all columns at once using pd.concat(axis=1) instead. To get a de-fragmented frame, use `newframe = frame.copy()`\n",
      "  muestras['Muestra _'+str(i)]=_\n",
      "C:\\Users\\zazaz\\AppData\\Local\\Temp\\ipykernel_22132\\527239248.py:4: PerformanceWarning: DataFrame is highly fragmented.  This is usually the result of calling `frame.insert` many times, which has poor performance.  Consider joining all columns at once using pd.concat(axis=1) instead. To get a de-fragmented frame, use `newframe = frame.copy()`\n",
      "  muestras['Muestra _'+str(i)]=_\n",
      "C:\\Users\\zazaz\\AppData\\Local\\Temp\\ipykernel_22132\\527239248.py:4: PerformanceWarning: DataFrame is highly fragmented.  This is usually the result of calling `frame.insert` many times, which has poor performance.  Consider joining all columns at once using pd.concat(axis=1) instead. To get a de-fragmented frame, use `newframe = frame.copy()`\n",
      "  muestras['Muestra _'+str(i)]=_\n",
      "C:\\Users\\zazaz\\AppData\\Local\\Temp\\ipykernel_22132\\527239248.py:4: PerformanceWarning: DataFrame is highly fragmented.  This is usually the result of calling `frame.insert` many times, which has poor performance.  Consider joining all columns at once using pd.concat(axis=1) instead. To get a de-fragmented frame, use `newframe = frame.copy()`\n",
      "  muestras['Muestra _'+str(i)]=_\n",
      "C:\\Users\\zazaz\\AppData\\Local\\Temp\\ipykernel_22132\\527239248.py:4: PerformanceWarning: DataFrame is highly fragmented.  This is usually the result of calling `frame.insert` many times, which has poor performance.  Consider joining all columns at once using pd.concat(axis=1) instead. To get a de-fragmented frame, use `newframe = frame.copy()`\n",
      "  muestras['Muestra _'+str(i)]=_\n",
      "C:\\Users\\zazaz\\AppData\\Local\\Temp\\ipykernel_22132\\527239248.py:4: PerformanceWarning: DataFrame is highly fragmented.  This is usually the result of calling `frame.insert` many times, which has poor performance.  Consider joining all columns at once using pd.concat(axis=1) instead. To get a de-fragmented frame, use `newframe = frame.copy()`\n",
      "  muestras['Muestra _'+str(i)]=_\n",
      "C:\\Users\\zazaz\\AppData\\Local\\Temp\\ipykernel_22132\\527239248.py:4: PerformanceWarning: DataFrame is highly fragmented.  This is usually the result of calling `frame.insert` many times, which has poor performance.  Consider joining all columns at once using pd.concat(axis=1) instead. To get a de-fragmented frame, use `newframe = frame.copy()`\n",
      "  muestras['Muestra _'+str(i)]=_\n",
      "C:\\Users\\zazaz\\AppData\\Local\\Temp\\ipykernel_22132\\527239248.py:4: PerformanceWarning: DataFrame is highly fragmented.  This is usually the result of calling `frame.insert` many times, which has poor performance.  Consider joining all columns at once using pd.concat(axis=1) instead. To get a de-fragmented frame, use `newframe = frame.copy()`\n",
      "  muestras['Muestra _'+str(i)]=_\n",
      "C:\\Users\\zazaz\\AppData\\Local\\Temp\\ipykernel_22132\\527239248.py:4: PerformanceWarning: DataFrame is highly fragmented.  This is usually the result of calling `frame.insert` many times, which has poor performance.  Consider joining all columns at once using pd.concat(axis=1) instead. To get a de-fragmented frame, use `newframe = frame.copy()`\n",
      "  muestras['Muestra _'+str(i)]=_\n",
      "C:\\Users\\zazaz\\AppData\\Local\\Temp\\ipykernel_22132\\527239248.py:4: PerformanceWarning: DataFrame is highly fragmented.  This is usually the result of calling `frame.insert` many times, which has poor performance.  Consider joining all columns at once using pd.concat(axis=1) instead. To get a de-fragmented frame, use `newframe = frame.copy()`\n",
      "  muestras['Muestra _'+str(i)]=_\n",
      "C:\\Users\\zazaz\\AppData\\Local\\Temp\\ipykernel_22132\\527239248.py:4: PerformanceWarning: DataFrame is highly fragmented.  This is usually the result of calling `frame.insert` many times, which has poor performance.  Consider joining all columns at once using pd.concat(axis=1) instead. To get a de-fragmented frame, use `newframe = frame.copy()`\n",
      "  muestras['Muestra _'+str(i)]=_\n",
      "C:\\Users\\zazaz\\AppData\\Local\\Temp\\ipykernel_22132\\527239248.py:4: PerformanceWarning: DataFrame is highly fragmented.  This is usually the result of calling `frame.insert` many times, which has poor performance.  Consider joining all columns at once using pd.concat(axis=1) instead. To get a de-fragmented frame, use `newframe = frame.copy()`\n",
      "  muestras['Muestra _'+str(i)]=_\n",
      "C:\\Users\\zazaz\\AppData\\Local\\Temp\\ipykernel_22132\\527239248.py:4: PerformanceWarning: DataFrame is highly fragmented.  This is usually the result of calling `frame.insert` many times, which has poor performance.  Consider joining all columns at once using pd.concat(axis=1) instead. To get a de-fragmented frame, use `newframe = frame.copy()`\n",
      "  muestras['Muestra _'+str(i)]=_\n",
      "C:\\Users\\zazaz\\AppData\\Local\\Temp\\ipykernel_22132\\527239248.py:4: PerformanceWarning: DataFrame is highly fragmented.  This is usually the result of calling `frame.insert` many times, which has poor performance.  Consider joining all columns at once using pd.concat(axis=1) instead. To get a de-fragmented frame, use `newframe = frame.copy()`\n",
      "  muestras['Muestra _'+str(i)]=_\n",
      "C:\\Users\\zazaz\\AppData\\Local\\Temp\\ipykernel_22132\\527239248.py:4: PerformanceWarning: DataFrame is highly fragmented.  This is usually the result of calling `frame.insert` many times, which has poor performance.  Consider joining all columns at once using pd.concat(axis=1) instead. To get a de-fragmented frame, use `newframe = frame.copy()`\n",
      "  muestras['Muestra _'+str(i)]=_\n",
      "C:\\Users\\zazaz\\AppData\\Local\\Temp\\ipykernel_22132\\527239248.py:4: PerformanceWarning: DataFrame is highly fragmented.  This is usually the result of calling `frame.insert` many times, which has poor performance.  Consider joining all columns at once using pd.concat(axis=1) instead. To get a de-fragmented frame, use `newframe = frame.copy()`\n",
      "  muestras['Muestra _'+str(i)]=_\n",
      "C:\\Users\\zazaz\\AppData\\Local\\Temp\\ipykernel_22132\\527239248.py:4: PerformanceWarning: DataFrame is highly fragmented.  This is usually the result of calling `frame.insert` many times, which has poor performance.  Consider joining all columns at once using pd.concat(axis=1) instead. To get a de-fragmented frame, use `newframe = frame.copy()`\n",
      "  muestras['Muestra _'+str(i)]=_\n",
      "C:\\Users\\zazaz\\AppData\\Local\\Temp\\ipykernel_22132\\527239248.py:4: PerformanceWarning: DataFrame is highly fragmented.  This is usually the result of calling `frame.insert` many times, which has poor performance.  Consider joining all columns at once using pd.concat(axis=1) instead. To get a de-fragmented frame, use `newframe = frame.copy()`\n",
      "  muestras['Muestra _'+str(i)]=_\n",
      "C:\\Users\\zazaz\\AppData\\Local\\Temp\\ipykernel_22132\\527239248.py:4: PerformanceWarning: DataFrame is highly fragmented.  This is usually the result of calling `frame.insert` many times, which has poor performance.  Consider joining all columns at once using pd.concat(axis=1) instead. To get a de-fragmented frame, use `newframe = frame.copy()`\n",
      "  muestras['Muestra _'+str(i)]=_\n",
      "C:\\Users\\zazaz\\AppData\\Local\\Temp\\ipykernel_22132\\527239248.py:4: PerformanceWarning: DataFrame is highly fragmented.  This is usually the result of calling `frame.insert` many times, which has poor performance.  Consider joining all columns at once using pd.concat(axis=1) instead. To get a de-fragmented frame, use `newframe = frame.copy()`\n",
      "  muestras['Muestra _'+str(i)]=_\n",
      "C:\\Users\\zazaz\\AppData\\Local\\Temp\\ipykernel_22132\\527239248.py:4: PerformanceWarning: DataFrame is highly fragmented.  This is usually the result of calling `frame.insert` many times, which has poor performance.  Consider joining all columns at once using pd.concat(axis=1) instead. To get a de-fragmented frame, use `newframe = frame.copy()`\n",
      "  muestras['Muestra _'+str(i)]=_\n",
      "C:\\Users\\zazaz\\AppData\\Local\\Temp\\ipykernel_22132\\527239248.py:4: PerformanceWarning: DataFrame is highly fragmented.  This is usually the result of calling `frame.insert` many times, which has poor performance.  Consider joining all columns at once using pd.concat(axis=1) instead. To get a de-fragmented frame, use `newframe = frame.copy()`\n",
      "  muestras['Muestra _'+str(i)]=_\n",
      "C:\\Users\\zazaz\\AppData\\Local\\Temp\\ipykernel_22132\\527239248.py:4: PerformanceWarning: DataFrame is highly fragmented.  This is usually the result of calling `frame.insert` many times, which has poor performance.  Consider joining all columns at once using pd.concat(axis=1) instead. To get a de-fragmented frame, use `newframe = frame.copy()`\n",
      "  muestras['Muestra _'+str(i)]=_\n",
      "C:\\Users\\zazaz\\AppData\\Local\\Temp\\ipykernel_22132\\527239248.py:4: PerformanceWarning: DataFrame is highly fragmented.  This is usually the result of calling `frame.insert` many times, which has poor performance.  Consider joining all columns at once using pd.concat(axis=1) instead. To get a de-fragmented frame, use `newframe = frame.copy()`\n",
      "  muestras['Muestra _'+str(i)]=_\n",
      "C:\\Users\\zazaz\\AppData\\Local\\Temp\\ipykernel_22132\\527239248.py:4: PerformanceWarning: DataFrame is highly fragmented.  This is usually the result of calling `frame.insert` many times, which has poor performance.  Consider joining all columns at once using pd.concat(axis=1) instead. To get a de-fragmented frame, use `newframe = frame.copy()`\n",
      "  muestras['Muestra _'+str(i)]=_\n",
      "C:\\Users\\zazaz\\AppData\\Local\\Temp\\ipykernel_22132\\527239248.py:4: PerformanceWarning: DataFrame is highly fragmented.  This is usually the result of calling `frame.insert` many times, which has poor performance.  Consider joining all columns at once using pd.concat(axis=1) instead. To get a de-fragmented frame, use `newframe = frame.copy()`\n",
      "  muestras['Muestra _'+str(i)]=_\n",
      "C:\\Users\\zazaz\\AppData\\Local\\Temp\\ipykernel_22132\\527239248.py:4: PerformanceWarning: DataFrame is highly fragmented.  This is usually the result of calling `frame.insert` many times, which has poor performance.  Consider joining all columns at once using pd.concat(axis=1) instead. To get a de-fragmented frame, use `newframe = frame.copy()`\n",
      "  muestras['Muestra _'+str(i)]=_\n",
      "C:\\Users\\zazaz\\AppData\\Local\\Temp\\ipykernel_22132\\527239248.py:4: PerformanceWarning: DataFrame is highly fragmented.  This is usually the result of calling `frame.insert` many times, which has poor performance.  Consider joining all columns at once using pd.concat(axis=1) instead. To get a de-fragmented frame, use `newframe = frame.copy()`\n",
      "  muestras['Muestra _'+str(i)]=_\n",
      "C:\\Users\\zazaz\\AppData\\Local\\Temp\\ipykernel_22132\\527239248.py:4: PerformanceWarning: DataFrame is highly fragmented.  This is usually the result of calling `frame.insert` many times, which has poor performance.  Consider joining all columns at once using pd.concat(axis=1) instead. To get a de-fragmented frame, use `newframe = frame.copy()`\n",
      "  muestras['Muestra _'+str(i)]=_\n",
      "C:\\Users\\zazaz\\AppData\\Local\\Temp\\ipykernel_22132\\527239248.py:4: PerformanceWarning: DataFrame is highly fragmented.  This is usually the result of calling `frame.insert` many times, which has poor performance.  Consider joining all columns at once using pd.concat(axis=1) instead. To get a de-fragmented frame, use `newframe = frame.copy()`\n",
      "  muestras['Muestra _'+str(i)]=_\n",
      "C:\\Users\\zazaz\\AppData\\Local\\Temp\\ipykernel_22132\\527239248.py:4: PerformanceWarning: DataFrame is highly fragmented.  This is usually the result of calling `frame.insert` many times, which has poor performance.  Consider joining all columns at once using pd.concat(axis=1) instead. To get a de-fragmented frame, use `newframe = frame.copy()`\n",
      "  muestras['Muestra _'+str(i)]=_\n",
      "C:\\Users\\zazaz\\AppData\\Local\\Temp\\ipykernel_22132\\527239248.py:4: PerformanceWarning: DataFrame is highly fragmented.  This is usually the result of calling `frame.insert` many times, which has poor performance.  Consider joining all columns at once using pd.concat(axis=1) instead. To get a de-fragmented frame, use `newframe = frame.copy()`\n",
      "  muestras['Muestra _'+str(i)]=_\n",
      "C:\\Users\\zazaz\\AppData\\Local\\Temp\\ipykernel_22132\\527239248.py:4: PerformanceWarning: DataFrame is highly fragmented.  This is usually the result of calling `frame.insert` many times, which has poor performance.  Consider joining all columns at once using pd.concat(axis=1) instead. To get a de-fragmented frame, use `newframe = frame.copy()`\n",
      "  muestras['Muestra _'+str(i)]=_\n",
      "C:\\Users\\zazaz\\AppData\\Local\\Temp\\ipykernel_22132\\527239248.py:4: PerformanceWarning: DataFrame is highly fragmented.  This is usually the result of calling `frame.insert` many times, which has poor performance.  Consider joining all columns at once using pd.concat(axis=1) instead. To get a de-fragmented frame, use `newframe = frame.copy()`\n",
      "  muestras['Muestra _'+str(i)]=_\n",
      "C:\\Users\\zazaz\\AppData\\Local\\Temp\\ipykernel_22132\\527239248.py:4: PerformanceWarning: DataFrame is highly fragmented.  This is usually the result of calling `frame.insert` many times, which has poor performance.  Consider joining all columns at once using pd.concat(axis=1) instead. To get a de-fragmented frame, use `newframe = frame.copy()`\n",
      "  muestras['Muestra _'+str(i)]=_\n",
      "C:\\Users\\zazaz\\AppData\\Local\\Temp\\ipykernel_22132\\527239248.py:4: PerformanceWarning: DataFrame is highly fragmented.  This is usually the result of calling `frame.insert` many times, which has poor performance.  Consider joining all columns at once using pd.concat(axis=1) instead. To get a de-fragmented frame, use `newframe = frame.copy()`\n",
      "  muestras['Muestra _'+str(i)]=_\n",
      "C:\\Users\\zazaz\\AppData\\Local\\Temp\\ipykernel_22132\\527239248.py:4: PerformanceWarning: DataFrame is highly fragmented.  This is usually the result of calling `frame.insert` many times, which has poor performance.  Consider joining all columns at once using pd.concat(axis=1) instead. To get a de-fragmented frame, use `newframe = frame.copy()`\n",
      "  muestras['Muestra _'+str(i)]=_\n",
      "C:\\Users\\zazaz\\AppData\\Local\\Temp\\ipykernel_22132\\527239248.py:4: PerformanceWarning: DataFrame is highly fragmented.  This is usually the result of calling `frame.insert` many times, which has poor performance.  Consider joining all columns at once using pd.concat(axis=1) instead. To get a de-fragmented frame, use `newframe = frame.copy()`\n",
      "  muestras['Muestra _'+str(i)]=_\n",
      "C:\\Users\\zazaz\\AppData\\Local\\Temp\\ipykernel_22132\\527239248.py:4: PerformanceWarning: DataFrame is highly fragmented.  This is usually the result of calling `frame.insert` many times, which has poor performance.  Consider joining all columns at once using pd.concat(axis=1) instead. To get a de-fragmented frame, use `newframe = frame.copy()`\n",
      "  muestras['Muestra _'+str(i)]=_\n",
      "C:\\Users\\zazaz\\AppData\\Local\\Temp\\ipykernel_22132\\527239248.py:4: PerformanceWarning: DataFrame is highly fragmented.  This is usually the result of calling `frame.insert` many times, which has poor performance.  Consider joining all columns at once using pd.concat(axis=1) instead. To get a de-fragmented frame, use `newframe = frame.copy()`\n",
      "  muestras['Muestra _'+str(i)]=_\n",
      "C:\\Users\\zazaz\\AppData\\Local\\Temp\\ipykernel_22132\\527239248.py:4: PerformanceWarning: DataFrame is highly fragmented.  This is usually the result of calling `frame.insert` many times, which has poor performance.  Consider joining all columns at once using pd.concat(axis=1) instead. To get a de-fragmented frame, use `newframe = frame.copy()`\n",
      "  muestras['Muestra _'+str(i)]=_\n",
      "C:\\Users\\zazaz\\AppData\\Local\\Temp\\ipykernel_22132\\527239248.py:4: PerformanceWarning: DataFrame is highly fragmented.  This is usually the result of calling `frame.insert` many times, which has poor performance.  Consider joining all columns at once using pd.concat(axis=1) instead. To get a de-fragmented frame, use `newframe = frame.copy()`\n",
      "  muestras['Muestra _'+str(i)]=_\n",
      "C:\\Users\\zazaz\\AppData\\Local\\Temp\\ipykernel_22132\\527239248.py:4: PerformanceWarning: DataFrame is highly fragmented.  This is usually the result of calling `frame.insert` many times, which has poor performance.  Consider joining all columns at once using pd.concat(axis=1) instead. To get a de-fragmented frame, use `newframe = frame.copy()`\n",
      "  muestras['Muestra _'+str(i)]=_\n",
      "C:\\Users\\zazaz\\AppData\\Local\\Temp\\ipykernel_22132\\527239248.py:4: PerformanceWarning: DataFrame is highly fragmented.  This is usually the result of calling `frame.insert` many times, which has poor performance.  Consider joining all columns at once using pd.concat(axis=1) instead. To get a de-fragmented frame, use `newframe = frame.copy()`\n",
      "  muestras['Muestra _'+str(i)]=_\n",
      "C:\\Users\\zazaz\\AppData\\Local\\Temp\\ipykernel_22132\\527239248.py:4: PerformanceWarning: DataFrame is highly fragmented.  This is usually the result of calling `frame.insert` many times, which has poor performance.  Consider joining all columns at once using pd.concat(axis=1) instead. To get a de-fragmented frame, use `newframe = frame.copy()`\n",
      "  muestras['Muestra _'+str(i)]=_\n",
      "C:\\Users\\zazaz\\AppData\\Local\\Temp\\ipykernel_22132\\527239248.py:4: PerformanceWarning: DataFrame is highly fragmented.  This is usually the result of calling `frame.insert` many times, which has poor performance.  Consider joining all columns at once using pd.concat(axis=1) instead. To get a de-fragmented frame, use `newframe = frame.copy()`\n",
      "  muestras['Muestra _'+str(i)]=_\n",
      "C:\\Users\\zazaz\\AppData\\Local\\Temp\\ipykernel_22132\\527239248.py:4: PerformanceWarning: DataFrame is highly fragmented.  This is usually the result of calling `frame.insert` many times, which has poor performance.  Consider joining all columns at once using pd.concat(axis=1) instead. To get a de-fragmented frame, use `newframe = frame.copy()`\n",
      "  muestras['Muestra _'+str(i)]=_\n",
      "C:\\Users\\zazaz\\AppData\\Local\\Temp\\ipykernel_22132\\527239248.py:4: PerformanceWarning: DataFrame is highly fragmented.  This is usually the result of calling `frame.insert` many times, which has poor performance.  Consider joining all columns at once using pd.concat(axis=1) instead. To get a de-fragmented frame, use `newframe = frame.copy()`\n",
      "  muestras['Muestra _'+str(i)]=_\n",
      "C:\\Users\\zazaz\\AppData\\Local\\Temp\\ipykernel_22132\\527239248.py:4: PerformanceWarning: DataFrame is highly fragmented.  This is usually the result of calling `frame.insert` many times, which has poor performance.  Consider joining all columns at once using pd.concat(axis=1) instead. To get a de-fragmented frame, use `newframe = frame.copy()`\n",
      "  muestras['Muestra _'+str(i)]=_\n",
      "C:\\Users\\zazaz\\AppData\\Local\\Temp\\ipykernel_22132\\527239248.py:4: PerformanceWarning: DataFrame is highly fragmented.  This is usually the result of calling `frame.insert` many times, which has poor performance.  Consider joining all columns at once using pd.concat(axis=1) instead. To get a de-fragmented frame, use `newframe = frame.copy()`\n",
      "  muestras['Muestra _'+str(i)]=_\n",
      "C:\\Users\\zazaz\\AppData\\Local\\Temp\\ipykernel_22132\\527239248.py:4: PerformanceWarning: DataFrame is highly fragmented.  This is usually the result of calling `frame.insert` many times, which has poor performance.  Consider joining all columns at once using pd.concat(axis=1) instead. To get a de-fragmented frame, use `newframe = frame.copy()`\n",
      "  muestras['Muestra _'+str(i)]=_\n",
      "C:\\Users\\zazaz\\AppData\\Local\\Temp\\ipykernel_22132\\527239248.py:4: PerformanceWarning: DataFrame is highly fragmented.  This is usually the result of calling `frame.insert` many times, which has poor performance.  Consider joining all columns at once using pd.concat(axis=1) instead. To get a de-fragmented frame, use `newframe = frame.copy()`\n",
      "  muestras['Muestra _'+str(i)]=_\n",
      "C:\\Users\\zazaz\\AppData\\Local\\Temp\\ipykernel_22132\\527239248.py:4: PerformanceWarning: DataFrame is highly fragmented.  This is usually the result of calling `frame.insert` many times, which has poor performance.  Consider joining all columns at once using pd.concat(axis=1) instead. To get a de-fragmented frame, use `newframe = frame.copy()`\n",
      "  muestras['Muestra _'+str(i)]=_\n",
      "C:\\Users\\zazaz\\AppData\\Local\\Temp\\ipykernel_22132\\527239248.py:4: PerformanceWarning: DataFrame is highly fragmented.  This is usually the result of calling `frame.insert` many times, which has poor performance.  Consider joining all columns at once using pd.concat(axis=1) instead. To get a de-fragmented frame, use `newframe = frame.copy()`\n",
      "  muestras['Muestra _'+str(i)]=_\n",
      "C:\\Users\\zazaz\\AppData\\Local\\Temp\\ipykernel_22132\\527239248.py:4: PerformanceWarning: DataFrame is highly fragmented.  This is usually the result of calling `frame.insert` many times, which has poor performance.  Consider joining all columns at once using pd.concat(axis=1) instead. To get a de-fragmented frame, use `newframe = frame.copy()`\n",
      "  muestras['Muestra _'+str(i)]=_\n",
      "C:\\Users\\zazaz\\AppData\\Local\\Temp\\ipykernel_22132\\527239248.py:4: PerformanceWarning: DataFrame is highly fragmented.  This is usually the result of calling `frame.insert` many times, which has poor performance.  Consider joining all columns at once using pd.concat(axis=1) instead. To get a de-fragmented frame, use `newframe = frame.copy()`\n",
      "  muestras['Muestra _'+str(i)]=_\n",
      "C:\\Users\\zazaz\\AppData\\Local\\Temp\\ipykernel_22132\\527239248.py:4: PerformanceWarning: DataFrame is highly fragmented.  This is usually the result of calling `frame.insert` many times, which has poor performance.  Consider joining all columns at once using pd.concat(axis=1) instead. To get a de-fragmented frame, use `newframe = frame.copy()`\n",
      "  muestras['Muestra _'+str(i)]=_\n",
      "C:\\Users\\zazaz\\AppData\\Local\\Temp\\ipykernel_22132\\527239248.py:4: PerformanceWarning: DataFrame is highly fragmented.  This is usually the result of calling `frame.insert` many times, which has poor performance.  Consider joining all columns at once using pd.concat(axis=1) instead. To get a de-fragmented frame, use `newframe = frame.copy()`\n",
      "  muestras['Muestra _'+str(i)]=_\n",
      "C:\\Users\\zazaz\\AppData\\Local\\Temp\\ipykernel_22132\\527239248.py:4: PerformanceWarning: DataFrame is highly fragmented.  This is usually the result of calling `frame.insert` many times, which has poor performance.  Consider joining all columns at once using pd.concat(axis=1) instead. To get a de-fragmented frame, use `newframe = frame.copy()`\n",
      "  muestras['Muestra _'+str(i)]=_\n",
      "C:\\Users\\zazaz\\AppData\\Local\\Temp\\ipykernel_22132\\527239248.py:4: PerformanceWarning: DataFrame is highly fragmented.  This is usually the result of calling `frame.insert` many times, which has poor performance.  Consider joining all columns at once using pd.concat(axis=1) instead. To get a de-fragmented frame, use `newframe = frame.copy()`\n",
      "  muestras['Muestra _'+str(i)]=_\n",
      "C:\\Users\\zazaz\\AppData\\Local\\Temp\\ipykernel_22132\\527239248.py:4: PerformanceWarning: DataFrame is highly fragmented.  This is usually the result of calling `frame.insert` many times, which has poor performance.  Consider joining all columns at once using pd.concat(axis=1) instead. To get a de-fragmented frame, use `newframe = frame.copy()`\n",
      "  muestras['Muestra _'+str(i)]=_\n",
      "C:\\Users\\zazaz\\AppData\\Local\\Temp\\ipykernel_22132\\527239248.py:4: PerformanceWarning: DataFrame is highly fragmented.  This is usually the result of calling `frame.insert` many times, which has poor performance.  Consider joining all columns at once using pd.concat(axis=1) instead. To get a de-fragmented frame, use `newframe = frame.copy()`\n",
      "  muestras['Muestra _'+str(i)]=_\n",
      "C:\\Users\\zazaz\\AppData\\Local\\Temp\\ipykernel_22132\\527239248.py:4: PerformanceWarning: DataFrame is highly fragmented.  This is usually the result of calling `frame.insert` many times, which has poor performance.  Consider joining all columns at once using pd.concat(axis=1) instead. To get a de-fragmented frame, use `newframe = frame.copy()`\n",
      "  muestras['Muestra _'+str(i)]=_\n",
      "C:\\Users\\zazaz\\AppData\\Local\\Temp\\ipykernel_22132\\527239248.py:4: PerformanceWarning: DataFrame is highly fragmented.  This is usually the result of calling `frame.insert` many times, which has poor performance.  Consider joining all columns at once using pd.concat(axis=1) instead. To get a de-fragmented frame, use `newframe = frame.copy()`\n",
      "  muestras['Muestra _'+str(i)]=_\n",
      "C:\\Users\\zazaz\\AppData\\Local\\Temp\\ipykernel_22132\\527239248.py:4: PerformanceWarning: DataFrame is highly fragmented.  This is usually the result of calling `frame.insert` many times, which has poor performance.  Consider joining all columns at once using pd.concat(axis=1) instead. To get a de-fragmented frame, use `newframe = frame.copy()`\n",
      "  muestras['Muestra _'+str(i)]=_\n",
      "C:\\Users\\zazaz\\AppData\\Local\\Temp\\ipykernel_22132\\527239248.py:4: PerformanceWarning: DataFrame is highly fragmented.  This is usually the result of calling `frame.insert` many times, which has poor performance.  Consider joining all columns at once using pd.concat(axis=1) instead. To get a de-fragmented frame, use `newframe = frame.copy()`\n",
      "  muestras['Muestra _'+str(i)]=_\n",
      "C:\\Users\\zazaz\\AppData\\Local\\Temp\\ipykernel_22132\\527239248.py:4: PerformanceWarning: DataFrame is highly fragmented.  This is usually the result of calling `frame.insert` many times, which has poor performance.  Consider joining all columns at once using pd.concat(axis=1) instead. To get a de-fragmented frame, use `newframe = frame.copy()`\n",
      "  muestras['Muestra _'+str(i)]=_\n",
      "C:\\Users\\zazaz\\AppData\\Local\\Temp\\ipykernel_22132\\527239248.py:4: PerformanceWarning: DataFrame is highly fragmented.  This is usually the result of calling `frame.insert` many times, which has poor performance.  Consider joining all columns at once using pd.concat(axis=1) instead. To get a de-fragmented frame, use `newframe = frame.copy()`\n",
      "  muestras['Muestra _'+str(i)]=_\n",
      "C:\\Users\\zazaz\\AppData\\Local\\Temp\\ipykernel_22132\\527239248.py:4: PerformanceWarning: DataFrame is highly fragmented.  This is usually the result of calling `frame.insert` many times, which has poor performance.  Consider joining all columns at once using pd.concat(axis=1) instead. To get a de-fragmented frame, use `newframe = frame.copy()`\n",
      "  muestras['Muestra _'+str(i)]=_\n",
      "C:\\Users\\zazaz\\AppData\\Local\\Temp\\ipykernel_22132\\527239248.py:4: PerformanceWarning: DataFrame is highly fragmented.  This is usually the result of calling `frame.insert` many times, which has poor performance.  Consider joining all columns at once using pd.concat(axis=1) instead. To get a de-fragmented frame, use `newframe = frame.copy()`\n",
      "  muestras['Muestra _'+str(i)]=_\n",
      "C:\\Users\\zazaz\\AppData\\Local\\Temp\\ipykernel_22132\\527239248.py:4: PerformanceWarning: DataFrame is highly fragmented.  This is usually the result of calling `frame.insert` many times, which has poor performance.  Consider joining all columns at once using pd.concat(axis=1) instead. To get a de-fragmented frame, use `newframe = frame.copy()`\n",
      "  muestras['Muestra _'+str(i)]=_\n",
      "C:\\Users\\zazaz\\AppData\\Local\\Temp\\ipykernel_22132\\527239248.py:4: PerformanceWarning: DataFrame is highly fragmented.  This is usually the result of calling `frame.insert` many times, which has poor performance.  Consider joining all columns at once using pd.concat(axis=1) instead. To get a de-fragmented frame, use `newframe = frame.copy()`\n",
      "  muestras['Muestra _'+str(i)]=_\n",
      "C:\\Users\\zazaz\\AppData\\Local\\Temp\\ipykernel_22132\\527239248.py:4: PerformanceWarning: DataFrame is highly fragmented.  This is usually the result of calling `frame.insert` many times, which has poor performance.  Consider joining all columns at once using pd.concat(axis=1) instead. To get a de-fragmented frame, use `newframe = frame.copy()`\n",
      "  muestras['Muestra _'+str(i)]=_\n",
      "C:\\Users\\zazaz\\AppData\\Local\\Temp\\ipykernel_22132\\527239248.py:4: PerformanceWarning: DataFrame is highly fragmented.  This is usually the result of calling `frame.insert` many times, which has poor performance.  Consider joining all columns at once using pd.concat(axis=1) instead. To get a de-fragmented frame, use `newframe = frame.copy()`\n",
      "  muestras['Muestra _'+str(i)]=_\n",
      "C:\\Users\\zazaz\\AppData\\Local\\Temp\\ipykernel_22132\\527239248.py:4: PerformanceWarning: DataFrame is highly fragmented.  This is usually the result of calling `frame.insert` many times, which has poor performance.  Consider joining all columns at once using pd.concat(axis=1) instead. To get a de-fragmented frame, use `newframe = frame.copy()`\n",
      "  muestras['Muestra _'+str(i)]=_\n",
      "C:\\Users\\zazaz\\AppData\\Local\\Temp\\ipykernel_22132\\527239248.py:4: PerformanceWarning: DataFrame is highly fragmented.  This is usually the result of calling `frame.insert` many times, which has poor performance.  Consider joining all columns at once using pd.concat(axis=1) instead. To get a de-fragmented frame, use `newframe = frame.copy()`\n",
      "  muestras['Muestra _'+str(i)]=_\n",
      "C:\\Users\\zazaz\\AppData\\Local\\Temp\\ipykernel_22132\\527239248.py:4: PerformanceWarning: DataFrame is highly fragmented.  This is usually the result of calling `frame.insert` many times, which has poor performance.  Consider joining all columns at once using pd.concat(axis=1) instead. To get a de-fragmented frame, use `newframe = frame.copy()`\n",
      "  muestras['Muestra _'+str(i)]=_\n",
      "C:\\Users\\zazaz\\AppData\\Local\\Temp\\ipykernel_22132\\527239248.py:4: PerformanceWarning: DataFrame is highly fragmented.  This is usually the result of calling `frame.insert` many times, which has poor performance.  Consider joining all columns at once using pd.concat(axis=1) instead. To get a de-fragmented frame, use `newframe = frame.copy()`\n",
      "  muestras['Muestra _'+str(i)]=_\n",
      "C:\\Users\\zazaz\\AppData\\Local\\Temp\\ipykernel_22132\\527239248.py:4: PerformanceWarning: DataFrame is highly fragmented.  This is usually the result of calling `frame.insert` many times, which has poor performance.  Consider joining all columns at once using pd.concat(axis=1) instead. To get a de-fragmented frame, use `newframe = frame.copy()`\n",
      "  muestras['Muestra _'+str(i)]=_\n",
      "C:\\Users\\zazaz\\AppData\\Local\\Temp\\ipykernel_22132\\527239248.py:4: PerformanceWarning: DataFrame is highly fragmented.  This is usually the result of calling `frame.insert` many times, which has poor performance.  Consider joining all columns at once using pd.concat(axis=1) instead. To get a de-fragmented frame, use `newframe = frame.copy()`\n",
      "  muestras['Muestra _'+str(i)]=_\n",
      "C:\\Users\\zazaz\\AppData\\Local\\Temp\\ipykernel_22132\\527239248.py:4: PerformanceWarning: DataFrame is highly fragmented.  This is usually the result of calling `frame.insert` many times, which has poor performance.  Consider joining all columns at once using pd.concat(axis=1) instead. To get a de-fragmented frame, use `newframe = frame.copy()`\n",
      "  muestras['Muestra _'+str(i)]=_\n",
      "C:\\Users\\zazaz\\AppData\\Local\\Temp\\ipykernel_22132\\527239248.py:4: PerformanceWarning: DataFrame is highly fragmented.  This is usually the result of calling `frame.insert` many times, which has poor performance.  Consider joining all columns at once using pd.concat(axis=1) instead. To get a de-fragmented frame, use `newframe = frame.copy()`\n",
      "  muestras['Muestra _'+str(i)]=_\n",
      "C:\\Users\\zazaz\\AppData\\Local\\Temp\\ipykernel_22132\\527239248.py:4: PerformanceWarning: DataFrame is highly fragmented.  This is usually the result of calling `frame.insert` many times, which has poor performance.  Consider joining all columns at once using pd.concat(axis=1) instead. To get a de-fragmented frame, use `newframe = frame.copy()`\n",
      "  muestras['Muestra _'+str(i)]=_\n",
      "C:\\Users\\zazaz\\AppData\\Local\\Temp\\ipykernel_22132\\527239248.py:4: PerformanceWarning: DataFrame is highly fragmented.  This is usually the result of calling `frame.insert` many times, which has poor performance.  Consider joining all columns at once using pd.concat(axis=1) instead. To get a de-fragmented frame, use `newframe = frame.copy()`\n",
      "  muestras['Muestra _'+str(i)]=_\n",
      "C:\\Users\\zazaz\\AppData\\Local\\Temp\\ipykernel_22132\\527239248.py:4: PerformanceWarning: DataFrame is highly fragmented.  This is usually the result of calling `frame.insert` many times, which has poor performance.  Consider joining all columns at once using pd.concat(axis=1) instead. To get a de-fragmented frame, use `newframe = frame.copy()`\n",
      "  muestras['Muestra _'+str(i)]=_\n",
      "C:\\Users\\zazaz\\AppData\\Local\\Temp\\ipykernel_22132\\527239248.py:4: PerformanceWarning: DataFrame is highly fragmented.  This is usually the result of calling `frame.insert` many times, which has poor performance.  Consider joining all columns at once using pd.concat(axis=1) instead. To get a de-fragmented frame, use `newframe = frame.copy()`\n",
      "  muestras['Muestra _'+str(i)]=_\n",
      "C:\\Users\\zazaz\\AppData\\Local\\Temp\\ipykernel_22132\\527239248.py:4: PerformanceWarning: DataFrame is highly fragmented.  This is usually the result of calling `frame.insert` many times, which has poor performance.  Consider joining all columns at once using pd.concat(axis=1) instead. To get a de-fragmented frame, use `newframe = frame.copy()`\n",
      "  muestras['Muestra _'+str(i)]=_\n",
      "C:\\Users\\zazaz\\AppData\\Local\\Temp\\ipykernel_22132\\527239248.py:4: PerformanceWarning: DataFrame is highly fragmented.  This is usually the result of calling `frame.insert` many times, which has poor performance.  Consider joining all columns at once using pd.concat(axis=1) instead. To get a de-fragmented frame, use `newframe = frame.copy()`\n",
      "  muestras['Muestra _'+str(i)]=_\n",
      "C:\\Users\\zazaz\\AppData\\Local\\Temp\\ipykernel_22132\\527239248.py:4: PerformanceWarning: DataFrame is highly fragmented.  This is usually the result of calling `frame.insert` many times, which has poor performance.  Consider joining all columns at once using pd.concat(axis=1) instead. To get a de-fragmented frame, use `newframe = frame.copy()`\n",
      "  muestras['Muestra _'+str(i)]=_\n",
      "C:\\Users\\zazaz\\AppData\\Local\\Temp\\ipykernel_22132\\527239248.py:4: PerformanceWarning: DataFrame is highly fragmented.  This is usually the result of calling `frame.insert` many times, which has poor performance.  Consider joining all columns at once using pd.concat(axis=1) instead. To get a de-fragmented frame, use `newframe = frame.copy()`\n",
      "  muestras['Muestra _'+str(i)]=_\n",
      "C:\\Users\\zazaz\\AppData\\Local\\Temp\\ipykernel_22132\\527239248.py:4: PerformanceWarning: DataFrame is highly fragmented.  This is usually the result of calling `frame.insert` many times, which has poor performance.  Consider joining all columns at once using pd.concat(axis=1) instead. To get a de-fragmented frame, use `newframe = frame.copy()`\n",
      "  muestras['Muestra _'+str(i)]=_\n",
      "C:\\Users\\zazaz\\AppData\\Local\\Temp\\ipykernel_22132\\527239248.py:4: PerformanceWarning: DataFrame is highly fragmented.  This is usually the result of calling `frame.insert` many times, which has poor performance.  Consider joining all columns at once using pd.concat(axis=1) instead. To get a de-fragmented frame, use `newframe = frame.copy()`\n",
      "  muestras['Muestra _'+str(i)]=_\n",
      "C:\\Users\\zazaz\\AppData\\Local\\Temp\\ipykernel_22132\\527239248.py:4: PerformanceWarning: DataFrame is highly fragmented.  This is usually the result of calling `frame.insert` many times, which has poor performance.  Consider joining all columns at once using pd.concat(axis=1) instead. To get a de-fragmented frame, use `newframe = frame.copy()`\n",
      "  muestras['Muestra _'+str(i)]=_\n",
      "C:\\Users\\zazaz\\AppData\\Local\\Temp\\ipykernel_22132\\527239248.py:4: PerformanceWarning: DataFrame is highly fragmented.  This is usually the result of calling `frame.insert` many times, which has poor performance.  Consider joining all columns at once using pd.concat(axis=1) instead. To get a de-fragmented frame, use `newframe = frame.copy()`\n",
      "  muestras['Muestra _'+str(i)]=_\n",
      "C:\\Users\\zazaz\\AppData\\Local\\Temp\\ipykernel_22132\\527239248.py:4: PerformanceWarning: DataFrame is highly fragmented.  This is usually the result of calling `frame.insert` many times, which has poor performance.  Consider joining all columns at once using pd.concat(axis=1) instead. To get a de-fragmented frame, use `newframe = frame.copy()`\n",
      "  muestras['Muestra _'+str(i)]=_\n",
      "C:\\Users\\zazaz\\AppData\\Local\\Temp\\ipykernel_22132\\527239248.py:4: PerformanceWarning: DataFrame is highly fragmented.  This is usually the result of calling `frame.insert` many times, which has poor performance.  Consider joining all columns at once using pd.concat(axis=1) instead. To get a de-fragmented frame, use `newframe = frame.copy()`\n",
      "  muestras['Muestra _'+str(i)]=_\n",
      "C:\\Users\\zazaz\\AppData\\Local\\Temp\\ipykernel_22132\\527239248.py:4: PerformanceWarning: DataFrame is highly fragmented.  This is usually the result of calling `frame.insert` many times, which has poor performance.  Consider joining all columns at once using pd.concat(axis=1) instead. To get a de-fragmented frame, use `newframe = frame.copy()`\n",
      "  muestras['Muestra _'+str(i)]=_\n",
      "C:\\Users\\zazaz\\AppData\\Local\\Temp\\ipykernel_22132\\527239248.py:4: PerformanceWarning: DataFrame is highly fragmented.  This is usually the result of calling `frame.insert` many times, which has poor performance.  Consider joining all columns at once using pd.concat(axis=1) instead. To get a de-fragmented frame, use `newframe = frame.copy()`\n",
      "  muestras['Muestra _'+str(i)]=_\n",
      "C:\\Users\\zazaz\\AppData\\Local\\Temp\\ipykernel_22132\\527239248.py:4: PerformanceWarning: DataFrame is highly fragmented.  This is usually the result of calling `frame.insert` many times, which has poor performance.  Consider joining all columns at once using pd.concat(axis=1) instead. To get a de-fragmented frame, use `newframe = frame.copy()`\n",
      "  muestras['Muestra _'+str(i)]=_\n",
      "C:\\Users\\zazaz\\AppData\\Local\\Temp\\ipykernel_22132\\527239248.py:4: PerformanceWarning: DataFrame is highly fragmented.  This is usually the result of calling `frame.insert` many times, which has poor performance.  Consider joining all columns at once using pd.concat(axis=1) instead. To get a de-fragmented frame, use `newframe = frame.copy()`\n",
      "  muestras['Muestra _'+str(i)]=_\n",
      "C:\\Users\\zazaz\\AppData\\Local\\Temp\\ipykernel_22132\\527239248.py:4: PerformanceWarning: DataFrame is highly fragmented.  This is usually the result of calling `frame.insert` many times, which has poor performance.  Consider joining all columns at once using pd.concat(axis=1) instead. To get a de-fragmented frame, use `newframe = frame.copy()`\n",
      "  muestras['Muestra _'+str(i)]=_\n",
      "C:\\Users\\zazaz\\AppData\\Local\\Temp\\ipykernel_22132\\527239248.py:4: PerformanceWarning: DataFrame is highly fragmented.  This is usually the result of calling `frame.insert` many times, which has poor performance.  Consider joining all columns at once using pd.concat(axis=1) instead. To get a de-fragmented frame, use `newframe = frame.copy()`\n",
      "  muestras['Muestra _'+str(i)]=_\n",
      "C:\\Users\\zazaz\\AppData\\Local\\Temp\\ipykernel_22132\\527239248.py:4: PerformanceWarning: DataFrame is highly fragmented.  This is usually the result of calling `frame.insert` many times, which has poor performance.  Consider joining all columns at once using pd.concat(axis=1) instead. To get a de-fragmented frame, use `newframe = frame.copy()`\n",
      "  muestras['Muestra _'+str(i)]=_\n",
      "C:\\Users\\zazaz\\AppData\\Local\\Temp\\ipykernel_22132\\527239248.py:4: PerformanceWarning: DataFrame is highly fragmented.  This is usually the result of calling `frame.insert` many times, which has poor performance.  Consider joining all columns at once using pd.concat(axis=1) instead. To get a de-fragmented frame, use `newframe = frame.copy()`\n",
      "  muestras['Muestra _'+str(i)]=_\n",
      "C:\\Users\\zazaz\\AppData\\Local\\Temp\\ipykernel_22132\\527239248.py:4: PerformanceWarning: DataFrame is highly fragmented.  This is usually the result of calling `frame.insert` many times, which has poor performance.  Consider joining all columns at once using pd.concat(axis=1) instead. To get a de-fragmented frame, use `newframe = frame.copy()`\n",
      "  muestras['Muestra _'+str(i)]=_\n",
      "C:\\Users\\zazaz\\AppData\\Local\\Temp\\ipykernel_22132\\527239248.py:4: PerformanceWarning: DataFrame is highly fragmented.  This is usually the result of calling `frame.insert` many times, which has poor performance.  Consider joining all columns at once using pd.concat(axis=1) instead. To get a de-fragmented frame, use `newframe = frame.copy()`\n",
      "  muestras['Muestra _'+str(i)]=_\n",
      "C:\\Users\\zazaz\\AppData\\Local\\Temp\\ipykernel_22132\\527239248.py:4: PerformanceWarning: DataFrame is highly fragmented.  This is usually the result of calling `frame.insert` many times, which has poor performance.  Consider joining all columns at once using pd.concat(axis=1) instead. To get a de-fragmented frame, use `newframe = frame.copy()`\n",
      "  muestras['Muestra _'+str(i)]=_\n",
      "C:\\Users\\zazaz\\AppData\\Local\\Temp\\ipykernel_22132\\527239248.py:4: PerformanceWarning: DataFrame is highly fragmented.  This is usually the result of calling `frame.insert` many times, which has poor performance.  Consider joining all columns at once using pd.concat(axis=1) instead. To get a de-fragmented frame, use `newframe = frame.copy()`\n",
      "  muestras['Muestra _'+str(i)]=_\n",
      "C:\\Users\\zazaz\\AppData\\Local\\Temp\\ipykernel_22132\\527239248.py:4: PerformanceWarning: DataFrame is highly fragmented.  This is usually the result of calling `frame.insert` many times, which has poor performance.  Consider joining all columns at once using pd.concat(axis=1) instead. To get a de-fragmented frame, use `newframe = frame.copy()`\n",
      "  muestras['Muestra _'+str(i)]=_\n",
      "C:\\Users\\zazaz\\AppData\\Local\\Temp\\ipykernel_22132\\527239248.py:4: PerformanceWarning: DataFrame is highly fragmented.  This is usually the result of calling `frame.insert` many times, which has poor performance.  Consider joining all columns at once using pd.concat(axis=1) instead. To get a de-fragmented frame, use `newframe = frame.copy()`\n",
      "  muestras['Muestra _'+str(i)]=_\n",
      "C:\\Users\\zazaz\\AppData\\Local\\Temp\\ipykernel_22132\\527239248.py:4: PerformanceWarning: DataFrame is highly fragmented.  This is usually the result of calling `frame.insert` many times, which has poor performance.  Consider joining all columns at once using pd.concat(axis=1) instead. To get a de-fragmented frame, use `newframe = frame.copy()`\n",
      "  muestras['Muestra _'+str(i)]=_\n",
      "C:\\Users\\zazaz\\AppData\\Local\\Temp\\ipykernel_22132\\527239248.py:4: PerformanceWarning: DataFrame is highly fragmented.  This is usually the result of calling `frame.insert` many times, which has poor performance.  Consider joining all columns at once using pd.concat(axis=1) instead. To get a de-fragmented frame, use `newframe = frame.copy()`\n",
      "  muestras['Muestra _'+str(i)]=_\n",
      "C:\\Users\\zazaz\\AppData\\Local\\Temp\\ipykernel_22132\\527239248.py:4: PerformanceWarning: DataFrame is highly fragmented.  This is usually the result of calling `frame.insert` many times, which has poor performance.  Consider joining all columns at once using pd.concat(axis=1) instead. To get a de-fragmented frame, use `newframe = frame.copy()`\n",
      "  muestras['Muestra _'+str(i)]=_\n",
      "C:\\Users\\zazaz\\AppData\\Local\\Temp\\ipykernel_22132\\527239248.py:4: PerformanceWarning: DataFrame is highly fragmented.  This is usually the result of calling `frame.insert` many times, which has poor performance.  Consider joining all columns at once using pd.concat(axis=1) instead. To get a de-fragmented frame, use `newframe = frame.copy()`\n",
      "  muestras['Muestra _'+str(i)]=_\n",
      "C:\\Users\\zazaz\\AppData\\Local\\Temp\\ipykernel_22132\\527239248.py:4: PerformanceWarning: DataFrame is highly fragmented.  This is usually the result of calling `frame.insert` many times, which has poor performance.  Consider joining all columns at once using pd.concat(axis=1) instead. To get a de-fragmented frame, use `newframe = frame.copy()`\n",
      "  muestras['Muestra _'+str(i)]=_\n",
      "C:\\Users\\zazaz\\AppData\\Local\\Temp\\ipykernel_22132\\527239248.py:4: PerformanceWarning: DataFrame is highly fragmented.  This is usually the result of calling `frame.insert` many times, which has poor performance.  Consider joining all columns at once using pd.concat(axis=1) instead. To get a de-fragmented frame, use `newframe = frame.copy()`\n",
      "  muestras['Muestra _'+str(i)]=_\n",
      "C:\\Users\\zazaz\\AppData\\Local\\Temp\\ipykernel_22132\\527239248.py:4: PerformanceWarning: DataFrame is highly fragmented.  This is usually the result of calling `frame.insert` many times, which has poor performance.  Consider joining all columns at once using pd.concat(axis=1) instead. To get a de-fragmented frame, use `newframe = frame.copy()`\n",
      "  muestras['Muestra _'+str(i)]=_\n",
      "C:\\Users\\zazaz\\AppData\\Local\\Temp\\ipykernel_22132\\527239248.py:4: PerformanceWarning: DataFrame is highly fragmented.  This is usually the result of calling `frame.insert` many times, which has poor performance.  Consider joining all columns at once using pd.concat(axis=1) instead. To get a de-fragmented frame, use `newframe = frame.copy()`\n",
      "  muestras['Muestra _'+str(i)]=_\n",
      "C:\\Users\\zazaz\\AppData\\Local\\Temp\\ipykernel_22132\\527239248.py:4: PerformanceWarning: DataFrame is highly fragmented.  This is usually the result of calling `frame.insert` many times, which has poor performance.  Consider joining all columns at once using pd.concat(axis=1) instead. To get a de-fragmented frame, use `newframe = frame.copy()`\n",
      "  muestras['Muestra _'+str(i)]=_\n",
      "C:\\Users\\zazaz\\AppData\\Local\\Temp\\ipykernel_22132\\527239248.py:4: PerformanceWarning: DataFrame is highly fragmented.  This is usually the result of calling `frame.insert` many times, which has poor performance.  Consider joining all columns at once using pd.concat(axis=1) instead. To get a de-fragmented frame, use `newframe = frame.copy()`\n",
      "  muestras['Muestra _'+str(i)]=_\n",
      "C:\\Users\\zazaz\\AppData\\Local\\Temp\\ipykernel_22132\\527239248.py:4: PerformanceWarning: DataFrame is highly fragmented.  This is usually the result of calling `frame.insert` many times, which has poor performance.  Consider joining all columns at once using pd.concat(axis=1) instead. To get a de-fragmented frame, use `newframe = frame.copy()`\n",
      "  muestras['Muestra _'+str(i)]=_\n",
      "C:\\Users\\zazaz\\AppData\\Local\\Temp\\ipykernel_22132\\527239248.py:4: PerformanceWarning: DataFrame is highly fragmented.  This is usually the result of calling `frame.insert` many times, which has poor performance.  Consider joining all columns at once using pd.concat(axis=1) instead. To get a de-fragmented frame, use `newframe = frame.copy()`\n",
      "  muestras['Muestra _'+str(i)]=_\n",
      "C:\\Users\\zazaz\\AppData\\Local\\Temp\\ipykernel_22132\\527239248.py:4: PerformanceWarning: DataFrame is highly fragmented.  This is usually the result of calling `frame.insert` many times, which has poor performance.  Consider joining all columns at once using pd.concat(axis=1) instead. To get a de-fragmented frame, use `newframe = frame.copy()`\n",
      "  muestras['Muestra _'+str(i)]=_\n",
      "C:\\Users\\zazaz\\AppData\\Local\\Temp\\ipykernel_22132\\527239248.py:4: PerformanceWarning: DataFrame is highly fragmented.  This is usually the result of calling `frame.insert` many times, which has poor performance.  Consider joining all columns at once using pd.concat(axis=1) instead. To get a de-fragmented frame, use `newframe = frame.copy()`\n",
      "  muestras['Muestra _'+str(i)]=_\n",
      "C:\\Users\\zazaz\\AppData\\Local\\Temp\\ipykernel_22132\\527239248.py:4: PerformanceWarning: DataFrame is highly fragmented.  This is usually the result of calling `frame.insert` many times, which has poor performance.  Consider joining all columns at once using pd.concat(axis=1) instead. To get a de-fragmented frame, use `newframe = frame.copy()`\n",
      "  muestras['Muestra _'+str(i)]=_\n",
      "C:\\Users\\zazaz\\AppData\\Local\\Temp\\ipykernel_22132\\527239248.py:4: PerformanceWarning: DataFrame is highly fragmented.  This is usually the result of calling `frame.insert` many times, which has poor performance.  Consider joining all columns at once using pd.concat(axis=1) instead. To get a de-fragmented frame, use `newframe = frame.copy()`\n",
      "  muestras['Muestra _'+str(i)]=_\n",
      "C:\\Users\\zazaz\\AppData\\Local\\Temp\\ipykernel_22132\\527239248.py:4: PerformanceWarning: DataFrame is highly fragmented.  This is usually the result of calling `frame.insert` many times, which has poor performance.  Consider joining all columns at once using pd.concat(axis=1) instead. To get a de-fragmented frame, use `newframe = frame.copy()`\n",
      "  muestras['Muestra _'+str(i)]=_\n",
      "C:\\Users\\zazaz\\AppData\\Local\\Temp\\ipykernel_22132\\527239248.py:4: PerformanceWarning: DataFrame is highly fragmented.  This is usually the result of calling `frame.insert` many times, which has poor performance.  Consider joining all columns at once using pd.concat(axis=1) instead. To get a de-fragmented frame, use `newframe = frame.copy()`\n",
      "  muestras['Muestra _'+str(i)]=_\n",
      "C:\\Users\\zazaz\\AppData\\Local\\Temp\\ipykernel_22132\\527239248.py:4: PerformanceWarning: DataFrame is highly fragmented.  This is usually the result of calling `frame.insert` many times, which has poor performance.  Consider joining all columns at once using pd.concat(axis=1) instead. To get a de-fragmented frame, use `newframe = frame.copy()`\n",
      "  muestras['Muestra _'+str(i)]=_\n",
      "C:\\Users\\zazaz\\AppData\\Local\\Temp\\ipykernel_22132\\527239248.py:4: PerformanceWarning: DataFrame is highly fragmented.  This is usually the result of calling `frame.insert` many times, which has poor performance.  Consider joining all columns at once using pd.concat(axis=1) instead. To get a de-fragmented frame, use `newframe = frame.copy()`\n",
      "  muestras['Muestra _'+str(i)]=_\n",
      "C:\\Users\\zazaz\\AppData\\Local\\Temp\\ipykernel_22132\\527239248.py:4: PerformanceWarning: DataFrame is highly fragmented.  This is usually the result of calling `frame.insert` many times, which has poor performance.  Consider joining all columns at once using pd.concat(axis=1) instead. To get a de-fragmented frame, use `newframe = frame.copy()`\n",
      "  muestras['Muestra _'+str(i)]=_\n",
      "C:\\Users\\zazaz\\AppData\\Local\\Temp\\ipykernel_22132\\527239248.py:4: PerformanceWarning: DataFrame is highly fragmented.  This is usually the result of calling `frame.insert` many times, which has poor performance.  Consider joining all columns at once using pd.concat(axis=1) instead. To get a de-fragmented frame, use `newframe = frame.copy()`\n",
      "  muestras['Muestra _'+str(i)]=_\n",
      "C:\\Users\\zazaz\\AppData\\Local\\Temp\\ipykernel_22132\\527239248.py:4: PerformanceWarning: DataFrame is highly fragmented.  This is usually the result of calling `frame.insert` many times, which has poor performance.  Consider joining all columns at once using pd.concat(axis=1) instead. To get a de-fragmented frame, use `newframe = frame.copy()`\n",
      "  muestras['Muestra _'+str(i)]=_\n",
      "C:\\Users\\zazaz\\AppData\\Local\\Temp\\ipykernel_22132\\527239248.py:4: PerformanceWarning: DataFrame is highly fragmented.  This is usually the result of calling `frame.insert` many times, which has poor performance.  Consider joining all columns at once using pd.concat(axis=1) instead. To get a de-fragmented frame, use `newframe = frame.copy()`\n",
      "  muestras['Muestra _'+str(i)]=_\n",
      "C:\\Users\\zazaz\\AppData\\Local\\Temp\\ipykernel_22132\\527239248.py:4: PerformanceWarning: DataFrame is highly fragmented.  This is usually the result of calling `frame.insert` many times, which has poor performance.  Consider joining all columns at once using pd.concat(axis=1) instead. To get a de-fragmented frame, use `newframe = frame.copy()`\n",
      "  muestras['Muestra _'+str(i)]=_\n",
      "C:\\Users\\zazaz\\AppData\\Local\\Temp\\ipykernel_22132\\527239248.py:4: PerformanceWarning: DataFrame is highly fragmented.  This is usually the result of calling `frame.insert` many times, which has poor performance.  Consider joining all columns at once using pd.concat(axis=1) instead. To get a de-fragmented frame, use `newframe = frame.copy()`\n",
      "  muestras['Muestra _'+str(i)]=_\n",
      "C:\\Users\\zazaz\\AppData\\Local\\Temp\\ipykernel_22132\\527239248.py:4: PerformanceWarning: DataFrame is highly fragmented.  This is usually the result of calling `frame.insert` many times, which has poor performance.  Consider joining all columns at once using pd.concat(axis=1) instead. To get a de-fragmented frame, use `newframe = frame.copy()`\n",
      "  muestras['Muestra _'+str(i)]=_\n",
      "C:\\Users\\zazaz\\AppData\\Local\\Temp\\ipykernel_22132\\527239248.py:4: PerformanceWarning: DataFrame is highly fragmented.  This is usually the result of calling `frame.insert` many times, which has poor performance.  Consider joining all columns at once using pd.concat(axis=1) instead. To get a de-fragmented frame, use `newframe = frame.copy()`\n",
      "  muestras['Muestra _'+str(i)]=_\n",
      "C:\\Users\\zazaz\\AppData\\Local\\Temp\\ipykernel_22132\\527239248.py:4: PerformanceWarning: DataFrame is highly fragmented.  This is usually the result of calling `frame.insert` many times, which has poor performance.  Consider joining all columns at once using pd.concat(axis=1) instead. To get a de-fragmented frame, use `newframe = frame.copy()`\n",
      "  muestras['Muestra _'+str(i)]=_\n",
      "C:\\Users\\zazaz\\AppData\\Local\\Temp\\ipykernel_22132\\527239248.py:4: PerformanceWarning: DataFrame is highly fragmented.  This is usually the result of calling `frame.insert` many times, which has poor performance.  Consider joining all columns at once using pd.concat(axis=1) instead. To get a de-fragmented frame, use `newframe = frame.copy()`\n",
      "  muestras['Muestra _'+str(i)]=_\n",
      "C:\\Users\\zazaz\\AppData\\Local\\Temp\\ipykernel_22132\\527239248.py:4: PerformanceWarning: DataFrame is highly fragmented.  This is usually the result of calling `frame.insert` many times, which has poor performance.  Consider joining all columns at once using pd.concat(axis=1) instead. To get a de-fragmented frame, use `newframe = frame.copy()`\n",
      "  muestras['Muestra _'+str(i)]=_\n",
      "C:\\Users\\zazaz\\AppData\\Local\\Temp\\ipykernel_22132\\527239248.py:4: PerformanceWarning: DataFrame is highly fragmented.  This is usually the result of calling `frame.insert` many times, which has poor performance.  Consider joining all columns at once using pd.concat(axis=1) instead. To get a de-fragmented frame, use `newframe = frame.copy()`\n",
      "  muestras['Muestra _'+str(i)]=_\n",
      "C:\\Users\\zazaz\\AppData\\Local\\Temp\\ipykernel_22132\\527239248.py:4: PerformanceWarning: DataFrame is highly fragmented.  This is usually the result of calling `frame.insert` many times, which has poor performance.  Consider joining all columns at once using pd.concat(axis=1) instead. To get a de-fragmented frame, use `newframe = frame.copy()`\n",
      "  muestras['Muestra _'+str(i)]=_\n",
      "C:\\Users\\zazaz\\AppData\\Local\\Temp\\ipykernel_22132\\527239248.py:4: PerformanceWarning: DataFrame is highly fragmented.  This is usually the result of calling `frame.insert` many times, which has poor performance.  Consider joining all columns at once using pd.concat(axis=1) instead. To get a de-fragmented frame, use `newframe = frame.copy()`\n",
      "  muestras['Muestra _'+str(i)]=_\n",
      "C:\\Users\\zazaz\\AppData\\Local\\Temp\\ipykernel_22132\\527239248.py:4: PerformanceWarning: DataFrame is highly fragmented.  This is usually the result of calling `frame.insert` many times, which has poor performance.  Consider joining all columns at once using pd.concat(axis=1) instead. To get a de-fragmented frame, use `newframe = frame.copy()`\n",
      "  muestras['Muestra _'+str(i)]=_\n",
      "C:\\Users\\zazaz\\AppData\\Local\\Temp\\ipykernel_22132\\527239248.py:4: PerformanceWarning: DataFrame is highly fragmented.  This is usually the result of calling `frame.insert` many times, which has poor performance.  Consider joining all columns at once using pd.concat(axis=1) instead. To get a de-fragmented frame, use `newframe = frame.copy()`\n",
      "  muestras['Muestra _'+str(i)]=_\n",
      "C:\\Users\\zazaz\\AppData\\Local\\Temp\\ipykernel_22132\\527239248.py:4: PerformanceWarning: DataFrame is highly fragmented.  This is usually the result of calling `frame.insert` many times, which has poor performance.  Consider joining all columns at once using pd.concat(axis=1) instead. To get a de-fragmented frame, use `newframe = frame.copy()`\n",
      "  muestras['Muestra _'+str(i)]=_\n",
      "C:\\Users\\zazaz\\AppData\\Local\\Temp\\ipykernel_22132\\527239248.py:4: PerformanceWarning: DataFrame is highly fragmented.  This is usually the result of calling `frame.insert` many times, which has poor performance.  Consider joining all columns at once using pd.concat(axis=1) instead. To get a de-fragmented frame, use `newframe = frame.copy()`\n",
      "  muestras['Muestra _'+str(i)]=_\n",
      "C:\\Users\\zazaz\\AppData\\Local\\Temp\\ipykernel_22132\\527239248.py:4: PerformanceWarning: DataFrame is highly fragmented.  This is usually the result of calling `frame.insert` many times, which has poor performance.  Consider joining all columns at once using pd.concat(axis=1) instead. To get a de-fragmented frame, use `newframe = frame.copy()`\n",
      "  muestras['Muestra _'+str(i)]=_\n",
      "C:\\Users\\zazaz\\AppData\\Local\\Temp\\ipykernel_22132\\527239248.py:4: PerformanceWarning: DataFrame is highly fragmented.  This is usually the result of calling `frame.insert` many times, which has poor performance.  Consider joining all columns at once using pd.concat(axis=1) instead. To get a de-fragmented frame, use `newframe = frame.copy()`\n",
      "  muestras['Muestra _'+str(i)]=_\n",
      "C:\\Users\\zazaz\\AppData\\Local\\Temp\\ipykernel_22132\\527239248.py:4: PerformanceWarning: DataFrame is highly fragmented.  This is usually the result of calling `frame.insert` many times, which has poor performance.  Consider joining all columns at once using pd.concat(axis=1) instead. To get a de-fragmented frame, use `newframe = frame.copy()`\n",
      "  muestras['Muestra _'+str(i)]=_\n",
      "C:\\Users\\zazaz\\AppData\\Local\\Temp\\ipykernel_22132\\527239248.py:4: PerformanceWarning: DataFrame is highly fragmented.  This is usually the result of calling `frame.insert` many times, which has poor performance.  Consider joining all columns at once using pd.concat(axis=1) instead. To get a de-fragmented frame, use `newframe = frame.copy()`\n",
      "  muestras['Muestra _'+str(i)]=_\n",
      "C:\\Users\\zazaz\\AppData\\Local\\Temp\\ipykernel_22132\\527239248.py:4: PerformanceWarning: DataFrame is highly fragmented.  This is usually the result of calling `frame.insert` many times, which has poor performance.  Consider joining all columns at once using pd.concat(axis=1) instead. To get a de-fragmented frame, use `newframe = frame.copy()`\n",
      "  muestras['Muestra _'+str(i)]=_\n",
      "C:\\Users\\zazaz\\AppData\\Local\\Temp\\ipykernel_22132\\527239248.py:4: PerformanceWarning: DataFrame is highly fragmented.  This is usually the result of calling `frame.insert` many times, which has poor performance.  Consider joining all columns at once using pd.concat(axis=1) instead. To get a de-fragmented frame, use `newframe = frame.copy()`\n",
      "  muestras['Muestra _'+str(i)]=_\n",
      "C:\\Users\\zazaz\\AppData\\Local\\Temp\\ipykernel_22132\\527239248.py:4: PerformanceWarning: DataFrame is highly fragmented.  This is usually the result of calling `frame.insert` many times, which has poor performance.  Consider joining all columns at once using pd.concat(axis=1) instead. To get a de-fragmented frame, use `newframe = frame.copy()`\n",
      "  muestras['Muestra _'+str(i)]=_\n",
      "C:\\Users\\zazaz\\AppData\\Local\\Temp\\ipykernel_22132\\527239248.py:4: PerformanceWarning: DataFrame is highly fragmented.  This is usually the result of calling `frame.insert` many times, which has poor performance.  Consider joining all columns at once using pd.concat(axis=1) instead. To get a de-fragmented frame, use `newframe = frame.copy()`\n",
      "  muestras['Muestra _'+str(i)]=_\n",
      "C:\\Users\\zazaz\\AppData\\Local\\Temp\\ipykernel_22132\\527239248.py:4: PerformanceWarning: DataFrame is highly fragmented.  This is usually the result of calling `frame.insert` many times, which has poor performance.  Consider joining all columns at once using pd.concat(axis=1) instead. To get a de-fragmented frame, use `newframe = frame.copy()`\n",
      "  muestras['Muestra _'+str(i)]=_\n",
      "C:\\Users\\zazaz\\AppData\\Local\\Temp\\ipykernel_22132\\527239248.py:4: PerformanceWarning: DataFrame is highly fragmented.  This is usually the result of calling `frame.insert` many times, which has poor performance.  Consider joining all columns at once using pd.concat(axis=1) instead. To get a de-fragmented frame, use `newframe = frame.copy()`\n",
      "  muestras['Muestra _'+str(i)]=_\n",
      "C:\\Users\\zazaz\\AppData\\Local\\Temp\\ipykernel_22132\\527239248.py:4: PerformanceWarning: DataFrame is highly fragmented.  This is usually the result of calling `frame.insert` many times, which has poor performance.  Consider joining all columns at once using pd.concat(axis=1) instead. To get a de-fragmented frame, use `newframe = frame.copy()`\n",
      "  muestras['Muestra _'+str(i)]=_\n",
      "C:\\Users\\zazaz\\AppData\\Local\\Temp\\ipykernel_22132\\527239248.py:4: PerformanceWarning: DataFrame is highly fragmented.  This is usually the result of calling `frame.insert` many times, which has poor performance.  Consider joining all columns at once using pd.concat(axis=1) instead. To get a de-fragmented frame, use `newframe = frame.copy()`\n",
      "  muestras['Muestra _'+str(i)]=_\n",
      "C:\\Users\\zazaz\\AppData\\Local\\Temp\\ipykernel_22132\\527239248.py:4: PerformanceWarning: DataFrame is highly fragmented.  This is usually the result of calling `frame.insert` many times, which has poor performance.  Consider joining all columns at once using pd.concat(axis=1) instead. To get a de-fragmented frame, use `newframe = frame.copy()`\n",
      "  muestras['Muestra _'+str(i)]=_\n",
      "C:\\Users\\zazaz\\AppData\\Local\\Temp\\ipykernel_22132\\527239248.py:4: PerformanceWarning: DataFrame is highly fragmented.  This is usually the result of calling `frame.insert` many times, which has poor performance.  Consider joining all columns at once using pd.concat(axis=1) instead. To get a de-fragmented frame, use `newframe = frame.copy()`\n",
      "  muestras['Muestra _'+str(i)]=_\n",
      "C:\\Users\\zazaz\\AppData\\Local\\Temp\\ipykernel_22132\\527239248.py:4: PerformanceWarning: DataFrame is highly fragmented.  This is usually the result of calling `frame.insert` many times, which has poor performance.  Consider joining all columns at once using pd.concat(axis=1) instead. To get a de-fragmented frame, use `newframe = frame.copy()`\n",
      "  muestras['Muestra _'+str(i)]=_\n",
      "C:\\Users\\zazaz\\AppData\\Local\\Temp\\ipykernel_22132\\527239248.py:4: PerformanceWarning: DataFrame is highly fragmented.  This is usually the result of calling `frame.insert` many times, which has poor performance.  Consider joining all columns at once using pd.concat(axis=1) instead. To get a de-fragmented frame, use `newframe = frame.copy()`\n",
      "  muestras['Muestra _'+str(i)]=_\n",
      "C:\\Users\\zazaz\\AppData\\Local\\Temp\\ipykernel_22132\\527239248.py:4: PerformanceWarning: DataFrame is highly fragmented.  This is usually the result of calling `frame.insert` many times, which has poor performance.  Consider joining all columns at once using pd.concat(axis=1) instead. To get a de-fragmented frame, use `newframe = frame.copy()`\n",
      "  muestras['Muestra _'+str(i)]=_\n",
      "C:\\Users\\zazaz\\AppData\\Local\\Temp\\ipykernel_22132\\527239248.py:4: PerformanceWarning: DataFrame is highly fragmented.  This is usually the result of calling `frame.insert` many times, which has poor performance.  Consider joining all columns at once using pd.concat(axis=1) instead. To get a de-fragmented frame, use `newframe = frame.copy()`\n",
      "  muestras['Muestra _'+str(i)]=_\n",
      "C:\\Users\\zazaz\\AppData\\Local\\Temp\\ipykernel_22132\\527239248.py:4: PerformanceWarning: DataFrame is highly fragmented.  This is usually the result of calling `frame.insert` many times, which has poor performance.  Consider joining all columns at once using pd.concat(axis=1) instead. To get a de-fragmented frame, use `newframe = frame.copy()`\n",
      "  muestras['Muestra _'+str(i)]=_\n",
      "C:\\Users\\zazaz\\AppData\\Local\\Temp\\ipykernel_22132\\527239248.py:4: PerformanceWarning: DataFrame is highly fragmented.  This is usually the result of calling `frame.insert` many times, which has poor performance.  Consider joining all columns at once using pd.concat(axis=1) instead. To get a de-fragmented frame, use `newframe = frame.copy()`\n",
      "  muestras['Muestra _'+str(i)]=_\n",
      "C:\\Users\\zazaz\\AppData\\Local\\Temp\\ipykernel_22132\\527239248.py:4: PerformanceWarning: DataFrame is highly fragmented.  This is usually the result of calling `frame.insert` many times, which has poor performance.  Consider joining all columns at once using pd.concat(axis=1) instead. To get a de-fragmented frame, use `newframe = frame.copy()`\n",
      "  muestras['Muestra _'+str(i)]=_\n",
      "C:\\Users\\zazaz\\AppData\\Local\\Temp\\ipykernel_22132\\527239248.py:4: PerformanceWarning: DataFrame is highly fragmented.  This is usually the result of calling `frame.insert` many times, which has poor performance.  Consider joining all columns at once using pd.concat(axis=1) instead. To get a de-fragmented frame, use `newframe = frame.copy()`\n",
      "  muestras['Muestra _'+str(i)]=_\n",
      "C:\\Users\\zazaz\\AppData\\Local\\Temp\\ipykernel_22132\\527239248.py:4: PerformanceWarning: DataFrame is highly fragmented.  This is usually the result of calling `frame.insert` many times, which has poor performance.  Consider joining all columns at once using pd.concat(axis=1) instead. To get a de-fragmented frame, use `newframe = frame.copy()`\n",
      "  muestras['Muestra _'+str(i)]=_\n",
      "C:\\Users\\zazaz\\AppData\\Local\\Temp\\ipykernel_22132\\527239248.py:4: PerformanceWarning: DataFrame is highly fragmented.  This is usually the result of calling `frame.insert` many times, which has poor performance.  Consider joining all columns at once using pd.concat(axis=1) instead. To get a de-fragmented frame, use `newframe = frame.copy()`\n",
      "  muestras['Muestra _'+str(i)]=_\n",
      "C:\\Users\\zazaz\\AppData\\Local\\Temp\\ipykernel_22132\\527239248.py:4: PerformanceWarning: DataFrame is highly fragmented.  This is usually the result of calling `frame.insert` many times, which has poor performance.  Consider joining all columns at once using pd.concat(axis=1) instead. To get a de-fragmented frame, use `newframe = frame.copy()`\n",
      "  muestras['Muestra _'+str(i)]=_\n",
      "C:\\Users\\zazaz\\AppData\\Local\\Temp\\ipykernel_22132\\527239248.py:4: PerformanceWarning: DataFrame is highly fragmented.  This is usually the result of calling `frame.insert` many times, which has poor performance.  Consider joining all columns at once using pd.concat(axis=1) instead. To get a de-fragmented frame, use `newframe = frame.copy()`\n",
      "  muestras['Muestra _'+str(i)]=_\n",
      "C:\\Users\\zazaz\\AppData\\Local\\Temp\\ipykernel_22132\\527239248.py:4: PerformanceWarning: DataFrame is highly fragmented.  This is usually the result of calling `frame.insert` many times, which has poor performance.  Consider joining all columns at once using pd.concat(axis=1) instead. To get a de-fragmented frame, use `newframe = frame.copy()`\n",
      "  muestras['Muestra _'+str(i)]=_\n",
      "C:\\Users\\zazaz\\AppData\\Local\\Temp\\ipykernel_22132\\527239248.py:4: PerformanceWarning: DataFrame is highly fragmented.  This is usually the result of calling `frame.insert` many times, which has poor performance.  Consider joining all columns at once using pd.concat(axis=1) instead. To get a de-fragmented frame, use `newframe = frame.copy()`\n",
      "  muestras['Muestra _'+str(i)]=_\n",
      "C:\\Users\\zazaz\\AppData\\Local\\Temp\\ipykernel_22132\\527239248.py:4: PerformanceWarning: DataFrame is highly fragmented.  This is usually the result of calling `frame.insert` many times, which has poor performance.  Consider joining all columns at once using pd.concat(axis=1) instead. To get a de-fragmented frame, use `newframe = frame.copy()`\n",
      "  muestras['Muestra _'+str(i)]=_\n",
      "C:\\Users\\zazaz\\AppData\\Local\\Temp\\ipykernel_22132\\527239248.py:4: PerformanceWarning: DataFrame is highly fragmented.  This is usually the result of calling `frame.insert` many times, which has poor performance.  Consider joining all columns at once using pd.concat(axis=1) instead. To get a de-fragmented frame, use `newframe = frame.copy()`\n",
      "  muestras['Muestra _'+str(i)]=_\n",
      "C:\\Users\\zazaz\\AppData\\Local\\Temp\\ipykernel_22132\\527239248.py:4: PerformanceWarning: DataFrame is highly fragmented.  This is usually the result of calling `frame.insert` many times, which has poor performance.  Consider joining all columns at once using pd.concat(axis=1) instead. To get a de-fragmented frame, use `newframe = frame.copy()`\n",
      "  muestras['Muestra _'+str(i)]=_\n",
      "C:\\Users\\zazaz\\AppData\\Local\\Temp\\ipykernel_22132\\527239248.py:4: PerformanceWarning: DataFrame is highly fragmented.  This is usually the result of calling `frame.insert` many times, which has poor performance.  Consider joining all columns at once using pd.concat(axis=1) instead. To get a de-fragmented frame, use `newframe = frame.copy()`\n",
      "  muestras['Muestra _'+str(i)]=_\n",
      "C:\\Users\\zazaz\\AppData\\Local\\Temp\\ipykernel_22132\\527239248.py:4: PerformanceWarning: DataFrame is highly fragmented.  This is usually the result of calling `frame.insert` many times, which has poor performance.  Consider joining all columns at once using pd.concat(axis=1) instead. To get a de-fragmented frame, use `newframe = frame.copy()`\n",
      "  muestras['Muestra _'+str(i)]=_\n",
      "C:\\Users\\zazaz\\AppData\\Local\\Temp\\ipykernel_22132\\527239248.py:4: PerformanceWarning: DataFrame is highly fragmented.  This is usually the result of calling `frame.insert` many times, which has poor performance.  Consider joining all columns at once using pd.concat(axis=1) instead. To get a de-fragmented frame, use `newframe = frame.copy()`\n",
      "  muestras['Muestra _'+str(i)]=_\n",
      "C:\\Users\\zazaz\\AppData\\Local\\Temp\\ipykernel_22132\\527239248.py:4: PerformanceWarning: DataFrame is highly fragmented.  This is usually the result of calling `frame.insert` many times, which has poor performance.  Consider joining all columns at once using pd.concat(axis=1) instead. To get a de-fragmented frame, use `newframe = frame.copy()`\n",
      "  muestras['Muestra _'+str(i)]=_\n",
      "C:\\Users\\zazaz\\AppData\\Local\\Temp\\ipykernel_22132\\527239248.py:4: PerformanceWarning: DataFrame is highly fragmented.  This is usually the result of calling `frame.insert` many times, which has poor performance.  Consider joining all columns at once using pd.concat(axis=1) instead. To get a de-fragmented frame, use `newframe = frame.copy()`\n",
      "  muestras['Muestra _'+str(i)]=_\n",
      "C:\\Users\\zazaz\\AppData\\Local\\Temp\\ipykernel_22132\\527239248.py:4: PerformanceWarning: DataFrame is highly fragmented.  This is usually the result of calling `frame.insert` many times, which has poor performance.  Consider joining all columns at once using pd.concat(axis=1) instead. To get a de-fragmented frame, use `newframe = frame.copy()`\n",
      "  muestras['Muestra _'+str(i)]=_\n",
      "C:\\Users\\zazaz\\AppData\\Local\\Temp\\ipykernel_22132\\527239248.py:4: PerformanceWarning: DataFrame is highly fragmented.  This is usually the result of calling `frame.insert` many times, which has poor performance.  Consider joining all columns at once using pd.concat(axis=1) instead. To get a de-fragmented frame, use `newframe = frame.copy()`\n",
      "  muestras['Muestra _'+str(i)]=_\n",
      "C:\\Users\\zazaz\\AppData\\Local\\Temp\\ipykernel_22132\\527239248.py:4: PerformanceWarning: DataFrame is highly fragmented.  This is usually the result of calling `frame.insert` many times, which has poor performance.  Consider joining all columns at once using pd.concat(axis=1) instead. To get a de-fragmented frame, use `newframe = frame.copy()`\n",
      "  muestras['Muestra _'+str(i)]=_\n",
      "C:\\Users\\zazaz\\AppData\\Local\\Temp\\ipykernel_22132\\527239248.py:4: PerformanceWarning: DataFrame is highly fragmented.  This is usually the result of calling `frame.insert` many times, which has poor performance.  Consider joining all columns at once using pd.concat(axis=1) instead. To get a de-fragmented frame, use `newframe = frame.copy()`\n",
      "  muestras['Muestra _'+str(i)]=_\n",
      "C:\\Users\\zazaz\\AppData\\Local\\Temp\\ipykernel_22132\\527239248.py:4: PerformanceWarning: DataFrame is highly fragmented.  This is usually the result of calling `frame.insert` many times, which has poor performance.  Consider joining all columns at once using pd.concat(axis=1) instead. To get a de-fragmented frame, use `newframe = frame.copy()`\n",
      "  muestras['Muestra _'+str(i)]=_\n",
      "C:\\Users\\zazaz\\AppData\\Local\\Temp\\ipykernel_22132\\527239248.py:4: PerformanceWarning: DataFrame is highly fragmented.  This is usually the result of calling `frame.insert` many times, which has poor performance.  Consider joining all columns at once using pd.concat(axis=1) instead. To get a de-fragmented frame, use `newframe = frame.copy()`\n",
      "  muestras['Muestra _'+str(i)]=_\n",
      "C:\\Users\\zazaz\\AppData\\Local\\Temp\\ipykernel_22132\\527239248.py:4: PerformanceWarning: DataFrame is highly fragmented.  This is usually the result of calling `frame.insert` many times, which has poor performance.  Consider joining all columns at once using pd.concat(axis=1) instead. To get a de-fragmented frame, use `newframe = frame.copy()`\n",
      "  muestras['Muestra _'+str(i)]=_\n",
      "C:\\Users\\zazaz\\AppData\\Local\\Temp\\ipykernel_22132\\527239248.py:4: PerformanceWarning: DataFrame is highly fragmented.  This is usually the result of calling `frame.insert` many times, which has poor performance.  Consider joining all columns at once using pd.concat(axis=1) instead. To get a de-fragmented frame, use `newframe = frame.copy()`\n",
      "  muestras['Muestra _'+str(i)]=_\n",
      "C:\\Users\\zazaz\\AppData\\Local\\Temp\\ipykernel_22132\\527239248.py:4: PerformanceWarning: DataFrame is highly fragmented.  This is usually the result of calling `frame.insert` many times, which has poor performance.  Consider joining all columns at once using pd.concat(axis=1) instead. To get a de-fragmented frame, use `newframe = frame.copy()`\n",
      "  muestras['Muestra _'+str(i)]=_\n",
      "C:\\Users\\zazaz\\AppData\\Local\\Temp\\ipykernel_22132\\527239248.py:4: PerformanceWarning: DataFrame is highly fragmented.  This is usually the result of calling `frame.insert` many times, which has poor performance.  Consider joining all columns at once using pd.concat(axis=1) instead. To get a de-fragmented frame, use `newframe = frame.copy()`\n",
      "  muestras['Muestra _'+str(i)]=_\n",
      "C:\\Users\\zazaz\\AppData\\Local\\Temp\\ipykernel_22132\\527239248.py:4: PerformanceWarning: DataFrame is highly fragmented.  This is usually the result of calling `frame.insert` many times, which has poor performance.  Consider joining all columns at once using pd.concat(axis=1) instead. To get a de-fragmented frame, use `newframe = frame.copy()`\n",
      "  muestras['Muestra _'+str(i)]=_\n",
      "C:\\Users\\zazaz\\AppData\\Local\\Temp\\ipykernel_22132\\527239248.py:4: PerformanceWarning: DataFrame is highly fragmented.  This is usually the result of calling `frame.insert` many times, which has poor performance.  Consider joining all columns at once using pd.concat(axis=1) instead. To get a de-fragmented frame, use `newframe = frame.copy()`\n",
      "  muestras['Muestra _'+str(i)]=_\n",
      "C:\\Users\\zazaz\\AppData\\Local\\Temp\\ipykernel_22132\\527239248.py:4: PerformanceWarning: DataFrame is highly fragmented.  This is usually the result of calling `frame.insert` many times, which has poor performance.  Consider joining all columns at once using pd.concat(axis=1) instead. To get a de-fragmented frame, use `newframe = frame.copy()`\n",
      "  muestras['Muestra _'+str(i)]=_\n",
      "C:\\Users\\zazaz\\AppData\\Local\\Temp\\ipykernel_22132\\527239248.py:4: PerformanceWarning: DataFrame is highly fragmented.  This is usually the result of calling `frame.insert` many times, which has poor performance.  Consider joining all columns at once using pd.concat(axis=1) instead. To get a de-fragmented frame, use `newframe = frame.copy()`\n",
      "  muestras['Muestra _'+str(i)]=_\n",
      "C:\\Users\\zazaz\\AppData\\Local\\Temp\\ipykernel_22132\\527239248.py:4: PerformanceWarning: DataFrame is highly fragmented.  This is usually the result of calling `frame.insert` many times, which has poor performance.  Consider joining all columns at once using pd.concat(axis=1) instead. To get a de-fragmented frame, use `newframe = frame.copy()`\n",
      "  muestras['Muestra _'+str(i)]=_\n",
      "C:\\Users\\zazaz\\AppData\\Local\\Temp\\ipykernel_22132\\527239248.py:4: PerformanceWarning: DataFrame is highly fragmented.  This is usually the result of calling `frame.insert` many times, which has poor performance.  Consider joining all columns at once using pd.concat(axis=1) instead. To get a de-fragmented frame, use `newframe = frame.copy()`\n",
      "  muestras['Muestra _'+str(i)]=_\n",
      "C:\\Users\\zazaz\\AppData\\Local\\Temp\\ipykernel_22132\\527239248.py:4: PerformanceWarning: DataFrame is highly fragmented.  This is usually the result of calling `frame.insert` many times, which has poor performance.  Consider joining all columns at once using pd.concat(axis=1) instead. To get a de-fragmented frame, use `newframe = frame.copy()`\n",
      "  muestras['Muestra _'+str(i)]=_\n",
      "C:\\Users\\zazaz\\AppData\\Local\\Temp\\ipykernel_22132\\527239248.py:4: PerformanceWarning: DataFrame is highly fragmented.  This is usually the result of calling `frame.insert` many times, which has poor performance.  Consider joining all columns at once using pd.concat(axis=1) instead. To get a de-fragmented frame, use `newframe = frame.copy()`\n",
      "  muestras['Muestra _'+str(i)]=_\n",
      "C:\\Users\\zazaz\\AppData\\Local\\Temp\\ipykernel_22132\\527239248.py:4: PerformanceWarning: DataFrame is highly fragmented.  This is usually the result of calling `frame.insert` many times, which has poor performance.  Consider joining all columns at once using pd.concat(axis=1) instead. To get a de-fragmented frame, use `newframe = frame.copy()`\n",
      "  muestras['Muestra _'+str(i)]=_\n",
      "C:\\Users\\zazaz\\AppData\\Local\\Temp\\ipykernel_22132\\527239248.py:4: PerformanceWarning: DataFrame is highly fragmented.  This is usually the result of calling `frame.insert` many times, which has poor performance.  Consider joining all columns at once using pd.concat(axis=1) instead. To get a de-fragmented frame, use `newframe = frame.copy()`\n",
      "  muestras['Muestra _'+str(i)]=_\n",
      "C:\\Users\\zazaz\\AppData\\Local\\Temp\\ipykernel_22132\\527239248.py:4: PerformanceWarning: DataFrame is highly fragmented.  This is usually the result of calling `frame.insert` many times, which has poor performance.  Consider joining all columns at once using pd.concat(axis=1) instead. To get a de-fragmented frame, use `newframe = frame.copy()`\n",
      "  muestras['Muestra _'+str(i)]=_\n",
      "C:\\Users\\zazaz\\AppData\\Local\\Temp\\ipykernel_22132\\527239248.py:4: PerformanceWarning: DataFrame is highly fragmented.  This is usually the result of calling `frame.insert` many times, which has poor performance.  Consider joining all columns at once using pd.concat(axis=1) instead. To get a de-fragmented frame, use `newframe = frame.copy()`\n",
      "  muestras['Muestra _'+str(i)]=_\n",
      "C:\\Users\\zazaz\\AppData\\Local\\Temp\\ipykernel_22132\\527239248.py:4: PerformanceWarning: DataFrame is highly fragmented.  This is usually the result of calling `frame.insert` many times, which has poor performance.  Consider joining all columns at once using pd.concat(axis=1) instead. To get a de-fragmented frame, use `newframe = frame.copy()`\n",
      "  muestras['Muestra _'+str(i)]=_\n",
      "C:\\Users\\zazaz\\AppData\\Local\\Temp\\ipykernel_22132\\527239248.py:4: PerformanceWarning: DataFrame is highly fragmented.  This is usually the result of calling `frame.insert` many times, which has poor performance.  Consider joining all columns at once using pd.concat(axis=1) instead. To get a de-fragmented frame, use `newframe = frame.copy()`\n",
      "  muestras['Muestra _'+str(i)]=_\n",
      "C:\\Users\\zazaz\\AppData\\Local\\Temp\\ipykernel_22132\\527239248.py:4: PerformanceWarning: DataFrame is highly fragmented.  This is usually the result of calling `frame.insert` many times, which has poor performance.  Consider joining all columns at once using pd.concat(axis=1) instead. To get a de-fragmented frame, use `newframe = frame.copy()`\n",
      "  muestras['Muestra _'+str(i)]=_\n",
      "C:\\Users\\zazaz\\AppData\\Local\\Temp\\ipykernel_22132\\527239248.py:4: PerformanceWarning: DataFrame is highly fragmented.  This is usually the result of calling `frame.insert` many times, which has poor performance.  Consider joining all columns at once using pd.concat(axis=1) instead. To get a de-fragmented frame, use `newframe = frame.copy()`\n",
      "  muestras['Muestra _'+str(i)]=_\n",
      "C:\\Users\\zazaz\\AppData\\Local\\Temp\\ipykernel_22132\\527239248.py:4: PerformanceWarning: DataFrame is highly fragmented.  This is usually the result of calling `frame.insert` many times, which has poor performance.  Consider joining all columns at once using pd.concat(axis=1) instead. To get a de-fragmented frame, use `newframe = frame.copy()`\n",
      "  muestras['Muestra _'+str(i)]=_\n",
      "C:\\Users\\zazaz\\AppData\\Local\\Temp\\ipykernel_22132\\527239248.py:4: PerformanceWarning: DataFrame is highly fragmented.  This is usually the result of calling `frame.insert` many times, which has poor performance.  Consider joining all columns at once using pd.concat(axis=1) instead. To get a de-fragmented frame, use `newframe = frame.copy()`\n",
      "  muestras['Muestra _'+str(i)]=_\n",
      "C:\\Users\\zazaz\\AppData\\Local\\Temp\\ipykernel_22132\\527239248.py:4: PerformanceWarning: DataFrame is highly fragmented.  This is usually the result of calling `frame.insert` many times, which has poor performance.  Consider joining all columns at once using pd.concat(axis=1) instead. To get a de-fragmented frame, use `newframe = frame.copy()`\n",
      "  muestras['Muestra _'+str(i)]=_\n",
      "C:\\Users\\zazaz\\AppData\\Local\\Temp\\ipykernel_22132\\527239248.py:4: PerformanceWarning: DataFrame is highly fragmented.  This is usually the result of calling `frame.insert` many times, which has poor performance.  Consider joining all columns at once using pd.concat(axis=1) instead. To get a de-fragmented frame, use `newframe = frame.copy()`\n",
      "  muestras['Muestra _'+str(i)]=_\n",
      "C:\\Users\\zazaz\\AppData\\Local\\Temp\\ipykernel_22132\\527239248.py:4: PerformanceWarning: DataFrame is highly fragmented.  This is usually the result of calling `frame.insert` many times, which has poor performance.  Consider joining all columns at once using pd.concat(axis=1) instead. To get a de-fragmented frame, use `newframe = frame.copy()`\n",
      "  muestras['Muestra _'+str(i)]=_\n",
      "C:\\Users\\zazaz\\AppData\\Local\\Temp\\ipykernel_22132\\527239248.py:4: PerformanceWarning: DataFrame is highly fragmented.  This is usually the result of calling `frame.insert` many times, which has poor performance.  Consider joining all columns at once using pd.concat(axis=1) instead. To get a de-fragmented frame, use `newframe = frame.copy()`\n",
      "  muestras['Muestra _'+str(i)]=_\n",
      "C:\\Users\\zazaz\\AppData\\Local\\Temp\\ipykernel_22132\\527239248.py:4: PerformanceWarning: DataFrame is highly fragmented.  This is usually the result of calling `frame.insert` many times, which has poor performance.  Consider joining all columns at once using pd.concat(axis=1) instead. To get a de-fragmented frame, use `newframe = frame.copy()`\n",
      "  muestras['Muestra _'+str(i)]=_\n",
      "C:\\Users\\zazaz\\AppData\\Local\\Temp\\ipykernel_22132\\527239248.py:4: PerformanceWarning: DataFrame is highly fragmented.  This is usually the result of calling `frame.insert` many times, which has poor performance.  Consider joining all columns at once using pd.concat(axis=1) instead. To get a de-fragmented frame, use `newframe = frame.copy()`\n",
      "  muestras['Muestra _'+str(i)]=_\n",
      "C:\\Users\\zazaz\\AppData\\Local\\Temp\\ipykernel_22132\\527239248.py:4: PerformanceWarning: DataFrame is highly fragmented.  This is usually the result of calling `frame.insert` many times, which has poor performance.  Consider joining all columns at once using pd.concat(axis=1) instead. To get a de-fragmented frame, use `newframe = frame.copy()`\n",
      "  muestras['Muestra _'+str(i)]=_\n",
      "C:\\Users\\zazaz\\AppData\\Local\\Temp\\ipykernel_22132\\527239248.py:4: PerformanceWarning: DataFrame is highly fragmented.  This is usually the result of calling `frame.insert` many times, which has poor performance.  Consider joining all columns at once using pd.concat(axis=1) instead. To get a de-fragmented frame, use `newframe = frame.copy()`\n",
      "  muestras['Muestra _'+str(i)]=_\n",
      "C:\\Users\\zazaz\\AppData\\Local\\Temp\\ipykernel_22132\\527239248.py:4: PerformanceWarning: DataFrame is highly fragmented.  This is usually the result of calling `frame.insert` many times, which has poor performance.  Consider joining all columns at once using pd.concat(axis=1) instead. To get a de-fragmented frame, use `newframe = frame.copy()`\n",
      "  muestras['Muestra _'+str(i)]=_\n",
      "C:\\Users\\zazaz\\AppData\\Local\\Temp\\ipykernel_22132\\527239248.py:4: PerformanceWarning: DataFrame is highly fragmented.  This is usually the result of calling `frame.insert` many times, which has poor performance.  Consider joining all columns at once using pd.concat(axis=1) instead. To get a de-fragmented frame, use `newframe = frame.copy()`\n",
      "  muestras['Muestra _'+str(i)]=_\n",
      "C:\\Users\\zazaz\\AppData\\Local\\Temp\\ipykernel_22132\\527239248.py:4: PerformanceWarning: DataFrame is highly fragmented.  This is usually the result of calling `frame.insert` many times, which has poor performance.  Consider joining all columns at once using pd.concat(axis=1) instead. To get a de-fragmented frame, use `newframe = frame.copy()`\n",
      "  muestras['Muestra _'+str(i)]=_\n",
      "C:\\Users\\zazaz\\AppData\\Local\\Temp\\ipykernel_22132\\527239248.py:4: PerformanceWarning: DataFrame is highly fragmented.  This is usually the result of calling `frame.insert` many times, which has poor performance.  Consider joining all columns at once using pd.concat(axis=1) instead. To get a de-fragmented frame, use `newframe = frame.copy()`\n",
      "  muestras['Muestra _'+str(i)]=_\n",
      "C:\\Users\\zazaz\\AppData\\Local\\Temp\\ipykernel_22132\\527239248.py:4: PerformanceWarning: DataFrame is highly fragmented.  This is usually the result of calling `frame.insert` many times, which has poor performance.  Consider joining all columns at once using pd.concat(axis=1) instead. To get a de-fragmented frame, use `newframe = frame.copy()`\n",
      "  muestras['Muestra _'+str(i)]=_\n",
      "C:\\Users\\zazaz\\AppData\\Local\\Temp\\ipykernel_22132\\527239248.py:4: PerformanceWarning: DataFrame is highly fragmented.  This is usually the result of calling `frame.insert` many times, which has poor performance.  Consider joining all columns at once using pd.concat(axis=1) instead. To get a de-fragmented frame, use `newframe = frame.copy()`\n",
      "  muestras['Muestra _'+str(i)]=_\n",
      "C:\\Users\\zazaz\\AppData\\Local\\Temp\\ipykernel_22132\\527239248.py:4: PerformanceWarning: DataFrame is highly fragmented.  This is usually the result of calling `frame.insert` many times, which has poor performance.  Consider joining all columns at once using pd.concat(axis=1) instead. To get a de-fragmented frame, use `newframe = frame.copy()`\n",
      "  muestras['Muestra _'+str(i)]=_\n",
      "C:\\Users\\zazaz\\AppData\\Local\\Temp\\ipykernel_22132\\527239248.py:4: PerformanceWarning: DataFrame is highly fragmented.  This is usually the result of calling `frame.insert` many times, which has poor performance.  Consider joining all columns at once using pd.concat(axis=1) instead. To get a de-fragmented frame, use `newframe = frame.copy()`\n",
      "  muestras['Muestra _'+str(i)]=_\n",
      "C:\\Users\\zazaz\\AppData\\Local\\Temp\\ipykernel_22132\\527239248.py:4: PerformanceWarning: DataFrame is highly fragmented.  This is usually the result of calling `frame.insert` many times, which has poor performance.  Consider joining all columns at once using pd.concat(axis=1) instead. To get a de-fragmented frame, use `newframe = frame.copy()`\n",
      "  muestras['Muestra _'+str(i)]=_\n",
      "C:\\Users\\zazaz\\AppData\\Local\\Temp\\ipykernel_22132\\527239248.py:4: PerformanceWarning: DataFrame is highly fragmented.  This is usually the result of calling `frame.insert` many times, which has poor performance.  Consider joining all columns at once using pd.concat(axis=1) instead. To get a de-fragmented frame, use `newframe = frame.copy()`\n",
      "  muestras['Muestra _'+str(i)]=_\n",
      "C:\\Users\\zazaz\\AppData\\Local\\Temp\\ipykernel_22132\\527239248.py:4: PerformanceWarning: DataFrame is highly fragmented.  This is usually the result of calling `frame.insert` many times, which has poor performance.  Consider joining all columns at once using pd.concat(axis=1) instead. To get a de-fragmented frame, use `newframe = frame.copy()`\n",
      "  muestras['Muestra _'+str(i)]=_\n",
      "C:\\Users\\zazaz\\AppData\\Local\\Temp\\ipykernel_22132\\527239248.py:4: PerformanceWarning: DataFrame is highly fragmented.  This is usually the result of calling `frame.insert` many times, which has poor performance.  Consider joining all columns at once using pd.concat(axis=1) instead. To get a de-fragmented frame, use `newframe = frame.copy()`\n",
      "  muestras['Muestra _'+str(i)]=_\n",
      "C:\\Users\\zazaz\\AppData\\Local\\Temp\\ipykernel_22132\\527239248.py:4: PerformanceWarning: DataFrame is highly fragmented.  This is usually the result of calling `frame.insert` many times, which has poor performance.  Consider joining all columns at once using pd.concat(axis=1) instead. To get a de-fragmented frame, use `newframe = frame.copy()`\n",
      "  muestras['Muestra _'+str(i)]=_\n",
      "C:\\Users\\zazaz\\AppData\\Local\\Temp\\ipykernel_22132\\527239248.py:4: PerformanceWarning: DataFrame is highly fragmented.  This is usually the result of calling `frame.insert` many times, which has poor performance.  Consider joining all columns at once using pd.concat(axis=1) instead. To get a de-fragmented frame, use `newframe = frame.copy()`\n",
      "  muestras['Muestra _'+str(i)]=_\n",
      "C:\\Users\\zazaz\\AppData\\Local\\Temp\\ipykernel_22132\\527239248.py:4: PerformanceWarning: DataFrame is highly fragmented.  This is usually the result of calling `frame.insert` many times, which has poor performance.  Consider joining all columns at once using pd.concat(axis=1) instead. To get a de-fragmented frame, use `newframe = frame.copy()`\n",
      "  muestras['Muestra _'+str(i)]=_\n",
      "C:\\Users\\zazaz\\AppData\\Local\\Temp\\ipykernel_22132\\527239248.py:4: PerformanceWarning: DataFrame is highly fragmented.  This is usually the result of calling `frame.insert` many times, which has poor performance.  Consider joining all columns at once using pd.concat(axis=1) instead. To get a de-fragmented frame, use `newframe = frame.copy()`\n",
      "  muestras['Muestra _'+str(i)]=_\n",
      "C:\\Users\\zazaz\\AppData\\Local\\Temp\\ipykernel_22132\\527239248.py:4: PerformanceWarning: DataFrame is highly fragmented.  This is usually the result of calling `frame.insert` many times, which has poor performance.  Consider joining all columns at once using pd.concat(axis=1) instead. To get a de-fragmented frame, use `newframe = frame.copy()`\n",
      "  muestras['Muestra _'+str(i)]=_\n",
      "C:\\Users\\zazaz\\AppData\\Local\\Temp\\ipykernel_22132\\527239248.py:4: PerformanceWarning: DataFrame is highly fragmented.  This is usually the result of calling `frame.insert` many times, which has poor performance.  Consider joining all columns at once using pd.concat(axis=1) instead. To get a de-fragmented frame, use `newframe = frame.copy()`\n",
      "  muestras['Muestra _'+str(i)]=_\n",
      "C:\\Users\\zazaz\\AppData\\Local\\Temp\\ipykernel_22132\\527239248.py:4: PerformanceWarning: DataFrame is highly fragmented.  This is usually the result of calling `frame.insert` many times, which has poor performance.  Consider joining all columns at once using pd.concat(axis=1) instead. To get a de-fragmented frame, use `newframe = frame.copy()`\n",
      "  muestras['Muestra _'+str(i)]=_\n",
      "C:\\Users\\zazaz\\AppData\\Local\\Temp\\ipykernel_22132\\527239248.py:4: PerformanceWarning: DataFrame is highly fragmented.  This is usually the result of calling `frame.insert` many times, which has poor performance.  Consider joining all columns at once using pd.concat(axis=1) instead. To get a de-fragmented frame, use `newframe = frame.copy()`\n",
      "  muestras['Muestra _'+str(i)]=_\n",
      "C:\\Users\\zazaz\\AppData\\Local\\Temp\\ipykernel_22132\\527239248.py:4: PerformanceWarning: DataFrame is highly fragmented.  This is usually the result of calling `frame.insert` many times, which has poor performance.  Consider joining all columns at once using pd.concat(axis=1) instead. To get a de-fragmented frame, use `newframe = frame.copy()`\n",
      "  muestras['Muestra _'+str(i)]=_\n",
      "C:\\Users\\zazaz\\AppData\\Local\\Temp\\ipykernel_22132\\527239248.py:4: PerformanceWarning: DataFrame is highly fragmented.  This is usually the result of calling `frame.insert` many times, which has poor performance.  Consider joining all columns at once using pd.concat(axis=1) instead. To get a de-fragmented frame, use `newframe = frame.copy()`\n",
      "  muestras['Muestra _'+str(i)]=_\n",
      "C:\\Users\\zazaz\\AppData\\Local\\Temp\\ipykernel_22132\\527239248.py:4: PerformanceWarning: DataFrame is highly fragmented.  This is usually the result of calling `frame.insert` many times, which has poor performance.  Consider joining all columns at once using pd.concat(axis=1) instead. To get a de-fragmented frame, use `newframe = frame.copy()`\n",
      "  muestras['Muestra _'+str(i)]=_\n",
      "C:\\Users\\zazaz\\AppData\\Local\\Temp\\ipykernel_22132\\527239248.py:4: PerformanceWarning: DataFrame is highly fragmented.  This is usually the result of calling `frame.insert` many times, which has poor performance.  Consider joining all columns at once using pd.concat(axis=1) instead. To get a de-fragmented frame, use `newframe = frame.copy()`\n",
      "  muestras['Muestra _'+str(i)]=_\n",
      "C:\\Users\\zazaz\\AppData\\Local\\Temp\\ipykernel_22132\\527239248.py:4: PerformanceWarning: DataFrame is highly fragmented.  This is usually the result of calling `frame.insert` many times, which has poor performance.  Consider joining all columns at once using pd.concat(axis=1) instead. To get a de-fragmented frame, use `newframe = frame.copy()`\n",
      "  muestras['Muestra _'+str(i)]=_\n",
      "C:\\Users\\zazaz\\AppData\\Local\\Temp\\ipykernel_22132\\527239248.py:4: PerformanceWarning: DataFrame is highly fragmented.  This is usually the result of calling `frame.insert` many times, which has poor performance.  Consider joining all columns at once using pd.concat(axis=1) instead. To get a de-fragmented frame, use `newframe = frame.copy()`\n",
      "  muestras['Muestra _'+str(i)]=_\n",
      "C:\\Users\\zazaz\\AppData\\Local\\Temp\\ipykernel_22132\\527239248.py:4: PerformanceWarning: DataFrame is highly fragmented.  This is usually the result of calling `frame.insert` many times, which has poor performance.  Consider joining all columns at once using pd.concat(axis=1) instead. To get a de-fragmented frame, use `newframe = frame.copy()`\n",
      "  muestras['Muestra _'+str(i)]=_\n",
      "C:\\Users\\zazaz\\AppData\\Local\\Temp\\ipykernel_22132\\527239248.py:4: PerformanceWarning: DataFrame is highly fragmented.  This is usually the result of calling `frame.insert` many times, which has poor performance.  Consider joining all columns at once using pd.concat(axis=1) instead. To get a de-fragmented frame, use `newframe = frame.copy()`\n",
      "  muestras['Muestra _'+str(i)]=_\n",
      "C:\\Users\\zazaz\\AppData\\Local\\Temp\\ipykernel_22132\\527239248.py:4: PerformanceWarning: DataFrame is highly fragmented.  This is usually the result of calling `frame.insert` many times, which has poor performance.  Consider joining all columns at once using pd.concat(axis=1) instead. To get a de-fragmented frame, use `newframe = frame.copy()`\n",
      "  muestras['Muestra _'+str(i)]=_\n",
      "C:\\Users\\zazaz\\AppData\\Local\\Temp\\ipykernel_22132\\527239248.py:4: PerformanceWarning: DataFrame is highly fragmented.  This is usually the result of calling `frame.insert` many times, which has poor performance.  Consider joining all columns at once using pd.concat(axis=1) instead. To get a de-fragmented frame, use `newframe = frame.copy()`\n",
      "  muestras['Muestra _'+str(i)]=_\n",
      "C:\\Users\\zazaz\\AppData\\Local\\Temp\\ipykernel_22132\\527239248.py:4: PerformanceWarning: DataFrame is highly fragmented.  This is usually the result of calling `frame.insert` many times, which has poor performance.  Consider joining all columns at once using pd.concat(axis=1) instead. To get a de-fragmented frame, use `newframe = frame.copy()`\n",
      "  muestras['Muestra _'+str(i)]=_\n",
      "C:\\Users\\zazaz\\AppData\\Local\\Temp\\ipykernel_22132\\527239248.py:4: PerformanceWarning: DataFrame is highly fragmented.  This is usually the result of calling `frame.insert` many times, which has poor performance.  Consider joining all columns at once using pd.concat(axis=1) instead. To get a de-fragmented frame, use `newframe = frame.copy()`\n",
      "  muestras['Muestra _'+str(i)]=_\n",
      "C:\\Users\\zazaz\\AppData\\Local\\Temp\\ipykernel_22132\\527239248.py:4: PerformanceWarning: DataFrame is highly fragmented.  This is usually the result of calling `frame.insert` many times, which has poor performance.  Consider joining all columns at once using pd.concat(axis=1) instead. To get a de-fragmented frame, use `newframe = frame.copy()`\n",
      "  muestras['Muestra _'+str(i)]=_\n",
      "C:\\Users\\zazaz\\AppData\\Local\\Temp\\ipykernel_22132\\527239248.py:4: PerformanceWarning: DataFrame is highly fragmented.  This is usually the result of calling `frame.insert` many times, which has poor performance.  Consider joining all columns at once using pd.concat(axis=1) instead. To get a de-fragmented frame, use `newframe = frame.copy()`\n",
      "  muestras['Muestra _'+str(i)]=_\n",
      "C:\\Users\\zazaz\\AppData\\Local\\Temp\\ipykernel_22132\\527239248.py:4: PerformanceWarning: DataFrame is highly fragmented.  This is usually the result of calling `frame.insert` many times, which has poor performance.  Consider joining all columns at once using pd.concat(axis=1) instead. To get a de-fragmented frame, use `newframe = frame.copy()`\n",
      "  muestras['Muestra _'+str(i)]=_\n",
      "C:\\Users\\zazaz\\AppData\\Local\\Temp\\ipykernel_22132\\527239248.py:4: PerformanceWarning: DataFrame is highly fragmented.  This is usually the result of calling `frame.insert` many times, which has poor performance.  Consider joining all columns at once using pd.concat(axis=1) instead. To get a de-fragmented frame, use `newframe = frame.copy()`\n",
      "  muestras['Muestra _'+str(i)]=_\n",
      "C:\\Users\\zazaz\\AppData\\Local\\Temp\\ipykernel_22132\\527239248.py:4: PerformanceWarning: DataFrame is highly fragmented.  This is usually the result of calling `frame.insert` many times, which has poor performance.  Consider joining all columns at once using pd.concat(axis=1) instead. To get a de-fragmented frame, use `newframe = frame.copy()`\n",
      "  muestras['Muestra _'+str(i)]=_\n",
      "C:\\Users\\zazaz\\AppData\\Local\\Temp\\ipykernel_22132\\527239248.py:4: PerformanceWarning: DataFrame is highly fragmented.  This is usually the result of calling `frame.insert` many times, which has poor performance.  Consider joining all columns at once using pd.concat(axis=1) instead. To get a de-fragmented frame, use `newframe = frame.copy()`\n",
      "  muestras['Muestra _'+str(i)]=_\n",
      "C:\\Users\\zazaz\\AppData\\Local\\Temp\\ipykernel_22132\\527239248.py:4: PerformanceWarning: DataFrame is highly fragmented.  This is usually the result of calling `frame.insert` many times, which has poor performance.  Consider joining all columns at once using pd.concat(axis=1) instead. To get a de-fragmented frame, use `newframe = frame.copy()`\n",
      "  muestras['Muestra _'+str(i)]=_\n",
      "C:\\Users\\zazaz\\AppData\\Local\\Temp\\ipykernel_22132\\527239248.py:4: PerformanceWarning: DataFrame is highly fragmented.  This is usually the result of calling `frame.insert` many times, which has poor performance.  Consider joining all columns at once using pd.concat(axis=1) instead. To get a de-fragmented frame, use `newframe = frame.copy()`\n",
      "  muestras['Muestra _'+str(i)]=_\n",
      "C:\\Users\\zazaz\\AppData\\Local\\Temp\\ipykernel_22132\\527239248.py:4: PerformanceWarning: DataFrame is highly fragmented.  This is usually the result of calling `frame.insert` many times, which has poor performance.  Consider joining all columns at once using pd.concat(axis=1) instead. To get a de-fragmented frame, use `newframe = frame.copy()`\n",
      "  muestras['Muestra _'+str(i)]=_\n",
      "C:\\Users\\zazaz\\AppData\\Local\\Temp\\ipykernel_22132\\527239248.py:4: PerformanceWarning: DataFrame is highly fragmented.  This is usually the result of calling `frame.insert` many times, which has poor performance.  Consider joining all columns at once using pd.concat(axis=1) instead. To get a de-fragmented frame, use `newframe = frame.copy()`\n",
      "  muestras['Muestra _'+str(i)]=_\n",
      "C:\\Users\\zazaz\\AppData\\Local\\Temp\\ipykernel_22132\\527239248.py:4: PerformanceWarning: DataFrame is highly fragmented.  This is usually the result of calling `frame.insert` many times, which has poor performance.  Consider joining all columns at once using pd.concat(axis=1) instead. To get a de-fragmented frame, use `newframe = frame.copy()`\n",
      "  muestras['Muestra _'+str(i)]=_\n",
      "C:\\Users\\zazaz\\AppData\\Local\\Temp\\ipykernel_22132\\527239248.py:4: PerformanceWarning: DataFrame is highly fragmented.  This is usually the result of calling `frame.insert` many times, which has poor performance.  Consider joining all columns at once using pd.concat(axis=1) instead. To get a de-fragmented frame, use `newframe = frame.copy()`\n",
      "  muestras['Muestra _'+str(i)]=_\n",
      "C:\\Users\\zazaz\\AppData\\Local\\Temp\\ipykernel_22132\\527239248.py:4: PerformanceWarning: DataFrame is highly fragmented.  This is usually the result of calling `frame.insert` many times, which has poor performance.  Consider joining all columns at once using pd.concat(axis=1) instead. To get a de-fragmented frame, use `newframe = frame.copy()`\n",
      "  muestras['Muestra _'+str(i)]=_\n",
      "C:\\Users\\zazaz\\AppData\\Local\\Temp\\ipykernel_22132\\527239248.py:4: PerformanceWarning: DataFrame is highly fragmented.  This is usually the result of calling `frame.insert` many times, which has poor performance.  Consider joining all columns at once using pd.concat(axis=1) instead. To get a de-fragmented frame, use `newframe = frame.copy()`\n",
      "  muestras['Muestra _'+str(i)]=_\n",
      "C:\\Users\\zazaz\\AppData\\Local\\Temp\\ipykernel_22132\\527239248.py:4: PerformanceWarning: DataFrame is highly fragmented.  This is usually the result of calling `frame.insert` many times, which has poor performance.  Consider joining all columns at once using pd.concat(axis=1) instead. To get a de-fragmented frame, use `newframe = frame.copy()`\n",
      "  muestras['Muestra _'+str(i)]=_\n",
      "C:\\Users\\zazaz\\AppData\\Local\\Temp\\ipykernel_22132\\527239248.py:4: PerformanceWarning: DataFrame is highly fragmented.  This is usually the result of calling `frame.insert` many times, which has poor performance.  Consider joining all columns at once using pd.concat(axis=1) instead. To get a de-fragmented frame, use `newframe = frame.copy()`\n",
      "  muestras['Muestra _'+str(i)]=_\n",
      "C:\\Users\\zazaz\\AppData\\Local\\Temp\\ipykernel_22132\\527239248.py:4: PerformanceWarning: DataFrame is highly fragmented.  This is usually the result of calling `frame.insert` many times, which has poor performance.  Consider joining all columns at once using pd.concat(axis=1) instead. To get a de-fragmented frame, use `newframe = frame.copy()`\n",
      "  muestras['Muestra _'+str(i)]=_\n",
      "C:\\Users\\zazaz\\AppData\\Local\\Temp\\ipykernel_22132\\527239248.py:4: PerformanceWarning: DataFrame is highly fragmented.  This is usually the result of calling `frame.insert` many times, which has poor performance.  Consider joining all columns at once using pd.concat(axis=1) instead. To get a de-fragmented frame, use `newframe = frame.copy()`\n",
      "  muestras['Muestra _'+str(i)]=_\n",
      "C:\\Users\\zazaz\\AppData\\Local\\Temp\\ipykernel_22132\\527239248.py:4: PerformanceWarning: DataFrame is highly fragmented.  This is usually the result of calling `frame.insert` many times, which has poor performance.  Consider joining all columns at once using pd.concat(axis=1) instead. To get a de-fragmented frame, use `newframe = frame.copy()`\n",
      "  muestras['Muestra _'+str(i)]=_\n",
      "C:\\Users\\zazaz\\AppData\\Local\\Temp\\ipykernel_22132\\527239248.py:4: PerformanceWarning: DataFrame is highly fragmented.  This is usually the result of calling `frame.insert` many times, which has poor performance.  Consider joining all columns at once using pd.concat(axis=1) instead. To get a de-fragmented frame, use `newframe = frame.copy()`\n",
      "  muestras['Muestra _'+str(i)]=_\n",
      "C:\\Users\\zazaz\\AppData\\Local\\Temp\\ipykernel_22132\\527239248.py:4: PerformanceWarning: DataFrame is highly fragmented.  This is usually the result of calling `frame.insert` many times, which has poor performance.  Consider joining all columns at once using pd.concat(axis=1) instead. To get a de-fragmented frame, use `newframe = frame.copy()`\n",
      "  muestras['Muestra _'+str(i)]=_\n",
      "C:\\Users\\zazaz\\AppData\\Local\\Temp\\ipykernel_22132\\527239248.py:4: PerformanceWarning: DataFrame is highly fragmented.  This is usually the result of calling `frame.insert` many times, which has poor performance.  Consider joining all columns at once using pd.concat(axis=1) instead. To get a de-fragmented frame, use `newframe = frame.copy()`\n",
      "  muestras['Muestra _'+str(i)]=_\n",
      "C:\\Users\\zazaz\\AppData\\Local\\Temp\\ipykernel_22132\\527239248.py:4: PerformanceWarning: DataFrame is highly fragmented.  This is usually the result of calling `frame.insert` many times, which has poor performance.  Consider joining all columns at once using pd.concat(axis=1) instead. To get a de-fragmented frame, use `newframe = frame.copy()`\n",
      "  muestras['Muestra _'+str(i)]=_\n",
      "C:\\Users\\zazaz\\AppData\\Local\\Temp\\ipykernel_22132\\527239248.py:4: PerformanceWarning: DataFrame is highly fragmented.  This is usually the result of calling `frame.insert` many times, which has poor performance.  Consider joining all columns at once using pd.concat(axis=1) instead. To get a de-fragmented frame, use `newframe = frame.copy()`\n",
      "  muestras['Muestra _'+str(i)]=_\n",
      "C:\\Users\\zazaz\\AppData\\Local\\Temp\\ipykernel_22132\\527239248.py:4: PerformanceWarning: DataFrame is highly fragmented.  This is usually the result of calling `frame.insert` many times, which has poor performance.  Consider joining all columns at once using pd.concat(axis=1) instead. To get a de-fragmented frame, use `newframe = frame.copy()`\n",
      "  muestras['Muestra _'+str(i)]=_\n",
      "C:\\Users\\zazaz\\AppData\\Local\\Temp\\ipykernel_22132\\527239248.py:4: PerformanceWarning: DataFrame is highly fragmented.  This is usually the result of calling `frame.insert` many times, which has poor performance.  Consider joining all columns at once using pd.concat(axis=1) instead. To get a de-fragmented frame, use `newframe = frame.copy()`\n",
      "  muestras['Muestra _'+str(i)]=_\n",
      "C:\\Users\\zazaz\\AppData\\Local\\Temp\\ipykernel_22132\\527239248.py:4: PerformanceWarning: DataFrame is highly fragmented.  This is usually the result of calling `frame.insert` many times, which has poor performance.  Consider joining all columns at once using pd.concat(axis=1) instead. To get a de-fragmented frame, use `newframe = frame.copy()`\n",
      "  muestras['Muestra _'+str(i)]=_\n",
      "C:\\Users\\zazaz\\AppData\\Local\\Temp\\ipykernel_22132\\527239248.py:4: PerformanceWarning: DataFrame is highly fragmented.  This is usually the result of calling `frame.insert` many times, which has poor performance.  Consider joining all columns at once using pd.concat(axis=1) instead. To get a de-fragmented frame, use `newframe = frame.copy()`\n",
      "  muestras['Muestra _'+str(i)]=_\n",
      "C:\\Users\\zazaz\\AppData\\Local\\Temp\\ipykernel_22132\\527239248.py:4: PerformanceWarning: DataFrame is highly fragmented.  This is usually the result of calling `frame.insert` many times, which has poor performance.  Consider joining all columns at once using pd.concat(axis=1) instead. To get a de-fragmented frame, use `newframe = frame.copy()`\n",
      "  muestras['Muestra _'+str(i)]=_\n",
      "C:\\Users\\zazaz\\AppData\\Local\\Temp\\ipykernel_22132\\527239248.py:4: PerformanceWarning: DataFrame is highly fragmented.  This is usually the result of calling `frame.insert` many times, which has poor performance.  Consider joining all columns at once using pd.concat(axis=1) instead. To get a de-fragmented frame, use `newframe = frame.copy()`\n",
      "  muestras['Muestra _'+str(i)]=_\n",
      "C:\\Users\\zazaz\\AppData\\Local\\Temp\\ipykernel_22132\\527239248.py:4: PerformanceWarning: DataFrame is highly fragmented.  This is usually the result of calling `frame.insert` many times, which has poor performance.  Consider joining all columns at once using pd.concat(axis=1) instead. To get a de-fragmented frame, use `newframe = frame.copy()`\n",
      "  muestras['Muestra _'+str(i)]=_\n",
      "C:\\Users\\zazaz\\AppData\\Local\\Temp\\ipykernel_22132\\527239248.py:4: PerformanceWarning: DataFrame is highly fragmented.  This is usually the result of calling `frame.insert` many times, which has poor performance.  Consider joining all columns at once using pd.concat(axis=1) instead. To get a de-fragmented frame, use `newframe = frame.copy()`\n",
      "  muestras['Muestra _'+str(i)]=_\n",
      "C:\\Users\\zazaz\\AppData\\Local\\Temp\\ipykernel_22132\\527239248.py:4: PerformanceWarning: DataFrame is highly fragmented.  This is usually the result of calling `frame.insert` many times, which has poor performance.  Consider joining all columns at once using pd.concat(axis=1) instead. To get a de-fragmented frame, use `newframe = frame.copy()`\n",
      "  muestras['Muestra _'+str(i)]=_\n",
      "C:\\Users\\zazaz\\AppData\\Local\\Temp\\ipykernel_22132\\527239248.py:4: PerformanceWarning: DataFrame is highly fragmented.  This is usually the result of calling `frame.insert` many times, which has poor performance.  Consider joining all columns at once using pd.concat(axis=1) instead. To get a de-fragmented frame, use `newframe = frame.copy()`\n",
      "  muestras['Muestra _'+str(i)]=_\n",
      "C:\\Users\\zazaz\\AppData\\Local\\Temp\\ipykernel_22132\\527239248.py:4: PerformanceWarning: DataFrame is highly fragmented.  This is usually the result of calling `frame.insert` many times, which has poor performance.  Consider joining all columns at once using pd.concat(axis=1) instead. To get a de-fragmented frame, use `newframe = frame.copy()`\n",
      "  muestras['Muestra _'+str(i)]=_\n",
      "C:\\Users\\zazaz\\AppData\\Local\\Temp\\ipykernel_22132\\527239248.py:4: PerformanceWarning: DataFrame is highly fragmented.  This is usually the result of calling `frame.insert` many times, which has poor performance.  Consider joining all columns at once using pd.concat(axis=1) instead. To get a de-fragmented frame, use `newframe = frame.copy()`\n",
      "  muestras['Muestra _'+str(i)]=_\n",
      "C:\\Users\\zazaz\\AppData\\Local\\Temp\\ipykernel_22132\\527239248.py:4: PerformanceWarning: DataFrame is highly fragmented.  This is usually the result of calling `frame.insert` many times, which has poor performance.  Consider joining all columns at once using pd.concat(axis=1) instead. To get a de-fragmented frame, use `newframe = frame.copy()`\n",
      "  muestras['Muestra _'+str(i)]=_\n",
      "C:\\Users\\zazaz\\AppData\\Local\\Temp\\ipykernel_22132\\527239248.py:4: PerformanceWarning: DataFrame is highly fragmented.  This is usually the result of calling `frame.insert` many times, which has poor performance.  Consider joining all columns at once using pd.concat(axis=1) instead. To get a de-fragmented frame, use `newframe = frame.copy()`\n",
      "  muestras['Muestra _'+str(i)]=_\n",
      "C:\\Users\\zazaz\\AppData\\Local\\Temp\\ipykernel_22132\\527239248.py:4: PerformanceWarning: DataFrame is highly fragmented.  This is usually the result of calling `frame.insert` many times, which has poor performance.  Consider joining all columns at once using pd.concat(axis=1) instead. To get a de-fragmented frame, use `newframe = frame.copy()`\n",
      "  muestras['Muestra _'+str(i)]=_\n",
      "C:\\Users\\zazaz\\AppData\\Local\\Temp\\ipykernel_22132\\527239248.py:4: PerformanceWarning: DataFrame is highly fragmented.  This is usually the result of calling `frame.insert` many times, which has poor performance.  Consider joining all columns at once using pd.concat(axis=1) instead. To get a de-fragmented frame, use `newframe = frame.copy()`\n",
      "  muestras['Muestra _'+str(i)]=_\n",
      "C:\\Users\\zazaz\\AppData\\Local\\Temp\\ipykernel_22132\\527239248.py:4: PerformanceWarning: DataFrame is highly fragmented.  This is usually the result of calling `frame.insert` many times, which has poor performance.  Consider joining all columns at once using pd.concat(axis=1) instead. To get a de-fragmented frame, use `newframe = frame.copy()`\n",
      "  muestras['Muestra _'+str(i)]=_\n",
      "C:\\Users\\zazaz\\AppData\\Local\\Temp\\ipykernel_22132\\527239248.py:4: PerformanceWarning: DataFrame is highly fragmented.  This is usually the result of calling `frame.insert` many times, which has poor performance.  Consider joining all columns at once using pd.concat(axis=1) instead. To get a de-fragmented frame, use `newframe = frame.copy()`\n",
      "  muestras['Muestra _'+str(i)]=_\n",
      "C:\\Users\\zazaz\\AppData\\Local\\Temp\\ipykernel_22132\\527239248.py:4: PerformanceWarning: DataFrame is highly fragmented.  This is usually the result of calling `frame.insert` many times, which has poor performance.  Consider joining all columns at once using pd.concat(axis=1) instead. To get a de-fragmented frame, use `newframe = frame.copy()`\n",
      "  muestras['Muestra _'+str(i)]=_\n",
      "C:\\Users\\zazaz\\AppData\\Local\\Temp\\ipykernel_22132\\527239248.py:4: PerformanceWarning: DataFrame is highly fragmented.  This is usually the result of calling `frame.insert` many times, which has poor performance.  Consider joining all columns at once using pd.concat(axis=1) instead. To get a de-fragmented frame, use `newframe = frame.copy()`\n",
      "  muestras['Muestra _'+str(i)]=_\n",
      "C:\\Users\\zazaz\\AppData\\Local\\Temp\\ipykernel_22132\\527239248.py:4: PerformanceWarning: DataFrame is highly fragmented.  This is usually the result of calling `frame.insert` many times, which has poor performance.  Consider joining all columns at once using pd.concat(axis=1) instead. To get a de-fragmented frame, use `newframe = frame.copy()`\n",
      "  muestras['Muestra _'+str(i)]=_\n",
      "C:\\Users\\zazaz\\AppData\\Local\\Temp\\ipykernel_22132\\527239248.py:4: PerformanceWarning: DataFrame is highly fragmented.  This is usually the result of calling `frame.insert` many times, which has poor performance.  Consider joining all columns at once using pd.concat(axis=1) instead. To get a de-fragmented frame, use `newframe = frame.copy()`\n",
      "  muestras['Muestra _'+str(i)]=_\n",
      "C:\\Users\\zazaz\\AppData\\Local\\Temp\\ipykernel_22132\\527239248.py:4: PerformanceWarning: DataFrame is highly fragmented.  This is usually the result of calling `frame.insert` many times, which has poor performance.  Consider joining all columns at once using pd.concat(axis=1) instead. To get a de-fragmented frame, use `newframe = frame.copy()`\n",
      "  muestras['Muestra _'+str(i)]=_\n",
      "C:\\Users\\zazaz\\AppData\\Local\\Temp\\ipykernel_22132\\527239248.py:4: PerformanceWarning: DataFrame is highly fragmented.  This is usually the result of calling `frame.insert` many times, which has poor performance.  Consider joining all columns at once using pd.concat(axis=1) instead. To get a de-fragmented frame, use `newframe = frame.copy()`\n",
      "  muestras['Muestra _'+str(i)]=_\n",
      "C:\\Users\\zazaz\\AppData\\Local\\Temp\\ipykernel_22132\\527239248.py:4: PerformanceWarning: DataFrame is highly fragmented.  This is usually the result of calling `frame.insert` many times, which has poor performance.  Consider joining all columns at once using pd.concat(axis=1) instead. To get a de-fragmented frame, use `newframe = frame.copy()`\n",
      "  muestras['Muestra _'+str(i)]=_\n",
      "C:\\Users\\zazaz\\AppData\\Local\\Temp\\ipykernel_22132\\527239248.py:4: PerformanceWarning: DataFrame is highly fragmented.  This is usually the result of calling `frame.insert` many times, which has poor performance.  Consider joining all columns at once using pd.concat(axis=1) instead. To get a de-fragmented frame, use `newframe = frame.copy()`\n",
      "  muestras['Muestra _'+str(i)]=_\n",
      "C:\\Users\\zazaz\\AppData\\Local\\Temp\\ipykernel_22132\\527239248.py:4: PerformanceWarning: DataFrame is highly fragmented.  This is usually the result of calling `frame.insert` many times, which has poor performance.  Consider joining all columns at once using pd.concat(axis=1) instead. To get a de-fragmented frame, use `newframe = frame.copy()`\n",
      "  muestras['Muestra _'+str(i)]=_\n",
      "C:\\Users\\zazaz\\AppData\\Local\\Temp\\ipykernel_22132\\527239248.py:4: PerformanceWarning: DataFrame is highly fragmented.  This is usually the result of calling `frame.insert` many times, which has poor performance.  Consider joining all columns at once using pd.concat(axis=1) instead. To get a de-fragmented frame, use `newframe = frame.copy()`\n",
      "  muestras['Muestra _'+str(i)]=_\n",
      "C:\\Users\\zazaz\\AppData\\Local\\Temp\\ipykernel_22132\\527239248.py:4: PerformanceWarning: DataFrame is highly fragmented.  This is usually the result of calling `frame.insert` many times, which has poor performance.  Consider joining all columns at once using pd.concat(axis=1) instead. To get a de-fragmented frame, use `newframe = frame.copy()`\n",
      "  muestras['Muestra _'+str(i)]=_\n",
      "C:\\Users\\zazaz\\AppData\\Local\\Temp\\ipykernel_22132\\527239248.py:4: PerformanceWarning: DataFrame is highly fragmented.  This is usually the result of calling `frame.insert` many times, which has poor performance.  Consider joining all columns at once using pd.concat(axis=1) instead. To get a de-fragmented frame, use `newframe = frame.copy()`\n",
      "  muestras['Muestra _'+str(i)]=_\n",
      "C:\\Users\\zazaz\\AppData\\Local\\Temp\\ipykernel_22132\\527239248.py:4: PerformanceWarning: DataFrame is highly fragmented.  This is usually the result of calling `frame.insert` many times, which has poor performance.  Consider joining all columns at once using pd.concat(axis=1) instead. To get a de-fragmented frame, use `newframe = frame.copy()`\n",
      "  muestras['Muestra _'+str(i)]=_\n",
      "C:\\Users\\zazaz\\AppData\\Local\\Temp\\ipykernel_22132\\527239248.py:4: PerformanceWarning: DataFrame is highly fragmented.  This is usually the result of calling `frame.insert` many times, which has poor performance.  Consider joining all columns at once using pd.concat(axis=1) instead. To get a de-fragmented frame, use `newframe = frame.copy()`\n",
      "  muestras['Muestra _'+str(i)]=_\n",
      "C:\\Users\\zazaz\\AppData\\Local\\Temp\\ipykernel_22132\\527239248.py:4: PerformanceWarning: DataFrame is highly fragmented.  This is usually the result of calling `frame.insert` many times, which has poor performance.  Consider joining all columns at once using pd.concat(axis=1) instead. To get a de-fragmented frame, use `newframe = frame.copy()`\n",
      "  muestras['Muestra _'+str(i)]=_\n",
      "C:\\Users\\zazaz\\AppData\\Local\\Temp\\ipykernel_22132\\527239248.py:4: PerformanceWarning: DataFrame is highly fragmented.  This is usually the result of calling `frame.insert` many times, which has poor performance.  Consider joining all columns at once using pd.concat(axis=1) instead. To get a de-fragmented frame, use `newframe = frame.copy()`\n",
      "  muestras['Muestra _'+str(i)]=_\n",
      "C:\\Users\\zazaz\\AppData\\Local\\Temp\\ipykernel_22132\\527239248.py:4: PerformanceWarning: DataFrame is highly fragmented.  This is usually the result of calling `frame.insert` many times, which has poor performance.  Consider joining all columns at once using pd.concat(axis=1) instead. To get a de-fragmented frame, use `newframe = frame.copy()`\n",
      "  muestras['Muestra _'+str(i)]=_\n",
      "C:\\Users\\zazaz\\AppData\\Local\\Temp\\ipykernel_22132\\527239248.py:4: PerformanceWarning: DataFrame is highly fragmented.  This is usually the result of calling `frame.insert` many times, which has poor performance.  Consider joining all columns at once using pd.concat(axis=1) instead. To get a de-fragmented frame, use `newframe = frame.copy()`\n",
      "  muestras['Muestra _'+str(i)]=_\n",
      "C:\\Users\\zazaz\\AppData\\Local\\Temp\\ipykernel_22132\\527239248.py:4: PerformanceWarning: DataFrame is highly fragmented.  This is usually the result of calling `frame.insert` many times, which has poor performance.  Consider joining all columns at once using pd.concat(axis=1) instead. To get a de-fragmented frame, use `newframe = frame.copy()`\n",
      "  muestras['Muestra _'+str(i)]=_\n",
      "C:\\Users\\zazaz\\AppData\\Local\\Temp\\ipykernel_22132\\527239248.py:4: PerformanceWarning: DataFrame is highly fragmented.  This is usually the result of calling `frame.insert` many times, which has poor performance.  Consider joining all columns at once using pd.concat(axis=1) instead. To get a de-fragmented frame, use `newframe = frame.copy()`\n",
      "  muestras['Muestra _'+str(i)]=_\n",
      "C:\\Users\\zazaz\\AppData\\Local\\Temp\\ipykernel_22132\\527239248.py:4: PerformanceWarning: DataFrame is highly fragmented.  This is usually the result of calling `frame.insert` many times, which has poor performance.  Consider joining all columns at once using pd.concat(axis=1) instead. To get a de-fragmented frame, use `newframe = frame.copy()`\n",
      "  muestras['Muestra _'+str(i)]=_\n",
      "C:\\Users\\zazaz\\AppData\\Local\\Temp\\ipykernel_22132\\527239248.py:4: PerformanceWarning: DataFrame is highly fragmented.  This is usually the result of calling `frame.insert` many times, which has poor performance.  Consider joining all columns at once using pd.concat(axis=1) instead. To get a de-fragmented frame, use `newframe = frame.copy()`\n",
      "  muestras['Muestra _'+str(i)]=_\n",
      "C:\\Users\\zazaz\\AppData\\Local\\Temp\\ipykernel_22132\\527239248.py:4: PerformanceWarning: DataFrame is highly fragmented.  This is usually the result of calling `frame.insert` many times, which has poor performance.  Consider joining all columns at once using pd.concat(axis=1) instead. To get a de-fragmented frame, use `newframe = frame.copy()`\n",
      "  muestras['Muestra _'+str(i)]=_\n",
      "C:\\Users\\zazaz\\AppData\\Local\\Temp\\ipykernel_22132\\527239248.py:4: PerformanceWarning: DataFrame is highly fragmented.  This is usually the result of calling `frame.insert` many times, which has poor performance.  Consider joining all columns at once using pd.concat(axis=1) instead. To get a de-fragmented frame, use `newframe = frame.copy()`\n",
      "  muestras['Muestra _'+str(i)]=_\n",
      "C:\\Users\\zazaz\\AppData\\Local\\Temp\\ipykernel_22132\\527239248.py:4: PerformanceWarning: DataFrame is highly fragmented.  This is usually the result of calling `frame.insert` many times, which has poor performance.  Consider joining all columns at once using pd.concat(axis=1) instead. To get a de-fragmented frame, use `newframe = frame.copy()`\n",
      "  muestras['Muestra _'+str(i)]=_\n",
      "C:\\Users\\zazaz\\AppData\\Local\\Temp\\ipykernel_22132\\527239248.py:4: PerformanceWarning: DataFrame is highly fragmented.  This is usually the result of calling `frame.insert` many times, which has poor performance.  Consider joining all columns at once using pd.concat(axis=1) instead. To get a de-fragmented frame, use `newframe = frame.copy()`\n",
      "  muestras['Muestra _'+str(i)]=_\n",
      "C:\\Users\\zazaz\\AppData\\Local\\Temp\\ipykernel_22132\\527239248.py:4: PerformanceWarning: DataFrame is highly fragmented.  This is usually the result of calling `frame.insert` many times, which has poor performance.  Consider joining all columns at once using pd.concat(axis=1) instead. To get a de-fragmented frame, use `newframe = frame.copy()`\n",
      "  muestras['Muestra _'+str(i)]=_\n",
      "C:\\Users\\zazaz\\AppData\\Local\\Temp\\ipykernel_22132\\527239248.py:4: PerformanceWarning: DataFrame is highly fragmented.  This is usually the result of calling `frame.insert` many times, which has poor performance.  Consider joining all columns at once using pd.concat(axis=1) instead. To get a de-fragmented frame, use `newframe = frame.copy()`\n",
      "  muestras['Muestra _'+str(i)]=_\n",
      "C:\\Users\\zazaz\\AppData\\Local\\Temp\\ipykernel_22132\\527239248.py:4: PerformanceWarning: DataFrame is highly fragmented.  This is usually the result of calling `frame.insert` many times, which has poor performance.  Consider joining all columns at once using pd.concat(axis=1) instead. To get a de-fragmented frame, use `newframe = frame.copy()`\n",
      "  muestras['Muestra _'+str(i)]=_\n",
      "C:\\Users\\zazaz\\AppData\\Local\\Temp\\ipykernel_22132\\527239248.py:4: PerformanceWarning: DataFrame is highly fragmented.  This is usually the result of calling `frame.insert` many times, which has poor performance.  Consider joining all columns at once using pd.concat(axis=1) instead. To get a de-fragmented frame, use `newframe = frame.copy()`\n",
      "  muestras['Muestra _'+str(i)]=_\n",
      "C:\\Users\\zazaz\\AppData\\Local\\Temp\\ipykernel_22132\\527239248.py:4: PerformanceWarning: DataFrame is highly fragmented.  This is usually the result of calling `frame.insert` many times, which has poor performance.  Consider joining all columns at once using pd.concat(axis=1) instead. To get a de-fragmented frame, use `newframe = frame.copy()`\n",
      "  muestras['Muestra _'+str(i)]=_\n",
      "C:\\Users\\zazaz\\AppData\\Local\\Temp\\ipykernel_22132\\527239248.py:4: PerformanceWarning: DataFrame is highly fragmented.  This is usually the result of calling `frame.insert` many times, which has poor performance.  Consider joining all columns at once using pd.concat(axis=1) instead. To get a de-fragmented frame, use `newframe = frame.copy()`\n",
      "  muestras['Muestra _'+str(i)]=_\n",
      "C:\\Users\\zazaz\\AppData\\Local\\Temp\\ipykernel_22132\\527239248.py:4: PerformanceWarning: DataFrame is highly fragmented.  This is usually the result of calling `frame.insert` many times, which has poor performance.  Consider joining all columns at once using pd.concat(axis=1) instead. To get a de-fragmented frame, use `newframe = frame.copy()`\n",
      "  muestras['Muestra _'+str(i)]=_\n",
      "C:\\Users\\zazaz\\AppData\\Local\\Temp\\ipykernel_22132\\527239248.py:4: PerformanceWarning: DataFrame is highly fragmented.  This is usually the result of calling `frame.insert` many times, which has poor performance.  Consider joining all columns at once using pd.concat(axis=1) instead. To get a de-fragmented frame, use `newframe = frame.copy()`\n",
      "  muestras['Muestra _'+str(i)]=_\n",
      "C:\\Users\\zazaz\\AppData\\Local\\Temp\\ipykernel_22132\\527239248.py:4: PerformanceWarning: DataFrame is highly fragmented.  This is usually the result of calling `frame.insert` many times, which has poor performance.  Consider joining all columns at once using pd.concat(axis=1) instead. To get a de-fragmented frame, use `newframe = frame.copy()`\n",
      "  muestras['Muestra _'+str(i)]=_\n",
      "C:\\Users\\zazaz\\AppData\\Local\\Temp\\ipykernel_22132\\527239248.py:4: PerformanceWarning: DataFrame is highly fragmented.  This is usually the result of calling `frame.insert` many times, which has poor performance.  Consider joining all columns at once using pd.concat(axis=1) instead. To get a de-fragmented frame, use `newframe = frame.copy()`\n",
      "  muestras['Muestra _'+str(i)]=_\n",
      "C:\\Users\\zazaz\\AppData\\Local\\Temp\\ipykernel_22132\\527239248.py:4: PerformanceWarning: DataFrame is highly fragmented.  This is usually the result of calling `frame.insert` many times, which has poor performance.  Consider joining all columns at once using pd.concat(axis=1) instead. To get a de-fragmented frame, use `newframe = frame.copy()`\n",
      "  muestras['Muestra _'+str(i)]=_\n",
      "C:\\Users\\zazaz\\AppData\\Local\\Temp\\ipykernel_22132\\527239248.py:4: PerformanceWarning: DataFrame is highly fragmented.  This is usually the result of calling `frame.insert` many times, which has poor performance.  Consider joining all columns at once using pd.concat(axis=1) instead. To get a de-fragmented frame, use `newframe = frame.copy()`\n",
      "  muestras['Muestra _'+str(i)]=_\n",
      "C:\\Users\\zazaz\\AppData\\Local\\Temp\\ipykernel_22132\\527239248.py:4: PerformanceWarning: DataFrame is highly fragmented.  This is usually the result of calling `frame.insert` many times, which has poor performance.  Consider joining all columns at once using pd.concat(axis=1) instead. To get a de-fragmented frame, use `newframe = frame.copy()`\n",
      "  muestras['Muestra _'+str(i)]=_\n",
      "C:\\Users\\zazaz\\AppData\\Local\\Temp\\ipykernel_22132\\527239248.py:4: PerformanceWarning: DataFrame is highly fragmented.  This is usually the result of calling `frame.insert` many times, which has poor performance.  Consider joining all columns at once using pd.concat(axis=1) instead. To get a de-fragmented frame, use `newframe = frame.copy()`\n",
      "  muestras['Muestra _'+str(i)]=_\n",
      "C:\\Users\\zazaz\\AppData\\Local\\Temp\\ipykernel_22132\\527239248.py:4: PerformanceWarning: DataFrame is highly fragmented.  This is usually the result of calling `frame.insert` many times, which has poor performance.  Consider joining all columns at once using pd.concat(axis=1) instead. To get a de-fragmented frame, use `newframe = frame.copy()`\n",
      "  muestras['Muestra _'+str(i)]=_\n",
      "C:\\Users\\zazaz\\AppData\\Local\\Temp\\ipykernel_22132\\527239248.py:4: PerformanceWarning: DataFrame is highly fragmented.  This is usually the result of calling `frame.insert` many times, which has poor performance.  Consider joining all columns at once using pd.concat(axis=1) instead. To get a de-fragmented frame, use `newframe = frame.copy()`\n",
      "  muestras['Muestra _'+str(i)]=_\n",
      "C:\\Users\\zazaz\\AppData\\Local\\Temp\\ipykernel_22132\\527239248.py:4: PerformanceWarning: DataFrame is highly fragmented.  This is usually the result of calling `frame.insert` many times, which has poor performance.  Consider joining all columns at once using pd.concat(axis=1) instead. To get a de-fragmented frame, use `newframe = frame.copy()`\n",
      "  muestras['Muestra _'+str(i)]=_\n",
      "C:\\Users\\zazaz\\AppData\\Local\\Temp\\ipykernel_22132\\527239248.py:4: PerformanceWarning: DataFrame is highly fragmented.  This is usually the result of calling `frame.insert` many times, which has poor performance.  Consider joining all columns at once using pd.concat(axis=1) instead. To get a de-fragmented frame, use `newframe = frame.copy()`\n",
      "  muestras['Muestra _'+str(i)]=_\n",
      "C:\\Users\\zazaz\\AppData\\Local\\Temp\\ipykernel_22132\\527239248.py:4: PerformanceWarning: DataFrame is highly fragmented.  This is usually the result of calling `frame.insert` many times, which has poor performance.  Consider joining all columns at once using pd.concat(axis=1) instead. To get a de-fragmented frame, use `newframe = frame.copy()`\n",
      "  muestras['Muestra _'+str(i)]=_\n",
      "C:\\Users\\zazaz\\AppData\\Local\\Temp\\ipykernel_22132\\527239248.py:4: PerformanceWarning: DataFrame is highly fragmented.  This is usually the result of calling `frame.insert` many times, which has poor performance.  Consider joining all columns at once using pd.concat(axis=1) instead. To get a de-fragmented frame, use `newframe = frame.copy()`\n",
      "  muestras['Muestra _'+str(i)]=_\n",
      "C:\\Users\\zazaz\\AppData\\Local\\Temp\\ipykernel_22132\\527239248.py:4: PerformanceWarning: DataFrame is highly fragmented.  This is usually the result of calling `frame.insert` many times, which has poor performance.  Consider joining all columns at once using pd.concat(axis=1) instead. To get a de-fragmented frame, use `newframe = frame.copy()`\n",
      "  muestras['Muestra _'+str(i)]=_\n",
      "C:\\Users\\zazaz\\AppData\\Local\\Temp\\ipykernel_22132\\527239248.py:4: PerformanceWarning: DataFrame is highly fragmented.  This is usually the result of calling `frame.insert` many times, which has poor performance.  Consider joining all columns at once using pd.concat(axis=1) instead. To get a de-fragmented frame, use `newframe = frame.copy()`\n",
      "  muestras['Muestra _'+str(i)]=_\n",
      "C:\\Users\\zazaz\\AppData\\Local\\Temp\\ipykernel_22132\\527239248.py:4: PerformanceWarning: DataFrame is highly fragmented.  This is usually the result of calling `frame.insert` many times, which has poor performance.  Consider joining all columns at once using pd.concat(axis=1) instead. To get a de-fragmented frame, use `newframe = frame.copy()`\n",
      "  muestras['Muestra _'+str(i)]=_\n",
      "C:\\Users\\zazaz\\AppData\\Local\\Temp\\ipykernel_22132\\527239248.py:4: PerformanceWarning: DataFrame is highly fragmented.  This is usually the result of calling `frame.insert` many times, which has poor performance.  Consider joining all columns at once using pd.concat(axis=1) instead. To get a de-fragmented frame, use `newframe = frame.copy()`\n",
      "  muestras['Muestra _'+str(i)]=_\n",
      "C:\\Users\\zazaz\\AppData\\Local\\Temp\\ipykernel_22132\\527239248.py:4: PerformanceWarning: DataFrame is highly fragmented.  This is usually the result of calling `frame.insert` many times, which has poor performance.  Consider joining all columns at once using pd.concat(axis=1) instead. To get a de-fragmented frame, use `newframe = frame.copy()`\n",
      "  muestras['Muestra _'+str(i)]=_\n",
      "C:\\Users\\zazaz\\AppData\\Local\\Temp\\ipykernel_22132\\527239248.py:4: PerformanceWarning: DataFrame is highly fragmented.  This is usually the result of calling `frame.insert` many times, which has poor performance.  Consider joining all columns at once using pd.concat(axis=1) instead. To get a de-fragmented frame, use `newframe = frame.copy()`\n",
      "  muestras['Muestra _'+str(i)]=_\n",
      "C:\\Users\\zazaz\\AppData\\Local\\Temp\\ipykernel_22132\\527239248.py:4: PerformanceWarning: DataFrame is highly fragmented.  This is usually the result of calling `frame.insert` many times, which has poor performance.  Consider joining all columns at once using pd.concat(axis=1) instead. To get a de-fragmented frame, use `newframe = frame.copy()`\n",
      "  muestras['Muestra _'+str(i)]=_\n",
      "C:\\Users\\zazaz\\AppData\\Local\\Temp\\ipykernel_22132\\527239248.py:4: PerformanceWarning: DataFrame is highly fragmented.  This is usually the result of calling `frame.insert` many times, which has poor performance.  Consider joining all columns at once using pd.concat(axis=1) instead. To get a de-fragmented frame, use `newframe = frame.copy()`\n",
      "  muestras['Muestra _'+str(i)]=_\n",
      "C:\\Users\\zazaz\\AppData\\Local\\Temp\\ipykernel_22132\\527239248.py:4: PerformanceWarning: DataFrame is highly fragmented.  This is usually the result of calling `frame.insert` many times, which has poor performance.  Consider joining all columns at once using pd.concat(axis=1) instead. To get a de-fragmented frame, use `newframe = frame.copy()`\n",
      "  muestras['Muestra _'+str(i)]=_\n",
      "C:\\Users\\zazaz\\AppData\\Local\\Temp\\ipykernel_22132\\527239248.py:4: PerformanceWarning: DataFrame is highly fragmented.  This is usually the result of calling `frame.insert` many times, which has poor performance.  Consider joining all columns at once using pd.concat(axis=1) instead. To get a de-fragmented frame, use `newframe = frame.copy()`\n",
      "  muestras['Muestra _'+str(i)]=_\n",
      "C:\\Users\\zazaz\\AppData\\Local\\Temp\\ipykernel_22132\\527239248.py:4: PerformanceWarning: DataFrame is highly fragmented.  This is usually the result of calling `frame.insert` many times, which has poor performance.  Consider joining all columns at once using pd.concat(axis=1) instead. To get a de-fragmented frame, use `newframe = frame.copy()`\n",
      "  muestras['Muestra _'+str(i)]=_\n",
      "C:\\Users\\zazaz\\AppData\\Local\\Temp\\ipykernel_22132\\527239248.py:4: PerformanceWarning: DataFrame is highly fragmented.  This is usually the result of calling `frame.insert` many times, which has poor performance.  Consider joining all columns at once using pd.concat(axis=1) instead. To get a de-fragmented frame, use `newframe = frame.copy()`\n",
      "  muestras['Muestra _'+str(i)]=_\n",
      "C:\\Users\\zazaz\\AppData\\Local\\Temp\\ipykernel_22132\\527239248.py:4: PerformanceWarning: DataFrame is highly fragmented.  This is usually the result of calling `frame.insert` many times, which has poor performance.  Consider joining all columns at once using pd.concat(axis=1) instead. To get a de-fragmented frame, use `newframe = frame.copy()`\n",
      "  muestras['Muestra _'+str(i)]=_\n",
      "C:\\Users\\zazaz\\AppData\\Local\\Temp\\ipykernel_22132\\527239248.py:4: PerformanceWarning: DataFrame is highly fragmented.  This is usually the result of calling `frame.insert` many times, which has poor performance.  Consider joining all columns at once using pd.concat(axis=1) instead. To get a de-fragmented frame, use `newframe = frame.copy()`\n",
      "  muestras['Muestra _'+str(i)]=_\n",
      "C:\\Users\\zazaz\\AppData\\Local\\Temp\\ipykernel_22132\\527239248.py:4: PerformanceWarning: DataFrame is highly fragmented.  This is usually the result of calling `frame.insert` many times, which has poor performance.  Consider joining all columns at once using pd.concat(axis=1) instead. To get a de-fragmented frame, use `newframe = frame.copy()`\n",
      "  muestras['Muestra _'+str(i)]=_\n",
      "C:\\Users\\zazaz\\AppData\\Local\\Temp\\ipykernel_22132\\527239248.py:4: PerformanceWarning: DataFrame is highly fragmented.  This is usually the result of calling `frame.insert` many times, which has poor performance.  Consider joining all columns at once using pd.concat(axis=1) instead. To get a de-fragmented frame, use `newframe = frame.copy()`\n",
      "  muestras['Muestra _'+str(i)]=_\n",
      "C:\\Users\\zazaz\\AppData\\Local\\Temp\\ipykernel_22132\\527239248.py:4: PerformanceWarning: DataFrame is highly fragmented.  This is usually the result of calling `frame.insert` many times, which has poor performance.  Consider joining all columns at once using pd.concat(axis=1) instead. To get a de-fragmented frame, use `newframe = frame.copy()`\n",
      "  muestras['Muestra _'+str(i)]=_\n",
      "C:\\Users\\zazaz\\AppData\\Local\\Temp\\ipykernel_22132\\527239248.py:4: PerformanceWarning: DataFrame is highly fragmented.  This is usually the result of calling `frame.insert` many times, which has poor performance.  Consider joining all columns at once using pd.concat(axis=1) instead. To get a de-fragmented frame, use `newframe = frame.copy()`\n",
      "  muestras['Muestra _'+str(i)]=_\n",
      "C:\\Users\\zazaz\\AppData\\Local\\Temp\\ipykernel_22132\\527239248.py:4: PerformanceWarning: DataFrame is highly fragmented.  This is usually the result of calling `frame.insert` many times, which has poor performance.  Consider joining all columns at once using pd.concat(axis=1) instead. To get a de-fragmented frame, use `newframe = frame.copy()`\n",
      "  muestras['Muestra _'+str(i)]=_\n",
      "C:\\Users\\zazaz\\AppData\\Local\\Temp\\ipykernel_22132\\527239248.py:4: PerformanceWarning: DataFrame is highly fragmented.  This is usually the result of calling `frame.insert` many times, which has poor performance.  Consider joining all columns at once using pd.concat(axis=1) instead. To get a de-fragmented frame, use `newframe = frame.copy()`\n",
      "  muestras['Muestra _'+str(i)]=_\n",
      "C:\\Users\\zazaz\\AppData\\Local\\Temp\\ipykernel_22132\\527239248.py:4: PerformanceWarning: DataFrame is highly fragmented.  This is usually the result of calling `frame.insert` many times, which has poor performance.  Consider joining all columns at once using pd.concat(axis=1) instead. To get a de-fragmented frame, use `newframe = frame.copy()`\n",
      "  muestras['Muestra _'+str(i)]=_\n",
      "C:\\Users\\zazaz\\AppData\\Local\\Temp\\ipykernel_22132\\527239248.py:4: PerformanceWarning: DataFrame is highly fragmented.  This is usually the result of calling `frame.insert` many times, which has poor performance.  Consider joining all columns at once using pd.concat(axis=1) instead. To get a de-fragmented frame, use `newframe = frame.copy()`\n",
      "  muestras['Muestra _'+str(i)]=_\n",
      "C:\\Users\\zazaz\\AppData\\Local\\Temp\\ipykernel_22132\\527239248.py:4: PerformanceWarning: DataFrame is highly fragmented.  This is usually the result of calling `frame.insert` many times, which has poor performance.  Consider joining all columns at once using pd.concat(axis=1) instead. To get a de-fragmented frame, use `newframe = frame.copy()`\n",
      "  muestras['Muestra _'+str(i)]=_\n",
      "C:\\Users\\zazaz\\AppData\\Local\\Temp\\ipykernel_22132\\527239248.py:4: PerformanceWarning: DataFrame is highly fragmented.  This is usually the result of calling `frame.insert` many times, which has poor performance.  Consider joining all columns at once using pd.concat(axis=1) instead. To get a de-fragmented frame, use `newframe = frame.copy()`\n",
      "  muestras['Muestra _'+str(i)]=_\n",
      "C:\\Users\\zazaz\\AppData\\Local\\Temp\\ipykernel_22132\\527239248.py:4: PerformanceWarning: DataFrame is highly fragmented.  This is usually the result of calling `frame.insert` many times, which has poor performance.  Consider joining all columns at once using pd.concat(axis=1) instead. To get a de-fragmented frame, use `newframe = frame.copy()`\n",
      "  muestras['Muestra _'+str(i)]=_\n",
      "C:\\Users\\zazaz\\AppData\\Local\\Temp\\ipykernel_22132\\527239248.py:4: PerformanceWarning: DataFrame is highly fragmented.  This is usually the result of calling `frame.insert` many times, which has poor performance.  Consider joining all columns at once using pd.concat(axis=1) instead. To get a de-fragmented frame, use `newframe = frame.copy()`\n",
      "  muestras['Muestra _'+str(i)]=_\n",
      "C:\\Users\\zazaz\\AppData\\Local\\Temp\\ipykernel_22132\\527239248.py:4: PerformanceWarning: DataFrame is highly fragmented.  This is usually the result of calling `frame.insert` many times, which has poor performance.  Consider joining all columns at once using pd.concat(axis=1) instead. To get a de-fragmented frame, use `newframe = frame.copy()`\n",
      "  muestras['Muestra _'+str(i)]=_\n",
      "C:\\Users\\zazaz\\AppData\\Local\\Temp\\ipykernel_22132\\527239248.py:4: PerformanceWarning: DataFrame is highly fragmented.  This is usually the result of calling `frame.insert` many times, which has poor performance.  Consider joining all columns at once using pd.concat(axis=1) instead. To get a de-fragmented frame, use `newframe = frame.copy()`\n",
      "  muestras['Muestra _'+str(i)]=_\n",
      "C:\\Users\\zazaz\\AppData\\Local\\Temp\\ipykernel_22132\\527239248.py:4: PerformanceWarning: DataFrame is highly fragmented.  This is usually the result of calling `frame.insert` many times, which has poor performance.  Consider joining all columns at once using pd.concat(axis=1) instead. To get a de-fragmented frame, use `newframe = frame.copy()`\n",
      "  muestras['Muestra _'+str(i)]=_\n",
      "C:\\Users\\zazaz\\AppData\\Local\\Temp\\ipykernel_22132\\527239248.py:4: PerformanceWarning: DataFrame is highly fragmented.  This is usually the result of calling `frame.insert` many times, which has poor performance.  Consider joining all columns at once using pd.concat(axis=1) instead. To get a de-fragmented frame, use `newframe = frame.copy()`\n",
      "  muestras['Muestra _'+str(i)]=_\n",
      "C:\\Users\\zazaz\\AppData\\Local\\Temp\\ipykernel_22132\\527239248.py:4: PerformanceWarning: DataFrame is highly fragmented.  This is usually the result of calling `frame.insert` many times, which has poor performance.  Consider joining all columns at once using pd.concat(axis=1) instead. To get a de-fragmented frame, use `newframe = frame.copy()`\n",
      "  muestras['Muestra _'+str(i)]=_\n",
      "C:\\Users\\zazaz\\AppData\\Local\\Temp\\ipykernel_22132\\527239248.py:4: PerformanceWarning: DataFrame is highly fragmented.  This is usually the result of calling `frame.insert` many times, which has poor performance.  Consider joining all columns at once using pd.concat(axis=1) instead. To get a de-fragmented frame, use `newframe = frame.copy()`\n",
      "  muestras['Muestra _'+str(i)]=_\n",
      "C:\\Users\\zazaz\\AppData\\Local\\Temp\\ipykernel_22132\\527239248.py:4: PerformanceWarning: DataFrame is highly fragmented.  This is usually the result of calling `frame.insert` many times, which has poor performance.  Consider joining all columns at once using pd.concat(axis=1) instead. To get a de-fragmented frame, use `newframe = frame.copy()`\n",
      "  muestras['Muestra _'+str(i)]=_\n",
      "C:\\Users\\zazaz\\AppData\\Local\\Temp\\ipykernel_22132\\527239248.py:4: PerformanceWarning: DataFrame is highly fragmented.  This is usually the result of calling `frame.insert` many times, which has poor performance.  Consider joining all columns at once using pd.concat(axis=1) instead. To get a de-fragmented frame, use `newframe = frame.copy()`\n",
      "  muestras['Muestra _'+str(i)]=_\n",
      "C:\\Users\\zazaz\\AppData\\Local\\Temp\\ipykernel_22132\\527239248.py:4: PerformanceWarning: DataFrame is highly fragmented.  This is usually the result of calling `frame.insert` many times, which has poor performance.  Consider joining all columns at once using pd.concat(axis=1) instead. To get a de-fragmented frame, use `newframe = frame.copy()`\n",
      "  muestras['Muestra _'+str(i)]=_\n",
      "C:\\Users\\zazaz\\AppData\\Local\\Temp\\ipykernel_22132\\527239248.py:4: PerformanceWarning: DataFrame is highly fragmented.  This is usually the result of calling `frame.insert` many times, which has poor performance.  Consider joining all columns at once using pd.concat(axis=1) instead. To get a de-fragmented frame, use `newframe = frame.copy()`\n",
      "  muestras['Muestra _'+str(i)]=_\n",
      "C:\\Users\\zazaz\\AppData\\Local\\Temp\\ipykernel_22132\\527239248.py:4: PerformanceWarning: DataFrame is highly fragmented.  This is usually the result of calling `frame.insert` many times, which has poor performance.  Consider joining all columns at once using pd.concat(axis=1) instead. To get a de-fragmented frame, use `newframe = frame.copy()`\n",
      "  muestras['Muestra _'+str(i)]=_\n",
      "C:\\Users\\zazaz\\AppData\\Local\\Temp\\ipykernel_22132\\527239248.py:4: PerformanceWarning: DataFrame is highly fragmented.  This is usually the result of calling `frame.insert` many times, which has poor performance.  Consider joining all columns at once using pd.concat(axis=1) instead. To get a de-fragmented frame, use `newframe = frame.copy()`\n",
      "  muestras['Muestra _'+str(i)]=_\n",
      "C:\\Users\\zazaz\\AppData\\Local\\Temp\\ipykernel_22132\\527239248.py:4: PerformanceWarning: DataFrame is highly fragmented.  This is usually the result of calling `frame.insert` many times, which has poor performance.  Consider joining all columns at once using pd.concat(axis=1) instead. To get a de-fragmented frame, use `newframe = frame.copy()`\n",
      "  muestras['Muestra _'+str(i)]=_\n",
      "C:\\Users\\zazaz\\AppData\\Local\\Temp\\ipykernel_22132\\527239248.py:4: PerformanceWarning: DataFrame is highly fragmented.  This is usually the result of calling `frame.insert` many times, which has poor performance.  Consider joining all columns at once using pd.concat(axis=1) instead. To get a de-fragmented frame, use `newframe = frame.copy()`\n",
      "  muestras['Muestra _'+str(i)]=_\n",
      "C:\\Users\\zazaz\\AppData\\Local\\Temp\\ipykernel_22132\\527239248.py:4: PerformanceWarning: DataFrame is highly fragmented.  This is usually the result of calling `frame.insert` many times, which has poor performance.  Consider joining all columns at once using pd.concat(axis=1) instead. To get a de-fragmented frame, use `newframe = frame.copy()`\n",
      "  muestras['Muestra _'+str(i)]=_\n",
      "C:\\Users\\zazaz\\AppData\\Local\\Temp\\ipykernel_22132\\527239248.py:4: PerformanceWarning: DataFrame is highly fragmented.  This is usually the result of calling `frame.insert` many times, which has poor performance.  Consider joining all columns at once using pd.concat(axis=1) instead. To get a de-fragmented frame, use `newframe = frame.copy()`\n",
      "  muestras['Muestra _'+str(i)]=_\n",
      "C:\\Users\\zazaz\\AppData\\Local\\Temp\\ipykernel_22132\\527239248.py:4: PerformanceWarning: DataFrame is highly fragmented.  This is usually the result of calling `frame.insert` many times, which has poor performance.  Consider joining all columns at once using pd.concat(axis=1) instead. To get a de-fragmented frame, use `newframe = frame.copy()`\n",
      "  muestras['Muestra _'+str(i)]=_\n",
      "C:\\Users\\zazaz\\AppData\\Local\\Temp\\ipykernel_22132\\527239248.py:4: PerformanceWarning: DataFrame is highly fragmented.  This is usually the result of calling `frame.insert` many times, which has poor performance.  Consider joining all columns at once using pd.concat(axis=1) instead. To get a de-fragmented frame, use `newframe = frame.copy()`\n",
      "  muestras['Muestra _'+str(i)]=_\n",
      "C:\\Users\\zazaz\\AppData\\Local\\Temp\\ipykernel_22132\\527239248.py:4: PerformanceWarning: DataFrame is highly fragmented.  This is usually the result of calling `frame.insert` many times, which has poor performance.  Consider joining all columns at once using pd.concat(axis=1) instead. To get a de-fragmented frame, use `newframe = frame.copy()`\n",
      "  muestras['Muestra _'+str(i)]=_\n",
      "C:\\Users\\zazaz\\AppData\\Local\\Temp\\ipykernel_22132\\527239248.py:4: PerformanceWarning: DataFrame is highly fragmented.  This is usually the result of calling `frame.insert` many times, which has poor performance.  Consider joining all columns at once using pd.concat(axis=1) instead. To get a de-fragmented frame, use `newframe = frame.copy()`\n",
      "  muestras['Muestra _'+str(i)]=_\n",
      "C:\\Users\\zazaz\\AppData\\Local\\Temp\\ipykernel_22132\\527239248.py:4: PerformanceWarning: DataFrame is highly fragmented.  This is usually the result of calling `frame.insert` many times, which has poor performance.  Consider joining all columns at once using pd.concat(axis=1) instead. To get a de-fragmented frame, use `newframe = frame.copy()`\n",
      "  muestras['Muestra _'+str(i)]=_\n",
      "C:\\Users\\zazaz\\AppData\\Local\\Temp\\ipykernel_22132\\527239248.py:4: PerformanceWarning: DataFrame is highly fragmented.  This is usually the result of calling `frame.insert` many times, which has poor performance.  Consider joining all columns at once using pd.concat(axis=1) instead. To get a de-fragmented frame, use `newframe = frame.copy()`\n",
      "  muestras['Muestra _'+str(i)]=_\n",
      "C:\\Users\\zazaz\\AppData\\Local\\Temp\\ipykernel_22132\\527239248.py:4: PerformanceWarning: DataFrame is highly fragmented.  This is usually the result of calling `frame.insert` many times, which has poor performance.  Consider joining all columns at once using pd.concat(axis=1) instead. To get a de-fragmented frame, use `newframe = frame.copy()`\n",
      "  muestras['Muestra _'+str(i)]=_\n",
      "C:\\Users\\zazaz\\AppData\\Local\\Temp\\ipykernel_22132\\527239248.py:4: PerformanceWarning: DataFrame is highly fragmented.  This is usually the result of calling `frame.insert` many times, which has poor performance.  Consider joining all columns at once using pd.concat(axis=1) instead. To get a de-fragmented frame, use `newframe = frame.copy()`\n",
      "  muestras['Muestra _'+str(i)]=_\n",
      "C:\\Users\\zazaz\\AppData\\Local\\Temp\\ipykernel_22132\\527239248.py:4: PerformanceWarning: DataFrame is highly fragmented.  This is usually the result of calling `frame.insert` many times, which has poor performance.  Consider joining all columns at once using pd.concat(axis=1) instead. To get a de-fragmented frame, use `newframe = frame.copy()`\n",
      "  muestras['Muestra _'+str(i)]=_\n",
      "C:\\Users\\zazaz\\AppData\\Local\\Temp\\ipykernel_22132\\527239248.py:4: PerformanceWarning: DataFrame is highly fragmented.  This is usually the result of calling `frame.insert` many times, which has poor performance.  Consider joining all columns at once using pd.concat(axis=1) instead. To get a de-fragmented frame, use `newframe = frame.copy()`\n",
      "  muestras['Muestra _'+str(i)]=_\n",
      "C:\\Users\\zazaz\\AppData\\Local\\Temp\\ipykernel_22132\\527239248.py:4: PerformanceWarning: DataFrame is highly fragmented.  This is usually the result of calling `frame.insert` many times, which has poor performance.  Consider joining all columns at once using pd.concat(axis=1) instead. To get a de-fragmented frame, use `newframe = frame.copy()`\n",
      "  muestras['Muestra _'+str(i)]=_\n",
      "C:\\Users\\zazaz\\AppData\\Local\\Temp\\ipykernel_22132\\527239248.py:4: PerformanceWarning: DataFrame is highly fragmented.  This is usually the result of calling `frame.insert` many times, which has poor performance.  Consider joining all columns at once using pd.concat(axis=1) instead. To get a de-fragmented frame, use `newframe = frame.copy()`\n",
      "  muestras['Muestra _'+str(i)]=_\n",
      "C:\\Users\\zazaz\\AppData\\Local\\Temp\\ipykernel_22132\\527239248.py:4: PerformanceWarning: DataFrame is highly fragmented.  This is usually the result of calling `frame.insert` many times, which has poor performance.  Consider joining all columns at once using pd.concat(axis=1) instead. To get a de-fragmented frame, use `newframe = frame.copy()`\n",
      "  muestras['Muestra _'+str(i)]=_\n",
      "C:\\Users\\zazaz\\AppData\\Local\\Temp\\ipykernel_22132\\527239248.py:4: PerformanceWarning: DataFrame is highly fragmented.  This is usually the result of calling `frame.insert` many times, which has poor performance.  Consider joining all columns at once using pd.concat(axis=1) instead. To get a de-fragmented frame, use `newframe = frame.copy()`\n",
      "  muestras['Muestra _'+str(i)]=_\n",
      "C:\\Users\\zazaz\\AppData\\Local\\Temp\\ipykernel_22132\\527239248.py:4: PerformanceWarning: DataFrame is highly fragmented.  This is usually the result of calling `frame.insert` many times, which has poor performance.  Consider joining all columns at once using pd.concat(axis=1) instead. To get a de-fragmented frame, use `newframe = frame.copy()`\n",
      "  muestras['Muestra _'+str(i)]=_\n",
      "C:\\Users\\zazaz\\AppData\\Local\\Temp\\ipykernel_22132\\527239248.py:4: PerformanceWarning: DataFrame is highly fragmented.  This is usually the result of calling `frame.insert` many times, which has poor performance.  Consider joining all columns at once using pd.concat(axis=1) instead. To get a de-fragmented frame, use `newframe = frame.copy()`\n",
      "  muestras['Muestra _'+str(i)]=_\n",
      "C:\\Users\\zazaz\\AppData\\Local\\Temp\\ipykernel_22132\\527239248.py:4: PerformanceWarning: DataFrame is highly fragmented.  This is usually the result of calling `frame.insert` many times, which has poor performance.  Consider joining all columns at once using pd.concat(axis=1) instead. To get a de-fragmented frame, use `newframe = frame.copy()`\n",
      "  muestras['Muestra _'+str(i)]=_\n",
      "C:\\Users\\zazaz\\AppData\\Local\\Temp\\ipykernel_22132\\527239248.py:4: PerformanceWarning: DataFrame is highly fragmented.  This is usually the result of calling `frame.insert` many times, which has poor performance.  Consider joining all columns at once using pd.concat(axis=1) instead. To get a de-fragmented frame, use `newframe = frame.copy()`\n",
      "  muestras['Muestra _'+str(i)]=_\n",
      "C:\\Users\\zazaz\\AppData\\Local\\Temp\\ipykernel_22132\\527239248.py:4: PerformanceWarning: DataFrame is highly fragmented.  This is usually the result of calling `frame.insert` many times, which has poor performance.  Consider joining all columns at once using pd.concat(axis=1) instead. To get a de-fragmented frame, use `newframe = frame.copy()`\n",
      "  muestras['Muestra _'+str(i)]=_\n",
      "C:\\Users\\zazaz\\AppData\\Local\\Temp\\ipykernel_22132\\527239248.py:4: PerformanceWarning: DataFrame is highly fragmented.  This is usually the result of calling `frame.insert` many times, which has poor performance.  Consider joining all columns at once using pd.concat(axis=1) instead. To get a de-fragmented frame, use `newframe = frame.copy()`\n",
      "  muestras['Muestra _'+str(i)]=_\n",
      "C:\\Users\\zazaz\\AppData\\Local\\Temp\\ipykernel_22132\\527239248.py:4: PerformanceWarning: DataFrame is highly fragmented.  This is usually the result of calling `frame.insert` many times, which has poor performance.  Consider joining all columns at once using pd.concat(axis=1) instead. To get a de-fragmented frame, use `newframe = frame.copy()`\n",
      "  muestras['Muestra _'+str(i)]=_\n",
      "C:\\Users\\zazaz\\AppData\\Local\\Temp\\ipykernel_22132\\527239248.py:4: PerformanceWarning: DataFrame is highly fragmented.  This is usually the result of calling `frame.insert` many times, which has poor performance.  Consider joining all columns at once using pd.concat(axis=1) instead. To get a de-fragmented frame, use `newframe = frame.copy()`\n",
      "  muestras['Muestra _'+str(i)]=_\n",
      "C:\\Users\\zazaz\\AppData\\Local\\Temp\\ipykernel_22132\\527239248.py:4: PerformanceWarning: DataFrame is highly fragmented.  This is usually the result of calling `frame.insert` many times, which has poor performance.  Consider joining all columns at once using pd.concat(axis=1) instead. To get a de-fragmented frame, use `newframe = frame.copy()`\n",
      "  muestras['Muestra _'+str(i)]=_\n",
      "C:\\Users\\zazaz\\AppData\\Local\\Temp\\ipykernel_22132\\527239248.py:4: PerformanceWarning: DataFrame is highly fragmented.  This is usually the result of calling `frame.insert` many times, which has poor performance.  Consider joining all columns at once using pd.concat(axis=1) instead. To get a de-fragmented frame, use `newframe = frame.copy()`\n",
      "  muestras['Muestra _'+str(i)]=_\n",
      "C:\\Users\\zazaz\\AppData\\Local\\Temp\\ipykernel_22132\\527239248.py:4: PerformanceWarning: DataFrame is highly fragmented.  This is usually the result of calling `frame.insert` many times, which has poor performance.  Consider joining all columns at once using pd.concat(axis=1) instead. To get a de-fragmented frame, use `newframe = frame.copy()`\n",
      "  muestras['Muestra _'+str(i)]=_\n",
      "C:\\Users\\zazaz\\AppData\\Local\\Temp\\ipykernel_22132\\527239248.py:4: PerformanceWarning: DataFrame is highly fragmented.  This is usually the result of calling `frame.insert` many times, which has poor performance.  Consider joining all columns at once using pd.concat(axis=1) instead. To get a de-fragmented frame, use `newframe = frame.copy()`\n",
      "  muestras['Muestra _'+str(i)]=_\n",
      "C:\\Users\\zazaz\\AppData\\Local\\Temp\\ipykernel_22132\\527239248.py:4: PerformanceWarning: DataFrame is highly fragmented.  This is usually the result of calling `frame.insert` many times, which has poor performance.  Consider joining all columns at once using pd.concat(axis=1) instead. To get a de-fragmented frame, use `newframe = frame.copy()`\n",
      "  muestras['Muestra _'+str(i)]=_\n",
      "C:\\Users\\zazaz\\AppData\\Local\\Temp\\ipykernel_22132\\527239248.py:4: PerformanceWarning: DataFrame is highly fragmented.  This is usually the result of calling `frame.insert` many times, which has poor performance.  Consider joining all columns at once using pd.concat(axis=1) instead. To get a de-fragmented frame, use `newframe = frame.copy()`\n",
      "  muestras['Muestra _'+str(i)]=_\n",
      "C:\\Users\\zazaz\\AppData\\Local\\Temp\\ipykernel_22132\\527239248.py:4: PerformanceWarning: DataFrame is highly fragmented.  This is usually the result of calling `frame.insert` many times, which has poor performance.  Consider joining all columns at once using pd.concat(axis=1) instead. To get a de-fragmented frame, use `newframe = frame.copy()`\n",
      "  muestras['Muestra _'+str(i)]=_\n",
      "C:\\Users\\zazaz\\AppData\\Local\\Temp\\ipykernel_22132\\527239248.py:4: PerformanceWarning: DataFrame is highly fragmented.  This is usually the result of calling `frame.insert` many times, which has poor performance.  Consider joining all columns at once using pd.concat(axis=1) instead. To get a de-fragmented frame, use `newframe = frame.copy()`\n",
      "  muestras['Muestra _'+str(i)]=_\n",
      "C:\\Users\\zazaz\\AppData\\Local\\Temp\\ipykernel_22132\\527239248.py:4: PerformanceWarning: DataFrame is highly fragmented.  This is usually the result of calling `frame.insert` many times, which has poor performance.  Consider joining all columns at once using pd.concat(axis=1) instead. To get a de-fragmented frame, use `newframe = frame.copy()`\n",
      "  muestras['Muestra _'+str(i)]=_\n",
      "C:\\Users\\zazaz\\AppData\\Local\\Temp\\ipykernel_22132\\527239248.py:4: PerformanceWarning: DataFrame is highly fragmented.  This is usually the result of calling `frame.insert` many times, which has poor performance.  Consider joining all columns at once using pd.concat(axis=1) instead. To get a de-fragmented frame, use `newframe = frame.copy()`\n",
      "  muestras['Muestra _'+str(i)]=_\n",
      "C:\\Users\\zazaz\\AppData\\Local\\Temp\\ipykernel_22132\\527239248.py:4: PerformanceWarning: DataFrame is highly fragmented.  This is usually the result of calling `frame.insert` many times, which has poor performance.  Consider joining all columns at once using pd.concat(axis=1) instead. To get a de-fragmented frame, use `newframe = frame.copy()`\n",
      "  muestras['Muestra _'+str(i)]=_\n",
      "C:\\Users\\zazaz\\AppData\\Local\\Temp\\ipykernel_22132\\527239248.py:4: PerformanceWarning: DataFrame is highly fragmented.  This is usually the result of calling `frame.insert` many times, which has poor performance.  Consider joining all columns at once using pd.concat(axis=1) instead. To get a de-fragmented frame, use `newframe = frame.copy()`\n",
      "  muestras['Muestra _'+str(i)]=_\n",
      "C:\\Users\\zazaz\\AppData\\Local\\Temp\\ipykernel_22132\\527239248.py:4: PerformanceWarning: DataFrame is highly fragmented.  This is usually the result of calling `frame.insert` many times, which has poor performance.  Consider joining all columns at once using pd.concat(axis=1) instead. To get a de-fragmented frame, use `newframe = frame.copy()`\n",
      "  muestras['Muestra _'+str(i)]=_\n",
      "C:\\Users\\zazaz\\AppData\\Local\\Temp\\ipykernel_22132\\527239248.py:4: PerformanceWarning: DataFrame is highly fragmented.  This is usually the result of calling `frame.insert` many times, which has poor performance.  Consider joining all columns at once using pd.concat(axis=1) instead. To get a de-fragmented frame, use `newframe = frame.copy()`\n",
      "  muestras['Muestra _'+str(i)]=_\n",
      "C:\\Users\\zazaz\\AppData\\Local\\Temp\\ipykernel_22132\\527239248.py:4: PerformanceWarning: DataFrame is highly fragmented.  This is usually the result of calling `frame.insert` many times, which has poor performance.  Consider joining all columns at once using pd.concat(axis=1) instead. To get a de-fragmented frame, use `newframe = frame.copy()`\n",
      "  muestras['Muestra _'+str(i)]=_\n",
      "C:\\Users\\zazaz\\AppData\\Local\\Temp\\ipykernel_22132\\527239248.py:4: PerformanceWarning: DataFrame is highly fragmented.  This is usually the result of calling `frame.insert` many times, which has poor performance.  Consider joining all columns at once using pd.concat(axis=1) instead. To get a de-fragmented frame, use `newframe = frame.copy()`\n",
      "  muestras['Muestra _'+str(i)]=_\n",
      "C:\\Users\\zazaz\\AppData\\Local\\Temp\\ipykernel_22132\\527239248.py:4: PerformanceWarning: DataFrame is highly fragmented.  This is usually the result of calling `frame.insert` many times, which has poor performance.  Consider joining all columns at once using pd.concat(axis=1) instead. To get a de-fragmented frame, use `newframe = frame.copy()`\n",
      "  muestras['Muestra _'+str(i)]=_\n",
      "C:\\Users\\zazaz\\AppData\\Local\\Temp\\ipykernel_22132\\527239248.py:4: PerformanceWarning: DataFrame is highly fragmented.  This is usually the result of calling `frame.insert` many times, which has poor performance.  Consider joining all columns at once using pd.concat(axis=1) instead. To get a de-fragmented frame, use `newframe = frame.copy()`\n",
      "  muestras['Muestra _'+str(i)]=_\n",
      "C:\\Users\\zazaz\\AppData\\Local\\Temp\\ipykernel_22132\\527239248.py:4: PerformanceWarning: DataFrame is highly fragmented.  This is usually the result of calling `frame.insert` many times, which has poor performance.  Consider joining all columns at once using pd.concat(axis=1) instead. To get a de-fragmented frame, use `newframe = frame.copy()`\n",
      "  muestras['Muestra _'+str(i)]=_\n",
      "C:\\Users\\zazaz\\AppData\\Local\\Temp\\ipykernel_22132\\527239248.py:4: PerformanceWarning: DataFrame is highly fragmented.  This is usually the result of calling `frame.insert` many times, which has poor performance.  Consider joining all columns at once using pd.concat(axis=1) instead. To get a de-fragmented frame, use `newframe = frame.copy()`\n",
      "  muestras['Muestra _'+str(i)]=_\n",
      "C:\\Users\\zazaz\\AppData\\Local\\Temp\\ipykernel_22132\\527239248.py:4: PerformanceWarning: DataFrame is highly fragmented.  This is usually the result of calling `frame.insert` many times, which has poor performance.  Consider joining all columns at once using pd.concat(axis=1) instead. To get a de-fragmented frame, use `newframe = frame.copy()`\n",
      "  muestras['Muestra _'+str(i)]=_\n",
      "C:\\Users\\zazaz\\AppData\\Local\\Temp\\ipykernel_22132\\527239248.py:4: PerformanceWarning: DataFrame is highly fragmented.  This is usually the result of calling `frame.insert` many times, which has poor performance.  Consider joining all columns at once using pd.concat(axis=1) instead. To get a de-fragmented frame, use `newframe = frame.copy()`\n",
      "  muestras['Muestra _'+str(i)]=_\n",
      "C:\\Users\\zazaz\\AppData\\Local\\Temp\\ipykernel_22132\\527239248.py:4: PerformanceWarning: DataFrame is highly fragmented.  This is usually the result of calling `frame.insert` many times, which has poor performance.  Consider joining all columns at once using pd.concat(axis=1) instead. To get a de-fragmented frame, use `newframe = frame.copy()`\n",
      "  muestras['Muestra _'+str(i)]=_\n",
      "C:\\Users\\zazaz\\AppData\\Local\\Temp\\ipykernel_22132\\527239248.py:4: PerformanceWarning: DataFrame is highly fragmented.  This is usually the result of calling `frame.insert` many times, which has poor performance.  Consider joining all columns at once using pd.concat(axis=1) instead. To get a de-fragmented frame, use `newframe = frame.copy()`\n",
      "  muestras['Muestra _'+str(i)]=_\n",
      "C:\\Users\\zazaz\\AppData\\Local\\Temp\\ipykernel_22132\\527239248.py:4: PerformanceWarning: DataFrame is highly fragmented.  This is usually the result of calling `frame.insert` many times, which has poor performance.  Consider joining all columns at once using pd.concat(axis=1) instead. To get a de-fragmented frame, use `newframe = frame.copy()`\n",
      "  muestras['Muestra _'+str(i)]=_\n",
      "C:\\Users\\zazaz\\AppData\\Local\\Temp\\ipykernel_22132\\527239248.py:4: PerformanceWarning: DataFrame is highly fragmented.  This is usually the result of calling `frame.insert` many times, which has poor performance.  Consider joining all columns at once using pd.concat(axis=1) instead. To get a de-fragmented frame, use `newframe = frame.copy()`\n",
      "  muestras['Muestra _'+str(i)]=_\n",
      "C:\\Users\\zazaz\\AppData\\Local\\Temp\\ipykernel_22132\\527239248.py:4: PerformanceWarning: DataFrame is highly fragmented.  This is usually the result of calling `frame.insert` many times, which has poor performance.  Consider joining all columns at once using pd.concat(axis=1) instead. To get a de-fragmented frame, use `newframe = frame.copy()`\n",
      "  muestras['Muestra _'+str(i)]=_\n",
      "C:\\Users\\zazaz\\AppData\\Local\\Temp\\ipykernel_22132\\527239248.py:4: PerformanceWarning: DataFrame is highly fragmented.  This is usually the result of calling `frame.insert` many times, which has poor performance.  Consider joining all columns at once using pd.concat(axis=1) instead. To get a de-fragmented frame, use `newframe = frame.copy()`\n",
      "  muestras['Muestra _'+str(i)]=_\n",
      "C:\\Users\\zazaz\\AppData\\Local\\Temp\\ipykernel_22132\\527239248.py:4: PerformanceWarning: DataFrame is highly fragmented.  This is usually the result of calling `frame.insert` many times, which has poor performance.  Consider joining all columns at once using pd.concat(axis=1) instead. To get a de-fragmented frame, use `newframe = frame.copy()`\n",
      "  muestras['Muestra _'+str(i)]=_\n",
      "C:\\Users\\zazaz\\AppData\\Local\\Temp\\ipykernel_22132\\527239248.py:4: PerformanceWarning: DataFrame is highly fragmented.  This is usually the result of calling `frame.insert` many times, which has poor performance.  Consider joining all columns at once using pd.concat(axis=1) instead. To get a de-fragmented frame, use `newframe = frame.copy()`\n",
      "  muestras['Muestra _'+str(i)]=_\n",
      "C:\\Users\\zazaz\\AppData\\Local\\Temp\\ipykernel_22132\\527239248.py:4: PerformanceWarning: DataFrame is highly fragmented.  This is usually the result of calling `frame.insert` many times, which has poor performance.  Consider joining all columns at once using pd.concat(axis=1) instead. To get a de-fragmented frame, use `newframe = frame.copy()`\n",
      "  muestras['Muestra _'+str(i)]=_\n",
      "C:\\Users\\zazaz\\AppData\\Local\\Temp\\ipykernel_22132\\527239248.py:4: PerformanceWarning: DataFrame is highly fragmented.  This is usually the result of calling `frame.insert` many times, which has poor performance.  Consider joining all columns at once using pd.concat(axis=1) instead. To get a de-fragmented frame, use `newframe = frame.copy()`\n",
      "  muestras['Muestra _'+str(i)]=_\n",
      "C:\\Users\\zazaz\\AppData\\Local\\Temp\\ipykernel_22132\\527239248.py:4: PerformanceWarning: DataFrame is highly fragmented.  This is usually the result of calling `frame.insert` many times, which has poor performance.  Consider joining all columns at once using pd.concat(axis=1) instead. To get a de-fragmented frame, use `newframe = frame.copy()`\n",
      "  muestras['Muestra _'+str(i)]=_\n",
      "C:\\Users\\zazaz\\AppData\\Local\\Temp\\ipykernel_22132\\527239248.py:4: PerformanceWarning: DataFrame is highly fragmented.  This is usually the result of calling `frame.insert` many times, which has poor performance.  Consider joining all columns at once using pd.concat(axis=1) instead. To get a de-fragmented frame, use `newframe = frame.copy()`\n",
      "  muestras['Muestra _'+str(i)]=_\n",
      "C:\\Users\\zazaz\\AppData\\Local\\Temp\\ipykernel_22132\\527239248.py:4: PerformanceWarning: DataFrame is highly fragmented.  This is usually the result of calling `frame.insert` many times, which has poor performance.  Consider joining all columns at once using pd.concat(axis=1) instead. To get a de-fragmented frame, use `newframe = frame.copy()`\n",
      "  muestras['Muestra _'+str(i)]=_\n",
      "C:\\Users\\zazaz\\AppData\\Local\\Temp\\ipykernel_22132\\527239248.py:4: PerformanceWarning: DataFrame is highly fragmented.  This is usually the result of calling `frame.insert` many times, which has poor performance.  Consider joining all columns at once using pd.concat(axis=1) instead. To get a de-fragmented frame, use `newframe = frame.copy()`\n",
      "  muestras['Muestra _'+str(i)]=_\n",
      "C:\\Users\\zazaz\\AppData\\Local\\Temp\\ipykernel_22132\\527239248.py:4: PerformanceWarning: DataFrame is highly fragmented.  This is usually the result of calling `frame.insert` many times, which has poor performance.  Consider joining all columns at once using pd.concat(axis=1) instead. To get a de-fragmented frame, use `newframe = frame.copy()`\n",
      "  muestras['Muestra _'+str(i)]=_\n",
      "C:\\Users\\zazaz\\AppData\\Local\\Temp\\ipykernel_22132\\527239248.py:4: PerformanceWarning: DataFrame is highly fragmented.  This is usually the result of calling `frame.insert` many times, which has poor performance.  Consider joining all columns at once using pd.concat(axis=1) instead. To get a de-fragmented frame, use `newframe = frame.copy()`\n",
      "  muestras['Muestra _'+str(i)]=_\n",
      "C:\\Users\\zazaz\\AppData\\Local\\Temp\\ipykernel_22132\\527239248.py:4: PerformanceWarning: DataFrame is highly fragmented.  This is usually the result of calling `frame.insert` many times, which has poor performance.  Consider joining all columns at once using pd.concat(axis=1) instead. To get a de-fragmented frame, use `newframe = frame.copy()`\n",
      "  muestras['Muestra _'+str(i)]=_\n",
      "C:\\Users\\zazaz\\AppData\\Local\\Temp\\ipykernel_22132\\527239248.py:4: PerformanceWarning: DataFrame is highly fragmented.  This is usually the result of calling `frame.insert` many times, which has poor performance.  Consider joining all columns at once using pd.concat(axis=1) instead. To get a de-fragmented frame, use `newframe = frame.copy()`\n",
      "  muestras['Muestra _'+str(i)]=_\n",
      "C:\\Users\\zazaz\\AppData\\Local\\Temp\\ipykernel_22132\\527239248.py:4: PerformanceWarning: DataFrame is highly fragmented.  This is usually the result of calling `frame.insert` many times, which has poor performance.  Consider joining all columns at once using pd.concat(axis=1) instead. To get a de-fragmented frame, use `newframe = frame.copy()`\n",
      "  muestras['Muestra _'+str(i)]=_\n",
      "C:\\Users\\zazaz\\AppData\\Local\\Temp\\ipykernel_22132\\527239248.py:4: PerformanceWarning: DataFrame is highly fragmented.  This is usually the result of calling `frame.insert` many times, which has poor performance.  Consider joining all columns at once using pd.concat(axis=1) instead. To get a de-fragmented frame, use `newframe = frame.copy()`\n",
      "  muestras['Muestra _'+str(i)]=_\n",
      "C:\\Users\\zazaz\\AppData\\Local\\Temp\\ipykernel_22132\\527239248.py:4: PerformanceWarning: DataFrame is highly fragmented.  This is usually the result of calling `frame.insert` many times, which has poor performance.  Consider joining all columns at once using pd.concat(axis=1) instead. To get a de-fragmented frame, use `newframe = frame.copy()`\n",
      "  muestras['Muestra _'+str(i)]=_\n",
      "C:\\Users\\zazaz\\AppData\\Local\\Temp\\ipykernel_22132\\527239248.py:4: PerformanceWarning: DataFrame is highly fragmented.  This is usually the result of calling `frame.insert` many times, which has poor performance.  Consider joining all columns at once using pd.concat(axis=1) instead. To get a de-fragmented frame, use `newframe = frame.copy()`\n",
      "  muestras['Muestra _'+str(i)]=_\n",
      "C:\\Users\\zazaz\\AppData\\Local\\Temp\\ipykernel_22132\\527239248.py:4: PerformanceWarning: DataFrame is highly fragmented.  This is usually the result of calling `frame.insert` many times, which has poor performance.  Consider joining all columns at once using pd.concat(axis=1) instead. To get a de-fragmented frame, use `newframe = frame.copy()`\n",
      "  muestras['Muestra _'+str(i)]=_\n",
      "C:\\Users\\zazaz\\AppData\\Local\\Temp\\ipykernel_22132\\527239248.py:4: PerformanceWarning: DataFrame is highly fragmented.  This is usually the result of calling `frame.insert` many times, which has poor performance.  Consider joining all columns at once using pd.concat(axis=1) instead. To get a de-fragmented frame, use `newframe = frame.copy()`\n",
      "  muestras['Muestra _'+str(i)]=_\n",
      "C:\\Users\\zazaz\\AppData\\Local\\Temp\\ipykernel_22132\\527239248.py:4: PerformanceWarning: DataFrame is highly fragmented.  This is usually the result of calling `frame.insert` many times, which has poor performance.  Consider joining all columns at once using pd.concat(axis=1) instead. To get a de-fragmented frame, use `newframe = frame.copy()`\n",
      "  muestras['Muestra _'+str(i)]=_\n",
      "C:\\Users\\zazaz\\AppData\\Local\\Temp\\ipykernel_22132\\527239248.py:4: PerformanceWarning: DataFrame is highly fragmented.  This is usually the result of calling `frame.insert` many times, which has poor performance.  Consider joining all columns at once using pd.concat(axis=1) instead. To get a de-fragmented frame, use `newframe = frame.copy()`\n",
      "  muestras['Muestra _'+str(i)]=_\n",
      "C:\\Users\\zazaz\\AppData\\Local\\Temp\\ipykernel_22132\\527239248.py:4: PerformanceWarning: DataFrame is highly fragmented.  This is usually the result of calling `frame.insert` many times, which has poor performance.  Consider joining all columns at once using pd.concat(axis=1) instead. To get a de-fragmented frame, use `newframe = frame.copy()`\n",
      "  muestras['Muestra _'+str(i)]=_\n",
      "C:\\Users\\zazaz\\AppData\\Local\\Temp\\ipykernel_22132\\527239248.py:4: PerformanceWarning: DataFrame is highly fragmented.  This is usually the result of calling `frame.insert` many times, which has poor performance.  Consider joining all columns at once using pd.concat(axis=1) instead. To get a de-fragmented frame, use `newframe = frame.copy()`\n",
      "  muestras['Muestra _'+str(i)]=_\n",
      "C:\\Users\\zazaz\\AppData\\Local\\Temp\\ipykernel_22132\\527239248.py:4: PerformanceWarning: DataFrame is highly fragmented.  This is usually the result of calling `frame.insert` many times, which has poor performance.  Consider joining all columns at once using pd.concat(axis=1) instead. To get a de-fragmented frame, use `newframe = frame.copy()`\n",
      "  muestras['Muestra _'+str(i)]=_\n",
      "C:\\Users\\zazaz\\AppData\\Local\\Temp\\ipykernel_22132\\527239248.py:4: PerformanceWarning: DataFrame is highly fragmented.  This is usually the result of calling `frame.insert` many times, which has poor performance.  Consider joining all columns at once using pd.concat(axis=1) instead. To get a de-fragmented frame, use `newframe = frame.copy()`\n",
      "  muestras['Muestra _'+str(i)]=_\n",
      "C:\\Users\\zazaz\\AppData\\Local\\Temp\\ipykernel_22132\\527239248.py:4: PerformanceWarning: DataFrame is highly fragmented.  This is usually the result of calling `frame.insert` many times, which has poor performance.  Consider joining all columns at once using pd.concat(axis=1) instead. To get a de-fragmented frame, use `newframe = frame.copy()`\n",
      "  muestras['Muestra _'+str(i)]=_\n",
      "C:\\Users\\zazaz\\AppData\\Local\\Temp\\ipykernel_22132\\527239248.py:4: PerformanceWarning: DataFrame is highly fragmented.  This is usually the result of calling `frame.insert` many times, which has poor performance.  Consider joining all columns at once using pd.concat(axis=1) instead. To get a de-fragmented frame, use `newframe = frame.copy()`\n",
      "  muestras['Muestra _'+str(i)]=_\n",
      "C:\\Users\\zazaz\\AppData\\Local\\Temp\\ipykernel_22132\\527239248.py:4: PerformanceWarning: DataFrame is highly fragmented.  This is usually the result of calling `frame.insert` many times, which has poor performance.  Consider joining all columns at once using pd.concat(axis=1) instead. To get a de-fragmented frame, use `newframe = frame.copy()`\n",
      "  muestras['Muestra _'+str(i)]=_\n",
      "C:\\Users\\zazaz\\AppData\\Local\\Temp\\ipykernel_22132\\527239248.py:4: PerformanceWarning: DataFrame is highly fragmented.  This is usually the result of calling `frame.insert` many times, which has poor performance.  Consider joining all columns at once using pd.concat(axis=1) instead. To get a de-fragmented frame, use `newframe = frame.copy()`\n",
      "  muestras['Muestra _'+str(i)]=_\n",
      "C:\\Users\\zazaz\\AppData\\Local\\Temp\\ipykernel_22132\\527239248.py:4: PerformanceWarning: DataFrame is highly fragmented.  This is usually the result of calling `frame.insert` many times, which has poor performance.  Consider joining all columns at once using pd.concat(axis=1) instead. To get a de-fragmented frame, use `newframe = frame.copy()`\n",
      "  muestras['Muestra _'+str(i)]=_\n",
      "C:\\Users\\zazaz\\AppData\\Local\\Temp\\ipykernel_22132\\527239248.py:4: PerformanceWarning: DataFrame is highly fragmented.  This is usually the result of calling `frame.insert` many times, which has poor performance.  Consider joining all columns at once using pd.concat(axis=1) instead. To get a de-fragmented frame, use `newframe = frame.copy()`\n",
      "  muestras['Muestra _'+str(i)]=_\n",
      "C:\\Users\\zazaz\\AppData\\Local\\Temp\\ipykernel_22132\\527239248.py:4: PerformanceWarning: DataFrame is highly fragmented.  This is usually the result of calling `frame.insert` many times, which has poor performance.  Consider joining all columns at once using pd.concat(axis=1) instead. To get a de-fragmented frame, use `newframe = frame.copy()`\n",
      "  muestras['Muestra _'+str(i)]=_\n",
      "C:\\Users\\zazaz\\AppData\\Local\\Temp\\ipykernel_22132\\527239248.py:4: PerformanceWarning: DataFrame is highly fragmented.  This is usually the result of calling `frame.insert` many times, which has poor performance.  Consider joining all columns at once using pd.concat(axis=1) instead. To get a de-fragmented frame, use `newframe = frame.copy()`\n",
      "  muestras['Muestra _'+str(i)]=_\n",
      "C:\\Users\\zazaz\\AppData\\Local\\Temp\\ipykernel_22132\\527239248.py:4: PerformanceWarning: DataFrame is highly fragmented.  This is usually the result of calling `frame.insert` many times, which has poor performance.  Consider joining all columns at once using pd.concat(axis=1) instead. To get a de-fragmented frame, use `newframe = frame.copy()`\n",
      "  muestras['Muestra _'+str(i)]=_\n",
      "C:\\Users\\zazaz\\AppData\\Local\\Temp\\ipykernel_22132\\527239248.py:4: PerformanceWarning: DataFrame is highly fragmented.  This is usually the result of calling `frame.insert` many times, which has poor performance.  Consider joining all columns at once using pd.concat(axis=1) instead. To get a de-fragmented frame, use `newframe = frame.copy()`\n",
      "  muestras['Muestra _'+str(i)]=_\n",
      "C:\\Users\\zazaz\\AppData\\Local\\Temp\\ipykernel_22132\\527239248.py:4: PerformanceWarning: DataFrame is highly fragmented.  This is usually the result of calling `frame.insert` many times, which has poor performance.  Consider joining all columns at once using pd.concat(axis=1) instead. To get a de-fragmented frame, use `newframe = frame.copy()`\n",
      "  muestras['Muestra _'+str(i)]=_\n",
      "C:\\Users\\zazaz\\AppData\\Local\\Temp\\ipykernel_22132\\527239248.py:4: PerformanceWarning: DataFrame is highly fragmented.  This is usually the result of calling `frame.insert` many times, which has poor performance.  Consider joining all columns at once using pd.concat(axis=1) instead. To get a de-fragmented frame, use `newframe = frame.copy()`\n",
      "  muestras['Muestra _'+str(i)]=_\n",
      "C:\\Users\\zazaz\\AppData\\Local\\Temp\\ipykernel_22132\\527239248.py:4: PerformanceWarning: DataFrame is highly fragmented.  This is usually the result of calling `frame.insert` many times, which has poor performance.  Consider joining all columns at once using pd.concat(axis=1) instead. To get a de-fragmented frame, use `newframe = frame.copy()`\n",
      "  muestras['Muestra _'+str(i)]=_\n",
      "C:\\Users\\zazaz\\AppData\\Local\\Temp\\ipykernel_22132\\527239248.py:4: PerformanceWarning: DataFrame is highly fragmented.  This is usually the result of calling `frame.insert` many times, which has poor performance.  Consider joining all columns at once using pd.concat(axis=1) instead. To get a de-fragmented frame, use `newframe = frame.copy()`\n",
      "  muestras['Muestra _'+str(i)]=_\n",
      "C:\\Users\\zazaz\\AppData\\Local\\Temp\\ipykernel_22132\\527239248.py:4: PerformanceWarning: DataFrame is highly fragmented.  This is usually the result of calling `frame.insert` many times, which has poor performance.  Consider joining all columns at once using pd.concat(axis=1) instead. To get a de-fragmented frame, use `newframe = frame.copy()`\n",
      "  muestras['Muestra _'+str(i)]=_\n",
      "C:\\Users\\zazaz\\AppData\\Local\\Temp\\ipykernel_22132\\527239248.py:4: PerformanceWarning: DataFrame is highly fragmented.  This is usually the result of calling `frame.insert` many times, which has poor performance.  Consider joining all columns at once using pd.concat(axis=1) instead. To get a de-fragmented frame, use `newframe = frame.copy()`\n",
      "  muestras['Muestra _'+str(i)]=_\n",
      "C:\\Users\\zazaz\\AppData\\Local\\Temp\\ipykernel_22132\\527239248.py:4: PerformanceWarning: DataFrame is highly fragmented.  This is usually the result of calling `frame.insert` many times, which has poor performance.  Consider joining all columns at once using pd.concat(axis=1) instead. To get a de-fragmented frame, use `newframe = frame.copy()`\n",
      "  muestras['Muestra _'+str(i)]=_\n",
      "C:\\Users\\zazaz\\AppData\\Local\\Temp\\ipykernel_22132\\527239248.py:4: PerformanceWarning: DataFrame is highly fragmented.  This is usually the result of calling `frame.insert` many times, which has poor performance.  Consider joining all columns at once using pd.concat(axis=1) instead. To get a de-fragmented frame, use `newframe = frame.copy()`\n",
      "  muestras['Muestra _'+str(i)]=_\n",
      "C:\\Users\\zazaz\\AppData\\Local\\Temp\\ipykernel_22132\\527239248.py:4: PerformanceWarning: DataFrame is highly fragmented.  This is usually the result of calling `frame.insert` many times, which has poor performance.  Consider joining all columns at once using pd.concat(axis=1) instead. To get a de-fragmented frame, use `newframe = frame.copy()`\n",
      "  muestras['Muestra _'+str(i)]=_\n",
      "C:\\Users\\zazaz\\AppData\\Local\\Temp\\ipykernel_22132\\527239248.py:4: PerformanceWarning: DataFrame is highly fragmented.  This is usually the result of calling `frame.insert` many times, which has poor performance.  Consider joining all columns at once using pd.concat(axis=1) instead. To get a de-fragmented frame, use `newframe = frame.copy()`\n",
      "  muestras['Muestra _'+str(i)]=_\n",
      "C:\\Users\\zazaz\\AppData\\Local\\Temp\\ipykernel_22132\\527239248.py:4: PerformanceWarning: DataFrame is highly fragmented.  This is usually the result of calling `frame.insert` many times, which has poor performance.  Consider joining all columns at once using pd.concat(axis=1) instead. To get a de-fragmented frame, use `newframe = frame.copy()`\n",
      "  muestras['Muestra _'+str(i)]=_\n",
      "C:\\Users\\zazaz\\AppData\\Local\\Temp\\ipykernel_22132\\527239248.py:4: PerformanceWarning: DataFrame is highly fragmented.  This is usually the result of calling `frame.insert` many times, which has poor performance.  Consider joining all columns at once using pd.concat(axis=1) instead. To get a de-fragmented frame, use `newframe = frame.copy()`\n",
      "  muestras['Muestra _'+str(i)]=_\n",
      "C:\\Users\\zazaz\\AppData\\Local\\Temp\\ipykernel_22132\\527239248.py:4: PerformanceWarning: DataFrame is highly fragmented.  This is usually the result of calling `frame.insert` many times, which has poor performance.  Consider joining all columns at once using pd.concat(axis=1) instead. To get a de-fragmented frame, use `newframe = frame.copy()`\n",
      "  muestras['Muestra _'+str(i)]=_\n",
      "C:\\Users\\zazaz\\AppData\\Local\\Temp\\ipykernel_22132\\527239248.py:4: PerformanceWarning: DataFrame is highly fragmented.  This is usually the result of calling `frame.insert` many times, which has poor performance.  Consider joining all columns at once using pd.concat(axis=1) instead. To get a de-fragmented frame, use `newframe = frame.copy()`\n",
      "  muestras['Muestra _'+str(i)]=_\n",
      "C:\\Users\\zazaz\\AppData\\Local\\Temp\\ipykernel_22132\\527239248.py:4: PerformanceWarning: DataFrame is highly fragmented.  This is usually the result of calling `frame.insert` many times, which has poor performance.  Consider joining all columns at once using pd.concat(axis=1) instead. To get a de-fragmented frame, use `newframe = frame.copy()`\n",
      "  muestras['Muestra _'+str(i)]=_\n",
      "C:\\Users\\zazaz\\AppData\\Local\\Temp\\ipykernel_22132\\527239248.py:4: PerformanceWarning: DataFrame is highly fragmented.  This is usually the result of calling `frame.insert` many times, which has poor performance.  Consider joining all columns at once using pd.concat(axis=1) instead. To get a de-fragmented frame, use `newframe = frame.copy()`\n",
      "  muestras['Muestra _'+str(i)]=_\n",
      "C:\\Users\\zazaz\\AppData\\Local\\Temp\\ipykernel_22132\\527239248.py:4: PerformanceWarning: DataFrame is highly fragmented.  This is usually the result of calling `frame.insert` many times, which has poor performance.  Consider joining all columns at once using pd.concat(axis=1) instead. To get a de-fragmented frame, use `newframe = frame.copy()`\n",
      "  muestras['Muestra _'+str(i)]=_\n",
      "C:\\Users\\zazaz\\AppData\\Local\\Temp\\ipykernel_22132\\527239248.py:4: PerformanceWarning: DataFrame is highly fragmented.  This is usually the result of calling `frame.insert` many times, which has poor performance.  Consider joining all columns at once using pd.concat(axis=1) instead. To get a de-fragmented frame, use `newframe = frame.copy()`\n",
      "  muestras['Muestra _'+str(i)]=_\n",
      "C:\\Users\\zazaz\\AppData\\Local\\Temp\\ipykernel_22132\\527239248.py:4: PerformanceWarning: DataFrame is highly fragmented.  This is usually the result of calling `frame.insert` many times, which has poor performance.  Consider joining all columns at once using pd.concat(axis=1) instead. To get a de-fragmented frame, use `newframe = frame.copy()`\n",
      "  muestras['Muestra _'+str(i)]=_\n",
      "C:\\Users\\zazaz\\AppData\\Local\\Temp\\ipykernel_22132\\527239248.py:4: PerformanceWarning: DataFrame is highly fragmented.  This is usually the result of calling `frame.insert` many times, which has poor performance.  Consider joining all columns at once using pd.concat(axis=1) instead. To get a de-fragmented frame, use `newframe = frame.copy()`\n",
      "  muestras['Muestra _'+str(i)]=_\n",
      "C:\\Users\\zazaz\\AppData\\Local\\Temp\\ipykernel_22132\\527239248.py:4: PerformanceWarning: DataFrame is highly fragmented.  This is usually the result of calling `frame.insert` many times, which has poor performance.  Consider joining all columns at once using pd.concat(axis=1) instead. To get a de-fragmented frame, use `newframe = frame.copy()`\n",
      "  muestras['Muestra _'+str(i)]=_\n",
      "C:\\Users\\zazaz\\AppData\\Local\\Temp\\ipykernel_22132\\527239248.py:4: PerformanceWarning: DataFrame is highly fragmented.  This is usually the result of calling `frame.insert` many times, which has poor performance.  Consider joining all columns at once using pd.concat(axis=1) instead. To get a de-fragmented frame, use `newframe = frame.copy()`\n",
      "  muestras['Muestra _'+str(i)]=_\n",
      "C:\\Users\\zazaz\\AppData\\Local\\Temp\\ipykernel_22132\\527239248.py:4: PerformanceWarning: DataFrame is highly fragmented.  This is usually the result of calling `frame.insert` many times, which has poor performance.  Consider joining all columns at once using pd.concat(axis=1) instead. To get a de-fragmented frame, use `newframe = frame.copy()`\n",
      "  muestras['Muestra _'+str(i)]=_\n",
      "C:\\Users\\zazaz\\AppData\\Local\\Temp\\ipykernel_22132\\527239248.py:4: PerformanceWarning: DataFrame is highly fragmented.  This is usually the result of calling `frame.insert` many times, which has poor performance.  Consider joining all columns at once using pd.concat(axis=1) instead. To get a de-fragmented frame, use `newframe = frame.copy()`\n",
      "  muestras['Muestra _'+str(i)]=_\n",
      "C:\\Users\\zazaz\\AppData\\Local\\Temp\\ipykernel_22132\\527239248.py:4: PerformanceWarning: DataFrame is highly fragmented.  This is usually the result of calling `frame.insert` many times, which has poor performance.  Consider joining all columns at once using pd.concat(axis=1) instead. To get a de-fragmented frame, use `newframe = frame.copy()`\n",
      "  muestras['Muestra _'+str(i)]=_\n",
      "C:\\Users\\zazaz\\AppData\\Local\\Temp\\ipykernel_22132\\527239248.py:4: PerformanceWarning: DataFrame is highly fragmented.  This is usually the result of calling `frame.insert` many times, which has poor performance.  Consider joining all columns at once using pd.concat(axis=1) instead. To get a de-fragmented frame, use `newframe = frame.copy()`\n",
      "  muestras['Muestra _'+str(i)]=_\n",
      "C:\\Users\\zazaz\\AppData\\Local\\Temp\\ipykernel_22132\\527239248.py:4: PerformanceWarning: DataFrame is highly fragmented.  This is usually the result of calling `frame.insert` many times, which has poor performance.  Consider joining all columns at once using pd.concat(axis=1) instead. To get a de-fragmented frame, use `newframe = frame.copy()`\n",
      "  muestras['Muestra _'+str(i)]=_\n",
      "C:\\Users\\zazaz\\AppData\\Local\\Temp\\ipykernel_22132\\527239248.py:4: PerformanceWarning: DataFrame is highly fragmented.  This is usually the result of calling `frame.insert` many times, which has poor performance.  Consider joining all columns at once using pd.concat(axis=1) instead. To get a de-fragmented frame, use `newframe = frame.copy()`\n",
      "  muestras['Muestra _'+str(i)]=_\n",
      "C:\\Users\\zazaz\\AppData\\Local\\Temp\\ipykernel_22132\\527239248.py:4: PerformanceWarning: DataFrame is highly fragmented.  This is usually the result of calling `frame.insert` many times, which has poor performance.  Consider joining all columns at once using pd.concat(axis=1) instead. To get a de-fragmented frame, use `newframe = frame.copy()`\n",
      "  muestras['Muestra _'+str(i)]=_\n",
      "C:\\Users\\zazaz\\AppData\\Local\\Temp\\ipykernel_22132\\527239248.py:4: PerformanceWarning: DataFrame is highly fragmented.  This is usually the result of calling `frame.insert` many times, which has poor performance.  Consider joining all columns at once using pd.concat(axis=1) instead. To get a de-fragmented frame, use `newframe = frame.copy()`\n",
      "  muestras['Muestra _'+str(i)]=_\n",
      "C:\\Users\\zazaz\\AppData\\Local\\Temp\\ipykernel_22132\\527239248.py:4: PerformanceWarning: DataFrame is highly fragmented.  This is usually the result of calling `frame.insert` many times, which has poor performance.  Consider joining all columns at once using pd.concat(axis=1) instead. To get a de-fragmented frame, use `newframe = frame.copy()`\n",
      "  muestras['Muestra _'+str(i)]=_\n",
      "C:\\Users\\zazaz\\AppData\\Local\\Temp\\ipykernel_22132\\527239248.py:4: PerformanceWarning: DataFrame is highly fragmented.  This is usually the result of calling `frame.insert` many times, which has poor performance.  Consider joining all columns at once using pd.concat(axis=1) instead. To get a de-fragmented frame, use `newframe = frame.copy()`\n",
      "  muestras['Muestra _'+str(i)]=_\n",
      "C:\\Users\\zazaz\\AppData\\Local\\Temp\\ipykernel_22132\\527239248.py:4: PerformanceWarning: DataFrame is highly fragmented.  This is usually the result of calling `frame.insert` many times, which has poor performance.  Consider joining all columns at once using pd.concat(axis=1) instead. To get a de-fragmented frame, use `newframe = frame.copy()`\n",
      "  muestras['Muestra _'+str(i)]=_\n",
      "C:\\Users\\zazaz\\AppData\\Local\\Temp\\ipykernel_22132\\527239248.py:4: PerformanceWarning: DataFrame is highly fragmented.  This is usually the result of calling `frame.insert` many times, which has poor performance.  Consider joining all columns at once using pd.concat(axis=1) instead. To get a de-fragmented frame, use `newframe = frame.copy()`\n",
      "  muestras['Muestra _'+str(i)]=_\n",
      "C:\\Users\\zazaz\\AppData\\Local\\Temp\\ipykernel_22132\\527239248.py:4: PerformanceWarning: DataFrame is highly fragmented.  This is usually the result of calling `frame.insert` many times, which has poor performance.  Consider joining all columns at once using pd.concat(axis=1) instead. To get a de-fragmented frame, use `newframe = frame.copy()`\n",
      "  muestras['Muestra _'+str(i)]=_\n",
      "C:\\Users\\zazaz\\AppData\\Local\\Temp\\ipykernel_22132\\527239248.py:4: PerformanceWarning: DataFrame is highly fragmented.  This is usually the result of calling `frame.insert` many times, which has poor performance.  Consider joining all columns at once using pd.concat(axis=1) instead. To get a de-fragmented frame, use `newframe = frame.copy()`\n",
      "  muestras['Muestra _'+str(i)]=_\n",
      "C:\\Users\\zazaz\\AppData\\Local\\Temp\\ipykernel_22132\\527239248.py:4: PerformanceWarning: DataFrame is highly fragmented.  This is usually the result of calling `frame.insert` many times, which has poor performance.  Consider joining all columns at once using pd.concat(axis=1) instead. To get a de-fragmented frame, use `newframe = frame.copy()`\n",
      "  muestras['Muestra _'+str(i)]=_\n",
      "C:\\Users\\zazaz\\AppData\\Local\\Temp\\ipykernel_22132\\527239248.py:4: PerformanceWarning: DataFrame is highly fragmented.  This is usually the result of calling `frame.insert` many times, which has poor performance.  Consider joining all columns at once using pd.concat(axis=1) instead. To get a de-fragmented frame, use `newframe = frame.copy()`\n",
      "  muestras['Muestra _'+str(i)]=_\n",
      "C:\\Users\\zazaz\\AppData\\Local\\Temp\\ipykernel_22132\\527239248.py:4: PerformanceWarning: DataFrame is highly fragmented.  This is usually the result of calling `frame.insert` many times, which has poor performance.  Consider joining all columns at once using pd.concat(axis=1) instead. To get a de-fragmented frame, use `newframe = frame.copy()`\n",
      "  muestras['Muestra _'+str(i)]=_\n",
      "C:\\Users\\zazaz\\AppData\\Local\\Temp\\ipykernel_22132\\527239248.py:4: PerformanceWarning: DataFrame is highly fragmented.  This is usually the result of calling `frame.insert` many times, which has poor performance.  Consider joining all columns at once using pd.concat(axis=1) instead. To get a de-fragmented frame, use `newframe = frame.copy()`\n",
      "  muestras['Muestra _'+str(i)]=_\n",
      "C:\\Users\\zazaz\\AppData\\Local\\Temp\\ipykernel_22132\\527239248.py:4: PerformanceWarning: DataFrame is highly fragmented.  This is usually the result of calling `frame.insert` many times, which has poor performance.  Consider joining all columns at once using pd.concat(axis=1) instead. To get a de-fragmented frame, use `newframe = frame.copy()`\n",
      "  muestras['Muestra _'+str(i)]=_\n",
      "C:\\Users\\zazaz\\AppData\\Local\\Temp\\ipykernel_22132\\527239248.py:4: PerformanceWarning: DataFrame is highly fragmented.  This is usually the result of calling `frame.insert` many times, which has poor performance.  Consider joining all columns at once using pd.concat(axis=1) instead. To get a de-fragmented frame, use `newframe = frame.copy()`\n",
      "  muestras['Muestra _'+str(i)]=_\n",
      "C:\\Users\\zazaz\\AppData\\Local\\Temp\\ipykernel_22132\\527239248.py:4: PerformanceWarning: DataFrame is highly fragmented.  This is usually the result of calling `frame.insert` many times, which has poor performance.  Consider joining all columns at once using pd.concat(axis=1) instead. To get a de-fragmented frame, use `newframe = frame.copy()`\n",
      "  muestras['Muestra _'+str(i)]=_\n",
      "C:\\Users\\zazaz\\AppData\\Local\\Temp\\ipykernel_22132\\527239248.py:4: PerformanceWarning: DataFrame is highly fragmented.  This is usually the result of calling `frame.insert` many times, which has poor performance.  Consider joining all columns at once using pd.concat(axis=1) instead. To get a de-fragmented frame, use `newframe = frame.copy()`\n",
      "  muestras['Muestra _'+str(i)]=_\n",
      "C:\\Users\\zazaz\\AppData\\Local\\Temp\\ipykernel_22132\\527239248.py:4: PerformanceWarning: DataFrame is highly fragmented.  This is usually the result of calling `frame.insert` many times, which has poor performance.  Consider joining all columns at once using pd.concat(axis=1) instead. To get a de-fragmented frame, use `newframe = frame.copy()`\n",
      "  muestras['Muestra _'+str(i)]=_\n",
      "C:\\Users\\zazaz\\AppData\\Local\\Temp\\ipykernel_22132\\527239248.py:4: PerformanceWarning: DataFrame is highly fragmented.  This is usually the result of calling `frame.insert` many times, which has poor performance.  Consider joining all columns at once using pd.concat(axis=1) instead. To get a de-fragmented frame, use `newframe = frame.copy()`\n",
      "  muestras['Muestra _'+str(i)]=_\n",
      "C:\\Users\\zazaz\\AppData\\Local\\Temp\\ipykernel_22132\\527239248.py:4: PerformanceWarning: DataFrame is highly fragmented.  This is usually the result of calling `frame.insert` many times, which has poor performance.  Consider joining all columns at once using pd.concat(axis=1) instead. To get a de-fragmented frame, use `newframe = frame.copy()`\n",
      "  muestras['Muestra _'+str(i)]=_\n",
      "C:\\Users\\zazaz\\AppData\\Local\\Temp\\ipykernel_22132\\527239248.py:4: PerformanceWarning: DataFrame is highly fragmented.  This is usually the result of calling `frame.insert` many times, which has poor performance.  Consider joining all columns at once using pd.concat(axis=1) instead. To get a de-fragmented frame, use `newframe = frame.copy()`\n",
      "  muestras['Muestra _'+str(i)]=_\n",
      "C:\\Users\\zazaz\\AppData\\Local\\Temp\\ipykernel_22132\\527239248.py:4: PerformanceWarning: DataFrame is highly fragmented.  This is usually the result of calling `frame.insert` many times, which has poor performance.  Consider joining all columns at once using pd.concat(axis=1) instead. To get a de-fragmented frame, use `newframe = frame.copy()`\n",
      "  muestras['Muestra _'+str(i)]=_\n",
      "C:\\Users\\zazaz\\AppData\\Local\\Temp\\ipykernel_22132\\527239248.py:4: PerformanceWarning: DataFrame is highly fragmented.  This is usually the result of calling `frame.insert` many times, which has poor performance.  Consider joining all columns at once using pd.concat(axis=1) instead. To get a de-fragmented frame, use `newframe = frame.copy()`\n",
      "  muestras['Muestra _'+str(i)]=_\n",
      "C:\\Users\\zazaz\\AppData\\Local\\Temp\\ipykernel_22132\\527239248.py:4: PerformanceWarning: DataFrame is highly fragmented.  This is usually the result of calling `frame.insert` many times, which has poor performance.  Consider joining all columns at once using pd.concat(axis=1) instead. To get a de-fragmented frame, use `newframe = frame.copy()`\n",
      "  muestras['Muestra _'+str(i)]=_\n",
      "C:\\Users\\zazaz\\AppData\\Local\\Temp\\ipykernel_22132\\527239248.py:4: PerformanceWarning: DataFrame is highly fragmented.  This is usually the result of calling `frame.insert` many times, which has poor performance.  Consider joining all columns at once using pd.concat(axis=1) instead. To get a de-fragmented frame, use `newframe = frame.copy()`\n",
      "  muestras['Muestra _'+str(i)]=_\n",
      "C:\\Users\\zazaz\\AppData\\Local\\Temp\\ipykernel_22132\\527239248.py:4: PerformanceWarning: DataFrame is highly fragmented.  This is usually the result of calling `frame.insert` many times, which has poor performance.  Consider joining all columns at once using pd.concat(axis=1) instead. To get a de-fragmented frame, use `newframe = frame.copy()`\n",
      "  muestras['Muestra _'+str(i)]=_\n",
      "C:\\Users\\zazaz\\AppData\\Local\\Temp\\ipykernel_22132\\527239248.py:4: PerformanceWarning: DataFrame is highly fragmented.  This is usually the result of calling `frame.insert` many times, which has poor performance.  Consider joining all columns at once using pd.concat(axis=1) instead. To get a de-fragmented frame, use `newframe = frame.copy()`\n",
      "  muestras['Muestra _'+str(i)]=_\n",
      "C:\\Users\\zazaz\\AppData\\Local\\Temp\\ipykernel_22132\\527239248.py:4: PerformanceWarning: DataFrame is highly fragmented.  This is usually the result of calling `frame.insert` many times, which has poor performance.  Consider joining all columns at once using pd.concat(axis=1) instead. To get a de-fragmented frame, use `newframe = frame.copy()`\n",
      "  muestras['Muestra _'+str(i)]=_\n",
      "C:\\Users\\zazaz\\AppData\\Local\\Temp\\ipykernel_22132\\527239248.py:4: PerformanceWarning: DataFrame is highly fragmented.  This is usually the result of calling `frame.insert` many times, which has poor performance.  Consider joining all columns at once using pd.concat(axis=1) instead. To get a de-fragmented frame, use `newframe = frame.copy()`\n",
      "  muestras['Muestra _'+str(i)]=_\n",
      "C:\\Users\\zazaz\\AppData\\Local\\Temp\\ipykernel_22132\\527239248.py:4: PerformanceWarning: DataFrame is highly fragmented.  This is usually the result of calling `frame.insert` many times, which has poor performance.  Consider joining all columns at once using pd.concat(axis=1) instead. To get a de-fragmented frame, use `newframe = frame.copy()`\n",
      "  muestras['Muestra _'+str(i)]=_\n",
      "C:\\Users\\zazaz\\AppData\\Local\\Temp\\ipykernel_22132\\527239248.py:4: PerformanceWarning: DataFrame is highly fragmented.  This is usually the result of calling `frame.insert` many times, which has poor performance.  Consider joining all columns at once using pd.concat(axis=1) instead. To get a de-fragmented frame, use `newframe = frame.copy()`\n",
      "  muestras['Muestra _'+str(i)]=_\n",
      "C:\\Users\\zazaz\\AppData\\Local\\Temp\\ipykernel_22132\\527239248.py:4: PerformanceWarning: DataFrame is highly fragmented.  This is usually the result of calling `frame.insert` many times, which has poor performance.  Consider joining all columns at once using pd.concat(axis=1) instead. To get a de-fragmented frame, use `newframe = frame.copy()`\n",
      "  muestras['Muestra _'+str(i)]=_\n",
      "C:\\Users\\zazaz\\AppData\\Local\\Temp\\ipykernel_22132\\527239248.py:4: PerformanceWarning: DataFrame is highly fragmented.  This is usually the result of calling `frame.insert` many times, which has poor performance.  Consider joining all columns at once using pd.concat(axis=1) instead. To get a de-fragmented frame, use `newframe = frame.copy()`\n",
      "  muestras['Muestra _'+str(i)]=_\n",
      "C:\\Users\\zazaz\\AppData\\Local\\Temp\\ipykernel_22132\\527239248.py:4: PerformanceWarning: DataFrame is highly fragmented.  This is usually the result of calling `frame.insert` many times, which has poor performance.  Consider joining all columns at once using pd.concat(axis=1) instead. To get a de-fragmented frame, use `newframe = frame.copy()`\n",
      "  muestras['Muestra _'+str(i)]=_\n",
      "C:\\Users\\zazaz\\AppData\\Local\\Temp\\ipykernel_22132\\527239248.py:4: PerformanceWarning: DataFrame is highly fragmented.  This is usually the result of calling `frame.insert` many times, which has poor performance.  Consider joining all columns at once using pd.concat(axis=1) instead. To get a de-fragmented frame, use `newframe = frame.copy()`\n",
      "  muestras['Muestra _'+str(i)]=_\n",
      "C:\\Users\\zazaz\\AppData\\Local\\Temp\\ipykernel_22132\\527239248.py:4: PerformanceWarning: DataFrame is highly fragmented.  This is usually the result of calling `frame.insert` many times, which has poor performance.  Consider joining all columns at once using pd.concat(axis=1) instead. To get a de-fragmented frame, use `newframe = frame.copy()`\n",
      "  muestras['Muestra _'+str(i)]=_\n",
      "C:\\Users\\zazaz\\AppData\\Local\\Temp\\ipykernel_22132\\527239248.py:4: PerformanceWarning: DataFrame is highly fragmented.  This is usually the result of calling `frame.insert` many times, which has poor performance.  Consider joining all columns at once using pd.concat(axis=1) instead. To get a de-fragmented frame, use `newframe = frame.copy()`\n",
      "  muestras['Muestra _'+str(i)]=_\n",
      "C:\\Users\\zazaz\\AppData\\Local\\Temp\\ipykernel_22132\\527239248.py:4: PerformanceWarning: DataFrame is highly fragmented.  This is usually the result of calling `frame.insert` many times, which has poor performance.  Consider joining all columns at once using pd.concat(axis=1) instead. To get a de-fragmented frame, use `newframe = frame.copy()`\n",
      "  muestras['Muestra _'+str(i)]=_\n",
      "C:\\Users\\zazaz\\AppData\\Local\\Temp\\ipykernel_22132\\527239248.py:4: PerformanceWarning: DataFrame is highly fragmented.  This is usually the result of calling `frame.insert` many times, which has poor performance.  Consider joining all columns at once using pd.concat(axis=1) instead. To get a de-fragmented frame, use `newframe = frame.copy()`\n",
      "  muestras['Muestra _'+str(i)]=_\n",
      "C:\\Users\\zazaz\\AppData\\Local\\Temp\\ipykernel_22132\\527239248.py:4: PerformanceWarning: DataFrame is highly fragmented.  This is usually the result of calling `frame.insert` many times, which has poor performance.  Consider joining all columns at once using pd.concat(axis=1) instead. To get a de-fragmented frame, use `newframe = frame.copy()`\n",
      "  muestras['Muestra _'+str(i)]=_\n",
      "C:\\Users\\zazaz\\AppData\\Local\\Temp\\ipykernel_22132\\527239248.py:4: PerformanceWarning: DataFrame is highly fragmented.  This is usually the result of calling `frame.insert` many times, which has poor performance.  Consider joining all columns at once using pd.concat(axis=1) instead. To get a de-fragmented frame, use `newframe = frame.copy()`\n",
      "  muestras['Muestra _'+str(i)]=_\n",
      "C:\\Users\\zazaz\\AppData\\Local\\Temp\\ipykernel_22132\\527239248.py:4: PerformanceWarning: DataFrame is highly fragmented.  This is usually the result of calling `frame.insert` many times, which has poor performance.  Consider joining all columns at once using pd.concat(axis=1) instead. To get a de-fragmented frame, use `newframe = frame.copy()`\n",
      "  muestras['Muestra _'+str(i)]=_\n",
      "C:\\Users\\zazaz\\AppData\\Local\\Temp\\ipykernel_22132\\527239248.py:4: PerformanceWarning: DataFrame is highly fragmented.  This is usually the result of calling `frame.insert` many times, which has poor performance.  Consider joining all columns at once using pd.concat(axis=1) instead. To get a de-fragmented frame, use `newframe = frame.copy()`\n",
      "  muestras['Muestra _'+str(i)]=_\n",
      "C:\\Users\\zazaz\\AppData\\Local\\Temp\\ipykernel_22132\\527239248.py:4: PerformanceWarning: DataFrame is highly fragmented.  This is usually the result of calling `frame.insert` many times, which has poor performance.  Consider joining all columns at once using pd.concat(axis=1) instead. To get a de-fragmented frame, use `newframe = frame.copy()`\n",
      "  muestras['Muestra _'+str(i)]=_\n",
      "C:\\Users\\zazaz\\AppData\\Local\\Temp\\ipykernel_22132\\527239248.py:4: PerformanceWarning: DataFrame is highly fragmented.  This is usually the result of calling `frame.insert` many times, which has poor performance.  Consider joining all columns at once using pd.concat(axis=1) instead. To get a de-fragmented frame, use `newframe = frame.copy()`\n",
      "  muestras['Muestra _'+str(i)]=_\n",
      "C:\\Users\\zazaz\\AppData\\Local\\Temp\\ipykernel_22132\\527239248.py:4: PerformanceWarning: DataFrame is highly fragmented.  This is usually the result of calling `frame.insert` many times, which has poor performance.  Consider joining all columns at once using pd.concat(axis=1) instead. To get a de-fragmented frame, use `newframe = frame.copy()`\n",
      "  muestras['Muestra _'+str(i)]=_\n",
      "C:\\Users\\zazaz\\AppData\\Local\\Temp\\ipykernel_22132\\527239248.py:4: PerformanceWarning: DataFrame is highly fragmented.  This is usually the result of calling `frame.insert` many times, which has poor performance.  Consider joining all columns at once using pd.concat(axis=1) instead. To get a de-fragmented frame, use `newframe = frame.copy()`\n",
      "  muestras['Muestra _'+str(i)]=_\n",
      "C:\\Users\\zazaz\\AppData\\Local\\Temp\\ipykernel_22132\\527239248.py:4: PerformanceWarning: DataFrame is highly fragmented.  This is usually the result of calling `frame.insert` many times, which has poor performance.  Consider joining all columns at once using pd.concat(axis=1) instead. To get a de-fragmented frame, use `newframe = frame.copy()`\n",
      "  muestras['Muestra _'+str(i)]=_\n",
      "C:\\Users\\zazaz\\AppData\\Local\\Temp\\ipykernel_22132\\527239248.py:4: PerformanceWarning: DataFrame is highly fragmented.  This is usually the result of calling `frame.insert` many times, which has poor performance.  Consider joining all columns at once using pd.concat(axis=1) instead. To get a de-fragmented frame, use `newframe = frame.copy()`\n",
      "  muestras['Muestra _'+str(i)]=_\n",
      "C:\\Users\\zazaz\\AppData\\Local\\Temp\\ipykernel_22132\\527239248.py:4: PerformanceWarning: DataFrame is highly fragmented.  This is usually the result of calling `frame.insert` many times, which has poor performance.  Consider joining all columns at once using pd.concat(axis=1) instead. To get a de-fragmented frame, use `newframe = frame.copy()`\n",
      "  muestras['Muestra _'+str(i)]=_\n",
      "C:\\Users\\zazaz\\AppData\\Local\\Temp\\ipykernel_22132\\527239248.py:4: PerformanceWarning: DataFrame is highly fragmented.  This is usually the result of calling `frame.insert` many times, which has poor performance.  Consider joining all columns at once using pd.concat(axis=1) instead. To get a de-fragmented frame, use `newframe = frame.copy()`\n",
      "  muestras['Muestra _'+str(i)]=_\n",
      "C:\\Users\\zazaz\\AppData\\Local\\Temp\\ipykernel_22132\\527239248.py:4: PerformanceWarning: DataFrame is highly fragmented.  This is usually the result of calling `frame.insert` many times, which has poor performance.  Consider joining all columns at once using pd.concat(axis=1) instead. To get a de-fragmented frame, use `newframe = frame.copy()`\n",
      "  muestras['Muestra _'+str(i)]=_\n",
      "C:\\Users\\zazaz\\AppData\\Local\\Temp\\ipykernel_22132\\527239248.py:4: PerformanceWarning: DataFrame is highly fragmented.  This is usually the result of calling `frame.insert` many times, which has poor performance.  Consider joining all columns at once using pd.concat(axis=1) instead. To get a de-fragmented frame, use `newframe = frame.copy()`\n",
      "  muestras['Muestra _'+str(i)]=_\n",
      "C:\\Users\\zazaz\\AppData\\Local\\Temp\\ipykernel_22132\\527239248.py:4: PerformanceWarning: DataFrame is highly fragmented.  This is usually the result of calling `frame.insert` many times, which has poor performance.  Consider joining all columns at once using pd.concat(axis=1) instead. To get a de-fragmented frame, use `newframe = frame.copy()`\n",
      "  muestras['Muestra _'+str(i)]=_\n",
      "C:\\Users\\zazaz\\AppData\\Local\\Temp\\ipykernel_22132\\527239248.py:4: PerformanceWarning: DataFrame is highly fragmented.  This is usually the result of calling `frame.insert` many times, which has poor performance.  Consider joining all columns at once using pd.concat(axis=1) instead. To get a de-fragmented frame, use `newframe = frame.copy()`\n",
      "  muestras['Muestra _'+str(i)]=_\n",
      "C:\\Users\\zazaz\\AppData\\Local\\Temp\\ipykernel_22132\\527239248.py:4: PerformanceWarning: DataFrame is highly fragmented.  This is usually the result of calling `frame.insert` many times, which has poor performance.  Consider joining all columns at once using pd.concat(axis=1) instead. To get a de-fragmented frame, use `newframe = frame.copy()`\n",
      "  muestras['Muestra _'+str(i)]=_\n",
      "C:\\Users\\zazaz\\AppData\\Local\\Temp\\ipykernel_22132\\527239248.py:4: PerformanceWarning: DataFrame is highly fragmented.  This is usually the result of calling `frame.insert` many times, which has poor performance.  Consider joining all columns at once using pd.concat(axis=1) instead. To get a de-fragmented frame, use `newframe = frame.copy()`\n",
      "  muestras['Muestra _'+str(i)]=_\n",
      "C:\\Users\\zazaz\\AppData\\Local\\Temp\\ipykernel_22132\\527239248.py:4: PerformanceWarning: DataFrame is highly fragmented.  This is usually the result of calling `frame.insert` many times, which has poor performance.  Consider joining all columns at once using pd.concat(axis=1) instead. To get a de-fragmented frame, use `newframe = frame.copy()`\n",
      "  muestras['Muestra _'+str(i)]=_\n",
      "C:\\Users\\zazaz\\AppData\\Local\\Temp\\ipykernel_22132\\527239248.py:4: PerformanceWarning: DataFrame is highly fragmented.  This is usually the result of calling `frame.insert` many times, which has poor performance.  Consider joining all columns at once using pd.concat(axis=1) instead. To get a de-fragmented frame, use `newframe = frame.copy()`\n",
      "  muestras['Muestra _'+str(i)]=_\n",
      "C:\\Users\\zazaz\\AppData\\Local\\Temp\\ipykernel_22132\\527239248.py:4: PerformanceWarning: DataFrame is highly fragmented.  This is usually the result of calling `frame.insert` many times, which has poor performance.  Consider joining all columns at once using pd.concat(axis=1) instead. To get a de-fragmented frame, use `newframe = frame.copy()`\n",
      "  muestras['Muestra _'+str(i)]=_\n",
      "C:\\Users\\zazaz\\AppData\\Local\\Temp\\ipykernel_22132\\527239248.py:4: PerformanceWarning: DataFrame is highly fragmented.  This is usually the result of calling `frame.insert` many times, which has poor performance.  Consider joining all columns at once using pd.concat(axis=1) instead. To get a de-fragmented frame, use `newframe = frame.copy()`\n",
      "  muestras['Muestra _'+str(i)]=_\n",
      "C:\\Users\\zazaz\\AppData\\Local\\Temp\\ipykernel_22132\\527239248.py:4: PerformanceWarning: DataFrame is highly fragmented.  This is usually the result of calling `frame.insert` many times, which has poor performance.  Consider joining all columns at once using pd.concat(axis=1) instead. To get a de-fragmented frame, use `newframe = frame.copy()`\n",
      "  muestras['Muestra _'+str(i)]=_\n",
      "C:\\Users\\zazaz\\AppData\\Local\\Temp\\ipykernel_22132\\527239248.py:4: PerformanceWarning: DataFrame is highly fragmented.  This is usually the result of calling `frame.insert` many times, which has poor performance.  Consider joining all columns at once using pd.concat(axis=1) instead. To get a de-fragmented frame, use `newframe = frame.copy()`\n",
      "  muestras['Muestra _'+str(i)]=_\n",
      "C:\\Users\\zazaz\\AppData\\Local\\Temp\\ipykernel_22132\\527239248.py:4: PerformanceWarning: DataFrame is highly fragmented.  This is usually the result of calling `frame.insert` many times, which has poor performance.  Consider joining all columns at once using pd.concat(axis=1) instead. To get a de-fragmented frame, use `newframe = frame.copy()`\n",
      "  muestras['Muestra _'+str(i)]=_\n",
      "C:\\Users\\zazaz\\AppData\\Local\\Temp\\ipykernel_22132\\527239248.py:4: PerformanceWarning: DataFrame is highly fragmented.  This is usually the result of calling `frame.insert` many times, which has poor performance.  Consider joining all columns at once using pd.concat(axis=1) instead. To get a de-fragmented frame, use `newframe = frame.copy()`\n",
      "  muestras['Muestra _'+str(i)]=_\n",
      "C:\\Users\\zazaz\\AppData\\Local\\Temp\\ipykernel_22132\\527239248.py:4: PerformanceWarning: DataFrame is highly fragmented.  This is usually the result of calling `frame.insert` many times, which has poor performance.  Consider joining all columns at once using pd.concat(axis=1) instead. To get a de-fragmented frame, use `newframe = frame.copy()`\n",
      "  muestras['Muestra _'+str(i)]=_\n",
      "C:\\Users\\zazaz\\AppData\\Local\\Temp\\ipykernel_22132\\527239248.py:4: PerformanceWarning: DataFrame is highly fragmented.  This is usually the result of calling `frame.insert` many times, which has poor performance.  Consider joining all columns at once using pd.concat(axis=1) instead. To get a de-fragmented frame, use `newframe = frame.copy()`\n",
      "  muestras['Muestra _'+str(i)]=_\n",
      "C:\\Users\\zazaz\\AppData\\Local\\Temp\\ipykernel_22132\\527239248.py:4: PerformanceWarning: DataFrame is highly fragmented.  This is usually the result of calling `frame.insert` many times, which has poor performance.  Consider joining all columns at once using pd.concat(axis=1) instead. To get a de-fragmented frame, use `newframe = frame.copy()`\n",
      "  muestras['Muestra _'+str(i)]=_\n",
      "C:\\Users\\zazaz\\AppData\\Local\\Temp\\ipykernel_22132\\527239248.py:4: PerformanceWarning: DataFrame is highly fragmented.  This is usually the result of calling `frame.insert` many times, which has poor performance.  Consider joining all columns at once using pd.concat(axis=1) instead. To get a de-fragmented frame, use `newframe = frame.copy()`\n",
      "  muestras['Muestra _'+str(i)]=_\n",
      "C:\\Users\\zazaz\\AppData\\Local\\Temp\\ipykernel_22132\\527239248.py:4: PerformanceWarning: DataFrame is highly fragmented.  This is usually the result of calling `frame.insert` many times, which has poor performance.  Consider joining all columns at once using pd.concat(axis=1) instead. To get a de-fragmented frame, use `newframe = frame.copy()`\n",
      "  muestras['Muestra _'+str(i)]=_\n",
      "C:\\Users\\zazaz\\AppData\\Local\\Temp\\ipykernel_22132\\527239248.py:4: PerformanceWarning: DataFrame is highly fragmented.  This is usually the result of calling `frame.insert` many times, which has poor performance.  Consider joining all columns at once using pd.concat(axis=1) instead. To get a de-fragmented frame, use `newframe = frame.copy()`\n",
      "  muestras['Muestra _'+str(i)]=_\n",
      "C:\\Users\\zazaz\\AppData\\Local\\Temp\\ipykernel_22132\\527239248.py:4: PerformanceWarning: DataFrame is highly fragmented.  This is usually the result of calling `frame.insert` many times, which has poor performance.  Consider joining all columns at once using pd.concat(axis=1) instead. To get a de-fragmented frame, use `newframe = frame.copy()`\n",
      "  muestras['Muestra _'+str(i)]=_\n",
      "C:\\Users\\zazaz\\AppData\\Local\\Temp\\ipykernel_22132\\527239248.py:4: PerformanceWarning: DataFrame is highly fragmented.  This is usually the result of calling `frame.insert` many times, which has poor performance.  Consider joining all columns at once using pd.concat(axis=1) instead. To get a de-fragmented frame, use `newframe = frame.copy()`\n",
      "  muestras['Muestra _'+str(i)]=_\n",
      "C:\\Users\\zazaz\\AppData\\Local\\Temp\\ipykernel_22132\\527239248.py:4: PerformanceWarning: DataFrame is highly fragmented.  This is usually the result of calling `frame.insert` many times, which has poor performance.  Consider joining all columns at once using pd.concat(axis=1) instead. To get a de-fragmented frame, use `newframe = frame.copy()`\n",
      "  muestras['Muestra _'+str(i)]=_\n",
      "C:\\Users\\zazaz\\AppData\\Local\\Temp\\ipykernel_22132\\527239248.py:4: PerformanceWarning: DataFrame is highly fragmented.  This is usually the result of calling `frame.insert` many times, which has poor performance.  Consider joining all columns at once using pd.concat(axis=1) instead. To get a de-fragmented frame, use `newframe = frame.copy()`\n",
      "  muestras['Muestra _'+str(i)]=_\n",
      "C:\\Users\\zazaz\\AppData\\Local\\Temp\\ipykernel_22132\\527239248.py:4: PerformanceWarning: DataFrame is highly fragmented.  This is usually the result of calling `frame.insert` many times, which has poor performance.  Consider joining all columns at once using pd.concat(axis=1) instead. To get a de-fragmented frame, use `newframe = frame.copy()`\n",
      "  muestras['Muestra _'+str(i)]=_\n",
      "C:\\Users\\zazaz\\AppData\\Local\\Temp\\ipykernel_22132\\527239248.py:4: PerformanceWarning: DataFrame is highly fragmented.  This is usually the result of calling `frame.insert` many times, which has poor performance.  Consider joining all columns at once using pd.concat(axis=1) instead. To get a de-fragmented frame, use `newframe = frame.copy()`\n",
      "  muestras['Muestra _'+str(i)]=_\n",
      "C:\\Users\\zazaz\\AppData\\Local\\Temp\\ipykernel_22132\\527239248.py:4: PerformanceWarning: DataFrame is highly fragmented.  This is usually the result of calling `frame.insert` many times, which has poor performance.  Consider joining all columns at once using pd.concat(axis=1) instead. To get a de-fragmented frame, use `newframe = frame.copy()`\n",
      "  muestras['Muestra _'+str(i)]=_\n",
      "C:\\Users\\zazaz\\AppData\\Local\\Temp\\ipykernel_22132\\527239248.py:4: PerformanceWarning: DataFrame is highly fragmented.  This is usually the result of calling `frame.insert` many times, which has poor performance.  Consider joining all columns at once using pd.concat(axis=1) instead. To get a de-fragmented frame, use `newframe = frame.copy()`\n",
      "  muestras['Muestra _'+str(i)]=_\n",
      "C:\\Users\\zazaz\\AppData\\Local\\Temp\\ipykernel_22132\\527239248.py:4: PerformanceWarning: DataFrame is highly fragmented.  This is usually the result of calling `frame.insert` many times, which has poor performance.  Consider joining all columns at once using pd.concat(axis=1) instead. To get a de-fragmented frame, use `newframe = frame.copy()`\n",
      "  muestras['Muestra _'+str(i)]=_\n",
      "C:\\Users\\zazaz\\AppData\\Local\\Temp\\ipykernel_22132\\527239248.py:4: PerformanceWarning: DataFrame is highly fragmented.  This is usually the result of calling `frame.insert` many times, which has poor performance.  Consider joining all columns at once using pd.concat(axis=1) instead. To get a de-fragmented frame, use `newframe = frame.copy()`\n",
      "  muestras['Muestra _'+str(i)]=_\n",
      "C:\\Users\\zazaz\\AppData\\Local\\Temp\\ipykernel_22132\\527239248.py:4: PerformanceWarning: DataFrame is highly fragmented.  This is usually the result of calling `frame.insert` many times, which has poor performance.  Consider joining all columns at once using pd.concat(axis=1) instead. To get a de-fragmented frame, use `newframe = frame.copy()`\n",
      "  muestras['Muestra _'+str(i)]=_\n",
      "C:\\Users\\zazaz\\AppData\\Local\\Temp\\ipykernel_22132\\527239248.py:4: PerformanceWarning: DataFrame is highly fragmented.  This is usually the result of calling `frame.insert` many times, which has poor performance.  Consider joining all columns at once using pd.concat(axis=1) instead. To get a de-fragmented frame, use `newframe = frame.copy()`\n",
      "  muestras['Muestra _'+str(i)]=_\n",
      "C:\\Users\\zazaz\\AppData\\Local\\Temp\\ipykernel_22132\\527239248.py:4: PerformanceWarning: DataFrame is highly fragmented.  This is usually the result of calling `frame.insert` many times, which has poor performance.  Consider joining all columns at once using pd.concat(axis=1) instead. To get a de-fragmented frame, use `newframe = frame.copy()`\n",
      "  muestras['Muestra _'+str(i)]=_\n",
      "C:\\Users\\zazaz\\AppData\\Local\\Temp\\ipykernel_22132\\527239248.py:4: PerformanceWarning: DataFrame is highly fragmented.  This is usually the result of calling `frame.insert` many times, which has poor performance.  Consider joining all columns at once using pd.concat(axis=1) instead. To get a de-fragmented frame, use `newframe = frame.copy()`\n",
      "  muestras['Muestra _'+str(i)]=_\n",
      "C:\\Users\\zazaz\\AppData\\Local\\Temp\\ipykernel_22132\\527239248.py:4: PerformanceWarning: DataFrame is highly fragmented.  This is usually the result of calling `frame.insert` many times, which has poor performance.  Consider joining all columns at once using pd.concat(axis=1) instead. To get a de-fragmented frame, use `newframe = frame.copy()`\n",
      "  muestras['Muestra _'+str(i)]=_\n",
      "C:\\Users\\zazaz\\AppData\\Local\\Temp\\ipykernel_22132\\527239248.py:4: PerformanceWarning: DataFrame is highly fragmented.  This is usually the result of calling `frame.insert` many times, which has poor performance.  Consider joining all columns at once using pd.concat(axis=1) instead. To get a de-fragmented frame, use `newframe = frame.copy()`\n",
      "  muestras['Muestra _'+str(i)]=_\n",
      "C:\\Users\\zazaz\\AppData\\Local\\Temp\\ipykernel_22132\\527239248.py:4: PerformanceWarning: DataFrame is highly fragmented.  This is usually the result of calling `frame.insert` many times, which has poor performance.  Consider joining all columns at once using pd.concat(axis=1) instead. To get a de-fragmented frame, use `newframe = frame.copy()`\n",
      "  muestras['Muestra _'+str(i)]=_\n",
      "C:\\Users\\zazaz\\AppData\\Local\\Temp\\ipykernel_22132\\527239248.py:4: PerformanceWarning: DataFrame is highly fragmented.  This is usually the result of calling `frame.insert` many times, which has poor performance.  Consider joining all columns at once using pd.concat(axis=1) instead. To get a de-fragmented frame, use `newframe = frame.copy()`\n",
      "  muestras['Muestra _'+str(i)]=_\n",
      "C:\\Users\\zazaz\\AppData\\Local\\Temp\\ipykernel_22132\\527239248.py:4: PerformanceWarning: DataFrame is highly fragmented.  This is usually the result of calling `frame.insert` many times, which has poor performance.  Consider joining all columns at once using pd.concat(axis=1) instead. To get a de-fragmented frame, use `newframe = frame.copy()`\n",
      "  muestras['Muestra _'+str(i)]=_\n",
      "C:\\Users\\zazaz\\AppData\\Local\\Temp\\ipykernel_22132\\527239248.py:4: PerformanceWarning: DataFrame is highly fragmented.  This is usually the result of calling `frame.insert` many times, which has poor performance.  Consider joining all columns at once using pd.concat(axis=1) instead. To get a de-fragmented frame, use `newframe = frame.copy()`\n",
      "  muestras['Muestra _'+str(i)]=_\n",
      "C:\\Users\\zazaz\\AppData\\Local\\Temp\\ipykernel_22132\\527239248.py:4: PerformanceWarning: DataFrame is highly fragmented.  This is usually the result of calling `frame.insert` many times, which has poor performance.  Consider joining all columns at once using pd.concat(axis=1) instead. To get a de-fragmented frame, use `newframe = frame.copy()`\n",
      "  muestras['Muestra _'+str(i)]=_\n",
      "C:\\Users\\zazaz\\AppData\\Local\\Temp\\ipykernel_22132\\527239248.py:4: PerformanceWarning: DataFrame is highly fragmented.  This is usually the result of calling `frame.insert` many times, which has poor performance.  Consider joining all columns at once using pd.concat(axis=1) instead. To get a de-fragmented frame, use `newframe = frame.copy()`\n",
      "  muestras['Muestra _'+str(i)]=_\n",
      "C:\\Users\\zazaz\\AppData\\Local\\Temp\\ipykernel_22132\\527239248.py:4: PerformanceWarning: DataFrame is highly fragmented.  This is usually the result of calling `frame.insert` many times, which has poor performance.  Consider joining all columns at once using pd.concat(axis=1) instead. To get a de-fragmented frame, use `newframe = frame.copy()`\n",
      "  muestras['Muestra _'+str(i)]=_\n",
      "C:\\Users\\zazaz\\AppData\\Local\\Temp\\ipykernel_22132\\527239248.py:4: PerformanceWarning: DataFrame is highly fragmented.  This is usually the result of calling `frame.insert` many times, which has poor performance.  Consider joining all columns at once using pd.concat(axis=1) instead. To get a de-fragmented frame, use `newframe = frame.copy()`\n",
      "  muestras['Muestra _'+str(i)]=_\n",
      "C:\\Users\\zazaz\\AppData\\Local\\Temp\\ipykernel_22132\\527239248.py:4: PerformanceWarning: DataFrame is highly fragmented.  This is usually the result of calling `frame.insert` many times, which has poor performance.  Consider joining all columns at once using pd.concat(axis=1) instead. To get a de-fragmented frame, use `newframe = frame.copy()`\n",
      "  muestras['Muestra _'+str(i)]=_\n",
      "C:\\Users\\zazaz\\AppData\\Local\\Temp\\ipykernel_22132\\527239248.py:4: PerformanceWarning: DataFrame is highly fragmented.  This is usually the result of calling `frame.insert` many times, which has poor performance.  Consider joining all columns at once using pd.concat(axis=1) instead. To get a de-fragmented frame, use `newframe = frame.copy()`\n",
      "  muestras['Muestra _'+str(i)]=_\n",
      "C:\\Users\\zazaz\\AppData\\Local\\Temp\\ipykernel_22132\\527239248.py:4: PerformanceWarning: DataFrame is highly fragmented.  This is usually the result of calling `frame.insert` many times, which has poor performance.  Consider joining all columns at once using pd.concat(axis=1) instead. To get a de-fragmented frame, use `newframe = frame.copy()`\n",
      "  muestras['Muestra _'+str(i)]=_\n",
      "C:\\Users\\zazaz\\AppData\\Local\\Temp\\ipykernel_22132\\527239248.py:4: PerformanceWarning: DataFrame is highly fragmented.  This is usually the result of calling `frame.insert` many times, which has poor performance.  Consider joining all columns at once using pd.concat(axis=1) instead. To get a de-fragmented frame, use `newframe = frame.copy()`\n",
      "  muestras['Muestra _'+str(i)]=_\n",
      "C:\\Users\\zazaz\\AppData\\Local\\Temp\\ipykernel_22132\\527239248.py:4: PerformanceWarning: DataFrame is highly fragmented.  This is usually the result of calling `frame.insert` many times, which has poor performance.  Consider joining all columns at once using pd.concat(axis=1) instead. To get a de-fragmented frame, use `newframe = frame.copy()`\n",
      "  muestras['Muestra _'+str(i)]=_\n",
      "C:\\Users\\zazaz\\AppData\\Local\\Temp\\ipykernel_22132\\527239248.py:4: PerformanceWarning: DataFrame is highly fragmented.  This is usually the result of calling `frame.insert` many times, which has poor performance.  Consider joining all columns at once using pd.concat(axis=1) instead. To get a de-fragmented frame, use `newframe = frame.copy()`\n",
      "  muestras['Muestra _'+str(i)]=_\n",
      "C:\\Users\\zazaz\\AppData\\Local\\Temp\\ipykernel_22132\\527239248.py:4: PerformanceWarning: DataFrame is highly fragmented.  This is usually the result of calling `frame.insert` many times, which has poor performance.  Consider joining all columns at once using pd.concat(axis=1) instead. To get a de-fragmented frame, use `newframe = frame.copy()`\n",
      "  muestras['Muestra _'+str(i)]=_\n",
      "C:\\Users\\zazaz\\AppData\\Local\\Temp\\ipykernel_22132\\527239248.py:4: PerformanceWarning: DataFrame is highly fragmented.  This is usually the result of calling `frame.insert` many times, which has poor performance.  Consider joining all columns at once using pd.concat(axis=1) instead. To get a de-fragmented frame, use `newframe = frame.copy()`\n",
      "  muestras['Muestra _'+str(i)]=_\n",
      "C:\\Users\\zazaz\\AppData\\Local\\Temp\\ipykernel_22132\\527239248.py:4: PerformanceWarning: DataFrame is highly fragmented.  This is usually the result of calling `frame.insert` many times, which has poor performance.  Consider joining all columns at once using pd.concat(axis=1) instead. To get a de-fragmented frame, use `newframe = frame.copy()`\n",
      "  muestras['Muestra _'+str(i)]=_\n",
      "C:\\Users\\zazaz\\AppData\\Local\\Temp\\ipykernel_22132\\527239248.py:4: PerformanceWarning: DataFrame is highly fragmented.  This is usually the result of calling `frame.insert` many times, which has poor performance.  Consider joining all columns at once using pd.concat(axis=1) instead. To get a de-fragmented frame, use `newframe = frame.copy()`\n",
      "  muestras['Muestra _'+str(i)]=_\n",
      "C:\\Users\\zazaz\\AppData\\Local\\Temp\\ipykernel_22132\\527239248.py:4: PerformanceWarning: DataFrame is highly fragmented.  This is usually the result of calling `frame.insert` many times, which has poor performance.  Consider joining all columns at once using pd.concat(axis=1) instead. To get a de-fragmented frame, use `newframe = frame.copy()`\n",
      "  muestras['Muestra _'+str(i)]=_\n",
      "C:\\Users\\zazaz\\AppData\\Local\\Temp\\ipykernel_22132\\527239248.py:4: PerformanceWarning: DataFrame is highly fragmented.  This is usually the result of calling `frame.insert` many times, which has poor performance.  Consider joining all columns at once using pd.concat(axis=1) instead. To get a de-fragmented frame, use `newframe = frame.copy()`\n",
      "  muestras['Muestra _'+str(i)]=_\n",
      "C:\\Users\\zazaz\\AppData\\Local\\Temp\\ipykernel_22132\\527239248.py:4: PerformanceWarning: DataFrame is highly fragmented.  This is usually the result of calling `frame.insert` many times, which has poor performance.  Consider joining all columns at once using pd.concat(axis=1) instead. To get a de-fragmented frame, use `newframe = frame.copy()`\n",
      "  muestras['Muestra _'+str(i)]=_\n",
      "C:\\Users\\zazaz\\AppData\\Local\\Temp\\ipykernel_22132\\527239248.py:4: PerformanceWarning: DataFrame is highly fragmented.  This is usually the result of calling `frame.insert` many times, which has poor performance.  Consider joining all columns at once using pd.concat(axis=1) instead. To get a de-fragmented frame, use `newframe = frame.copy()`\n",
      "  muestras['Muestra _'+str(i)]=_\n",
      "C:\\Users\\zazaz\\AppData\\Local\\Temp\\ipykernel_22132\\527239248.py:4: PerformanceWarning: DataFrame is highly fragmented.  This is usually the result of calling `frame.insert` many times, which has poor performance.  Consider joining all columns at once using pd.concat(axis=1) instead. To get a de-fragmented frame, use `newframe = frame.copy()`\n",
      "  muestras['Muestra _'+str(i)]=_\n",
      "C:\\Users\\zazaz\\AppData\\Local\\Temp\\ipykernel_22132\\527239248.py:4: PerformanceWarning: DataFrame is highly fragmented.  This is usually the result of calling `frame.insert` many times, which has poor performance.  Consider joining all columns at once using pd.concat(axis=1) instead. To get a de-fragmented frame, use `newframe = frame.copy()`\n",
      "  muestras['Muestra _'+str(i)]=_\n",
      "C:\\Users\\zazaz\\AppData\\Local\\Temp\\ipykernel_22132\\527239248.py:4: PerformanceWarning: DataFrame is highly fragmented.  This is usually the result of calling `frame.insert` many times, which has poor performance.  Consider joining all columns at once using pd.concat(axis=1) instead. To get a de-fragmented frame, use `newframe = frame.copy()`\n",
      "  muestras['Muestra _'+str(i)]=_\n",
      "C:\\Users\\zazaz\\AppData\\Local\\Temp\\ipykernel_22132\\527239248.py:4: PerformanceWarning: DataFrame is highly fragmented.  This is usually the result of calling `frame.insert` many times, which has poor performance.  Consider joining all columns at once using pd.concat(axis=1) instead. To get a de-fragmented frame, use `newframe = frame.copy()`\n",
      "  muestras['Muestra _'+str(i)]=_\n",
      "C:\\Users\\zazaz\\AppData\\Local\\Temp\\ipykernel_22132\\527239248.py:4: PerformanceWarning: DataFrame is highly fragmented.  This is usually the result of calling `frame.insert` many times, which has poor performance.  Consider joining all columns at once using pd.concat(axis=1) instead. To get a de-fragmented frame, use `newframe = frame.copy()`\n",
      "  muestras['Muestra _'+str(i)]=_\n",
      "C:\\Users\\zazaz\\AppData\\Local\\Temp\\ipykernel_22132\\527239248.py:4: PerformanceWarning: DataFrame is highly fragmented.  This is usually the result of calling `frame.insert` many times, which has poor performance.  Consider joining all columns at once using pd.concat(axis=1) instead. To get a de-fragmented frame, use `newframe = frame.copy()`\n",
      "  muestras['Muestra _'+str(i)]=_\n",
      "C:\\Users\\zazaz\\AppData\\Local\\Temp\\ipykernel_22132\\527239248.py:4: PerformanceWarning: DataFrame is highly fragmented.  This is usually the result of calling `frame.insert` many times, which has poor performance.  Consider joining all columns at once using pd.concat(axis=1) instead. To get a de-fragmented frame, use `newframe = frame.copy()`\n",
      "  muestras['Muestra _'+str(i)]=_\n",
      "C:\\Users\\zazaz\\AppData\\Local\\Temp\\ipykernel_22132\\527239248.py:4: PerformanceWarning: DataFrame is highly fragmented.  This is usually the result of calling `frame.insert` many times, which has poor performance.  Consider joining all columns at once using pd.concat(axis=1) instead. To get a de-fragmented frame, use `newframe = frame.copy()`\n",
      "  muestras['Muestra _'+str(i)]=_\n",
      "C:\\Users\\zazaz\\AppData\\Local\\Temp\\ipykernel_22132\\527239248.py:4: PerformanceWarning: DataFrame is highly fragmented.  This is usually the result of calling `frame.insert` many times, which has poor performance.  Consider joining all columns at once using pd.concat(axis=1) instead. To get a de-fragmented frame, use `newframe = frame.copy()`\n",
      "  muestras['Muestra _'+str(i)]=_\n",
      "C:\\Users\\zazaz\\AppData\\Local\\Temp\\ipykernel_22132\\527239248.py:4: PerformanceWarning: DataFrame is highly fragmented.  This is usually the result of calling `frame.insert` many times, which has poor performance.  Consider joining all columns at once using pd.concat(axis=1) instead. To get a de-fragmented frame, use `newframe = frame.copy()`\n",
      "  muestras['Muestra _'+str(i)]=_\n",
      "C:\\Users\\zazaz\\AppData\\Local\\Temp\\ipykernel_22132\\527239248.py:4: PerformanceWarning: DataFrame is highly fragmented.  This is usually the result of calling `frame.insert` many times, which has poor performance.  Consider joining all columns at once using pd.concat(axis=1) instead. To get a de-fragmented frame, use `newframe = frame.copy()`\n",
      "  muestras['Muestra _'+str(i)]=_\n",
      "C:\\Users\\zazaz\\AppData\\Local\\Temp\\ipykernel_22132\\527239248.py:4: PerformanceWarning: DataFrame is highly fragmented.  This is usually the result of calling `frame.insert` many times, which has poor performance.  Consider joining all columns at once using pd.concat(axis=1) instead. To get a de-fragmented frame, use `newframe = frame.copy()`\n",
      "  muestras['Muestra _'+str(i)]=_\n",
      "C:\\Users\\zazaz\\AppData\\Local\\Temp\\ipykernel_22132\\527239248.py:4: PerformanceWarning: DataFrame is highly fragmented.  This is usually the result of calling `frame.insert` many times, which has poor performance.  Consider joining all columns at once using pd.concat(axis=1) instead. To get a de-fragmented frame, use `newframe = frame.copy()`\n",
      "  muestras['Muestra _'+str(i)]=_\n",
      "C:\\Users\\zazaz\\AppData\\Local\\Temp\\ipykernel_22132\\527239248.py:4: PerformanceWarning: DataFrame is highly fragmented.  This is usually the result of calling `frame.insert` many times, which has poor performance.  Consider joining all columns at once using pd.concat(axis=1) instead. To get a de-fragmented frame, use `newframe = frame.copy()`\n",
      "  muestras['Muestra _'+str(i)]=_\n",
      "C:\\Users\\zazaz\\AppData\\Local\\Temp\\ipykernel_22132\\527239248.py:4: PerformanceWarning: DataFrame is highly fragmented.  This is usually the result of calling `frame.insert` many times, which has poor performance.  Consider joining all columns at once using pd.concat(axis=1) instead. To get a de-fragmented frame, use `newframe = frame.copy()`\n",
      "  muestras['Muestra _'+str(i)]=_\n",
      "C:\\Users\\zazaz\\AppData\\Local\\Temp\\ipykernel_22132\\527239248.py:4: PerformanceWarning: DataFrame is highly fragmented.  This is usually the result of calling `frame.insert` many times, which has poor performance.  Consider joining all columns at once using pd.concat(axis=1) instead. To get a de-fragmented frame, use `newframe = frame.copy()`\n",
      "  muestras['Muestra _'+str(i)]=_\n",
      "C:\\Users\\zazaz\\AppData\\Local\\Temp\\ipykernel_22132\\527239248.py:4: PerformanceWarning: DataFrame is highly fragmented.  This is usually the result of calling `frame.insert` many times, which has poor performance.  Consider joining all columns at once using pd.concat(axis=1) instead. To get a de-fragmented frame, use `newframe = frame.copy()`\n",
      "  muestras['Muestra _'+str(i)]=_\n",
      "C:\\Users\\zazaz\\AppData\\Local\\Temp\\ipykernel_22132\\527239248.py:4: PerformanceWarning: DataFrame is highly fragmented.  This is usually the result of calling `frame.insert` many times, which has poor performance.  Consider joining all columns at once using pd.concat(axis=1) instead. To get a de-fragmented frame, use `newframe = frame.copy()`\n",
      "  muestras['Muestra _'+str(i)]=_\n",
      "C:\\Users\\zazaz\\AppData\\Local\\Temp\\ipykernel_22132\\527239248.py:4: PerformanceWarning: DataFrame is highly fragmented.  This is usually the result of calling `frame.insert` many times, which has poor performance.  Consider joining all columns at once using pd.concat(axis=1) instead. To get a de-fragmented frame, use `newframe = frame.copy()`\n",
      "  muestras['Muestra _'+str(i)]=_\n",
      "C:\\Users\\zazaz\\AppData\\Local\\Temp\\ipykernel_22132\\527239248.py:4: PerformanceWarning: DataFrame is highly fragmented.  This is usually the result of calling `frame.insert` many times, which has poor performance.  Consider joining all columns at once using pd.concat(axis=1) instead. To get a de-fragmented frame, use `newframe = frame.copy()`\n",
      "  muestras['Muestra _'+str(i)]=_\n",
      "C:\\Users\\zazaz\\AppData\\Local\\Temp\\ipykernel_22132\\527239248.py:4: PerformanceWarning: DataFrame is highly fragmented.  This is usually the result of calling `frame.insert` many times, which has poor performance.  Consider joining all columns at once using pd.concat(axis=1) instead. To get a de-fragmented frame, use `newframe = frame.copy()`\n",
      "  muestras['Muestra _'+str(i)]=_\n",
      "C:\\Users\\zazaz\\AppData\\Local\\Temp\\ipykernel_22132\\527239248.py:4: PerformanceWarning: DataFrame is highly fragmented.  This is usually the result of calling `frame.insert` many times, which has poor performance.  Consider joining all columns at once using pd.concat(axis=1) instead. To get a de-fragmented frame, use `newframe = frame.copy()`\n",
      "  muestras['Muestra _'+str(i)]=_\n",
      "C:\\Users\\zazaz\\AppData\\Local\\Temp\\ipykernel_22132\\527239248.py:4: PerformanceWarning: DataFrame is highly fragmented.  This is usually the result of calling `frame.insert` many times, which has poor performance.  Consider joining all columns at once using pd.concat(axis=1) instead. To get a de-fragmented frame, use `newframe = frame.copy()`\n",
      "  muestras['Muestra _'+str(i)]=_\n",
      "C:\\Users\\zazaz\\AppData\\Local\\Temp\\ipykernel_22132\\527239248.py:4: PerformanceWarning: DataFrame is highly fragmented.  This is usually the result of calling `frame.insert` many times, which has poor performance.  Consider joining all columns at once using pd.concat(axis=1) instead. To get a de-fragmented frame, use `newframe = frame.copy()`\n",
      "  muestras['Muestra _'+str(i)]=_\n",
      "C:\\Users\\zazaz\\AppData\\Local\\Temp\\ipykernel_22132\\527239248.py:4: PerformanceWarning: DataFrame is highly fragmented.  This is usually the result of calling `frame.insert` many times, which has poor performance.  Consider joining all columns at once using pd.concat(axis=1) instead. To get a de-fragmented frame, use `newframe = frame.copy()`\n",
      "  muestras['Muestra _'+str(i)]=_\n",
      "C:\\Users\\zazaz\\AppData\\Local\\Temp\\ipykernel_22132\\527239248.py:4: PerformanceWarning: DataFrame is highly fragmented.  This is usually the result of calling `frame.insert` many times, which has poor performance.  Consider joining all columns at once using pd.concat(axis=1) instead. To get a de-fragmented frame, use `newframe = frame.copy()`\n",
      "  muestras['Muestra _'+str(i)]=_\n",
      "C:\\Users\\zazaz\\AppData\\Local\\Temp\\ipykernel_22132\\527239248.py:4: PerformanceWarning: DataFrame is highly fragmented.  This is usually the result of calling `frame.insert` many times, which has poor performance.  Consider joining all columns at once using pd.concat(axis=1) instead. To get a de-fragmented frame, use `newframe = frame.copy()`\n",
      "  muestras['Muestra _'+str(i)]=_\n",
      "C:\\Users\\zazaz\\AppData\\Local\\Temp\\ipykernel_22132\\527239248.py:4: PerformanceWarning: DataFrame is highly fragmented.  This is usually the result of calling `frame.insert` many times, which has poor performance.  Consider joining all columns at once using pd.concat(axis=1) instead. To get a de-fragmented frame, use `newframe = frame.copy()`\n",
      "  muestras['Muestra _'+str(i)]=_\n",
      "C:\\Users\\zazaz\\AppData\\Local\\Temp\\ipykernel_22132\\527239248.py:4: PerformanceWarning: DataFrame is highly fragmented.  This is usually the result of calling `frame.insert` many times, which has poor performance.  Consider joining all columns at once using pd.concat(axis=1) instead. To get a de-fragmented frame, use `newframe = frame.copy()`\n",
      "  muestras['Muestra _'+str(i)]=_\n",
      "C:\\Users\\zazaz\\AppData\\Local\\Temp\\ipykernel_22132\\527239248.py:4: PerformanceWarning: DataFrame is highly fragmented.  This is usually the result of calling `frame.insert` many times, which has poor performance.  Consider joining all columns at once using pd.concat(axis=1) instead. To get a de-fragmented frame, use `newframe = frame.copy()`\n",
      "  muestras['Muestra _'+str(i)]=_\n",
      "C:\\Users\\zazaz\\AppData\\Local\\Temp\\ipykernel_22132\\527239248.py:4: PerformanceWarning: DataFrame is highly fragmented.  This is usually the result of calling `frame.insert` many times, which has poor performance.  Consider joining all columns at once using pd.concat(axis=1) instead. To get a de-fragmented frame, use `newframe = frame.copy()`\n",
      "  muestras['Muestra _'+str(i)]=_\n",
      "C:\\Users\\zazaz\\AppData\\Local\\Temp\\ipykernel_22132\\527239248.py:4: PerformanceWarning: DataFrame is highly fragmented.  This is usually the result of calling `frame.insert` many times, which has poor performance.  Consider joining all columns at once using pd.concat(axis=1) instead. To get a de-fragmented frame, use `newframe = frame.copy()`\n",
      "  muestras['Muestra _'+str(i)]=_\n",
      "C:\\Users\\zazaz\\AppData\\Local\\Temp\\ipykernel_22132\\527239248.py:4: PerformanceWarning: DataFrame is highly fragmented.  This is usually the result of calling `frame.insert` many times, which has poor performance.  Consider joining all columns at once using pd.concat(axis=1) instead. To get a de-fragmented frame, use `newframe = frame.copy()`\n",
      "  muestras['Muestra _'+str(i)]=_\n",
      "C:\\Users\\zazaz\\AppData\\Local\\Temp\\ipykernel_22132\\527239248.py:4: PerformanceWarning: DataFrame is highly fragmented.  This is usually the result of calling `frame.insert` many times, which has poor performance.  Consider joining all columns at once using pd.concat(axis=1) instead. To get a de-fragmented frame, use `newframe = frame.copy()`\n",
      "  muestras['Muestra _'+str(i)]=_\n",
      "C:\\Users\\zazaz\\AppData\\Local\\Temp\\ipykernel_22132\\527239248.py:4: PerformanceWarning: DataFrame is highly fragmented.  This is usually the result of calling `frame.insert` many times, which has poor performance.  Consider joining all columns at once using pd.concat(axis=1) instead. To get a de-fragmented frame, use `newframe = frame.copy()`\n",
      "  muestras['Muestra _'+str(i)]=_\n",
      "C:\\Users\\zazaz\\AppData\\Local\\Temp\\ipykernel_22132\\527239248.py:4: PerformanceWarning: DataFrame is highly fragmented.  This is usually the result of calling `frame.insert` many times, which has poor performance.  Consider joining all columns at once using pd.concat(axis=1) instead. To get a de-fragmented frame, use `newframe = frame.copy()`\n",
      "  muestras['Muestra _'+str(i)]=_\n",
      "C:\\Users\\zazaz\\AppData\\Local\\Temp\\ipykernel_22132\\527239248.py:4: PerformanceWarning: DataFrame is highly fragmented.  This is usually the result of calling `frame.insert` many times, which has poor performance.  Consider joining all columns at once using pd.concat(axis=1) instead. To get a de-fragmented frame, use `newframe = frame.copy()`\n",
      "  muestras['Muestra _'+str(i)]=_\n",
      "C:\\Users\\zazaz\\AppData\\Local\\Temp\\ipykernel_22132\\527239248.py:4: PerformanceWarning: DataFrame is highly fragmented.  This is usually the result of calling `frame.insert` many times, which has poor performance.  Consider joining all columns at once using pd.concat(axis=1) instead. To get a de-fragmented frame, use `newframe = frame.copy()`\n",
      "  muestras['Muestra _'+str(i)]=_\n",
      "C:\\Users\\zazaz\\AppData\\Local\\Temp\\ipykernel_22132\\527239248.py:4: PerformanceWarning: DataFrame is highly fragmented.  This is usually the result of calling `frame.insert` many times, which has poor performance.  Consider joining all columns at once using pd.concat(axis=1) instead. To get a de-fragmented frame, use `newframe = frame.copy()`\n",
      "  muestras['Muestra _'+str(i)]=_\n",
      "C:\\Users\\zazaz\\AppData\\Local\\Temp\\ipykernel_22132\\527239248.py:4: PerformanceWarning: DataFrame is highly fragmented.  This is usually the result of calling `frame.insert` many times, which has poor performance.  Consider joining all columns at once using pd.concat(axis=1) instead. To get a de-fragmented frame, use `newframe = frame.copy()`\n",
      "  muestras['Muestra _'+str(i)]=_\n",
      "C:\\Users\\zazaz\\AppData\\Local\\Temp\\ipykernel_22132\\527239248.py:4: PerformanceWarning: DataFrame is highly fragmented.  This is usually the result of calling `frame.insert` many times, which has poor performance.  Consider joining all columns at once using pd.concat(axis=1) instead. To get a de-fragmented frame, use `newframe = frame.copy()`\n",
      "  muestras['Muestra _'+str(i)]=_\n",
      "C:\\Users\\zazaz\\AppData\\Local\\Temp\\ipykernel_22132\\527239248.py:4: PerformanceWarning: DataFrame is highly fragmented.  This is usually the result of calling `frame.insert` many times, which has poor performance.  Consider joining all columns at once using pd.concat(axis=1) instead. To get a de-fragmented frame, use `newframe = frame.copy()`\n",
      "  muestras['Muestra _'+str(i)]=_\n",
      "C:\\Users\\zazaz\\AppData\\Local\\Temp\\ipykernel_22132\\527239248.py:4: PerformanceWarning: DataFrame is highly fragmented.  This is usually the result of calling `frame.insert` many times, which has poor performance.  Consider joining all columns at once using pd.concat(axis=1) instead. To get a de-fragmented frame, use `newframe = frame.copy()`\n",
      "  muestras['Muestra _'+str(i)]=_\n",
      "C:\\Users\\zazaz\\AppData\\Local\\Temp\\ipykernel_22132\\527239248.py:4: PerformanceWarning: DataFrame is highly fragmented.  This is usually the result of calling `frame.insert` many times, which has poor performance.  Consider joining all columns at once using pd.concat(axis=1) instead. To get a de-fragmented frame, use `newframe = frame.copy()`\n",
      "  muestras['Muestra _'+str(i)]=_\n",
      "C:\\Users\\zazaz\\AppData\\Local\\Temp\\ipykernel_22132\\527239248.py:4: PerformanceWarning: DataFrame is highly fragmented.  This is usually the result of calling `frame.insert` many times, which has poor performance.  Consider joining all columns at once using pd.concat(axis=1) instead. To get a de-fragmented frame, use `newframe = frame.copy()`\n",
      "  muestras['Muestra _'+str(i)]=_\n",
      "C:\\Users\\zazaz\\AppData\\Local\\Temp\\ipykernel_22132\\527239248.py:4: PerformanceWarning: DataFrame is highly fragmented.  This is usually the result of calling `frame.insert` many times, which has poor performance.  Consider joining all columns at once using pd.concat(axis=1) instead. To get a de-fragmented frame, use `newframe = frame.copy()`\n",
      "  muestras['Muestra _'+str(i)]=_\n",
      "C:\\Users\\zazaz\\AppData\\Local\\Temp\\ipykernel_22132\\527239248.py:4: PerformanceWarning: DataFrame is highly fragmented.  This is usually the result of calling `frame.insert` many times, which has poor performance.  Consider joining all columns at once using pd.concat(axis=1) instead. To get a de-fragmented frame, use `newframe = frame.copy()`\n",
      "  muestras['Muestra _'+str(i)]=_\n",
      "C:\\Users\\zazaz\\AppData\\Local\\Temp\\ipykernel_22132\\527239248.py:4: PerformanceWarning: DataFrame is highly fragmented.  This is usually the result of calling `frame.insert` many times, which has poor performance.  Consider joining all columns at once using pd.concat(axis=1) instead. To get a de-fragmented frame, use `newframe = frame.copy()`\n",
      "  muestras['Muestra _'+str(i)]=_\n",
      "C:\\Users\\zazaz\\AppData\\Local\\Temp\\ipykernel_22132\\527239248.py:4: PerformanceWarning: DataFrame is highly fragmented.  This is usually the result of calling `frame.insert` many times, which has poor performance.  Consider joining all columns at once using pd.concat(axis=1) instead. To get a de-fragmented frame, use `newframe = frame.copy()`\n",
      "  muestras['Muestra _'+str(i)]=_\n",
      "C:\\Users\\zazaz\\AppData\\Local\\Temp\\ipykernel_22132\\527239248.py:4: PerformanceWarning: DataFrame is highly fragmented.  This is usually the result of calling `frame.insert` many times, which has poor performance.  Consider joining all columns at once using pd.concat(axis=1) instead. To get a de-fragmented frame, use `newframe = frame.copy()`\n",
      "  muestras['Muestra _'+str(i)]=_\n",
      "C:\\Users\\zazaz\\AppData\\Local\\Temp\\ipykernel_22132\\527239248.py:4: PerformanceWarning: DataFrame is highly fragmented.  This is usually the result of calling `frame.insert` many times, which has poor performance.  Consider joining all columns at once using pd.concat(axis=1) instead. To get a de-fragmented frame, use `newframe = frame.copy()`\n",
      "  muestras['Muestra _'+str(i)]=_\n",
      "C:\\Users\\zazaz\\AppData\\Local\\Temp\\ipykernel_22132\\527239248.py:4: PerformanceWarning: DataFrame is highly fragmented.  This is usually the result of calling `frame.insert` many times, which has poor performance.  Consider joining all columns at once using pd.concat(axis=1) instead. To get a de-fragmented frame, use `newframe = frame.copy()`\n",
      "  muestras['Muestra _'+str(i)]=_\n",
      "C:\\Users\\zazaz\\AppData\\Local\\Temp\\ipykernel_22132\\527239248.py:4: PerformanceWarning: DataFrame is highly fragmented.  This is usually the result of calling `frame.insert` many times, which has poor performance.  Consider joining all columns at once using pd.concat(axis=1) instead. To get a de-fragmented frame, use `newframe = frame.copy()`\n",
      "  muestras['Muestra _'+str(i)]=_\n",
      "C:\\Users\\zazaz\\AppData\\Local\\Temp\\ipykernel_22132\\527239248.py:4: PerformanceWarning: DataFrame is highly fragmented.  This is usually the result of calling `frame.insert` many times, which has poor performance.  Consider joining all columns at once using pd.concat(axis=1) instead. To get a de-fragmented frame, use `newframe = frame.copy()`\n",
      "  muestras['Muestra _'+str(i)]=_\n",
      "C:\\Users\\zazaz\\AppData\\Local\\Temp\\ipykernel_22132\\527239248.py:4: PerformanceWarning: DataFrame is highly fragmented.  This is usually the result of calling `frame.insert` many times, which has poor performance.  Consider joining all columns at once using pd.concat(axis=1) instead. To get a de-fragmented frame, use `newframe = frame.copy()`\n",
      "  muestras['Muestra _'+str(i)]=_\n",
      "C:\\Users\\zazaz\\AppData\\Local\\Temp\\ipykernel_22132\\527239248.py:4: PerformanceWarning: DataFrame is highly fragmented.  This is usually the result of calling `frame.insert` many times, which has poor performance.  Consider joining all columns at once using pd.concat(axis=1) instead. To get a de-fragmented frame, use `newframe = frame.copy()`\n",
      "  muestras['Muestra _'+str(i)]=_\n",
      "C:\\Users\\zazaz\\AppData\\Local\\Temp\\ipykernel_22132\\527239248.py:4: PerformanceWarning: DataFrame is highly fragmented.  This is usually the result of calling `frame.insert` many times, which has poor performance.  Consider joining all columns at once using pd.concat(axis=1) instead. To get a de-fragmented frame, use `newframe = frame.copy()`\n",
      "  muestras['Muestra _'+str(i)]=_\n",
      "C:\\Users\\zazaz\\AppData\\Local\\Temp\\ipykernel_22132\\527239248.py:4: PerformanceWarning: DataFrame is highly fragmented.  This is usually the result of calling `frame.insert` many times, which has poor performance.  Consider joining all columns at once using pd.concat(axis=1) instead. To get a de-fragmented frame, use `newframe = frame.copy()`\n",
      "  muestras['Muestra _'+str(i)]=_\n",
      "C:\\Users\\zazaz\\AppData\\Local\\Temp\\ipykernel_22132\\527239248.py:4: PerformanceWarning: DataFrame is highly fragmented.  This is usually the result of calling `frame.insert` many times, which has poor performance.  Consider joining all columns at once using pd.concat(axis=1) instead. To get a de-fragmented frame, use `newframe = frame.copy()`\n",
      "  muestras['Muestra _'+str(i)]=_\n",
      "C:\\Users\\zazaz\\AppData\\Local\\Temp\\ipykernel_22132\\527239248.py:4: PerformanceWarning: DataFrame is highly fragmented.  This is usually the result of calling `frame.insert` many times, which has poor performance.  Consider joining all columns at once using pd.concat(axis=1) instead. To get a de-fragmented frame, use `newframe = frame.copy()`\n",
      "  muestras['Muestra _'+str(i)]=_\n",
      "C:\\Users\\zazaz\\AppData\\Local\\Temp\\ipykernel_22132\\527239248.py:4: PerformanceWarning: DataFrame is highly fragmented.  This is usually the result of calling `frame.insert` many times, which has poor performance.  Consider joining all columns at once using pd.concat(axis=1) instead. To get a de-fragmented frame, use `newframe = frame.copy()`\n",
      "  muestras['Muestra _'+str(i)]=_\n",
      "C:\\Users\\zazaz\\AppData\\Local\\Temp\\ipykernel_22132\\527239248.py:4: PerformanceWarning: DataFrame is highly fragmented.  This is usually the result of calling `frame.insert` many times, which has poor performance.  Consider joining all columns at once using pd.concat(axis=1) instead. To get a de-fragmented frame, use `newframe = frame.copy()`\n",
      "  muestras['Muestra _'+str(i)]=_\n",
      "C:\\Users\\zazaz\\AppData\\Local\\Temp\\ipykernel_22132\\527239248.py:4: PerformanceWarning: DataFrame is highly fragmented.  This is usually the result of calling `frame.insert` many times, which has poor performance.  Consider joining all columns at once using pd.concat(axis=1) instead. To get a de-fragmented frame, use `newframe = frame.copy()`\n",
      "  muestras['Muestra _'+str(i)]=_\n",
      "C:\\Users\\zazaz\\AppData\\Local\\Temp\\ipykernel_22132\\527239248.py:4: PerformanceWarning: DataFrame is highly fragmented.  This is usually the result of calling `frame.insert` many times, which has poor performance.  Consider joining all columns at once using pd.concat(axis=1) instead. To get a de-fragmented frame, use `newframe = frame.copy()`\n",
      "  muestras['Muestra _'+str(i)]=_\n",
      "C:\\Users\\zazaz\\AppData\\Local\\Temp\\ipykernel_22132\\527239248.py:4: PerformanceWarning: DataFrame is highly fragmented.  This is usually the result of calling `frame.insert` many times, which has poor performance.  Consider joining all columns at once using pd.concat(axis=1) instead. To get a de-fragmented frame, use `newframe = frame.copy()`\n",
      "  muestras['Muestra _'+str(i)]=_\n",
      "C:\\Users\\zazaz\\AppData\\Local\\Temp\\ipykernel_22132\\527239248.py:4: PerformanceWarning: DataFrame is highly fragmented.  This is usually the result of calling `frame.insert` many times, which has poor performance.  Consider joining all columns at once using pd.concat(axis=1) instead. To get a de-fragmented frame, use `newframe = frame.copy()`\n",
      "  muestras['Muestra _'+str(i)]=_\n",
      "C:\\Users\\zazaz\\AppData\\Local\\Temp\\ipykernel_22132\\527239248.py:4: PerformanceWarning: DataFrame is highly fragmented.  This is usually the result of calling `frame.insert` many times, which has poor performance.  Consider joining all columns at once using pd.concat(axis=1) instead. To get a de-fragmented frame, use `newframe = frame.copy()`\n",
      "  muestras['Muestra _'+str(i)]=_\n",
      "C:\\Users\\zazaz\\AppData\\Local\\Temp\\ipykernel_22132\\527239248.py:4: PerformanceWarning: DataFrame is highly fragmented.  This is usually the result of calling `frame.insert` many times, which has poor performance.  Consider joining all columns at once using pd.concat(axis=1) instead. To get a de-fragmented frame, use `newframe = frame.copy()`\n",
      "  muestras['Muestra _'+str(i)]=_\n",
      "C:\\Users\\zazaz\\AppData\\Local\\Temp\\ipykernel_22132\\527239248.py:4: PerformanceWarning: DataFrame is highly fragmented.  This is usually the result of calling `frame.insert` many times, which has poor performance.  Consider joining all columns at once using pd.concat(axis=1) instead. To get a de-fragmented frame, use `newframe = frame.copy()`\n",
      "  muestras['Muestra _'+str(i)]=_\n",
      "C:\\Users\\zazaz\\AppData\\Local\\Temp\\ipykernel_22132\\527239248.py:4: PerformanceWarning: DataFrame is highly fragmented.  This is usually the result of calling `frame.insert` many times, which has poor performance.  Consider joining all columns at once using pd.concat(axis=1) instead. To get a de-fragmented frame, use `newframe = frame.copy()`\n",
      "  muestras['Muestra _'+str(i)]=_\n",
      "C:\\Users\\zazaz\\AppData\\Local\\Temp\\ipykernel_22132\\527239248.py:4: PerformanceWarning: DataFrame is highly fragmented.  This is usually the result of calling `frame.insert` many times, which has poor performance.  Consider joining all columns at once using pd.concat(axis=1) instead. To get a de-fragmented frame, use `newframe = frame.copy()`\n",
      "  muestras['Muestra _'+str(i)]=_\n",
      "C:\\Users\\zazaz\\AppData\\Local\\Temp\\ipykernel_22132\\527239248.py:4: PerformanceWarning: DataFrame is highly fragmented.  This is usually the result of calling `frame.insert` many times, which has poor performance.  Consider joining all columns at once using pd.concat(axis=1) instead. To get a de-fragmented frame, use `newframe = frame.copy()`\n",
      "  muestras['Muestra _'+str(i)]=_\n",
      "C:\\Users\\zazaz\\AppData\\Local\\Temp\\ipykernel_22132\\527239248.py:4: PerformanceWarning: DataFrame is highly fragmented.  This is usually the result of calling `frame.insert` many times, which has poor performance.  Consider joining all columns at once using pd.concat(axis=1) instead. To get a de-fragmented frame, use `newframe = frame.copy()`\n",
      "  muestras['Muestra _'+str(i)]=_\n",
      "C:\\Users\\zazaz\\AppData\\Local\\Temp\\ipykernel_22132\\527239248.py:4: PerformanceWarning: DataFrame is highly fragmented.  This is usually the result of calling `frame.insert` many times, which has poor performance.  Consider joining all columns at once using pd.concat(axis=1) instead. To get a de-fragmented frame, use `newframe = frame.copy()`\n",
      "  muestras['Muestra _'+str(i)]=_\n",
      "C:\\Users\\zazaz\\AppData\\Local\\Temp\\ipykernel_22132\\527239248.py:4: PerformanceWarning: DataFrame is highly fragmented.  This is usually the result of calling `frame.insert` many times, which has poor performance.  Consider joining all columns at once using pd.concat(axis=1) instead. To get a de-fragmented frame, use `newframe = frame.copy()`\n",
      "  muestras['Muestra _'+str(i)]=_\n",
      "C:\\Users\\zazaz\\AppData\\Local\\Temp\\ipykernel_22132\\527239248.py:4: PerformanceWarning: DataFrame is highly fragmented.  This is usually the result of calling `frame.insert` many times, which has poor performance.  Consider joining all columns at once using pd.concat(axis=1) instead. To get a de-fragmented frame, use `newframe = frame.copy()`\n",
      "  muestras['Muestra _'+str(i)]=_\n",
      "C:\\Users\\zazaz\\AppData\\Local\\Temp\\ipykernel_22132\\527239248.py:4: PerformanceWarning: DataFrame is highly fragmented.  This is usually the result of calling `frame.insert` many times, which has poor performance.  Consider joining all columns at once using pd.concat(axis=1) instead. To get a de-fragmented frame, use `newframe = frame.copy()`\n",
      "  muestras['Muestra _'+str(i)]=_\n",
      "C:\\Users\\zazaz\\AppData\\Local\\Temp\\ipykernel_22132\\527239248.py:4: PerformanceWarning: DataFrame is highly fragmented.  This is usually the result of calling `frame.insert` many times, which has poor performance.  Consider joining all columns at once using pd.concat(axis=1) instead. To get a de-fragmented frame, use `newframe = frame.copy()`\n",
      "  muestras['Muestra _'+str(i)]=_\n",
      "C:\\Users\\zazaz\\AppData\\Local\\Temp\\ipykernel_22132\\527239248.py:4: PerformanceWarning: DataFrame is highly fragmented.  This is usually the result of calling `frame.insert` many times, which has poor performance.  Consider joining all columns at once using pd.concat(axis=1) instead. To get a de-fragmented frame, use `newframe = frame.copy()`\n",
      "  muestras['Muestra _'+str(i)]=_\n",
      "C:\\Users\\zazaz\\AppData\\Local\\Temp\\ipykernel_22132\\527239248.py:4: PerformanceWarning: DataFrame is highly fragmented.  This is usually the result of calling `frame.insert` many times, which has poor performance.  Consider joining all columns at once using pd.concat(axis=1) instead. To get a de-fragmented frame, use `newframe = frame.copy()`\n",
      "  muestras['Muestra _'+str(i)]=_\n",
      "C:\\Users\\zazaz\\AppData\\Local\\Temp\\ipykernel_22132\\527239248.py:4: PerformanceWarning: DataFrame is highly fragmented.  This is usually the result of calling `frame.insert` many times, which has poor performance.  Consider joining all columns at once using pd.concat(axis=1) instead. To get a de-fragmented frame, use `newframe = frame.copy()`\n",
      "  muestras['Muestra _'+str(i)]=_\n",
      "C:\\Users\\zazaz\\AppData\\Local\\Temp\\ipykernel_22132\\527239248.py:4: PerformanceWarning: DataFrame is highly fragmented.  This is usually the result of calling `frame.insert` many times, which has poor performance.  Consider joining all columns at once using pd.concat(axis=1) instead. To get a de-fragmented frame, use `newframe = frame.copy()`\n",
      "  muestras['Muestra _'+str(i)]=_\n",
      "C:\\Users\\zazaz\\AppData\\Local\\Temp\\ipykernel_22132\\527239248.py:4: PerformanceWarning: DataFrame is highly fragmented.  This is usually the result of calling `frame.insert` many times, which has poor performance.  Consider joining all columns at once using pd.concat(axis=1) instead. To get a de-fragmented frame, use `newframe = frame.copy()`\n",
      "  muestras['Muestra _'+str(i)]=_\n",
      "C:\\Users\\zazaz\\AppData\\Local\\Temp\\ipykernel_22132\\527239248.py:4: PerformanceWarning: DataFrame is highly fragmented.  This is usually the result of calling `frame.insert` many times, which has poor performance.  Consider joining all columns at once using pd.concat(axis=1) instead. To get a de-fragmented frame, use `newframe = frame.copy()`\n",
      "  muestras['Muestra _'+str(i)]=_\n",
      "C:\\Users\\zazaz\\AppData\\Local\\Temp\\ipykernel_22132\\527239248.py:4: PerformanceWarning: DataFrame is highly fragmented.  This is usually the result of calling `frame.insert` many times, which has poor performance.  Consider joining all columns at once using pd.concat(axis=1) instead. To get a de-fragmented frame, use `newframe = frame.copy()`\n",
      "  muestras['Muestra _'+str(i)]=_\n",
      "C:\\Users\\zazaz\\AppData\\Local\\Temp\\ipykernel_22132\\527239248.py:4: PerformanceWarning: DataFrame is highly fragmented.  This is usually the result of calling `frame.insert` many times, which has poor performance.  Consider joining all columns at once using pd.concat(axis=1) instead. To get a de-fragmented frame, use `newframe = frame.copy()`\n",
      "  muestras['Muestra _'+str(i)]=_\n",
      "C:\\Users\\zazaz\\AppData\\Local\\Temp\\ipykernel_22132\\527239248.py:4: PerformanceWarning: DataFrame is highly fragmented.  This is usually the result of calling `frame.insert` many times, which has poor performance.  Consider joining all columns at once using pd.concat(axis=1) instead. To get a de-fragmented frame, use `newframe = frame.copy()`\n",
      "  muestras['Muestra _'+str(i)]=_\n",
      "C:\\Users\\zazaz\\AppData\\Local\\Temp\\ipykernel_22132\\527239248.py:4: PerformanceWarning: DataFrame is highly fragmented.  This is usually the result of calling `frame.insert` many times, which has poor performance.  Consider joining all columns at once using pd.concat(axis=1) instead. To get a de-fragmented frame, use `newframe = frame.copy()`\n",
      "  muestras['Muestra _'+str(i)]=_\n",
      "C:\\Users\\zazaz\\AppData\\Local\\Temp\\ipykernel_22132\\527239248.py:4: PerformanceWarning: DataFrame is highly fragmented.  This is usually the result of calling `frame.insert` many times, which has poor performance.  Consider joining all columns at once using pd.concat(axis=1) instead. To get a de-fragmented frame, use `newframe = frame.copy()`\n",
      "  muestras['Muestra _'+str(i)]=_\n",
      "C:\\Users\\zazaz\\AppData\\Local\\Temp\\ipykernel_22132\\527239248.py:4: PerformanceWarning: DataFrame is highly fragmented.  This is usually the result of calling `frame.insert` many times, which has poor performance.  Consider joining all columns at once using pd.concat(axis=1) instead. To get a de-fragmented frame, use `newframe = frame.copy()`\n",
      "  muestras['Muestra _'+str(i)]=_\n",
      "C:\\Users\\zazaz\\AppData\\Local\\Temp\\ipykernel_22132\\527239248.py:4: PerformanceWarning: DataFrame is highly fragmented.  This is usually the result of calling `frame.insert` many times, which has poor performance.  Consider joining all columns at once using pd.concat(axis=1) instead. To get a de-fragmented frame, use `newframe = frame.copy()`\n",
      "  muestras['Muestra _'+str(i)]=_\n",
      "C:\\Users\\zazaz\\AppData\\Local\\Temp\\ipykernel_22132\\527239248.py:4: PerformanceWarning: DataFrame is highly fragmented.  This is usually the result of calling `frame.insert` many times, which has poor performance.  Consider joining all columns at once using pd.concat(axis=1) instead. To get a de-fragmented frame, use `newframe = frame.copy()`\n",
      "  muestras['Muestra _'+str(i)]=_\n",
      "C:\\Users\\zazaz\\AppData\\Local\\Temp\\ipykernel_22132\\527239248.py:4: PerformanceWarning: DataFrame is highly fragmented.  This is usually the result of calling `frame.insert` many times, which has poor performance.  Consider joining all columns at once using pd.concat(axis=1) instead. To get a de-fragmented frame, use `newframe = frame.copy()`\n",
      "  muestras['Muestra _'+str(i)]=_\n",
      "C:\\Users\\zazaz\\AppData\\Local\\Temp\\ipykernel_22132\\527239248.py:4: PerformanceWarning: DataFrame is highly fragmented.  This is usually the result of calling `frame.insert` many times, which has poor performance.  Consider joining all columns at once using pd.concat(axis=1) instead. To get a de-fragmented frame, use `newframe = frame.copy()`\n",
      "  muestras['Muestra _'+str(i)]=_\n",
      "C:\\Users\\zazaz\\AppData\\Local\\Temp\\ipykernel_22132\\527239248.py:4: PerformanceWarning: DataFrame is highly fragmented.  This is usually the result of calling `frame.insert` many times, which has poor performance.  Consider joining all columns at once using pd.concat(axis=1) instead. To get a de-fragmented frame, use `newframe = frame.copy()`\n",
      "  muestras['Muestra _'+str(i)]=_\n",
      "C:\\Users\\zazaz\\AppData\\Local\\Temp\\ipykernel_22132\\527239248.py:4: PerformanceWarning: DataFrame is highly fragmented.  This is usually the result of calling `frame.insert` many times, which has poor performance.  Consider joining all columns at once using pd.concat(axis=1) instead. To get a de-fragmented frame, use `newframe = frame.copy()`\n",
      "  muestras['Muestra _'+str(i)]=_\n",
      "C:\\Users\\zazaz\\AppData\\Local\\Temp\\ipykernel_22132\\527239248.py:4: PerformanceWarning: DataFrame is highly fragmented.  This is usually the result of calling `frame.insert` many times, which has poor performance.  Consider joining all columns at once using pd.concat(axis=1) instead. To get a de-fragmented frame, use `newframe = frame.copy()`\n",
      "  muestras['Muestra _'+str(i)]=_\n",
      "C:\\Users\\zazaz\\AppData\\Local\\Temp\\ipykernel_22132\\527239248.py:4: PerformanceWarning: DataFrame is highly fragmented.  This is usually the result of calling `frame.insert` many times, which has poor performance.  Consider joining all columns at once using pd.concat(axis=1) instead. To get a de-fragmented frame, use `newframe = frame.copy()`\n",
      "  muestras['Muestra _'+str(i)]=_\n",
      "C:\\Users\\zazaz\\AppData\\Local\\Temp\\ipykernel_22132\\527239248.py:4: PerformanceWarning: DataFrame is highly fragmented.  This is usually the result of calling `frame.insert` many times, which has poor performance.  Consider joining all columns at once using pd.concat(axis=1) instead. To get a de-fragmented frame, use `newframe = frame.copy()`\n",
      "  muestras['Muestra _'+str(i)]=_\n",
      "C:\\Users\\zazaz\\AppData\\Local\\Temp\\ipykernel_22132\\527239248.py:4: PerformanceWarning: DataFrame is highly fragmented.  This is usually the result of calling `frame.insert` many times, which has poor performance.  Consider joining all columns at once using pd.concat(axis=1) instead. To get a de-fragmented frame, use `newframe = frame.copy()`\n",
      "  muestras['Muestra _'+str(i)]=_\n",
      "C:\\Users\\zazaz\\AppData\\Local\\Temp\\ipykernel_22132\\527239248.py:4: PerformanceWarning: DataFrame is highly fragmented.  This is usually the result of calling `frame.insert` many times, which has poor performance.  Consider joining all columns at once using pd.concat(axis=1) instead. To get a de-fragmented frame, use `newframe = frame.copy()`\n",
      "  muestras['Muestra _'+str(i)]=_\n",
      "C:\\Users\\zazaz\\AppData\\Local\\Temp\\ipykernel_22132\\527239248.py:4: PerformanceWarning: DataFrame is highly fragmented.  This is usually the result of calling `frame.insert` many times, which has poor performance.  Consider joining all columns at once using pd.concat(axis=1) instead. To get a de-fragmented frame, use `newframe = frame.copy()`\n",
      "  muestras['Muestra _'+str(i)]=_\n",
      "C:\\Users\\zazaz\\AppData\\Local\\Temp\\ipykernel_22132\\527239248.py:4: PerformanceWarning: DataFrame is highly fragmented.  This is usually the result of calling `frame.insert` many times, which has poor performance.  Consider joining all columns at once using pd.concat(axis=1) instead. To get a de-fragmented frame, use `newframe = frame.copy()`\n",
      "  muestras['Muestra _'+str(i)]=_\n",
      "C:\\Users\\zazaz\\AppData\\Local\\Temp\\ipykernel_22132\\527239248.py:4: PerformanceWarning: DataFrame is highly fragmented.  This is usually the result of calling `frame.insert` many times, which has poor performance.  Consider joining all columns at once using pd.concat(axis=1) instead. To get a de-fragmented frame, use `newframe = frame.copy()`\n",
      "  muestras['Muestra _'+str(i)]=_\n",
      "C:\\Users\\zazaz\\AppData\\Local\\Temp\\ipykernel_22132\\527239248.py:4: PerformanceWarning: DataFrame is highly fragmented.  This is usually the result of calling `frame.insert` many times, which has poor performance.  Consider joining all columns at once using pd.concat(axis=1) instead. To get a de-fragmented frame, use `newframe = frame.copy()`\n",
      "  muestras['Muestra _'+str(i)]=_\n",
      "C:\\Users\\zazaz\\AppData\\Local\\Temp\\ipykernel_22132\\527239248.py:4: PerformanceWarning: DataFrame is highly fragmented.  This is usually the result of calling `frame.insert` many times, which has poor performance.  Consider joining all columns at once using pd.concat(axis=1) instead. To get a de-fragmented frame, use `newframe = frame.copy()`\n",
      "  muestras['Muestra _'+str(i)]=_\n",
      "C:\\Users\\zazaz\\AppData\\Local\\Temp\\ipykernel_22132\\527239248.py:4: PerformanceWarning: DataFrame is highly fragmented.  This is usually the result of calling `frame.insert` many times, which has poor performance.  Consider joining all columns at once using pd.concat(axis=1) instead. To get a de-fragmented frame, use `newframe = frame.copy()`\n",
      "  muestras['Muestra _'+str(i)]=_\n",
      "C:\\Users\\zazaz\\AppData\\Local\\Temp\\ipykernel_22132\\527239248.py:4: PerformanceWarning: DataFrame is highly fragmented.  This is usually the result of calling `frame.insert` many times, which has poor performance.  Consider joining all columns at once using pd.concat(axis=1) instead. To get a de-fragmented frame, use `newframe = frame.copy()`\n",
      "  muestras['Muestra _'+str(i)]=_\n",
      "C:\\Users\\zazaz\\AppData\\Local\\Temp\\ipykernel_22132\\527239248.py:4: PerformanceWarning: DataFrame is highly fragmented.  This is usually the result of calling `frame.insert` many times, which has poor performance.  Consider joining all columns at once using pd.concat(axis=1) instead. To get a de-fragmented frame, use `newframe = frame.copy()`\n",
      "  muestras['Muestra _'+str(i)]=_\n",
      "C:\\Users\\zazaz\\AppData\\Local\\Temp\\ipykernel_22132\\527239248.py:4: PerformanceWarning: DataFrame is highly fragmented.  This is usually the result of calling `frame.insert` many times, which has poor performance.  Consider joining all columns at once using pd.concat(axis=1) instead. To get a de-fragmented frame, use `newframe = frame.copy()`\n",
      "  muestras['Muestra _'+str(i)]=_\n",
      "C:\\Users\\zazaz\\AppData\\Local\\Temp\\ipykernel_22132\\527239248.py:4: PerformanceWarning: DataFrame is highly fragmented.  This is usually the result of calling `frame.insert` many times, which has poor performance.  Consider joining all columns at once using pd.concat(axis=1) instead. To get a de-fragmented frame, use `newframe = frame.copy()`\n",
      "  muestras['Muestra _'+str(i)]=_\n",
      "C:\\Users\\zazaz\\AppData\\Local\\Temp\\ipykernel_22132\\527239248.py:4: PerformanceWarning: DataFrame is highly fragmented.  This is usually the result of calling `frame.insert` many times, which has poor performance.  Consider joining all columns at once using pd.concat(axis=1) instead. To get a de-fragmented frame, use `newframe = frame.copy()`\n",
      "  muestras['Muestra _'+str(i)]=_\n",
      "C:\\Users\\zazaz\\AppData\\Local\\Temp\\ipykernel_22132\\527239248.py:4: PerformanceWarning: DataFrame is highly fragmented.  This is usually the result of calling `frame.insert` many times, which has poor performance.  Consider joining all columns at once using pd.concat(axis=1) instead. To get a de-fragmented frame, use `newframe = frame.copy()`\n",
      "  muestras['Muestra _'+str(i)]=_\n",
      "C:\\Users\\zazaz\\AppData\\Local\\Temp\\ipykernel_22132\\527239248.py:4: PerformanceWarning: DataFrame is highly fragmented.  This is usually the result of calling `frame.insert` many times, which has poor performance.  Consider joining all columns at once using pd.concat(axis=1) instead. To get a de-fragmented frame, use `newframe = frame.copy()`\n",
      "  muestras['Muestra _'+str(i)]=_\n",
      "C:\\Users\\zazaz\\AppData\\Local\\Temp\\ipykernel_22132\\527239248.py:4: PerformanceWarning: DataFrame is highly fragmented.  This is usually the result of calling `frame.insert` many times, which has poor performance.  Consider joining all columns at once using pd.concat(axis=1) instead. To get a de-fragmented frame, use `newframe = frame.copy()`\n",
      "  muestras['Muestra _'+str(i)]=_\n",
      "C:\\Users\\zazaz\\AppData\\Local\\Temp\\ipykernel_22132\\527239248.py:4: PerformanceWarning: DataFrame is highly fragmented.  This is usually the result of calling `frame.insert` many times, which has poor performance.  Consider joining all columns at once using pd.concat(axis=1) instead. To get a de-fragmented frame, use `newframe = frame.copy()`\n",
      "  muestras['Muestra _'+str(i)]=_\n",
      "C:\\Users\\zazaz\\AppData\\Local\\Temp\\ipykernel_22132\\527239248.py:4: PerformanceWarning: DataFrame is highly fragmented.  This is usually the result of calling `frame.insert` many times, which has poor performance.  Consider joining all columns at once using pd.concat(axis=1) instead. To get a de-fragmented frame, use `newframe = frame.copy()`\n",
      "  muestras['Muestra _'+str(i)]=_\n",
      "C:\\Users\\zazaz\\AppData\\Local\\Temp\\ipykernel_22132\\527239248.py:4: PerformanceWarning: DataFrame is highly fragmented.  This is usually the result of calling `frame.insert` many times, which has poor performance.  Consider joining all columns at once using pd.concat(axis=1) instead. To get a de-fragmented frame, use `newframe = frame.copy()`\n",
      "  muestras['Muestra _'+str(i)]=_\n",
      "C:\\Users\\zazaz\\AppData\\Local\\Temp\\ipykernel_22132\\527239248.py:4: PerformanceWarning: DataFrame is highly fragmented.  This is usually the result of calling `frame.insert` many times, which has poor performance.  Consider joining all columns at once using pd.concat(axis=1) instead. To get a de-fragmented frame, use `newframe = frame.copy()`\n",
      "  muestras['Muestra _'+str(i)]=_\n",
      "C:\\Users\\zazaz\\AppData\\Local\\Temp\\ipykernel_22132\\527239248.py:4: PerformanceWarning: DataFrame is highly fragmented.  This is usually the result of calling `frame.insert` many times, which has poor performance.  Consider joining all columns at once using pd.concat(axis=1) instead. To get a de-fragmented frame, use `newframe = frame.copy()`\n",
      "  muestras['Muestra _'+str(i)]=_\n",
      "C:\\Users\\zazaz\\AppData\\Local\\Temp\\ipykernel_22132\\527239248.py:4: PerformanceWarning: DataFrame is highly fragmented.  This is usually the result of calling `frame.insert` many times, which has poor performance.  Consider joining all columns at once using pd.concat(axis=1) instead. To get a de-fragmented frame, use `newframe = frame.copy()`\n",
      "  muestras['Muestra _'+str(i)]=_\n",
      "C:\\Users\\zazaz\\AppData\\Local\\Temp\\ipykernel_22132\\527239248.py:4: PerformanceWarning: DataFrame is highly fragmented.  This is usually the result of calling `frame.insert` many times, which has poor performance.  Consider joining all columns at once using pd.concat(axis=1) instead. To get a de-fragmented frame, use `newframe = frame.copy()`\n",
      "  muestras['Muestra _'+str(i)]=_\n",
      "C:\\Users\\zazaz\\AppData\\Local\\Temp\\ipykernel_22132\\527239248.py:4: PerformanceWarning: DataFrame is highly fragmented.  This is usually the result of calling `frame.insert` many times, which has poor performance.  Consider joining all columns at once using pd.concat(axis=1) instead. To get a de-fragmented frame, use `newframe = frame.copy()`\n",
      "  muestras['Muestra _'+str(i)]=_\n",
      "C:\\Users\\zazaz\\AppData\\Local\\Temp\\ipykernel_22132\\527239248.py:4: PerformanceWarning: DataFrame is highly fragmented.  This is usually the result of calling `frame.insert` many times, which has poor performance.  Consider joining all columns at once using pd.concat(axis=1) instead. To get a de-fragmented frame, use `newframe = frame.copy()`\n",
      "  muestras['Muestra _'+str(i)]=_\n",
      "C:\\Users\\zazaz\\AppData\\Local\\Temp\\ipykernel_22132\\527239248.py:4: PerformanceWarning: DataFrame is highly fragmented.  This is usually the result of calling `frame.insert` many times, which has poor performance.  Consider joining all columns at once using pd.concat(axis=1) instead. To get a de-fragmented frame, use `newframe = frame.copy()`\n",
      "  muestras['Muestra _'+str(i)]=_\n",
      "C:\\Users\\zazaz\\AppData\\Local\\Temp\\ipykernel_22132\\527239248.py:4: PerformanceWarning: DataFrame is highly fragmented.  This is usually the result of calling `frame.insert` many times, which has poor performance.  Consider joining all columns at once using pd.concat(axis=1) instead. To get a de-fragmented frame, use `newframe = frame.copy()`\n",
      "  muestras['Muestra _'+str(i)]=_\n",
      "C:\\Users\\zazaz\\AppData\\Local\\Temp\\ipykernel_22132\\527239248.py:4: PerformanceWarning: DataFrame is highly fragmented.  This is usually the result of calling `frame.insert` many times, which has poor performance.  Consider joining all columns at once using pd.concat(axis=1) instead. To get a de-fragmented frame, use `newframe = frame.copy()`\n",
      "  muestras['Muestra _'+str(i)]=_\n",
      "C:\\Users\\zazaz\\AppData\\Local\\Temp\\ipykernel_22132\\527239248.py:4: PerformanceWarning: DataFrame is highly fragmented.  This is usually the result of calling `frame.insert` many times, which has poor performance.  Consider joining all columns at once using pd.concat(axis=1) instead. To get a de-fragmented frame, use `newframe = frame.copy()`\n",
      "  muestras['Muestra _'+str(i)]=_\n",
      "C:\\Users\\zazaz\\AppData\\Local\\Temp\\ipykernel_22132\\527239248.py:4: PerformanceWarning: DataFrame is highly fragmented.  This is usually the result of calling `frame.insert` many times, which has poor performance.  Consider joining all columns at once using pd.concat(axis=1) instead. To get a de-fragmented frame, use `newframe = frame.copy()`\n",
      "  muestras['Muestra _'+str(i)]=_\n",
      "C:\\Users\\zazaz\\AppData\\Local\\Temp\\ipykernel_22132\\527239248.py:4: PerformanceWarning: DataFrame is highly fragmented.  This is usually the result of calling `frame.insert` many times, which has poor performance.  Consider joining all columns at once using pd.concat(axis=1) instead. To get a de-fragmented frame, use `newframe = frame.copy()`\n",
      "  muestras['Muestra _'+str(i)]=_\n",
      "C:\\Users\\zazaz\\AppData\\Local\\Temp\\ipykernel_22132\\527239248.py:4: PerformanceWarning: DataFrame is highly fragmented.  This is usually the result of calling `frame.insert` many times, which has poor performance.  Consider joining all columns at once using pd.concat(axis=1) instead. To get a de-fragmented frame, use `newframe = frame.copy()`\n",
      "  muestras['Muestra _'+str(i)]=_\n",
      "C:\\Users\\zazaz\\AppData\\Local\\Temp\\ipykernel_22132\\527239248.py:4: PerformanceWarning: DataFrame is highly fragmented.  This is usually the result of calling `frame.insert` many times, which has poor performance.  Consider joining all columns at once using pd.concat(axis=1) instead. To get a de-fragmented frame, use `newframe = frame.copy()`\n",
      "  muestras['Muestra _'+str(i)]=_\n",
      "C:\\Users\\zazaz\\AppData\\Local\\Temp\\ipykernel_22132\\527239248.py:4: PerformanceWarning: DataFrame is highly fragmented.  This is usually the result of calling `frame.insert` many times, which has poor performance.  Consider joining all columns at once using pd.concat(axis=1) instead. To get a de-fragmented frame, use `newframe = frame.copy()`\n",
      "  muestras['Muestra _'+str(i)]=_\n",
      "C:\\Users\\zazaz\\AppData\\Local\\Temp\\ipykernel_22132\\527239248.py:4: PerformanceWarning: DataFrame is highly fragmented.  This is usually the result of calling `frame.insert` many times, which has poor performance.  Consider joining all columns at once using pd.concat(axis=1) instead. To get a de-fragmented frame, use `newframe = frame.copy()`\n",
      "  muestras['Muestra _'+str(i)]=_\n",
      "C:\\Users\\zazaz\\AppData\\Local\\Temp\\ipykernel_22132\\527239248.py:4: PerformanceWarning: DataFrame is highly fragmented.  This is usually the result of calling `frame.insert` many times, which has poor performance.  Consider joining all columns at once using pd.concat(axis=1) instead. To get a de-fragmented frame, use `newframe = frame.copy()`\n",
      "  muestras['Muestra _'+str(i)]=_\n",
      "C:\\Users\\zazaz\\AppData\\Local\\Temp\\ipykernel_22132\\527239248.py:4: PerformanceWarning: DataFrame is highly fragmented.  This is usually the result of calling `frame.insert` many times, which has poor performance.  Consider joining all columns at once using pd.concat(axis=1) instead. To get a de-fragmented frame, use `newframe = frame.copy()`\n",
      "  muestras['Muestra _'+str(i)]=_\n",
      "C:\\Users\\zazaz\\AppData\\Local\\Temp\\ipykernel_22132\\527239248.py:4: PerformanceWarning: DataFrame is highly fragmented.  This is usually the result of calling `frame.insert` many times, which has poor performance.  Consider joining all columns at once using pd.concat(axis=1) instead. To get a de-fragmented frame, use `newframe = frame.copy()`\n",
      "  muestras['Muestra _'+str(i)]=_\n",
      "C:\\Users\\zazaz\\AppData\\Local\\Temp\\ipykernel_22132\\527239248.py:4: PerformanceWarning: DataFrame is highly fragmented.  This is usually the result of calling `frame.insert` many times, which has poor performance.  Consider joining all columns at once using pd.concat(axis=1) instead. To get a de-fragmented frame, use `newframe = frame.copy()`\n",
      "  muestras['Muestra _'+str(i)]=_\n",
      "C:\\Users\\zazaz\\AppData\\Local\\Temp\\ipykernel_22132\\527239248.py:4: PerformanceWarning: DataFrame is highly fragmented.  This is usually the result of calling `frame.insert` many times, which has poor performance.  Consider joining all columns at once using pd.concat(axis=1) instead. To get a de-fragmented frame, use `newframe = frame.copy()`\n",
      "  muestras['Muestra _'+str(i)]=_\n",
      "C:\\Users\\zazaz\\AppData\\Local\\Temp\\ipykernel_22132\\527239248.py:4: PerformanceWarning: DataFrame is highly fragmented.  This is usually the result of calling `frame.insert` many times, which has poor performance.  Consider joining all columns at once using pd.concat(axis=1) instead. To get a de-fragmented frame, use `newframe = frame.copy()`\n",
      "  muestras['Muestra _'+str(i)]=_\n",
      "C:\\Users\\zazaz\\AppData\\Local\\Temp\\ipykernel_22132\\527239248.py:4: PerformanceWarning: DataFrame is highly fragmented.  This is usually the result of calling `frame.insert` many times, which has poor performance.  Consider joining all columns at once using pd.concat(axis=1) instead. To get a de-fragmented frame, use `newframe = frame.copy()`\n",
      "  muestras['Muestra _'+str(i)]=_\n",
      "C:\\Users\\zazaz\\AppData\\Local\\Temp\\ipykernel_22132\\527239248.py:4: PerformanceWarning: DataFrame is highly fragmented.  This is usually the result of calling `frame.insert` many times, which has poor performance.  Consider joining all columns at once using pd.concat(axis=1) instead. To get a de-fragmented frame, use `newframe = frame.copy()`\n",
      "  muestras['Muestra _'+str(i)]=_\n",
      "C:\\Users\\zazaz\\AppData\\Local\\Temp\\ipykernel_22132\\527239248.py:4: PerformanceWarning: DataFrame is highly fragmented.  This is usually the result of calling `frame.insert` many times, which has poor performance.  Consider joining all columns at once using pd.concat(axis=1) instead. To get a de-fragmented frame, use `newframe = frame.copy()`\n",
      "  muestras['Muestra _'+str(i)]=_\n",
      "C:\\Users\\zazaz\\AppData\\Local\\Temp\\ipykernel_22132\\527239248.py:4: PerformanceWarning: DataFrame is highly fragmented.  This is usually the result of calling `frame.insert` many times, which has poor performance.  Consider joining all columns at once using pd.concat(axis=1) instead. To get a de-fragmented frame, use `newframe = frame.copy()`\n",
      "  muestras['Muestra _'+str(i)]=_\n",
      "C:\\Users\\zazaz\\AppData\\Local\\Temp\\ipykernel_22132\\527239248.py:4: PerformanceWarning: DataFrame is highly fragmented.  This is usually the result of calling `frame.insert` many times, which has poor performance.  Consider joining all columns at once using pd.concat(axis=1) instead. To get a de-fragmented frame, use `newframe = frame.copy()`\n",
      "  muestras['Muestra _'+str(i)]=_\n",
      "C:\\Users\\zazaz\\AppData\\Local\\Temp\\ipykernel_22132\\527239248.py:4: PerformanceWarning: DataFrame is highly fragmented.  This is usually the result of calling `frame.insert` many times, which has poor performance.  Consider joining all columns at once using pd.concat(axis=1) instead. To get a de-fragmented frame, use `newframe = frame.copy()`\n",
      "  muestras['Muestra _'+str(i)]=_\n",
      "C:\\Users\\zazaz\\AppData\\Local\\Temp\\ipykernel_22132\\527239248.py:4: PerformanceWarning: DataFrame is highly fragmented.  This is usually the result of calling `frame.insert` many times, which has poor performance.  Consider joining all columns at once using pd.concat(axis=1) instead. To get a de-fragmented frame, use `newframe = frame.copy()`\n",
      "  muestras['Muestra _'+str(i)]=_\n",
      "C:\\Users\\zazaz\\AppData\\Local\\Temp\\ipykernel_22132\\527239248.py:4: PerformanceWarning: DataFrame is highly fragmented.  This is usually the result of calling `frame.insert` many times, which has poor performance.  Consider joining all columns at once using pd.concat(axis=1) instead. To get a de-fragmented frame, use `newframe = frame.copy()`\n",
      "  muestras['Muestra _'+str(i)]=_\n",
      "C:\\Users\\zazaz\\AppData\\Local\\Temp\\ipykernel_22132\\527239248.py:4: PerformanceWarning: DataFrame is highly fragmented.  This is usually the result of calling `frame.insert` many times, which has poor performance.  Consider joining all columns at once using pd.concat(axis=1) instead. To get a de-fragmented frame, use `newframe = frame.copy()`\n",
      "  muestras['Muestra _'+str(i)]=_\n",
      "C:\\Users\\zazaz\\AppData\\Local\\Temp\\ipykernel_22132\\527239248.py:4: PerformanceWarning: DataFrame is highly fragmented.  This is usually the result of calling `frame.insert` many times, which has poor performance.  Consider joining all columns at once using pd.concat(axis=1) instead. To get a de-fragmented frame, use `newframe = frame.copy()`\n",
      "  muestras['Muestra _'+str(i)]=_\n",
      "C:\\Users\\zazaz\\AppData\\Local\\Temp\\ipykernel_22132\\527239248.py:4: PerformanceWarning: DataFrame is highly fragmented.  This is usually the result of calling `frame.insert` many times, which has poor performance.  Consider joining all columns at once using pd.concat(axis=1) instead. To get a de-fragmented frame, use `newframe = frame.copy()`\n",
      "  muestras['Muestra _'+str(i)]=_\n",
      "C:\\Users\\zazaz\\AppData\\Local\\Temp\\ipykernel_22132\\527239248.py:4: PerformanceWarning: DataFrame is highly fragmented.  This is usually the result of calling `frame.insert` many times, which has poor performance.  Consider joining all columns at once using pd.concat(axis=1) instead. To get a de-fragmented frame, use `newframe = frame.copy()`\n",
      "  muestras['Muestra _'+str(i)]=_\n",
      "C:\\Users\\zazaz\\AppData\\Local\\Temp\\ipykernel_22132\\527239248.py:4: PerformanceWarning: DataFrame is highly fragmented.  This is usually the result of calling `frame.insert` many times, which has poor performance.  Consider joining all columns at once using pd.concat(axis=1) instead. To get a de-fragmented frame, use `newframe = frame.copy()`\n",
      "  muestras['Muestra _'+str(i)]=_\n",
      "C:\\Users\\zazaz\\AppData\\Local\\Temp\\ipykernel_22132\\527239248.py:4: PerformanceWarning: DataFrame is highly fragmented.  This is usually the result of calling `frame.insert` many times, which has poor performance.  Consider joining all columns at once using pd.concat(axis=1) instead. To get a de-fragmented frame, use `newframe = frame.copy()`\n",
      "  muestras['Muestra _'+str(i)]=_\n",
      "C:\\Users\\zazaz\\AppData\\Local\\Temp\\ipykernel_22132\\527239248.py:4: PerformanceWarning: DataFrame is highly fragmented.  This is usually the result of calling `frame.insert` many times, which has poor performance.  Consider joining all columns at once using pd.concat(axis=1) instead. To get a de-fragmented frame, use `newframe = frame.copy()`\n",
      "  muestras['Muestra _'+str(i)]=_\n",
      "C:\\Users\\zazaz\\AppData\\Local\\Temp\\ipykernel_22132\\527239248.py:4: PerformanceWarning: DataFrame is highly fragmented.  This is usually the result of calling `frame.insert` many times, which has poor performance.  Consider joining all columns at once using pd.concat(axis=1) instead. To get a de-fragmented frame, use `newframe = frame.copy()`\n",
      "  muestras['Muestra _'+str(i)]=_\n",
      "C:\\Users\\zazaz\\AppData\\Local\\Temp\\ipykernel_22132\\527239248.py:4: PerformanceWarning: DataFrame is highly fragmented.  This is usually the result of calling `frame.insert` many times, which has poor performance.  Consider joining all columns at once using pd.concat(axis=1) instead. To get a de-fragmented frame, use `newframe = frame.copy()`\n",
      "  muestras['Muestra _'+str(i)]=_\n",
      "C:\\Users\\zazaz\\AppData\\Local\\Temp\\ipykernel_22132\\527239248.py:4: PerformanceWarning: DataFrame is highly fragmented.  This is usually the result of calling `frame.insert` many times, which has poor performance.  Consider joining all columns at once using pd.concat(axis=1) instead. To get a de-fragmented frame, use `newframe = frame.copy()`\n",
      "  muestras['Muestra _'+str(i)]=_\n",
      "C:\\Users\\zazaz\\AppData\\Local\\Temp\\ipykernel_22132\\527239248.py:4: PerformanceWarning: DataFrame is highly fragmented.  This is usually the result of calling `frame.insert` many times, which has poor performance.  Consider joining all columns at once using pd.concat(axis=1) instead. To get a de-fragmented frame, use `newframe = frame.copy()`\n",
      "  muestras['Muestra _'+str(i)]=_\n",
      "C:\\Users\\zazaz\\AppData\\Local\\Temp\\ipykernel_22132\\527239248.py:4: PerformanceWarning: DataFrame is highly fragmented.  This is usually the result of calling `frame.insert` many times, which has poor performance.  Consider joining all columns at once using pd.concat(axis=1) instead. To get a de-fragmented frame, use `newframe = frame.copy()`\n",
      "  muestras['Muestra _'+str(i)]=_\n",
      "C:\\Users\\zazaz\\AppData\\Local\\Temp\\ipykernel_22132\\527239248.py:4: PerformanceWarning: DataFrame is highly fragmented.  This is usually the result of calling `frame.insert` many times, which has poor performance.  Consider joining all columns at once using pd.concat(axis=1) instead. To get a de-fragmented frame, use `newframe = frame.copy()`\n",
      "  muestras['Muestra _'+str(i)]=_\n",
      "C:\\Users\\zazaz\\AppData\\Local\\Temp\\ipykernel_22132\\527239248.py:4: PerformanceWarning: DataFrame is highly fragmented.  This is usually the result of calling `frame.insert` many times, which has poor performance.  Consider joining all columns at once using pd.concat(axis=1) instead. To get a de-fragmented frame, use `newframe = frame.copy()`\n",
      "  muestras['Muestra _'+str(i)]=_\n",
      "C:\\Users\\zazaz\\AppData\\Local\\Temp\\ipykernel_22132\\527239248.py:4: PerformanceWarning: DataFrame is highly fragmented.  This is usually the result of calling `frame.insert` many times, which has poor performance.  Consider joining all columns at once using pd.concat(axis=1) instead. To get a de-fragmented frame, use `newframe = frame.copy()`\n",
      "  muestras['Muestra _'+str(i)]=_\n",
      "C:\\Users\\zazaz\\AppData\\Local\\Temp\\ipykernel_22132\\527239248.py:4: PerformanceWarning: DataFrame is highly fragmented.  This is usually the result of calling `frame.insert` many times, which has poor performance.  Consider joining all columns at once using pd.concat(axis=1) instead. To get a de-fragmented frame, use `newframe = frame.copy()`\n",
      "  muestras['Muestra _'+str(i)]=_\n",
      "C:\\Users\\zazaz\\AppData\\Local\\Temp\\ipykernel_22132\\527239248.py:4: PerformanceWarning: DataFrame is highly fragmented.  This is usually the result of calling `frame.insert` many times, which has poor performance.  Consider joining all columns at once using pd.concat(axis=1) instead. To get a de-fragmented frame, use `newframe = frame.copy()`\n",
      "  muestras['Muestra _'+str(i)]=_\n",
      "C:\\Users\\zazaz\\AppData\\Local\\Temp\\ipykernel_22132\\527239248.py:4: PerformanceWarning: DataFrame is highly fragmented.  This is usually the result of calling `frame.insert` many times, which has poor performance.  Consider joining all columns at once using pd.concat(axis=1) instead. To get a de-fragmented frame, use `newframe = frame.copy()`\n",
      "  muestras['Muestra _'+str(i)]=_\n",
      "C:\\Users\\zazaz\\AppData\\Local\\Temp\\ipykernel_22132\\527239248.py:4: PerformanceWarning: DataFrame is highly fragmented.  This is usually the result of calling `frame.insert` many times, which has poor performance.  Consider joining all columns at once using pd.concat(axis=1) instead. To get a de-fragmented frame, use `newframe = frame.copy()`\n",
      "  muestras['Muestra _'+str(i)]=_\n",
      "C:\\Users\\zazaz\\AppData\\Local\\Temp\\ipykernel_22132\\527239248.py:4: PerformanceWarning: DataFrame is highly fragmented.  This is usually the result of calling `frame.insert` many times, which has poor performance.  Consider joining all columns at once using pd.concat(axis=1) instead. To get a de-fragmented frame, use `newframe = frame.copy()`\n",
      "  muestras['Muestra _'+str(i)]=_\n",
      "C:\\Users\\zazaz\\AppData\\Local\\Temp\\ipykernel_22132\\527239248.py:4: PerformanceWarning: DataFrame is highly fragmented.  This is usually the result of calling `frame.insert` many times, which has poor performance.  Consider joining all columns at once using pd.concat(axis=1) instead. To get a de-fragmented frame, use `newframe = frame.copy()`\n",
      "  muestras['Muestra _'+str(i)]=_\n",
      "C:\\Users\\zazaz\\AppData\\Local\\Temp\\ipykernel_22132\\527239248.py:4: PerformanceWarning: DataFrame is highly fragmented.  This is usually the result of calling `frame.insert` many times, which has poor performance.  Consider joining all columns at once using pd.concat(axis=1) instead. To get a de-fragmented frame, use `newframe = frame.copy()`\n",
      "  muestras['Muestra _'+str(i)]=_\n",
      "C:\\Users\\zazaz\\AppData\\Local\\Temp\\ipykernel_22132\\527239248.py:4: PerformanceWarning: DataFrame is highly fragmented.  This is usually the result of calling `frame.insert` many times, which has poor performance.  Consider joining all columns at once using pd.concat(axis=1) instead. To get a de-fragmented frame, use `newframe = frame.copy()`\n",
      "  muestras['Muestra _'+str(i)]=_\n",
      "C:\\Users\\zazaz\\AppData\\Local\\Temp\\ipykernel_22132\\527239248.py:4: PerformanceWarning: DataFrame is highly fragmented.  This is usually the result of calling `frame.insert` many times, which has poor performance.  Consider joining all columns at once using pd.concat(axis=1) instead. To get a de-fragmented frame, use `newframe = frame.copy()`\n",
      "  muestras['Muestra _'+str(i)]=_\n",
      "C:\\Users\\zazaz\\AppData\\Local\\Temp\\ipykernel_22132\\527239248.py:4: PerformanceWarning: DataFrame is highly fragmented.  This is usually the result of calling `frame.insert` many times, which has poor performance.  Consider joining all columns at once using pd.concat(axis=1) instead. To get a de-fragmented frame, use `newframe = frame.copy()`\n",
      "  muestras['Muestra _'+str(i)]=_\n",
      "C:\\Users\\zazaz\\AppData\\Local\\Temp\\ipykernel_22132\\527239248.py:4: PerformanceWarning: DataFrame is highly fragmented.  This is usually the result of calling `frame.insert` many times, which has poor performance.  Consider joining all columns at once using pd.concat(axis=1) instead. To get a de-fragmented frame, use `newframe = frame.copy()`\n",
      "  muestras['Muestra _'+str(i)]=_\n",
      "C:\\Users\\zazaz\\AppData\\Local\\Temp\\ipykernel_22132\\527239248.py:4: PerformanceWarning: DataFrame is highly fragmented.  This is usually the result of calling `frame.insert` many times, which has poor performance.  Consider joining all columns at once using pd.concat(axis=1) instead. To get a de-fragmented frame, use `newframe = frame.copy()`\n",
      "  muestras['Muestra _'+str(i)]=_\n",
      "C:\\Users\\zazaz\\AppData\\Local\\Temp\\ipykernel_22132\\527239248.py:4: PerformanceWarning: DataFrame is highly fragmented.  This is usually the result of calling `frame.insert` many times, which has poor performance.  Consider joining all columns at once using pd.concat(axis=1) instead. To get a de-fragmented frame, use `newframe = frame.copy()`\n",
      "  muestras['Muestra _'+str(i)]=_\n",
      "C:\\Users\\zazaz\\AppData\\Local\\Temp\\ipykernel_22132\\527239248.py:4: PerformanceWarning: DataFrame is highly fragmented.  This is usually the result of calling `frame.insert` many times, which has poor performance.  Consider joining all columns at once using pd.concat(axis=1) instead. To get a de-fragmented frame, use `newframe = frame.copy()`\n",
      "  muestras['Muestra _'+str(i)]=_\n",
      "C:\\Users\\zazaz\\AppData\\Local\\Temp\\ipykernel_22132\\527239248.py:4: PerformanceWarning: DataFrame is highly fragmented.  This is usually the result of calling `frame.insert` many times, which has poor performance.  Consider joining all columns at once using pd.concat(axis=1) instead. To get a de-fragmented frame, use `newframe = frame.copy()`\n",
      "  muestras['Muestra _'+str(i)]=_\n",
      "C:\\Users\\zazaz\\AppData\\Local\\Temp\\ipykernel_22132\\527239248.py:4: PerformanceWarning: DataFrame is highly fragmented.  This is usually the result of calling `frame.insert` many times, which has poor performance.  Consider joining all columns at once using pd.concat(axis=1) instead. To get a de-fragmented frame, use `newframe = frame.copy()`\n",
      "  muestras['Muestra _'+str(i)]=_\n",
      "C:\\Users\\zazaz\\AppData\\Local\\Temp\\ipykernel_22132\\527239248.py:4: PerformanceWarning: DataFrame is highly fragmented.  This is usually the result of calling `frame.insert` many times, which has poor performance.  Consider joining all columns at once using pd.concat(axis=1) instead. To get a de-fragmented frame, use `newframe = frame.copy()`\n",
      "  muestras['Muestra _'+str(i)]=_\n",
      "C:\\Users\\zazaz\\AppData\\Local\\Temp\\ipykernel_22132\\527239248.py:4: PerformanceWarning: DataFrame is highly fragmented.  This is usually the result of calling `frame.insert` many times, which has poor performance.  Consider joining all columns at once using pd.concat(axis=1) instead. To get a de-fragmented frame, use `newframe = frame.copy()`\n",
      "  muestras['Muestra _'+str(i)]=_\n",
      "C:\\Users\\zazaz\\AppData\\Local\\Temp\\ipykernel_22132\\527239248.py:4: PerformanceWarning: DataFrame is highly fragmented.  This is usually the result of calling `frame.insert` many times, which has poor performance.  Consider joining all columns at once using pd.concat(axis=1) instead. To get a de-fragmented frame, use `newframe = frame.copy()`\n",
      "  muestras['Muestra _'+str(i)]=_\n",
      "C:\\Users\\zazaz\\AppData\\Local\\Temp\\ipykernel_22132\\527239248.py:4: PerformanceWarning: DataFrame is highly fragmented.  This is usually the result of calling `frame.insert` many times, which has poor performance.  Consider joining all columns at once using pd.concat(axis=1) instead. To get a de-fragmented frame, use `newframe = frame.copy()`\n",
      "  muestras['Muestra _'+str(i)]=_\n",
      "C:\\Users\\zazaz\\AppData\\Local\\Temp\\ipykernel_22132\\527239248.py:4: PerformanceWarning: DataFrame is highly fragmented.  This is usually the result of calling `frame.insert` many times, which has poor performance.  Consider joining all columns at once using pd.concat(axis=1) instead. To get a de-fragmented frame, use `newframe = frame.copy()`\n",
      "  muestras['Muestra _'+str(i)]=_\n",
      "C:\\Users\\zazaz\\AppData\\Local\\Temp\\ipykernel_22132\\527239248.py:4: PerformanceWarning: DataFrame is highly fragmented.  This is usually the result of calling `frame.insert` many times, which has poor performance.  Consider joining all columns at once using pd.concat(axis=1) instead. To get a de-fragmented frame, use `newframe = frame.copy()`\n",
      "  muestras['Muestra _'+str(i)]=_\n",
      "C:\\Users\\zazaz\\AppData\\Local\\Temp\\ipykernel_22132\\527239248.py:4: PerformanceWarning: DataFrame is highly fragmented.  This is usually the result of calling `frame.insert` many times, which has poor performance.  Consider joining all columns at once using pd.concat(axis=1) instead. To get a de-fragmented frame, use `newframe = frame.copy()`\n",
      "  muestras['Muestra _'+str(i)]=_\n",
      "C:\\Users\\zazaz\\AppData\\Local\\Temp\\ipykernel_22132\\527239248.py:4: PerformanceWarning: DataFrame is highly fragmented.  This is usually the result of calling `frame.insert` many times, which has poor performance.  Consider joining all columns at once using pd.concat(axis=1) instead. To get a de-fragmented frame, use `newframe = frame.copy()`\n",
      "  muestras['Muestra _'+str(i)]=_\n",
      "C:\\Users\\zazaz\\AppData\\Local\\Temp\\ipykernel_22132\\527239248.py:4: PerformanceWarning: DataFrame is highly fragmented.  This is usually the result of calling `frame.insert` many times, which has poor performance.  Consider joining all columns at once using pd.concat(axis=1) instead. To get a de-fragmented frame, use `newframe = frame.copy()`\n",
      "  muestras['Muestra _'+str(i)]=_\n",
      "C:\\Users\\zazaz\\AppData\\Local\\Temp\\ipykernel_22132\\527239248.py:4: PerformanceWarning: DataFrame is highly fragmented.  This is usually the result of calling `frame.insert` many times, which has poor performance.  Consider joining all columns at once using pd.concat(axis=1) instead. To get a de-fragmented frame, use `newframe = frame.copy()`\n",
      "  muestras['Muestra _'+str(i)]=_\n",
      "C:\\Users\\zazaz\\AppData\\Local\\Temp\\ipykernel_22132\\527239248.py:4: PerformanceWarning: DataFrame is highly fragmented.  This is usually the result of calling `frame.insert` many times, which has poor performance.  Consider joining all columns at once using pd.concat(axis=1) instead. To get a de-fragmented frame, use `newframe = frame.copy()`\n",
      "  muestras['Muestra _'+str(i)]=_\n",
      "C:\\Users\\zazaz\\AppData\\Local\\Temp\\ipykernel_22132\\527239248.py:4: PerformanceWarning: DataFrame is highly fragmented.  This is usually the result of calling `frame.insert` many times, which has poor performance.  Consider joining all columns at once using pd.concat(axis=1) instead. To get a de-fragmented frame, use `newframe = frame.copy()`\n",
      "  muestras['Muestra _'+str(i)]=_\n",
      "C:\\Users\\zazaz\\AppData\\Local\\Temp\\ipykernel_22132\\527239248.py:4: PerformanceWarning: DataFrame is highly fragmented.  This is usually the result of calling `frame.insert` many times, which has poor performance.  Consider joining all columns at once using pd.concat(axis=1) instead. To get a de-fragmented frame, use `newframe = frame.copy()`\n",
      "  muestras['Muestra _'+str(i)]=_\n",
      "C:\\Users\\zazaz\\AppData\\Local\\Temp\\ipykernel_22132\\527239248.py:4: PerformanceWarning: DataFrame is highly fragmented.  This is usually the result of calling `frame.insert` many times, which has poor performance.  Consider joining all columns at once using pd.concat(axis=1) instead. To get a de-fragmented frame, use `newframe = frame.copy()`\n",
      "  muestras['Muestra _'+str(i)]=_\n",
      "C:\\Users\\zazaz\\AppData\\Local\\Temp\\ipykernel_22132\\527239248.py:4: PerformanceWarning: DataFrame is highly fragmented.  This is usually the result of calling `frame.insert` many times, which has poor performance.  Consider joining all columns at once using pd.concat(axis=1) instead. To get a de-fragmented frame, use `newframe = frame.copy()`\n",
      "  muestras['Muestra _'+str(i)]=_\n",
      "C:\\Users\\zazaz\\AppData\\Local\\Temp\\ipykernel_22132\\527239248.py:4: PerformanceWarning: DataFrame is highly fragmented.  This is usually the result of calling `frame.insert` many times, which has poor performance.  Consider joining all columns at once using pd.concat(axis=1) instead. To get a de-fragmented frame, use `newframe = frame.copy()`\n",
      "  muestras['Muestra _'+str(i)]=_\n",
      "C:\\Users\\zazaz\\AppData\\Local\\Temp\\ipykernel_22132\\527239248.py:4: PerformanceWarning: DataFrame is highly fragmented.  This is usually the result of calling `frame.insert` many times, which has poor performance.  Consider joining all columns at once using pd.concat(axis=1) instead. To get a de-fragmented frame, use `newframe = frame.copy()`\n",
      "  muestras['Muestra _'+str(i)]=_\n",
      "C:\\Users\\zazaz\\AppData\\Local\\Temp\\ipykernel_22132\\527239248.py:4: PerformanceWarning: DataFrame is highly fragmented.  This is usually the result of calling `frame.insert` many times, which has poor performance.  Consider joining all columns at once using pd.concat(axis=1) instead. To get a de-fragmented frame, use `newframe = frame.copy()`\n",
      "  muestras['Muestra _'+str(i)]=_\n",
      "C:\\Users\\zazaz\\AppData\\Local\\Temp\\ipykernel_22132\\527239248.py:4: PerformanceWarning: DataFrame is highly fragmented.  This is usually the result of calling `frame.insert` many times, which has poor performance.  Consider joining all columns at once using pd.concat(axis=1) instead. To get a de-fragmented frame, use `newframe = frame.copy()`\n",
      "  muestras['Muestra _'+str(i)]=_\n",
      "C:\\Users\\zazaz\\AppData\\Local\\Temp\\ipykernel_22132\\527239248.py:4: PerformanceWarning: DataFrame is highly fragmented.  This is usually the result of calling `frame.insert` many times, which has poor performance.  Consider joining all columns at once using pd.concat(axis=1) instead. To get a de-fragmented frame, use `newframe = frame.copy()`\n",
      "  muestras['Muestra _'+str(i)]=_\n",
      "C:\\Users\\zazaz\\AppData\\Local\\Temp\\ipykernel_22132\\527239248.py:4: PerformanceWarning: DataFrame is highly fragmented.  This is usually the result of calling `frame.insert` many times, which has poor performance.  Consider joining all columns at once using pd.concat(axis=1) instead. To get a de-fragmented frame, use `newframe = frame.copy()`\n",
      "  muestras['Muestra _'+str(i)]=_\n",
      "C:\\Users\\zazaz\\AppData\\Local\\Temp\\ipykernel_22132\\527239248.py:4: PerformanceWarning: DataFrame is highly fragmented.  This is usually the result of calling `frame.insert` many times, which has poor performance.  Consider joining all columns at once using pd.concat(axis=1) instead. To get a de-fragmented frame, use `newframe = frame.copy()`\n",
      "  muestras['Muestra _'+str(i)]=_\n",
      "C:\\Users\\zazaz\\AppData\\Local\\Temp\\ipykernel_22132\\527239248.py:4: PerformanceWarning: DataFrame is highly fragmented.  This is usually the result of calling `frame.insert` many times, which has poor performance.  Consider joining all columns at once using pd.concat(axis=1) instead. To get a de-fragmented frame, use `newframe = frame.copy()`\n",
      "  muestras['Muestra _'+str(i)]=_\n",
      "C:\\Users\\zazaz\\AppData\\Local\\Temp\\ipykernel_22132\\527239248.py:4: PerformanceWarning: DataFrame is highly fragmented.  This is usually the result of calling `frame.insert` many times, which has poor performance.  Consider joining all columns at once using pd.concat(axis=1) instead. To get a de-fragmented frame, use `newframe = frame.copy()`\n",
      "  muestras['Muestra _'+str(i)]=_\n",
      "C:\\Users\\zazaz\\AppData\\Local\\Temp\\ipykernel_22132\\527239248.py:4: PerformanceWarning: DataFrame is highly fragmented.  This is usually the result of calling `frame.insert` many times, which has poor performance.  Consider joining all columns at once using pd.concat(axis=1) instead. To get a de-fragmented frame, use `newframe = frame.copy()`\n",
      "  muestras['Muestra _'+str(i)]=_\n",
      "C:\\Users\\zazaz\\AppData\\Local\\Temp\\ipykernel_22132\\527239248.py:4: PerformanceWarning: DataFrame is highly fragmented.  This is usually the result of calling `frame.insert` many times, which has poor performance.  Consider joining all columns at once using pd.concat(axis=1) instead. To get a de-fragmented frame, use `newframe = frame.copy()`\n",
      "  muestras['Muestra _'+str(i)]=_\n",
      "C:\\Users\\zazaz\\AppData\\Local\\Temp\\ipykernel_22132\\527239248.py:4: PerformanceWarning: DataFrame is highly fragmented.  This is usually the result of calling `frame.insert` many times, which has poor performance.  Consider joining all columns at once using pd.concat(axis=1) instead. To get a de-fragmented frame, use `newframe = frame.copy()`\n",
      "  muestras['Muestra _'+str(i)]=_\n",
      "C:\\Users\\zazaz\\AppData\\Local\\Temp\\ipykernel_22132\\527239248.py:4: PerformanceWarning: DataFrame is highly fragmented.  This is usually the result of calling `frame.insert` many times, which has poor performance.  Consider joining all columns at once using pd.concat(axis=1) instead. To get a de-fragmented frame, use `newframe = frame.copy()`\n",
      "  muestras['Muestra _'+str(i)]=_\n",
      "C:\\Users\\zazaz\\AppData\\Local\\Temp\\ipykernel_22132\\527239248.py:4: PerformanceWarning: DataFrame is highly fragmented.  This is usually the result of calling `frame.insert` many times, which has poor performance.  Consider joining all columns at once using pd.concat(axis=1) instead. To get a de-fragmented frame, use `newframe = frame.copy()`\n",
      "  muestras['Muestra _'+str(i)]=_\n",
      "C:\\Users\\zazaz\\AppData\\Local\\Temp\\ipykernel_22132\\527239248.py:4: PerformanceWarning: DataFrame is highly fragmented.  This is usually the result of calling `frame.insert` many times, which has poor performance.  Consider joining all columns at once using pd.concat(axis=1) instead. To get a de-fragmented frame, use `newframe = frame.copy()`\n",
      "  muestras['Muestra _'+str(i)]=_\n",
      "C:\\Users\\zazaz\\AppData\\Local\\Temp\\ipykernel_22132\\527239248.py:4: PerformanceWarning: DataFrame is highly fragmented.  This is usually the result of calling `frame.insert` many times, which has poor performance.  Consider joining all columns at once using pd.concat(axis=1) instead. To get a de-fragmented frame, use `newframe = frame.copy()`\n",
      "  muestras['Muestra _'+str(i)]=_\n",
      "C:\\Users\\zazaz\\AppData\\Local\\Temp\\ipykernel_22132\\527239248.py:4: PerformanceWarning: DataFrame is highly fragmented.  This is usually the result of calling `frame.insert` many times, which has poor performance.  Consider joining all columns at once using pd.concat(axis=1) instead. To get a de-fragmented frame, use `newframe = frame.copy()`\n",
      "  muestras['Muestra _'+str(i)]=_\n",
      "C:\\Users\\zazaz\\AppData\\Local\\Temp\\ipykernel_22132\\527239248.py:4: PerformanceWarning: DataFrame is highly fragmented.  This is usually the result of calling `frame.insert` many times, which has poor performance.  Consider joining all columns at once using pd.concat(axis=1) instead. To get a de-fragmented frame, use `newframe = frame.copy()`\n",
      "  muestras['Muestra _'+str(i)]=_\n",
      "C:\\Users\\zazaz\\AppData\\Local\\Temp\\ipykernel_22132\\527239248.py:4: PerformanceWarning: DataFrame is highly fragmented.  This is usually the result of calling `frame.insert` many times, which has poor performance.  Consider joining all columns at once using pd.concat(axis=1) instead. To get a de-fragmented frame, use `newframe = frame.copy()`\n",
      "  muestras['Muestra _'+str(i)]=_\n"
     ]
    }
   ],
   "source": [
    "for i in range(total_de_muestras):\n",
    "    _ = datos.Edad.sample(n)\n",
    "    _.index =range(0,len(_))\n",
    "    muestras['Muestra _'+str(i)]=_"
   ]
  },
  {
   "cell_type": "code",
   "execution_count": 18,
   "metadata": {},
   "outputs": [
    {
     "data": {
      "text/html": [
       "<div>\n",
       "<style scoped>\n",
       "    .dataframe tbody tr th:only-of-type {\n",
       "        vertical-align: middle;\n",
       "    }\n",
       "\n",
       "    .dataframe tbody tr th {\n",
       "        vertical-align: top;\n",
       "    }\n",
       "\n",
       "    .dataframe thead th {\n",
       "        text-align: right;\n",
       "    }\n",
       "</style>\n",
       "<table border=\"1\" class=\"dataframe\">\n",
       "  <thead>\n",
       "    <tr style=\"text-align: right;\">\n",
       "      <th></th>\n",
       "      <th>Muestra _0</th>\n",
       "      <th>Muestra _1</th>\n",
       "      <th>Muestra _2</th>\n",
       "      <th>Muestra _3</th>\n",
       "      <th>Muestra _4</th>\n",
       "      <th>Muestra _5</th>\n",
       "      <th>Muestra _6</th>\n",
       "      <th>Muestra _7</th>\n",
       "      <th>Muestra _8</th>\n",
       "      <th>Muestra _9</th>\n",
       "      <th>...</th>\n",
       "      <th>Muestra _1490</th>\n",
       "      <th>Muestra _1491</th>\n",
       "      <th>Muestra _1492</th>\n",
       "      <th>Muestra _1493</th>\n",
       "      <th>Muestra _1494</th>\n",
       "      <th>Muestra _1495</th>\n",
       "      <th>Muestra _1496</th>\n",
       "      <th>Muestra _1497</th>\n",
       "      <th>Muestra _1498</th>\n",
       "      <th>Muestra _1499</th>\n",
       "    </tr>\n",
       "  </thead>\n",
       "  <tbody>\n",
       "    <tr>\n",
       "      <th>0</th>\n",
       "      <td>63</td>\n",
       "      <td>25</td>\n",
       "      <td>56</td>\n",
       "      <td>52</td>\n",
       "      <td>44</td>\n",
       "      <td>31</td>\n",
       "      <td>22</td>\n",
       "      <td>42</td>\n",
       "      <td>36</td>\n",
       "      <td>32</td>\n",
       "      <td>...</td>\n",
       "      <td>48</td>\n",
       "      <td>29</td>\n",
       "      <td>34</td>\n",
       "      <td>52</td>\n",
       "      <td>61</td>\n",
       "      <td>63</td>\n",
       "      <td>44</td>\n",
       "      <td>70</td>\n",
       "      <td>27</td>\n",
       "      <td>34</td>\n",
       "    </tr>\n",
       "    <tr>\n",
       "      <th>1</th>\n",
       "      <td>30</td>\n",
       "      <td>43</td>\n",
       "      <td>22</td>\n",
       "      <td>43</td>\n",
       "      <td>45</td>\n",
       "      <td>50</td>\n",
       "      <td>46</td>\n",
       "      <td>60</td>\n",
       "      <td>62</td>\n",
       "      <td>23</td>\n",
       "      <td>...</td>\n",
       "      <td>40</td>\n",
       "      <td>50</td>\n",
       "      <td>47</td>\n",
       "      <td>63</td>\n",
       "      <td>33</td>\n",
       "      <td>36</td>\n",
       "      <td>23</td>\n",
       "      <td>63</td>\n",
       "      <td>40</td>\n",
       "      <td>43</td>\n",
       "    </tr>\n",
       "    <tr>\n",
       "      <th>2</th>\n",
       "      <td>55</td>\n",
       "      <td>22</td>\n",
       "      <td>42</td>\n",
       "      <td>28</td>\n",
       "      <td>48</td>\n",
       "      <td>37</td>\n",
       "      <td>35</td>\n",
       "      <td>47</td>\n",
       "      <td>43</td>\n",
       "      <td>51</td>\n",
       "      <td>...</td>\n",
       "      <td>38</td>\n",
       "      <td>64</td>\n",
       "      <td>60</td>\n",
       "      <td>39</td>\n",
       "      <td>42</td>\n",
       "      <td>47</td>\n",
       "      <td>22</td>\n",
       "      <td>39</td>\n",
       "      <td>59</td>\n",
       "      <td>44</td>\n",
       "    </tr>\n",
       "    <tr>\n",
       "      <th>3</th>\n",
       "      <td>33</td>\n",
       "      <td>48</td>\n",
       "      <td>60</td>\n",
       "      <td>35</td>\n",
       "      <td>51</td>\n",
       "      <td>57</td>\n",
       "      <td>34</td>\n",
       "      <td>44</td>\n",
       "      <td>65</td>\n",
       "      <td>44</td>\n",
       "      <td>...</td>\n",
       "      <td>47</td>\n",
       "      <td>42</td>\n",
       "      <td>32</td>\n",
       "      <td>43</td>\n",
       "      <td>50</td>\n",
       "      <td>22</td>\n",
       "      <td>36</td>\n",
       "      <td>55</td>\n",
       "      <td>24</td>\n",
       "      <td>25</td>\n",
       "    </tr>\n",
       "    <tr>\n",
       "      <th>4</th>\n",
       "      <td>23</td>\n",
       "      <td>45</td>\n",
       "      <td>60</td>\n",
       "      <td>44</td>\n",
       "      <td>20</td>\n",
       "      <td>48</td>\n",
       "      <td>49</td>\n",
       "      <td>44</td>\n",
       "      <td>34</td>\n",
       "      <td>48</td>\n",
       "      <td>...</td>\n",
       "      <td>36</td>\n",
       "      <td>59</td>\n",
       "      <td>44</td>\n",
       "      <td>43</td>\n",
       "      <td>56</td>\n",
       "      <td>50</td>\n",
       "      <td>51</td>\n",
       "      <td>38</td>\n",
       "      <td>20</td>\n",
       "      <td>36</td>\n",
       "    </tr>\n",
       "    <tr>\n",
       "      <th>...</th>\n",
       "      <td>...</td>\n",
       "      <td>...</td>\n",
       "      <td>...</td>\n",
       "      <td>...</td>\n",
       "      <td>...</td>\n",
       "      <td>...</td>\n",
       "      <td>...</td>\n",
       "      <td>...</td>\n",
       "      <td>...</td>\n",
       "      <td>...</td>\n",
       "      <td>...</td>\n",
       "      <td>...</td>\n",
       "      <td>...</td>\n",
       "      <td>...</td>\n",
       "      <td>...</td>\n",
       "      <td>...</td>\n",
       "      <td>...</td>\n",
       "      <td>...</td>\n",
       "      <td>...</td>\n",
       "      <td>...</td>\n",
       "      <td>...</td>\n",
       "    </tr>\n",
       "    <tr>\n",
       "      <th>1995</th>\n",
       "      <td>31</td>\n",
       "      <td>67</td>\n",
       "      <td>30</td>\n",
       "      <td>47</td>\n",
       "      <td>61</td>\n",
       "      <td>40</td>\n",
       "      <td>38</td>\n",
       "      <td>50</td>\n",
       "      <td>56</td>\n",
       "      <td>41</td>\n",
       "      <td>...</td>\n",
       "      <td>33</td>\n",
       "      <td>60</td>\n",
       "      <td>47</td>\n",
       "      <td>43</td>\n",
       "      <td>42</td>\n",
       "      <td>55</td>\n",
       "      <td>32</td>\n",
       "      <td>36</td>\n",
       "      <td>44</td>\n",
       "      <td>66</td>\n",
       "    </tr>\n",
       "    <tr>\n",
       "      <th>1996</th>\n",
       "      <td>55</td>\n",
       "      <td>19</td>\n",
       "      <td>46</td>\n",
       "      <td>46</td>\n",
       "      <td>37</td>\n",
       "      <td>42</td>\n",
       "      <td>48</td>\n",
       "      <td>71</td>\n",
       "      <td>23</td>\n",
       "      <td>40</td>\n",
       "      <td>...</td>\n",
       "      <td>21</td>\n",
       "      <td>43</td>\n",
       "      <td>65</td>\n",
       "      <td>69</td>\n",
       "      <td>61</td>\n",
       "      <td>38</td>\n",
       "      <td>53</td>\n",
       "      <td>30</td>\n",
       "      <td>55</td>\n",
       "      <td>36</td>\n",
       "    </tr>\n",
       "    <tr>\n",
       "      <th>1997</th>\n",
       "      <td>52</td>\n",
       "      <td>27</td>\n",
       "      <td>33</td>\n",
       "      <td>44</td>\n",
       "      <td>30</td>\n",
       "      <td>40</td>\n",
       "      <td>45</td>\n",
       "      <td>36</td>\n",
       "      <td>56</td>\n",
       "      <td>38</td>\n",
       "      <td>...</td>\n",
       "      <td>52</td>\n",
       "      <td>38</td>\n",
       "      <td>43</td>\n",
       "      <td>28</td>\n",
       "      <td>61</td>\n",
       "      <td>46</td>\n",
       "      <td>56</td>\n",
       "      <td>30</td>\n",
       "      <td>48</td>\n",
       "      <td>29</td>\n",
       "    </tr>\n",
       "    <tr>\n",
       "      <th>1998</th>\n",
       "      <td>39</td>\n",
       "      <td>43</td>\n",
       "      <td>37</td>\n",
       "      <td>50</td>\n",
       "      <td>56</td>\n",
       "      <td>44</td>\n",
       "      <td>41</td>\n",
       "      <td>32</td>\n",
       "      <td>37</td>\n",
       "      <td>62</td>\n",
       "      <td>...</td>\n",
       "      <td>34</td>\n",
       "      <td>35</td>\n",
       "      <td>57</td>\n",
       "      <td>51</td>\n",
       "      <td>46</td>\n",
       "      <td>66</td>\n",
       "      <td>47</td>\n",
       "      <td>35</td>\n",
       "      <td>65</td>\n",
       "      <td>68</td>\n",
       "    </tr>\n",
       "    <tr>\n",
       "      <th>1999</th>\n",
       "      <td>27</td>\n",
       "      <td>38</td>\n",
       "      <td>57</td>\n",
       "      <td>46</td>\n",
       "      <td>45</td>\n",
       "      <td>29</td>\n",
       "      <td>42</td>\n",
       "      <td>48</td>\n",
       "      <td>30</td>\n",
       "      <td>56</td>\n",
       "      <td>...</td>\n",
       "      <td>33</td>\n",
       "      <td>62</td>\n",
       "      <td>34</td>\n",
       "      <td>44</td>\n",
       "      <td>59</td>\n",
       "      <td>45</td>\n",
       "      <td>26</td>\n",
       "      <td>24</td>\n",
       "      <td>58</td>\n",
       "      <td>32</td>\n",
       "    </tr>\n",
       "  </tbody>\n",
       "</table>\n",
       "<p>2000 rows × 1500 columns</p>\n",
       "</div>"
      ],
      "text/plain": [
       "      Muestra _0  Muestra _1  Muestra _2  Muestra _3  Muestra _4  Muestra _5  \\\n",
       "0             63          25          56          52          44          31   \n",
       "1             30          43          22          43          45          50   \n",
       "2             55          22          42          28          48          37   \n",
       "3             33          48          60          35          51          57   \n",
       "4             23          45          60          44          20          48   \n",
       "...          ...         ...         ...         ...         ...         ...   \n",
       "1995          31          67          30          47          61          40   \n",
       "1996          55          19          46          46          37          42   \n",
       "1997          52          27          33          44          30          40   \n",
       "1998          39          43          37          50          56          44   \n",
       "1999          27          38          57          46          45          29   \n",
       "\n",
       "      Muestra _6  Muestra _7  Muestra _8  Muestra _9  ...  Muestra _1490  \\\n",
       "0             22          42          36          32  ...             48   \n",
       "1             46          60          62          23  ...             40   \n",
       "2             35          47          43          51  ...             38   \n",
       "3             34          44          65          44  ...             47   \n",
       "4             49          44          34          48  ...             36   \n",
       "...          ...         ...         ...         ...  ...            ...   \n",
       "1995          38          50          56          41  ...             33   \n",
       "1996          48          71          23          40  ...             21   \n",
       "1997          45          36          56          38  ...             52   \n",
       "1998          41          32          37          62  ...             34   \n",
       "1999          42          48          30          56  ...             33   \n",
       "\n",
       "      Muestra _1491  Muestra _1492  Muestra _1493  Muestra _1494  \\\n",
       "0                29             34             52             61   \n",
       "1                50             47             63             33   \n",
       "2                64             60             39             42   \n",
       "3                42             32             43             50   \n",
       "4                59             44             43             56   \n",
       "...             ...            ...            ...            ...   \n",
       "1995             60             47             43             42   \n",
       "1996             43             65             69             61   \n",
       "1997             38             43             28             61   \n",
       "1998             35             57             51             46   \n",
       "1999             62             34             44             59   \n",
       "\n",
       "      Muestra _1495  Muestra _1496  Muestra _1497  Muestra _1498  \\\n",
       "0                63             44             70             27   \n",
       "1                36             23             63             40   \n",
       "2                47             22             39             59   \n",
       "3                22             36             55             24   \n",
       "4                50             51             38             20   \n",
       "...             ...            ...            ...            ...   \n",
       "1995             55             32             36             44   \n",
       "1996             38             53             30             55   \n",
       "1997             46             56             30             48   \n",
       "1998             66             47             35             65   \n",
       "1999             45             26             24             58   \n",
       "\n",
       "      Muestra _1499  \n",
       "0                34  \n",
       "1                43  \n",
       "2                44  \n",
       "3                25  \n",
       "4                36  \n",
       "...             ...  \n",
       "1995             66  \n",
       "1996             36  \n",
       "1997             29  \n",
       "1998             68  \n",
       "1999             32  \n",
       "\n",
       "[2000 rows x 1500 columns]"
      ]
     },
     "execution_count": 18,
     "metadata": {},
     "output_type": "execute_result"
    }
   ],
   "source": [
    "muestras"
   ]
  },
  {
   "cell_type": "code",
   "execution_count": 21,
   "metadata": {},
   "outputs": [
    {
     "data": {
      "text/plain": [
       "44.064531333333335"
      ]
     },
     "execution_count": 21,
     "metadata": {},
     "output_type": "execute_result"
    }
   ],
   "source": [
    "muestras.mean()"
   ]
  },
  {
   "cell_type": "code",
   "execution_count": 20,
   "metadata": {},
   "outputs": [
    {
     "data": {
      "text/plain": [
       "44.07142113482561"
      ]
     },
     "execution_count": 20,
     "metadata": {},
     "output_type": "execute_result"
    }
   ],
   "source": [
    "datos.Edad.mean()"
   ]
  },
  {
   "cell_type": "code",
   "execution_count": 25,
   "metadata": {},
   "outputs": [
    {
     "data": {
      "text/plain": [
       "<AxesSubplot: >"
      ]
     },
     "execution_count": 25,
     "metadata": {},
     "output_type": "execute_result"
    },
    {
     "data": {
      "image/png": "[encoded data removed]",
      "text/plain": [
       "<Figure size 640x480 with 1 Axes>"
      ]
     },
     "metadata": {},
     "output_type": "display_data"
    }
   ],
   "source": [
    "import matplotlib.pyplot as plt\n",
    "muestras.mean().hist()"
   ]
  },
  {
   "cell_type": "code",
   "execution_count": 29,
   "metadata": {},
   "outputs": [
    {
     "name": "stdout",
     "output_type": "stream",
     "text": [
      "44.07142113482561\n",
      "44.064531333333335\n"
     ]
    }
   ],
   "source": [
    "# la media es la media poblacional\n",
    "print(datos.Edad.mean())\n",
    "print(muestras.mean().mean())"
   ]
  },
  {
   "cell_type": "code",
   "execution_count": null,
   "metadata": {},
   "outputs": [],
   "source": [
    "\"desviacion estandar de la media de las muestras es igual a la desviacion estandar de\"\n",
    "\"la variable original\""
   ]
  },
  {
   "cell_type": "code",
   "execution_count": 31,
   "metadata": {},
   "outputs": [
    {
     "data": {
      "text/plain": [
       "0.2746892307084505"
      ]
     },
     "execution_count": 31,
     "metadata": {},
     "output_type": "execute_result"
    }
   ],
   "source": [
    "muestras.mean().std()"
   ]
  },
  {
   "cell_type": "code",
   "execution_count": 32,
   "metadata": {},
   "outputs": [
    {
     "data": {
      "text/plain": [
       "12.48058346535974"
      ]
     },
     "execution_count": 32,
     "metadata": {},
     "output_type": "execute_result"
    }
   ],
   "source": [
    "datos.Edad.std()"
   ]
  },
  {
   "cell_type": "code",
   "execution_count": 35,
   "metadata": {},
   "outputs": [
    {
     "data": {
      "text/plain": [
       "0.27907433027404266"
      ]
     },
     "execution_count": 35,
     "metadata": {},
     "output_type": "execute_result"
    }
   ],
   "source": [
    "import numpy as np\n",
    "desviacion= datos.Edad.std()/np.sqrt(n)\n",
    "desviacion"
   ]
  },
  {
   "cell_type": "markdown",
   "metadata": {},
   "source": [
    "# Nivel de confianza y significancia"
   ]
  },
  {
   "cell_type": "markdown",
   "metadata": {},
   "source": [
    "u + error\n",
    "u - error\n",
    "\n",
    "error depende de la meustra o la población\n"
   ]
  },
  {
   "cell_type": "code",
   "execution_count": 39,
   "metadata": {},
   "outputs": [],
   "source": [
    "desviacion_estandar_poblacional=150\n",
    "n=20\n",
    "peso_promedio=5050\n",
    "significancia=0.05\n",
    "confianza= 1-significancia\n",
    "\n"
   ]
  },
  {
   "cell_type": "code",
   "execution_count": 42,
   "metadata": {},
   "outputs": [
    {
     "data": {
      "text/plain": [
       "1.959963984540054"
      ]
     },
     "execution_count": 42,
     "metadata": {},
     "output_type": "execute_result"
    }
   ],
   "source": [
    "from scipy.stats import norm\n",
    "\n",
    "#area total = 0.5 + 0.95/2\n",
    "# ahora le damos la probabilidad para que nos de z\n",
    "z = norm.ppf(0.975)\n",
    "z"
   ]
  },
  {
   "cell_type": "code",
   "execution_count": 48,
   "metadata": {},
   "outputs": [],
   "source": [
    "sigma=z*desviacion_estandar_poblacional/np.sqrt(n)\n",
    "limite_inferior=peso_promedio + (sigma)\n",
    "\n",
    "limite_superior=peso_promedio - (sigma)"
   ]
  },
  {
   "cell_type": "code",
   "execution_count": 45,
   "metadata": {},
   "outputs": [
    {
     "name": "stdout",
     "output_type": "stream",
     "text": [
      "5115.739190543243\n",
      "4984.260809456757\n"
     ]
    }
   ],
   "source": [
    "print(limite_inferior)\n",
    "print(limite_superior)"
   ]
  },
  {
   "cell_type": "code",
   "execution_count": 55,
   "metadata": {},
   "outputs": [
    {
     "data": {
      "text/plain": [
       "(4921.153554162426, 5178.846445837574)"
      ]
     },
     "execution_count": 55,
     "metadata": {},
     "output_type": "execute_result"
    }
   ],
   "source": [
    "norm.interval(confidence = 0.95, loc = peso_promedio,scale = sigma)"
   ]
  },
  {
   "cell_type": "code",
   "execution_count": null,
   "metadata": {},
   "outputs": [],
   "source": [
    "# Técnica final: \n",
    "# n es el valor de la muestra\n"
   ]
  },
  {
   "cell_type": "code",
   "execution_count": 59,
   "metadata": {},
   "outputs": [],
   "source": [
    "error=100\n",
    "desviacion_estandar_poblacional=3323.39\n",
    "confianza=0.95"
   ]
  },
  {
   "cell_type": "code",
   "execution_count": 60,
   "metadata": {},
   "outputs": [
    {
     "data": {
      "text/plain": [
       "1.959963984540054"
      ]
     },
     "execution_count": 60,
     "metadata": {},
     "output_type": "execute_result"
    }
   ],
   "source": [
    "z = norm.ppf(0.975)\n",
    "z"
   ]
  },
  {
   "cell_type": "code",
   "execution_count": 61,
   "metadata": {},
   "outputs": [
    {
     "data": {
      "text/plain": [
       "4242.860955311813"
      ]
     },
     "execution_count": 61,
     "metadata": {},
     "output_type": "execute_result"
    }
   ],
   "source": [
    "n= (z*desviacion_estandar_poblacional/error)**2\n",
    "n"
   ]
  },
  {
   "cell_type": "code",
   "execution_count": 72,
   "metadata": {},
   "outputs": [],
   "source": [
    "\"Cuando conocemos el tamaño de la población\"\n",
    "# N: es el tamaño de la poblacion\n",
    "\n",
    "N=1000\n",
    "s=12\n",
    "e=5\n",
    "confianza=0.95\n",
    "\n",
    "z=norm.ppf(0.975)\n",
    "#Calcular el tamaño de la muestra\n",
    "n=((z**2)*(s**2)*N)/(((z**2)*s**2)+(e**2)*(N-1))\n"
   ]
  },
  {
   "cell_type": "code",
   "execution_count": 73,
   "metadata": {},
   "outputs": [
    {
     "data": {
      "text/plain": [
       "22"
      ]
     },
     "execution_count": 73,
     "metadata": {},
     "output_type": "execute_result"
    }
   ],
   "source": [
    "int(n.round())\n"
   ]
  },
  {
   "cell_type": "code",
   "execution_count": 74,
   "metadata": {},
   "outputs": [],
   "source": [
    "#Ejercicio"
   ]
  },
  {
   "cell_type": "code",
   "execution_count": 84,
   "metadata": {},
   "outputs": [],
   "source": [
    "e=10\n",
    "s=1082.79\n",
    "media= 1426.54\n",
    "confianza=0.95\n",
    "\n",
    "\n",
    "#tamaño de muestra\n",
    "# intervalo de confianza"
   ]
  },
  {
   "cell_type": "code",
   "execution_count": 77,
   "metadata": {},
   "outputs": [],
   "source": [
    "# tamaño de muestra\n",
    "renta=datos.query('Renta<=5000').Renta"
   ]
  },
  {
   "cell_type": "code",
   "execution_count": 78,
   "metadata": {},
   "outputs": [
    {
     "name": "stdout",
     "output_type": "stream",
     "text": [
      "sigma:  1082.7945490306845\n",
      "media:  1426.5372144947232\n"
     ]
    }
   ],
   "source": [
    "sigma=renta.std()\n",
    "media=renta.mean()\n",
    "print(\"sigma: \",sigma)\n",
    "print(\"media: \",media)"
   ]
  },
  {
   "cell_type": "code",
   "execution_count": 80,
   "metadata": {},
   "outputs": [
    {
     "data": {
      "text/plain": [
       "1.959963984540054"
      ]
     },
     "execution_count": 80,
     "metadata": {},
     "output_type": "execute_result"
    }
   ],
   "source": [
    "z=norm.ppf(0.975)\n",
    "z"
   ]
  },
  {
   "cell_type": "code",
   "execution_count": 85,
   "metadata": {},
   "outputs": [
    {
     "data": {
      "text/plain": [
       "45038.57638194264"
      ]
     },
     "execution_count": 85,
     "metadata": {},
     "output_type": "execute_result"
    }
   ],
   "source": [
    "n= (z*(s/e))**2\n",
    "n"
   ]
  },
  {
   "cell_type": "code",
   "execution_count": 86,
   "metadata": {},
   "outputs": [
    {
     "data": {
      "text/plain": [
       "(1416.54, 1436.54)"
      ]
     },
     "execution_count": 86,
     "metadata": {},
     "output_type": "execute_result"
    }
   ],
   "source": [
    "# intervalo de confianza\n",
    "intervalo = norm.interval(confidence = confianza, loc = media, scale = s / np.sqrt(n))\n",
    "intervalo\n",
    "\n",
    "#"
   ]
  },
  {
   "cell_type": "code",
   "execution_count": 94,
   "metadata": {},
   "outputs": [
    {
     "data": {
      "text/plain": [
       "<AxesSubplot: >"
      ]
     },
     "execution_count": 94,
     "metadata": {},
     "output_type": "execute_result"
    },
    {
     "data": {
      "image/png": "[encoded data removed]",
      "text/plain": [
       "<Figure size 1200x600 with 1 Axes>"
      ]
     },
     "metadata": {},
     "output_type": "display_data"
    }
   ],
   "source": [
    "import matplotlib.pyplot as plt\n",
    "\n",
    "tamaño_simulacion = 1000\n",
    "\n",
    "medias = [renta.sample(n = int(n)).mean() for i in range(1, tamaño_simulacion)]\n",
    "medias = pd.DataFrame(medias)\n",
    "\n",
    "ax = medias.plot(style = '.')\n",
    "ax.figure.set_size_inches(12, 6)\n",
    "ax.hlines(y = media, xmin = 0, xmax = tamaño_simulacion, colors='black', linestyles='dashed')\n",
    "ax.hlines(y = intervalo[0], xmin = 0, xmax = tamaño_simulacion, colors='red', linestyles='dashed')\n",
    "ax.hlines(y = intervalo[1], xmin = 0, xmax = tamaño_simulacion, colors='red', linestyles='dashed')\n",
    "ax"
   ]
  },
  {
   "cell_type": "markdown",
   "metadata": {},
   "source": [
    "Ejercicio 1: Evaluando nuestro dataset, es posible verificar que la proporción de hombres como jefes del hogar es de casi el 70%. Necesitamos seleccionar aleatoriamente grupos de 10 personas para buscar diferencias en los ingresos de cada grupo. ¿Cuál es la probabilidad de seleccionar un grupo que presente la misma proporción de la población, es decir, seleccionar un grupo que esté compuesto por 7 hombres y 3 mujeres?\n",
    "\n",
    "Como tarea adicional, verifique la proporción real de hombres y mujeres en nuestro dataset.\n",
    "Compruebe qué tipo de distribución de probabilidad se ajusta a este diseño."
   ]
  },
  {
   "cell_type": "code",
   "execution_count": 101,
   "metadata": {},
   "outputs": [
    {
     "name": "stdout",
     "output_type": "stream",
     "text": [
      "0.26682793\n"
     ]
    }
   ],
   "source": [
    "from scipy.stats import binom\n",
    "\"Probabilidad de que en un grupo de 10 personas 7 sean varones, con 0.7 de probabilidad\"\n",
    "\"de ser hombre\"\n",
    "k = 7\n",
    "n = 10\n",
    "p = 0.70\n",
    "probabilidad = binom.pmf(k, n, p) \n",
    "print('%0.8f' % (probabilidad))"
   ]
  },
  {
   "cell_type": "code",
   "execution_count": 103,
   "metadata": {},
   "outputs": [
    {
     "data": {
      "text/plain": [
       "375"
      ]
     },
     "execution_count": 103,
     "metadata": {},
     "output_type": "execute_result"
    }
   ],
   "source": [
    "# media = n * p\n",
    "# n = media / p\n",
    "\n",
    "n = 100 / probabilidad\n",
    "n = int(n.round())\n",
    "n"
   ]
  },
  {
   "cell_type": "code",
   "execution_count": null,
   "metadata": {},
   "outputs": [],
   "source": [
    "# un grupo de 7 hombres y 3 mujeres"
   ]
  },
  {
   "cell_type": "code",
   "execution_count": 95,
   "metadata": {},
   "outputs": [],
   "source": [
    "# binomial\n",
    "\n"
   ]
  },
  {
   "cell_type": "markdown",
   "metadata": {},
   "source": [
    "Un cliente nos encargó realizar un estudio para evaluar los ingresos de los jefes de hogar. Para ello, necesitamos realizar una nueva colecta de datos, es decir, una nueva investigación de campo. Después de la reunión con el cliente, fue posible enumerar el siguiente conjunto de informaciones:\n",
    "\n",
    "A. El resultado de la encuesta debe estar listo en 2 meses;\n",
    "\n",
    "B. Solo tendremos $$$150000.00 en recursos para realizar la investigación de campo; y\n",
    "\n",
    "C. Sería interesante un margen de error no superior al 10% con respecto a la media estimada.\n",
    "\n",
    "En nuestra experiencia con estudios de este tipo, sabemos que el costo promedio por entrevistado ronda los $$$100.00. Con este conjunto de hechos, evalúe y obtenga el siguiente conjunto de informaciones para transmitir al cliente:\n",
    "\n",
    "Para obtener una estimación de los parámetros de la población (ingresos de los jefes del hogar), realice un muestreo aleatorio simple en nuestro conjunto de datos. Esta muestra debe contener 200 elementos (use random_state = 101 para asegurarse de que el mismo experimento se puede realizar nuevamente). Obtenga la media y la desviación estándar de esta muestra.\n",
    "Para el margen de error especificado por el cliente, obtener los tamaños de muestra necesarios para garantizar los 90%, 95% y 99% de confianza.\n",
    "Obtenga el costo de la investigación para los tres niveles de confianza.\n",
    "Para el nivel de confianza más alto (dentro del presupuesto disponible), obtenga un intervalo de confianza para la media de la población.\n",
    "Asumiendo el nivel de confianza elegido en el ítem anterior, ¿qué margen de error se puede considerar utilizando todos los recursos puestos a disposición por el cliente?\n",
    "Suponiendo un nivel de confianza del 95%, cuánto le costaría al cliente la encuesta si se considerara un margen de error de solo el 5% en relación con la media estimada?"
   ]
  },
  {
   "cell_type": "code",
   "execution_count": 104,
   "metadata": {},
   "outputs": [],
   "source": [
    "dataset = datos.Renta.sample(n = 200, random_state = 101)"
   ]
  },
  {
   "cell_type": "code",
   "execution_count": 105,
   "metadata": {},
   "outputs": [
    {
     "data": {
      "text/plain": [
       "1964.205"
      ]
     },
     "execution_count": 105,
     "metadata": {},
     "output_type": "execute_result"
    }
   ],
   "source": [
    "dataset.mean()"
   ]
  },
  {
   "cell_type": "code",
   "execution_count": 106,
   "metadata": {},
   "outputs": [
    {
     "data": {
      "text/plain": [
       "3139.8855167452093"
      ]
     },
     "execution_count": 106,
     "metadata": {},
     "output_type": "execute_result"
    }
   ],
   "source": [
    "dataset.std()\n"
   ]
  },
  {
   "cell_type": "code",
   "execution_count": 107,
   "metadata": {},
   "outputs": [],
   "source": [
    "media_muestral = dataset.mean()\n",
    "desviacion_estandar_muestra = dataset.std()\n",
    "recursos = 150000\n",
    "costo_entrevista = 100"
   ]
  },
  {
   "cell_type": "code",
   "execution_count": 108,
   "metadata": {},
   "outputs": [
    {
     "name": "stdout",
     "output_type": "stream",
     "text": [
      "El margen de error es aproximadamente de $196.42\n"
     ]
    }
   ],
   "source": [
    "# tamaños de la muestra\n",
    "e = 0.10 * media_muestral\n",
    "print('El margen de error es aproximadamente de $%0.2f' % (e))"
   ]
  },
  {
   "cell_type": "code",
   "execution_count": null,
   "metadata": {},
   "outputs": [],
   "source": [
    "0.5 + (0.9 / 2)"
   ]
  },
  {
   "cell_type": "code",
   "execution_count": 109,
   "metadata": {},
   "outputs": [
    {
     "name": "stdout",
     "output_type": "stream",
     "text": [
      "Para un nivel de confianza del 90% debemos seleccionar una muestra de 691 elementos.\n"
     ]
    }
   ],
   "source": [
    "z = norm.ppf(.95)\n",
    "n_confianza_90 = (z * (desviacion_estandar_muestra / e)) ** 2\n",
    "n_confianza_90 = int(n_confianza_90.round())\n",
    "print('Para un nivel de confianza del 90%% debemos seleccionar una muestra de %s elementos.' % n_confianza_90)"
   ]
  },
  {
   "cell_type": "code",
   "execution_count": 111,
   "metadata": {},
   "outputs": [
    {
     "name": "stdout",
     "output_type": "stream",
     "text": [
      "Para un nivel de confianza del 95% debemos seleccionar una muestra de 982 elementos.\n"
     ]
    }
   ],
   "source": [
    "z = norm.ppf(.975)\n",
    "n_confianza_95 = (z * (desviacion_estandar_muestra / e)) ** 2\n",
    "n_confianza_95 = int(n_confianza_95.round())\n",
    "print('Para un nivel de confianza del 95%% debemos seleccionar una muestra de %s elementos.' % n_confianza_95)"
   ]
  },
  {
   "cell_type": "code",
   "execution_count": 112,
   "metadata": {},
   "outputs": [
    {
     "name": "stdout",
     "output_type": "stream",
     "text": [
      "Para un nivel de confianza del 99% debemos seleccionar una muestra de 1695 elementos.\n"
     ]
    }
   ],
   "source": [
    "z = norm.ppf(.995)\n",
    "n_confianza_99 = (z * (desviacion_estandar_muestra / e)) ** 2\n",
    "n_confianza_99 = int(n_confianza_99.round())\n",
    "print('Para un nivel de confianza del 99%% debemos seleccionar una muestra de %s elementos.' % n_confianza_99)"
   ]
  },
  {
   "cell_type": "code",
   "execution_count": 113,
   "metadata": {},
   "outputs": [
    {
     "name": "stdout",
     "output_type": "stream",
     "text": [
      "Para un nivel de confianza del 90%, el costo de la encuesta sería $ 69,100.00.\n"
     ]
    }
   ],
   "source": [
    "costo_confianza_90 = n_confianza_90 * costo_entrevista\n",
    "print('Para un nivel de confianza del 90%, el costo de la encuesta sería $ {:,.2f}.'.format(costo_confianza_90))"
   ]
  },
  {
   "cell_type": "code",
   "execution_count": 114,
   "metadata": {},
   "outputs": [
    {
     "name": "stdout",
     "output_type": "stream",
     "text": [
      "Para un nivel de confianza del 95%, el costo de la encuesta sería $ 98,200.00.\n"
     ]
    }
   ],
   "source": [
    "costo_confianza_95 = n_confianza_95 * costo_entrevista\n",
    "print('Para un nivel de confianza del 95%, el costo de la encuesta sería $ {:,.2f}.'.format(costo_confianza_95))"
   ]
  },
  {
   "cell_type": "code",
   "execution_count": 115,
   "metadata": {},
   "outputs": [
    {
     "name": "stdout",
     "output_type": "stream",
     "text": [
      "Para un nivel de confianza del 99%, el costo de la encuesta sería $ 169,500.00.\n"
     ]
    }
   ],
   "source": [
    "costo_confianza_99 = n_confianza_99 * costo_entrevista\n",
    "print('Para un nivel de confianza del 99%, el costo de la encuesta sería $ {:,.2f}.'.format(costo_confianza_99))"
   ]
  },
  {
   "cell_type": "code",
   "execution_count": 116,
   "metadata": {},
   "outputs": [
    {
     "data": {
      "text/plain": [
       "(1767.8209732805094, 2160.5890267194904)"
      ]
     },
     "execution_count": 116,
     "metadata": {},
     "output_type": "execute_result"
    }
   ],
   "source": [
    "intervalo = norm.interval(confidence = 0.95, loc = media_muestral, scale = desviacion_estandar_muestra / np.sqrt(n_confianza_95))\n",
    "intervalo"
   ]
  },
  {
   "cell_type": "code",
   "execution_count": 117,
   "metadata": {},
   "outputs": [
    {
     "data": {
      "text/plain": [
       "1500.0"
      ]
     },
     "execution_count": 117,
     "metadata": {},
     "output_type": "execute_result"
    }
   ],
   "source": [
    "n_confianza_95 = recursos / costo_entrevista\n",
    "n_confianza_95"
   ]
  },
  {
   "cell_type": "code",
   "execution_count": 118,
   "metadata": {},
   "outputs": [
    {
     "data": {
      "text/plain": [
       "158.89721122673703"
      ]
     },
     "execution_count": 118,
     "metadata": {},
     "output_type": "execute_result"
    }
   ],
   "source": [
    "z = norm.ppf(.975)\n",
    "e = z * (desviacion_estandar_muestra / np.sqrt(n_confianza_95))\n",
    "e"
   ]
  },
  {
   "cell_type": "code",
   "execution_count": 119,
   "metadata": {},
   "outputs": [
    {
     "name": "stdout",
     "output_type": "stream",
     "text": [
      "El nuevo margen de error es 8.09%.\n"
     ]
    }
   ],
   "source": [
    "e_porcentual = e / media_muestral\n",
    "e_porcentual * 100\n",
    "print('El nuevo margen de error es {:.2f}%.'.format(e_porcentual * 100))"
   ]
  },
  {
   "cell_type": "code",
   "execution_count": 120,
   "metadata": {},
   "outputs": [
    {
     "name": "stdout",
     "output_type": "stream",
     "text": [
      "El margen de error es aproximadamente de $98.21\n"
     ]
    }
   ],
   "source": [
    "e = 0.05 * media_muestral\n",
    "print('El margen de error es aproximadamente de $%0.2f' % (e))"
   ]
  },
  {
   "cell_type": "code",
   "execution_count": 121,
   "metadata": {},
   "outputs": [
    {
     "name": "stdout",
     "output_type": "stream",
     "text": [
      "Para un nivel de confianza del 95% debemos seleccionar una muestra de 3927 elementos.\n"
     ]
    }
   ],
   "source": [
    "z = norm.ppf(.975)\n",
    "n_confianza_95 = (z * (desviacion_estandar_muestra / e)) ** 2\n",
    "n_confianza_95 = int(n_confianza_95.round())\n",
    "print('Para un nivel de confianza del 95%% debemos seleccionar una muestra de %s elementos.' % n_confianza_95)"
   ]
  },
  {
   "cell_type": "code",
   "execution_count": 122,
   "metadata": {},
   "outputs": [
    {
     "name": "stdout",
     "output_type": "stream",
     "text": [
      "Para un nivel de confianza del 95%, el costo de la encuesta sería de $392,700.00.\n"
     ]
    }
   ],
   "source": [
    "costo_confianza_95 = n_confianza_95 * costo_entrevista\n",
    "print('Para un nivel de confianza del 95%, el costo de la encuesta sería de ${:,.2f}.'.format(costo_confianza_95))"
   ]
  },
  {
   "cell_type": "markdown",
   "metadata": {},
   "source": [
    "## Me falta la parte de ejercicio del video 31"
   ]
  },
  {
   "cell_type": "markdown",
   "metadata": {},
   "source": []
  }
 ],
 "metadata": {
  "kernelspec": {
   "display_name": "Python 3",
   "language": "python",
   "name": "python3"
  },
  "language_info": {
   "codemirror_mode": {
    "name": "ipython",
    "version": 3
   },
   "file_extension": ".py",
   "mimetype": "text/x-python",
   "name": "python",
   "nbconvert_exporter": "python",
   "pygments_lexer": "ipython3",
   "version": "3.10.4"
  }
 },
 "nbformat": 4,
 "nbformat_minor": 2
}
